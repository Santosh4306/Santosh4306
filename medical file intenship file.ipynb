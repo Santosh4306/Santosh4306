{
 "cells": [
  {
   "cell_type": "code",
   "execution_count": 1,
   "id": "1438cd67",
   "metadata": {},
   "outputs": [],
   "source": [
    "import pandas as pd\n",
    "import numpy as np\n",
    "import matplotlib.pyplot as plt\n",
    "%matplotlib inline"
   ]
  },
  {
   "cell_type": "code",
   "execution_count": 2,
   "id": "7bf6974a",
   "metadata": {},
   "outputs": [
    {
     "name": "stdout",
     "output_type": "stream",
     "text": [
      "C:\\Users\\Dell\\OneDrive\\Desktop\\medical file\n"
     ]
    }
   ],
   "source": [
    "import io\n",
    "%cd \"C:\\Users\\Dell\\OneDrive\\Desktop\\medical file\""
   ]
  },
  {
   "cell_type": "markdown",
   "id": "361c24fc",
   "metadata": {},
   "source": [
    "# The information is gathered from a medical organisation."
   ]
  },
  {
   "cell_type": "code",
   "execution_count": 3,
   "id": "81593cb8",
   "metadata": {},
   "outputs": [],
   "source": [
    "medical=pd.read_csv(\"Medicare_Physician_Other_Practitioners_by_Geography_and_Service_2019.csv\",low_memory=False)"
   ]
  },
  {
   "cell_type": "code",
   "execution_count": 4,
   "id": "cf223b8c",
   "metadata": {},
   "outputs": [
    {
     "data": {
      "text/plain": [
       "(273211, 15)"
      ]
     },
     "execution_count": 4,
     "metadata": {},
     "output_type": "execute_result"
    }
   ],
   "source": [
    "medical.shape"
   ]
  },
  {
   "cell_type": "markdown",
   "id": "a91725e9",
   "metadata": {},
   "source": [
    "# data description"
   ]
  },
  {
   "cell_type": "markdown",
   "id": "13646555",
   "metadata": {},
   "source": [
    "\n",
    "* Geography Level - Rndrng_Prvdr_Geo_Lvl - How the data is divided based on the geography\n",
    "* Rendering Provider Geography Code - Rndrng_Prvdr_Geo_Cd - Pincode\n",
    "* Rendering Provider Geography Description - State Names - Data aggregated at the National level   are identified by the word 'National'.\n",
    "* HCPCS Code - HCPCS_Cd - Special Medical Service provided by provider - two levels - Level I       codes are the `Current Procedural Terminology (CPT)`codes that are maintained by the American     Medical Association. Level II codes are created by CMS `(Centers for Medicare & Medicaid         Services.)`to identify products, supplies and services not covered by the CPT codes (such as     ambulance services).\n",
    "* HCPCS Description - HCPCS_Desc - Description of the HCPCS code for the specific medical service   furnished by the provider. HCPCS descriptions associated with CPT codes are consumer friendly     descriptions provided by the AMA. As a result, the same HCPCS description can be associated       with more than one HCPCS code.\n",
    "* HCPCS Drug Indicator - HCPCS_Drug_Ind - Identifies whether the HCPCS code for the specific       service furnished by the provider is a HCPCS listed on the Medicare Part B Drug Average Sales     Price (ASP) File\n",
    "* Place of Service - Place_Of_Srvc - o and f\n",
    "* Number of Providers - Tot_Rndrng_Prvdrs - Number of providers within HCPCS code and place of     service.\n",
    "* Number of Services - Tot_Srvcs\n",
    "* Number of Medicare Beneficiaries - Tot_Benes - Number of distinct Medicare beneficiaries receiving the service for each Rndrng_Prvdr_Geo_Desc and HCPCS_Cd, Place_Of_Srvc.\n",
    "* Number of Distinct Medicare Beneficiary/Per Day Services - Tot_Bene_Day_Srvcs - Number of         distinct Medicare beneficiary/per day services. Since a given beneficiary may receive multiple   services of the same type (e.g., single vs. multiple cardiac stents) on a single day, this       metric removes double-counting from the line service count to identify whether a unique service   occurred.\n",
    "* Average Submitted Charge Amount - Avg_Sbmtd_Chrg - Per service charge\n",
    "* Average Medicare Allowed Amount - Average of the Medicare allowed amount for the service.\n",
    "* Average Medicare Payment Amount - Avg_Mdcr_Pymt_Amt - Average amount that Medicare paid after     deductible and coinsurance amounts have been deducted for the line item service.\n",
    "* Average Medicare Standardized Payment Amount - Avg_Mdcr_Stdzd_Amt - Average amount that           Medicare paid after beneficiary deductible and coinsurance amounts have been deducted for the     line item service and after standardization of the Medicare payment has been applied.\n"
   ]
  },
  {
   "cell_type": "code",
   "execution_count": 6,
   "id": "6878fdc7",
   "metadata": {},
   "outputs": [
    {
     "data": {
      "text/plain": [
       "Index(['Rndrng_Prvdr_Geo_Lvl', 'Rndrng_Prvdr_Geo_Cd', 'Rndrng_Prvdr_Geo_Desc',\n",
       "       'HCPCS_Cd', 'HCPCS_Desc', 'HCPCS_Drug_Ind', 'Place_Of_Srvc',\n",
       "       'Tot_Rndrng_Prvdrs', 'Tot_Benes', 'Tot_Srvcs', 'Tot_Bene_Day_Srvcs',\n",
       "       'Avg_Sbmtd_Chrg', 'Avg_Mdcr_Alowd_Amt', 'Avg_Mdcr_Pymt_Amt',\n",
       "       'Avg_Mdcr_Stdzd_Amt'],\n",
       "      dtype='object')"
      ]
     },
     "execution_count": 6,
     "metadata": {},
     "output_type": "execute_result"
    }
   ],
   "source": [
    "medical.columns"
   ]
  },
  {
   "cell_type": "code",
   "execution_count": 5,
   "id": "8c0bff07",
   "metadata": {},
   "outputs": [
    {
     "name": "stdout",
     "output_type": "stream",
     "text": [
      "<class 'pandas.core.frame.DataFrame'>\n",
      "RangeIndex: 273211 entries, 0 to 273210\n",
      "Data columns (total 15 columns):\n",
      " #   Column                 Non-Null Count   Dtype \n",
      "---  ------                 --------------   ----- \n",
      " 0   Rndrng_Prvdr_Geo_Lvl   273211 non-null  object\n",
      " 1   Rndrng_Prvdr_Geo_Cd    260217 non-null  object\n",
      " 2   Rndrng_Prvdr_Geo_Desc  273211 non-null  object\n",
      " 3   HCPCS_Cd               273211 non-null  object\n",
      " 4   HCPCS_Desc             273211 non-null  object\n",
      " 5   HCPCS_Drug_Ind         273211 non-null  object\n",
      " 6   Place_Of_Srvc          273211 non-null  object\n",
      " 7   Tot_Rndrng_Prvdrs      273211 non-null  object\n",
      " 8   Tot_Benes              273211 non-null  object\n",
      " 9   Tot_Srvcs              273211 non-null  object\n",
      " 10  Tot_Bene_Day_Srvcs     273211 non-null  object\n",
      " 11  Avg_Sbmtd_Chrg         273211 non-null  object\n",
      " 12  Avg_Mdcr_Alowd_Amt     273211 non-null  object\n",
      " 13  Avg_Mdcr_Pymt_Amt      273211 non-null  object\n",
      " 14  Avg_Mdcr_Stdzd_Amt     273211 non-null  object\n",
      "dtypes: object(15)\n",
      "memory usage: 31.3+ MB\n"
     ]
    }
   ],
   "source": [
    "medical.info()"
   ]
  },
  {
   "cell_type": "markdown",
   "id": "dc1324f9",
   "metadata": {},
   "source": [
    "to apply the EDA concept to the data Because the data contains incorrect datatypes, \n",
    "we update the data types. This means that instead of changing the data,\n",
    "we change the datatypes to int and float data types."
   ]
  },
  {
   "cell_type": "code",
   "execution_count": 7,
   "id": "c348d73f",
   "metadata": {},
   "outputs": [
    {
     "data": {
      "text/plain": [
       "Rndrng_Prvdr_Geo_Cd      12994\n",
       "Rndrng_Prvdr_Geo_Lvl         0\n",
       "Rndrng_Prvdr_Geo_Desc        0\n",
       "HCPCS_Cd                     0\n",
       "HCPCS_Desc                   0\n",
       "HCPCS_Drug_Ind               0\n",
       "Place_Of_Srvc                0\n",
       "Tot_Rndrng_Prvdrs            0\n",
       "Tot_Benes                    0\n",
       "Tot_Srvcs                    0\n",
       "Tot_Bene_Day_Srvcs           0\n",
       "Avg_Sbmtd_Chrg               0\n",
       "Avg_Mdcr_Alowd_Amt           0\n",
       "Avg_Mdcr_Pymt_Amt            0\n",
       "Avg_Mdcr_Stdzd_Amt           0\n",
       "dtype: int64"
      ]
     },
     "execution_count": 7,
     "metadata": {},
     "output_type": "execute_result"
    }
   ],
   "source": [
    "medical.isnull().sum().sort_values(ascending=False)"
   ]
  },
  {
   "cell_type": "markdown",
   "id": "d337f457",
   "metadata": {},
   "source": [
    "Because just one column has missing data, I set the missing values to 999."
   ]
  },
  {
   "cell_type": "code",
   "execution_count": 8,
   "id": "c71bc961",
   "metadata": {},
   "outputs": [],
   "source": [
    "medical.Rndrng_Prvdr_Geo_Cd=medical.Rndrng_Prvdr_Geo_Cd.fillna(\"999\")"
   ]
  },
  {
   "cell_type": "markdown",
   "id": "a9f3cb6f",
   "metadata": {},
   "source": [
    "according to the data description Some columns have been converted to int data types,\n",
    "while others have been converted to float data types from object data types."
   ]
  },
  {
   "cell_type": "code",
   "execution_count": 9,
   "id": "92e3f820",
   "metadata": {},
   "outputs": [],
   "source": [
    "zfloat=medical[['Tot_Rndrng_Prvdrs','Tot_Benes','Tot_Bene_Day_Srvcs']]"
   ]
  },
  {
   "cell_type": "code",
   "execution_count": 10,
   "id": "953b0fe9",
   "metadata": {},
   "outputs": [],
   "source": [
    "zint=medical[['Avg_Sbmtd_Chrg','Avg_Mdcr_Alowd_Amt','Avg_Mdcr_Pymt_Amt','Avg_Mdcr_Stdzd_Amt','Tot_Srvcs']]"
   ]
  },
  {
   "cell_type": "code",
   "execution_count": 11,
   "id": "ab540f89",
   "metadata": {},
   "outputs": [],
   "source": [
    "zobj=medical[['Rndrng_Prvdr_Geo_Lvl','Rndrng_Prvdr_Geo_Cd','Rndrng_Prvdr_Geo_Desc',\n",
    "       'HCPCS_Cd','HCPCS_Desc','HCPCS_Drug_Ind','Place_Of_Srvc',]]"
   ]
  },
  {
   "cell_type": "code",
   "execution_count": 12,
   "id": "81ab31a2",
   "metadata": {},
   "outputs": [
    {
     "name": "stderr",
     "output_type": "stream",
     "text": [
      "C:\\Users\\Dell\\AppData\\Local\\Temp\\ipykernel_11192\\960673623.py:1: SettingWithCopyWarning: \n",
      "A value is trying to be set on a copy of a slice from a DataFrame.\n",
      "Try using .loc[row_indexer,col_indexer] = value instead\n",
      "\n",
      "See the caveats in the documentation: https://pandas.pydata.org/pandas-docs/stable/user_guide/indexing.html#returning-a-view-versus-a-copy\n",
      "  zfloat.Tot_Rndrng_Prvdrs=zfloat.Tot_Rndrng_Prvdrs.str.replace(\",\",\"\")\n"
     ]
    }
   ],
   "source": [
    "zfloat.Tot_Rndrng_Prvdrs=zfloat.Tot_Rndrng_Prvdrs.str.replace(\",\",\"\")"
   ]
  },
  {
   "cell_type": "code",
   "execution_count": 13,
   "id": "c5eea3a2",
   "metadata": {},
   "outputs": [
    {
     "name": "stderr",
     "output_type": "stream",
     "text": [
      "C:\\Users\\Dell\\AppData\\Local\\Temp\\ipykernel_11192\\2672820456.py:1: SettingWithCopyWarning: \n",
      "A value is trying to be set on a copy of a slice from a DataFrame.\n",
      "Try using .loc[row_indexer,col_indexer] = value instead\n",
      "\n",
      "See the caveats in the documentation: https://pandas.pydata.org/pandas-docs/stable/user_guide/indexing.html#returning-a-view-versus-a-copy\n",
      "  zfloat.Tot_Benes=zfloat.Tot_Benes.str.replace(\",\",\"\")\n"
     ]
    }
   ],
   "source": [
    "zfloat.Tot_Benes=zfloat.Tot_Benes.str.replace(\",\",\"\")"
   ]
  },
  {
   "cell_type": "code",
   "execution_count": 14,
   "id": "aed5c083",
   "metadata": {},
   "outputs": [
    {
     "name": "stderr",
     "output_type": "stream",
     "text": [
      "C:\\Users\\Dell\\AppData\\Local\\Temp\\ipykernel_11192\\1611202038.py:1: SettingWithCopyWarning: \n",
      "A value is trying to be set on a copy of a slice from a DataFrame.\n",
      "Try using .loc[row_indexer,col_indexer] = value instead\n",
      "\n",
      "See the caveats in the documentation: https://pandas.pydata.org/pandas-docs/stable/user_guide/indexing.html#returning-a-view-versus-a-copy\n",
      "  zfloat.Tot_Bene_Day_Srvcs=zfloat.Tot_Bene_Day_Srvcs.str.replace(\",\",\"\")\n"
     ]
    }
   ],
   "source": [
    "zfloat.Tot_Bene_Day_Srvcs=zfloat.Tot_Bene_Day_Srvcs.str.replace(\",\",\"\")"
   ]
  },
  {
   "cell_type": "code",
   "execution_count": 15,
   "id": "f985ef16",
   "metadata": {},
   "outputs": [],
   "source": [
    "zfloat=zfloat.astype(\"int32\")"
   ]
  },
  {
   "cell_type": "code",
   "execution_count": 16,
   "id": "dabcbe5d",
   "metadata": {},
   "outputs": [
    {
     "name": "stderr",
     "output_type": "stream",
     "text": [
      "C:\\Users\\Dell\\AppData\\Local\\Temp\\ipykernel_11192\\4107788185.py:1: SettingWithCopyWarning: \n",
      "A value is trying to be set on a copy of a slice from a DataFrame.\n",
      "Try using .loc[row_indexer,col_indexer] = value instead\n",
      "\n",
      "See the caveats in the documentation: https://pandas.pydata.org/pandas-docs/stable/user_guide/indexing.html#returning-a-view-versus-a-copy\n",
      "  zint.Tot_Srvcs=zint.Tot_Srvcs.str.replace(\",\",\"\")\n"
     ]
    }
   ],
   "source": [
    "zint.Tot_Srvcs=zint.Tot_Srvcs.str.replace(\",\",\"\")"
   ]
  },
  {
   "cell_type": "code",
   "execution_count": 17,
   "id": "a9e03d74",
   "metadata": {},
   "outputs": [
    {
     "name": "stderr",
     "output_type": "stream",
     "text": [
      "C:\\Users\\Dell\\AppData\\Local\\Temp\\ipykernel_11192\\3526454402.py:1: FutureWarning: The default value of regex will change from True to False in a future version. In addition, single character regular expressions will *not* be treated as literal strings when regex=True.\n",
      "  zint.Avg_Sbmtd_Chrg=zint.Avg_Sbmtd_Chrg.str.replace(\"$\",\" \")\n",
      "C:\\Users\\Dell\\AppData\\Local\\Temp\\ipykernel_11192\\3526454402.py:1: SettingWithCopyWarning: \n",
      "A value is trying to be set on a copy of a slice from a DataFrame.\n",
      "Try using .loc[row_indexer,col_indexer] = value instead\n",
      "\n",
      "See the caveats in the documentation: https://pandas.pydata.org/pandas-docs/stable/user_guide/indexing.html#returning-a-view-versus-a-copy\n",
      "  zint.Avg_Sbmtd_Chrg=zint.Avg_Sbmtd_Chrg.str.replace(\"$\",\" \")\n"
     ]
    }
   ],
   "source": [
    "zint.Avg_Sbmtd_Chrg=zint.Avg_Sbmtd_Chrg.str.replace(\"$\",\" \")"
   ]
  },
  {
   "cell_type": "code",
   "execution_count": 18,
   "id": "1e895f72",
   "metadata": {},
   "outputs": [
    {
     "name": "stderr",
     "output_type": "stream",
     "text": [
      "C:\\Users\\Dell\\AppData\\Local\\Temp\\ipykernel_11192\\3665606375.py:1: SettingWithCopyWarning: \n",
      "A value is trying to be set on a copy of a slice from a DataFrame.\n",
      "Try using .loc[row_indexer,col_indexer] = value instead\n",
      "\n",
      "See the caveats in the documentation: https://pandas.pydata.org/pandas-docs/stable/user_guide/indexing.html#returning-a-view-versus-a-copy\n",
      "  zint.Avg_Sbmtd_Chrg=zint.Avg_Sbmtd_Chrg.str.replace(\",\",\"\")\n"
     ]
    }
   ],
   "source": [
    "zint.Avg_Sbmtd_Chrg=zint.Avg_Sbmtd_Chrg.str.replace(\",\",\"\")"
   ]
  },
  {
   "cell_type": "code",
   "execution_count": 19,
   "id": "737242b5",
   "metadata": {},
   "outputs": [
    {
     "name": "stderr",
     "output_type": "stream",
     "text": [
      "C:\\Users\\Dell\\AppData\\Local\\Temp\\ipykernel_11192\\2924096660.py:1: FutureWarning: The default value of regex will change from True to False in a future version. In addition, single character regular expressions will *not* be treated as literal strings when regex=True.\n",
      "  zint.Avg_Mdcr_Alowd_Amt=zint.Avg_Mdcr_Alowd_Amt.str.replace(\"$\",\" \")\n",
      "C:\\Users\\Dell\\AppData\\Local\\Temp\\ipykernel_11192\\2924096660.py:1: SettingWithCopyWarning: \n",
      "A value is trying to be set on a copy of a slice from a DataFrame.\n",
      "Try using .loc[row_indexer,col_indexer] = value instead\n",
      "\n",
      "See the caveats in the documentation: https://pandas.pydata.org/pandas-docs/stable/user_guide/indexing.html#returning-a-view-versus-a-copy\n",
      "  zint.Avg_Mdcr_Alowd_Amt=zint.Avg_Mdcr_Alowd_Amt.str.replace(\"$\",\" \")\n"
     ]
    }
   ],
   "source": [
    "zint.Avg_Mdcr_Alowd_Amt=zint.Avg_Mdcr_Alowd_Amt.str.replace(\"$\",\" \")"
   ]
  },
  {
   "cell_type": "code",
   "execution_count": 20,
   "id": "5b27a63f",
   "metadata": {},
   "outputs": [
    {
     "name": "stderr",
     "output_type": "stream",
     "text": [
      "C:\\Users\\Dell\\AppData\\Local\\Temp\\ipykernel_11192\\3856357385.py:1: SettingWithCopyWarning: \n",
      "A value is trying to be set on a copy of a slice from a DataFrame.\n",
      "Try using .loc[row_indexer,col_indexer] = value instead\n",
      "\n",
      "See the caveats in the documentation: https://pandas.pydata.org/pandas-docs/stable/user_guide/indexing.html#returning-a-view-versus-a-copy\n",
      "  zint.Avg_Mdcr_Alowd_Amt=zint.Avg_Mdcr_Alowd_Amt.str.replace(\",\",\"\")\n"
     ]
    }
   ],
   "source": [
    "zint.Avg_Mdcr_Alowd_Amt=zint.Avg_Mdcr_Alowd_Amt.str.replace(\",\",\"\")"
   ]
  },
  {
   "cell_type": "code",
   "execution_count": 21,
   "id": "ff95dc9a",
   "metadata": {},
   "outputs": [
    {
     "name": "stderr",
     "output_type": "stream",
     "text": [
      "C:\\Users\\Dell\\AppData\\Local\\Temp\\ipykernel_11192\\502483767.py:1: FutureWarning: The default value of regex will change from True to False in a future version. In addition, single character regular expressions will *not* be treated as literal strings when regex=True.\n",
      "  zint.Avg_Mdcr_Pymt_Amt=zint.Avg_Mdcr_Pymt_Amt.str.replace(\"$\",\" \")\n",
      "C:\\Users\\Dell\\AppData\\Local\\Temp\\ipykernel_11192\\502483767.py:1: SettingWithCopyWarning: \n",
      "A value is trying to be set on a copy of a slice from a DataFrame.\n",
      "Try using .loc[row_indexer,col_indexer] = value instead\n",
      "\n",
      "See the caveats in the documentation: https://pandas.pydata.org/pandas-docs/stable/user_guide/indexing.html#returning-a-view-versus-a-copy\n",
      "  zint.Avg_Mdcr_Pymt_Amt=zint.Avg_Mdcr_Pymt_Amt.str.replace(\"$\",\" \")\n"
     ]
    }
   ],
   "source": [
    "zint.Avg_Mdcr_Pymt_Amt=zint.Avg_Mdcr_Pymt_Amt.str.replace(\"$\",\" \")"
   ]
  },
  {
   "cell_type": "code",
   "execution_count": 22,
   "id": "3641db41",
   "metadata": {},
   "outputs": [
    {
     "name": "stderr",
     "output_type": "stream",
     "text": [
      "C:\\Users\\Dell\\AppData\\Local\\Temp\\ipykernel_11192\\2514000623.py:1: SettingWithCopyWarning: \n",
      "A value is trying to be set on a copy of a slice from a DataFrame.\n",
      "Try using .loc[row_indexer,col_indexer] = value instead\n",
      "\n",
      "See the caveats in the documentation: https://pandas.pydata.org/pandas-docs/stable/user_guide/indexing.html#returning-a-view-versus-a-copy\n",
      "  zint.Avg_Mdcr_Pymt_Amt=zint.Avg_Mdcr_Pymt_Amt.str.replace(\",\",\"\")\n"
     ]
    }
   ],
   "source": [
    "zint.Avg_Mdcr_Pymt_Amt=zint.Avg_Mdcr_Pymt_Amt.str.replace(\",\",\"\")"
   ]
  },
  {
   "cell_type": "code",
   "execution_count": 23,
   "id": "2dad28a9",
   "metadata": {},
   "outputs": [
    {
     "name": "stderr",
     "output_type": "stream",
     "text": [
      "C:\\Users\\Dell\\AppData\\Local\\Temp\\ipykernel_11192\\2050634655.py:1: FutureWarning: The default value of regex will change from True to False in a future version. In addition, single character regular expressions will *not* be treated as literal strings when regex=True.\n",
      "  zint.Avg_Mdcr_Stdzd_Amt=zint.Avg_Mdcr_Stdzd_Amt.str.replace(\"$\",\" \")\n",
      "C:\\Users\\Dell\\AppData\\Local\\Temp\\ipykernel_11192\\2050634655.py:1: SettingWithCopyWarning: \n",
      "A value is trying to be set on a copy of a slice from a DataFrame.\n",
      "Try using .loc[row_indexer,col_indexer] = value instead\n",
      "\n",
      "See the caveats in the documentation: https://pandas.pydata.org/pandas-docs/stable/user_guide/indexing.html#returning-a-view-versus-a-copy\n",
      "  zint.Avg_Mdcr_Stdzd_Amt=zint.Avg_Mdcr_Stdzd_Amt.str.replace(\"$\",\" \")\n"
     ]
    }
   ],
   "source": [
    "zint.Avg_Mdcr_Stdzd_Amt=zint.Avg_Mdcr_Stdzd_Amt.str.replace(\"$\",\" \")"
   ]
  },
  {
   "cell_type": "code",
   "execution_count": 24,
   "id": "a090ff5b",
   "metadata": {},
   "outputs": [
    {
     "name": "stderr",
     "output_type": "stream",
     "text": [
      "C:\\Users\\Dell\\AppData\\Local\\Temp\\ipykernel_11192\\3504728950.py:1: SettingWithCopyWarning: \n",
      "A value is trying to be set on a copy of a slice from a DataFrame.\n",
      "Try using .loc[row_indexer,col_indexer] = value instead\n",
      "\n",
      "See the caveats in the documentation: https://pandas.pydata.org/pandas-docs/stable/user_guide/indexing.html#returning-a-view-versus-a-copy\n",
      "  zint.Avg_Mdcr_Stdzd_Amt=zint.Avg_Mdcr_Stdzd_Amt.str.replace(\",\",\"\")\n"
     ]
    }
   ],
   "source": [
    "zint.Avg_Mdcr_Stdzd_Amt=zint.Avg_Mdcr_Stdzd_Amt.str.replace(\",\",\"\")"
   ]
  },
  {
   "cell_type": "code",
   "execution_count": 26,
   "id": "c3082545",
   "metadata": {},
   "outputs": [],
   "source": [
    "zint=zint.astype(\"float64\")"
   ]
  },
  {
   "cell_type": "markdown",
   "id": "7f2ec42a",
   "metadata": {},
   "source": [
    "My data is now ready for the EDA procedure."
   ]
  },
  {
   "cell_type": "code",
   "execution_count": 27,
   "id": "cdccd83c",
   "metadata": {},
   "outputs": [],
   "source": [
    "ourdata=pd.concat([zint,zfloat,zobj],axis=1)"
   ]
  },
  {
   "cell_type": "code",
   "execution_count": 28,
   "id": "b7062730",
   "metadata": {},
   "outputs": [
    {
     "data": {
      "text/plain": [
       "(273211, 15)"
      ]
     },
     "execution_count": 28,
     "metadata": {},
     "output_type": "execute_result"
    }
   ],
   "source": [
    "ourdata.shape"
   ]
  },
  {
   "cell_type": "markdown",
   "id": "755a6c23",
   "metadata": {},
   "source": [
    "# exploratory data processs"
   ]
  },
  {
   "cell_type": "code",
   "execution_count": 29,
   "id": "9112ca90",
   "metadata": {},
   "outputs": [
    {
     "name": "stdout",
     "output_type": "stream",
     "text": [
      "<class 'pandas.core.frame.DataFrame'>\n",
      "RangeIndex: 273211 entries, 0 to 273210\n",
      "Data columns (total 15 columns):\n",
      " #   Column                 Non-Null Count   Dtype  \n",
      "---  ------                 --------------   -----  \n",
      " 0   Avg_Sbmtd_Chrg         273211 non-null  float64\n",
      " 1   Avg_Mdcr_Alowd_Amt     273211 non-null  float64\n",
      " 2   Avg_Mdcr_Pymt_Amt      273211 non-null  float64\n",
      " 3   Avg_Mdcr_Stdzd_Amt     273211 non-null  float64\n",
      " 4   Tot_Srvcs              273211 non-null  float64\n",
      " 5   Tot_Rndrng_Prvdrs      273211 non-null  int32  \n",
      " 6   Tot_Benes              273211 non-null  int32  \n",
      " 7   Tot_Bene_Day_Srvcs     273211 non-null  int32  \n",
      " 8   Rndrng_Prvdr_Geo_Lvl   273211 non-null  object \n",
      " 9   Rndrng_Prvdr_Geo_Cd    273211 non-null  object \n",
      " 10  Rndrng_Prvdr_Geo_Desc  273211 non-null  object \n",
      " 11  HCPCS_Cd               273211 non-null  object \n",
      " 12  HCPCS_Desc             273211 non-null  object \n",
      " 13  HCPCS_Drug_Ind         273211 non-null  object \n",
      " 14  Place_Of_Srvc          273211 non-null  object \n",
      "dtypes: float64(5), int32(3), object(7)\n",
      "memory usage: 28.1+ MB\n"
     ]
    }
   ],
   "source": [
    "ourdata.info()"
   ]
  },
  {
   "cell_type": "code",
   "execution_count": 30,
   "id": "f9a2a7b0",
   "metadata": {},
   "outputs": [],
   "source": [
    "#  in eda process of finding central tendency and the discripitive stats we use describe function process."
   ]
  },
  {
   "cell_type": "code",
   "execution_count": 31,
   "id": "69dd57f3",
   "metadata": {},
   "outputs": [
    {
     "data": {
      "text/html": [
       "<div>\n",
       "<style scoped>\n",
       "    .dataframe tbody tr th:only-of-type {\n",
       "        vertical-align: middle;\n",
       "    }\n",
       "\n",
       "    .dataframe tbody tr th {\n",
       "        vertical-align: top;\n",
       "    }\n",
       "\n",
       "    .dataframe thead th {\n",
       "        text-align: right;\n",
       "    }\n",
       "</style>\n",
       "<table border=\"1\" class=\"dataframe\">\n",
       "  <thead>\n",
       "    <tr style=\"text-align: right;\">\n",
       "      <th></th>\n",
       "      <th>Avg_Sbmtd_Chrg</th>\n",
       "      <th>Avg_Mdcr_Alowd_Amt</th>\n",
       "      <th>Avg_Mdcr_Pymt_Amt</th>\n",
       "      <th>Avg_Mdcr_Stdzd_Amt</th>\n",
       "      <th>Tot_Srvcs</th>\n",
       "      <th>Tot_Rndrng_Prvdrs</th>\n",
       "      <th>Tot_Benes</th>\n",
       "      <th>Tot_Bene_Day_Srvcs</th>\n",
       "    </tr>\n",
       "  </thead>\n",
       "  <tbody>\n",
       "    <tr>\n",
       "      <th>count</th>\n",
       "      <td>273211.000000</td>\n",
       "      <td>273211.000000</td>\n",
       "      <td>273211.000000</td>\n",
       "      <td>273211.000000</td>\n",
       "      <td>2.732110e+05</td>\n",
       "      <td>273211.000000</td>\n",
       "      <td>2.732110e+05</td>\n",
       "      <td>2.732110e+05</td>\n",
       "    </tr>\n",
       "    <tr>\n",
       "      <th>mean</th>\n",
       "      <td>1251.172998</td>\n",
       "      <td>295.727755</td>\n",
       "      <td>235.197030</td>\n",
       "      <td>234.769057</td>\n",
       "      <td>2.372581e+04</td>\n",
       "      <td>267.382433</td>\n",
       "      <td>5.582857e+03</td>\n",
       "      <td>1.096098e+04</td>\n",
       "    </tr>\n",
       "    <tr>\n",
       "      <th>std</th>\n",
       "      <td>2316.386139</td>\n",
       "      <td>756.843036</td>\n",
       "      <td>604.144301</td>\n",
       "      <td>607.611636</td>\n",
       "      <td>6.566590e+05</td>\n",
       "      <td>3149.869990</td>\n",
       "      <td>1.180026e+05</td>\n",
       "      <td>3.415823e+05</td>\n",
       "    </tr>\n",
       "    <tr>\n",
       "      <th>min</th>\n",
       "      <td>0.010000</td>\n",
       "      <td>0.010000</td>\n",
       "      <td>0.000000</td>\n",
       "      <td>0.010000</td>\n",
       "      <td>1.100000e+01</td>\n",
       "      <td>1.000000</td>\n",
       "      <td>1.100000e+01</td>\n",
       "      <td>1.100000e+01</td>\n",
       "    </tr>\n",
       "    <tr>\n",
       "      <th>25%</th>\n",
       "      <td>128.180000</td>\n",
       "      <td>37.240000</td>\n",
       "      <td>29.130000</td>\n",
       "      <td>29.230000</td>\n",
       "      <td>4.000000e+01</td>\n",
       "      <td>12.000000</td>\n",
       "      <td>3.100000e+01</td>\n",
       "      <td>3.800000e+01</td>\n",
       "    </tr>\n",
       "    <tr>\n",
       "      <th>50%</th>\n",
       "      <td>446.530000</td>\n",
       "      <td>117.310000</td>\n",
       "      <td>91.140000</td>\n",
       "      <td>91.380000</td>\n",
       "      <td>1.620000e+02</td>\n",
       "      <td>30.000000</td>\n",
       "      <td>1.090000e+02</td>\n",
       "      <td>1.440000e+02</td>\n",
       "    </tr>\n",
       "    <tr>\n",
       "      <th>75%</th>\n",
       "      <td>1570.305000</td>\n",
       "      <td>335.415000</td>\n",
       "      <td>266.860000</td>\n",
       "      <td>267.500000</td>\n",
       "      <td>1.083000e+03</td>\n",
       "      <td>98.000000</td>\n",
       "      <td>6.060000e+02</td>\n",
       "      <td>8.505000e+02</td>\n",
       "    </tr>\n",
       "    <tr>\n",
       "      <th>max</th>\n",
       "      <td>93181.060000</td>\n",
       "      <td>62142.820000</td>\n",
       "      <td>49501.500000</td>\n",
       "      <td>49501.500000</td>\n",
       "      <td>1.345132e+08</td>\n",
       "      <td>564937.000000</td>\n",
       "      <td>2.359469e+07</td>\n",
       "      <td>9.799789e+07</td>\n",
       "    </tr>\n",
       "  </tbody>\n",
       "</table>\n",
       "</div>"
      ],
      "text/plain": [
       "       Avg_Sbmtd_Chrg  Avg_Mdcr_Alowd_Amt  Avg_Mdcr_Pymt_Amt  \\\n",
       "count   273211.000000       273211.000000      273211.000000   \n",
       "mean      1251.172998          295.727755         235.197030   \n",
       "std       2316.386139          756.843036         604.144301   \n",
       "min          0.010000            0.010000           0.000000   \n",
       "25%        128.180000           37.240000          29.130000   \n",
       "50%        446.530000          117.310000          91.140000   \n",
       "75%       1570.305000          335.415000         266.860000   \n",
       "max      93181.060000        62142.820000       49501.500000   \n",
       "\n",
       "       Avg_Mdcr_Stdzd_Amt     Tot_Srvcs  Tot_Rndrng_Prvdrs     Tot_Benes  \\\n",
       "count       273211.000000  2.732110e+05      273211.000000  2.732110e+05   \n",
       "mean           234.769057  2.372581e+04         267.382433  5.582857e+03   \n",
       "std            607.611636  6.566590e+05        3149.869990  1.180026e+05   \n",
       "min              0.010000  1.100000e+01           1.000000  1.100000e+01   \n",
       "25%             29.230000  4.000000e+01          12.000000  3.100000e+01   \n",
       "50%             91.380000  1.620000e+02          30.000000  1.090000e+02   \n",
       "75%            267.500000  1.083000e+03          98.000000  6.060000e+02   \n",
       "max          49501.500000  1.345132e+08      564937.000000  2.359469e+07   \n",
       "\n",
       "       Tot_Bene_Day_Srvcs  \n",
       "count        2.732110e+05  \n",
       "mean         1.096098e+04  \n",
       "std          3.415823e+05  \n",
       "min          1.100000e+01  \n",
       "25%          3.800000e+01  \n",
       "50%          1.440000e+02  \n",
       "75%          8.505000e+02  \n",
       "max          9.799789e+07  "
      ]
     },
     "execution_count": 31,
     "metadata": {},
     "output_type": "execute_result"
    }
   ],
   "source": [
    "ourdata.describe()"
   ]
  },
  {
   "cell_type": "code",
   "execution_count": 32,
   "id": "158f8c9d",
   "metadata": {},
   "outputs": [
    {
     "data": {
      "text/plain": [
       "HCPCS_Drug_Ind\n",
       "N    237.826710\n",
       "Y    171.049364\n",
       "Name: Avg_Mdcr_Stdzd_Amt, dtype: float64"
      ]
     },
     "execution_count": 32,
     "metadata": {},
     "output_type": "execute_result"
    }
   ],
   "source": [
    "ourdata.Avg_Mdcr_Stdzd_Amt.groupby(ourdata.HCPCS_Drug_Ind).mean()"
   ]
  },
  {
   "cell_type": "code",
   "execution_count": 33,
   "id": "73a14af5",
   "metadata": {},
   "outputs": [
    {
     "data": {
      "text/plain": [
       "HCPCS_Drug_Ind\n",
       "N    97.48\n",
       "Y     8.08\n",
       "Name: Avg_Mdcr_Stdzd_Amt, dtype: float64"
      ]
     },
     "execution_count": 33,
     "metadata": {},
     "output_type": "execute_result"
    }
   ],
   "source": [
    "ourdata.Avg_Mdcr_Stdzd_Amt.groupby(ourdata.HCPCS_Drug_Ind).median()"
   ]
  },
  {
   "cell_type": "code",
   "execution_count": 34,
   "id": "facbd54f",
   "metadata": {},
   "outputs": [
    {
     "data": {
      "text/plain": [
       "Place_Of_Srvc\n",
       "F    290.133705\n",
       "O    168.035720\n",
       "Name: Avg_Mdcr_Stdzd_Amt, dtype: float64"
      ]
     },
     "execution_count": 34,
     "metadata": {},
     "output_type": "execute_result"
    }
   ],
   "source": [
    "ourdata.Avg_Mdcr_Stdzd_Amt.groupby(ourdata.Place_Of_Srvc).mean()"
   ]
  },
  {
   "cell_type": "code",
   "execution_count": 35,
   "id": "6db3f1a3",
   "metadata": {},
   "outputs": [
    {
     "data": {
      "text/plain": [
       "Place_Of_Srvc\n",
       "F    154.500\n",
       "O     55.065\n",
       "Name: Avg_Mdcr_Stdzd_Amt, dtype: float64"
      ]
     },
     "execution_count": 35,
     "metadata": {},
     "output_type": "execute_result"
    }
   ],
   "source": [
    "ourdata.Avg_Mdcr_Stdzd_Amt.groupby(ourdata.Place_Of_Srvc).median()"
   ]
  },
  {
   "cell_type": "code",
   "execution_count": 36,
   "id": "232c61be",
   "metadata": {},
   "outputs": [
    {
     "data": {
      "text/plain": [
       "Rndrng_Prvdr_Geo_Lvl\n",
       "National    314.806555\n",
       "State       230.772365\n",
       "Name: Avg_Mdcr_Stdzd_Amt, dtype: float64"
      ]
     },
     "execution_count": 36,
     "metadata": {},
     "output_type": "execute_result"
    }
   ],
   "source": [
    "ourdata.Avg_Mdcr_Stdzd_Amt.groupby(ourdata.Rndrng_Prvdr_Geo_Lvl).mean()"
   ]
  },
  {
   "cell_type": "code",
   "execution_count": 37,
   "id": "c35b23cc",
   "metadata": {},
   "outputs": [
    {
     "data": {
      "text/plain": [
       "Rndrng_Prvdr_Geo_Lvl\n",
       "National    158.79\n",
       "State        89.31\n",
       "Name: Avg_Mdcr_Stdzd_Amt, dtype: float64"
      ]
     },
     "execution_count": 37,
     "metadata": {},
     "output_type": "execute_result"
    }
   ],
   "source": [
    "ourdata.Avg_Mdcr_Stdzd_Amt.groupby(ourdata.Rndrng_Prvdr_Geo_Lvl).median()"
   ]
  },
  {
   "cell_type": "code",
   "execution_count": 38,
   "id": "416faee1",
   "metadata": {},
   "outputs": [
    {
     "data": {
      "text/plain": [
       "<AxesSubplot:ylabel='Frequency'>"
      ]
     },
     "execution_count": 38,
     "metadata": {},
     "output_type": "execute_result"
    },
    {
     "data": {
      "image/png": "[encoded data removed]",
      "text/plain": [
       "<Figure size 432x288 with 1 Axes>"
      ]
     },
     "metadata": {
      "needs_background": "light"
     },
     "output_type": "display_data"
    }
   ],
   "source": [
    "zint.plot(kind='hist')"
   ]
  },
  {
   "cell_type": "code",
   "execution_count": 39,
   "id": "d8942609",
   "metadata": {},
   "outputs": [
    {
     "data": {
      "text/plain": [
       "<AxesSubplot:>"
      ]
     },
     "execution_count": 39,
     "metadata": {},
     "output_type": "execute_result"
    },
    {
     "data": {
      "image/png": "[encoded data removed]",
      "text/plain": [
       "<Figure size 432x288 with 1 Axes>"
      ]
     },
     "metadata": {
      "needs_background": "light"
     },
     "output_type": "display_data"
    }
   ],
   "source": [
    "zint.plot(kind='box',vert=False)"
   ]
  },
  {
   "cell_type": "code",
   "execution_count": 40,
   "id": "b1c3af49",
   "metadata": {},
   "outputs": [
    {
     "name": "stderr",
     "output_type": "stream",
     "text": [
      "C:\\Users\\Dell\\anaconda3\\lib\\site-packages\\pandas\\core\\internals\\blocks.py:402: RuntimeWarning: divide by zero encountered in log\n",
      "  result = func(self.values, **kwargs)\n"
     ]
    },
    {
     "data": {
      "text/plain": [
       "<AxesSubplot:>"
      ]
     },
     "execution_count": 40,
     "metadata": {},
     "output_type": "execute_result"
    },
    {
     "data": {
      "image/png": "[encoded data removed]",
      "text/plain": [
       "<Figure size 432x288 with 1 Axes>"
      ]
     },
     "metadata": {
      "needs_background": "light"
     },
     "output_type": "display_data"
    }
   ],
   "source": [
    "np.log(zint).plot(kind='box',vert=False)"
   ]
  },
  {
   "cell_type": "code",
   "execution_count": 41,
   "id": "a06e3451",
   "metadata": {},
   "outputs": [
    {
     "data": {
      "text/plain": [
       "<AxesSubplot:ylabel='Density'>"
      ]
     },
     "execution_count": 41,
     "metadata": {},
     "output_type": "execute_result"
    },
    {
     "data": {
      "image/png": "[encoded data removed]",
      "text/plain": [
       "<Figure size 432x288 with 1 Axes>"
      ]
     },
     "metadata": {
      "needs_background": "light"
     },
     "output_type": "display_data"
    }
   ],
   "source": [
    "zint.plot(kind=\"density\")"
   ]
  },
  {
   "cell_type": "code",
   "execution_count": 42,
   "id": "c901b7f6",
   "metadata": {},
   "outputs": [
    {
     "data": {
      "text/plain": [
       "<AxesSubplot:ylabel='Frequency'>"
      ]
     },
     "execution_count": 42,
     "metadata": {},
     "output_type": "execute_result"
    },
    {
     "data": {
      "image/png": "[encoded data removed]",
      "text/plain": [
       "<Figure size 432x288 with 1 Axes>"
      ]
     },
     "metadata": {
      "needs_background": "light"
     },
     "output_type": "display_data"
    }
   ],
   "source": [
    "zfloat.plot(kind=\"hist\")"
   ]
  },
  {
   "cell_type": "code",
   "execution_count": 43,
   "id": "0e699fa5",
   "metadata": {},
   "outputs": [
    {
     "data": {
      "text/plain": [
       "<AxesSubplot:>"
      ]
     },
     "execution_count": 43,
     "metadata": {},
     "output_type": "execute_result"
    },
    {
     "data": {
      "image/png": "[encoded data removed]",
      "text/plain": [
       "<Figure size 432x288 with 1 Axes>"
      ]
     },
     "metadata": {
      "needs_background": "light"
     },
     "output_type": "display_data"
    }
   ],
   "source": [
    "zfloat.plot(kind='box',vert=False)"
   ]
  },
  {
   "cell_type": "code",
   "execution_count": 44,
   "id": "3a5f48e0",
   "metadata": {},
   "outputs": [
    {
     "data": {
      "text/plain": [
       "<AxesSubplot:>"
      ]
     },
     "execution_count": 44,
     "metadata": {},
     "output_type": "execute_result"
    },
    {
     "data": {
      "image/png": "[encoded data removed]",
      "text/plain": [
       "<Figure size 432x288 with 1 Axes>"
      ]
     },
     "metadata": {
      "needs_background": "light"
     },
     "output_type": "display_data"
    }
   ],
   "source": [
    "np.log(zfloat).plot(kind='box',vert=False)"
   ]
  },
  {
   "cell_type": "code",
   "execution_count": 45,
   "id": "0baef5f6",
   "metadata": {},
   "outputs": [
    {
     "data": {
      "text/plain": [
       "<AxesSubplot:ylabel='Density'>"
      ]
     },
     "execution_count": 45,
     "metadata": {},
     "output_type": "execute_result"
    },
    {
     "data": {
      "image/png": "[encoded data removed]",
      "text/plain": [
       "<Figure size 432x288 with 1 Axes>"
      ]
     },
     "metadata": {
      "needs_background": "light"
     },
     "output_type": "display_data"
    }
   ],
   "source": [
    "zfloat.plot(kind=\"density\")"
   ]
  },
  {
   "cell_type": "code",
   "execution_count": 46,
   "id": "48b24f20",
   "metadata": {},
   "outputs": [
    {
     "data": {
      "text/plain": [
       "<AxesSubplot:ylabel='Density'>"
      ]
     },
     "execution_count": 46,
     "metadata": {},
     "output_type": "execute_result"
    },
    {
     "data": {
      "image/png": "[encoded data removed]",
      "text/plain": [
       "<Figure size 432x288 with 1 Axes>"
      ]
     },
     "metadata": {
      "needs_background": "light"
     },
     "output_type": "display_data"
    }
   ],
   "source": [
    "np.log(zfloat).plot(kind=\"density\")"
   ]
  },
  {
   "cell_type": "markdown",
   "id": "1cbbc8ba",
   "metadata": {},
   "source": [
    "# hypothesis testing data"
   ]
  },
  {
   "cell_type": "code",
   "execution_count": 47,
   "id": "c95ccd17",
   "metadata": {},
   "outputs": [],
   "source": [
    "# ttest,anovatest,chisquaretest. these are three hypothesis testing data\n",
    "# ttest it is done on the one categorical data and the one numerical data which have the 2 level categorical data"
   ]
  },
  {
   "cell_type": "code",
   "execution_count": 48,
   "id": "1ebcbbc1",
   "metadata": {},
   "outputs": [
    {
     "data": {
      "text/plain": [
       "HCPCS_Drug_Ind\n",
       "N    237.826710\n",
       "Y    171.049364\n",
       "Name: Avg_Mdcr_Stdzd_Amt, dtype: float64"
      ]
     },
     "execution_count": 48,
     "metadata": {},
     "output_type": "execute_result"
    }
   ],
   "source": [
    "ourdata.Avg_Mdcr_Stdzd_Amt.groupby(ourdata.HCPCS_Drug_Ind).mean()"
   ]
  },
  {
   "cell_type": "code",
   "execution_count": 49,
   "id": "ebfe7a39",
   "metadata": {},
   "outputs": [
    {
     "data": {
      "text/plain": [
       "HCPCS_Drug_Ind\n",
       "N    2.168116e+05\n",
       "Y    3.540723e+06\n",
       "Name: Avg_Mdcr_Stdzd_Amt, dtype: float64"
      ]
     },
     "execution_count": 49,
     "metadata": {},
     "output_type": "execute_result"
    }
   ],
   "source": [
    "ourdata.Avg_Mdcr_Stdzd_Amt.groupby(ourdata.HCPCS_Drug_Ind).var()"
   ]
  },
  {
   "cell_type": "code",
   "execution_count": 50,
   "id": "001655ad",
   "metadata": {},
   "outputs": [],
   "source": [
    "N=ourdata[ourdata.HCPCS_Drug_Ind=='N']"
   ]
  },
  {
   "cell_type": "code",
   "execution_count": 51,
   "id": "15c1aad9",
   "metadata": {},
   "outputs": [],
   "source": [
    "Y=ourdata[ourdata.HCPCS_Drug_Ind=='Y']"
   ]
  },
  {
   "cell_type": "code",
   "execution_count": 52,
   "id": "a14ca7a9",
   "metadata": {},
   "outputs": [],
   "source": [
    "from scipy.stats import ttest_ind"
   ]
  },
  {
   "cell_type": "code",
   "execution_count": 53,
   "id": "a74f79ed",
   "metadata": {},
   "outputs": [
    {
     "data": {
      "text/plain": [
       "Ttest_indResult(statistic=3.9634619050937365, pvalue=7.427879445671824e-05)"
      ]
     },
     "execution_count": 53,
     "metadata": {},
     "output_type": "execute_result"
    }
   ],
   "source": [
    "ttest_ind(N.Avg_Mdcr_Stdzd_Amt,Y.Avg_Mdcr_Stdzd_Amt,equal_var=False)"
   ]
  },
  {
   "cell_type": "code",
   "execution_count": 54,
   "id": "5e2168d6",
   "metadata": {},
   "outputs": [],
   "source": [
    "# here the p value is pvalue=7.427879445671824e-05, \n",
    "#  the p value is <0.05 it is significant "
   ]
  },
  {
   "cell_type": "code",
   "execution_count": 55,
   "id": "0199f94d",
   "metadata": {},
   "outputs": [
    {
     "data": {
      "text/plain": [
       "Place_Of_Srvc\n",
       "F    290.133705\n",
       "O    168.035720\n",
       "Name: Avg_Mdcr_Stdzd_Amt, dtype: float64"
      ]
     },
     "execution_count": 55,
     "metadata": {},
     "output_type": "execute_result"
    }
   ],
   "source": [
    "ourdata.Avg_Mdcr_Stdzd_Amt.groupby(ourdata.Place_Of_Srvc).mean()"
   ]
  },
  {
   "cell_type": "code",
   "execution_count": 56,
   "id": "77fe352c",
   "metadata": {},
   "outputs": [
    {
     "data": {
      "text/plain": [
       "Place_Of_Srvc\n",
       "F    150429.316721\n",
       "O    624730.901883\n",
       "Name: Avg_Mdcr_Stdzd_Amt, dtype: float64"
      ]
     },
     "execution_count": 56,
     "metadata": {},
     "output_type": "execute_result"
    }
   ],
   "source": [
    "ourdata.Avg_Mdcr_Stdzd_Amt.groupby(ourdata.Place_Of_Srvc).var()"
   ]
  },
  {
   "cell_type": "code",
   "execution_count": 57,
   "id": "f56c434a",
   "metadata": {},
   "outputs": [],
   "source": [
    "F=ourdata[ourdata.Place_Of_Srvc=='F']"
   ]
  },
  {
   "cell_type": "code",
   "execution_count": 58,
   "id": "1eaf3d8f",
   "metadata": {},
   "outputs": [],
   "source": [
    "O=ourdata[ourdata.Place_Of_Srvc=='O']"
   ]
  },
  {
   "cell_type": "code",
   "execution_count": 59,
   "id": "e09657b7",
   "metadata": {},
   "outputs": [
    {
     "data": {
      "text/plain": [
       "Ttest_indResult(statistic=49.639135197836964, pvalue=0.0)"
      ]
     },
     "execution_count": 59,
     "metadata": {},
     "output_type": "execute_result"
    }
   ],
   "source": [
    "ttest_ind(F.Avg_Mdcr_Stdzd_Amt,O.Avg_Mdcr_Stdzd_Amt,equal_var=False)"
   ]
  },
  {
   "cell_type": "code",
   "execution_count": 60,
   "id": "c72172ed",
   "metadata": {},
   "outputs": [],
   "source": [
    "# here the value p is pvalue=0.0 .p value is <0.05\n",
    "# here it is significant process."
   ]
  },
  {
   "cell_type": "code",
   "execution_count": 61,
   "id": "b4fb6ea1",
   "metadata": {},
   "outputs": [],
   "source": [
    "#  anova test  is done on two columns one is categorical and one column is numeric .which have 3 levels of categorical data.\n",
    "#  in this data their no columns which have 3 levels so we futher we do anova test."
   ]
  },
  {
   "cell_type": "code",
   "execution_count": 62,
   "id": "98d815d4",
   "metadata": {},
   "outputs": [],
   "source": [
    "#  chisquare test is done two categorical data."
   ]
  },
  {
   "cell_type": "code",
   "execution_count": 63,
   "id": "bda64340",
   "metadata": {},
   "outputs": [
    {
     "data": {
      "text/plain": [
       "N    260701\n",
       "Y     12510\n",
       "Name: HCPCS_Drug_Ind, dtype: int64"
      ]
     },
     "execution_count": 63,
     "metadata": {},
     "output_type": "execute_result"
    }
   ],
   "source": [
    "ourdata.HCPCS_Drug_Ind.value_counts(dropna=False)"
   ]
  },
  {
   "cell_type": "code",
   "execution_count": 64,
   "id": "7b6b2e2f",
   "metadata": {},
   "outputs": [
    {
     "data": {
      "text/plain": [
       "State       260217\n",
       "National     12994\n",
       "Name: Rndrng_Prvdr_Geo_Lvl, dtype: int64"
      ]
     },
     "execution_count": 64,
     "metadata": {},
     "output_type": "execute_result"
    }
   ],
   "source": [
    "ourdata.Rndrng_Prvdr_Geo_Lvl.value_counts(dropna=False)"
   ]
  },
  {
   "cell_type": "code",
   "execution_count": 65,
   "id": "f2e368f0",
   "metadata": {},
   "outputs": [
    {
     "data": {
      "text/plain": [
       "F    149325\n",
       "O    123886\n",
       "Name: Place_Of_Srvc, dtype: int64"
      ]
     },
     "execution_count": 65,
     "metadata": {},
     "output_type": "execute_result"
    }
   ],
   "source": [
    "ourdata.Place_Of_Srvc.value_counts(dropna=False)"
   ]
  },
  {
   "cell_type": "code",
   "execution_count": 66,
   "id": "0c1507c3",
   "metadata": {},
   "outputs": [
    {
     "data": {
      "text/html": [
       "<div>\n",
       "<style scoped>\n",
       "    .dataframe tbody tr th:only-of-type {\n",
       "        vertical-align: middle;\n",
       "    }\n",
       "\n",
       "    .dataframe tbody tr th {\n",
       "        vertical-align: top;\n",
       "    }\n",
       "\n",
       "    .dataframe thead th {\n",
       "        text-align: right;\n",
       "    }\n",
       "</style>\n",
       "<table border=\"1\" class=\"dataframe\">\n",
       "  <thead>\n",
       "    <tr style=\"text-align: right;\">\n",
       "      <th>Rndrng_Prvdr_Geo_Lvl</th>\n",
       "      <th>National</th>\n",
       "      <th>State</th>\n",
       "    </tr>\n",
       "    <tr>\n",
       "      <th>HCPCS_Drug_Ind</th>\n",
       "      <th></th>\n",
       "      <th></th>\n",
       "    </tr>\n",
       "  </thead>\n",
       "  <tbody>\n",
       "    <tr>\n",
       "      <th>N</th>\n",
       "      <td>12421</td>\n",
       "      <td>248280</td>\n",
       "    </tr>\n",
       "    <tr>\n",
       "      <th>Y</th>\n",
       "      <td>573</td>\n",
       "      <td>11937</td>\n",
       "    </tr>\n",
       "  </tbody>\n",
       "</table>\n",
       "</div>"
      ],
      "text/plain": [
       "Rndrng_Prvdr_Geo_Lvl  National   State\n",
       "HCPCS_Drug_Ind                        \n",
       "N                        12421  248280\n",
       "Y                          573   11937"
      ]
     },
     "execution_count": 66,
     "metadata": {},
     "output_type": "execute_result"
    }
   ],
   "source": [
    "pd.crosstab(ourdata.HCPCS_Drug_Ind,ourdata.Rndrng_Prvdr_Geo_Lvl)"
   ]
  },
  {
   "cell_type": "code",
   "execution_count": 67,
   "id": "1c2f2f11",
   "metadata": {},
   "outputs": [],
   "source": [
    "from scipy.stats import chi2_contingency"
   ]
  },
  {
   "cell_type": "code",
   "execution_count": 68,
   "id": "653bf51d",
   "metadata": {},
   "outputs": [
    {
     "data": {
      "text/plain": [
       "(0.8532253009977158,\n",
       " 0.3556415141576682,\n",
       " 1,\n",
       " array([[ 12399.02051528, 248301.97948472],\n",
       "        [   594.97948472,  11915.02051528]]))"
      ]
     },
     "execution_count": 68,
     "metadata": {},
     "output_type": "execute_result"
    }
   ],
   "source": [
    "chi2_contingency(pd.crosstab(ourdata.HCPCS_Drug_Ind,ourdata.Rndrng_Prvdr_Geo_Lvl))"
   ]
  },
  {
   "cell_type": "code",
   "execution_count": 69,
   "id": "523fb582",
   "metadata": {},
   "outputs": [],
   "source": [
    "# here is pvalue 0.3556415141576682 it is >0.05 it is non significant "
   ]
  },
  {
   "cell_type": "code",
   "execution_count": 70,
   "id": "5ca3c678",
   "metadata": {},
   "outputs": [
    {
     "data": {
      "text/html": [
       "<div>\n",
       "<style scoped>\n",
       "    .dataframe tbody tr th:only-of-type {\n",
       "        vertical-align: middle;\n",
       "    }\n",
       "\n",
       "    .dataframe tbody tr th {\n",
       "        vertical-align: top;\n",
       "    }\n",
       "\n",
       "    .dataframe thead th {\n",
       "        text-align: right;\n",
       "    }\n",
       "</style>\n",
       "<table border=\"1\" class=\"dataframe\">\n",
       "  <thead>\n",
       "    <tr style=\"text-align: right;\">\n",
       "      <th>Place_Of_Srvc</th>\n",
       "      <th>F</th>\n",
       "      <th>O</th>\n",
       "    </tr>\n",
       "    <tr>\n",
       "      <th>HCPCS_Drug_Ind</th>\n",
       "      <th></th>\n",
       "      <th></th>\n",
       "    </tr>\n",
       "  </thead>\n",
       "  <tbody>\n",
       "    <tr>\n",
       "      <th>N</th>\n",
       "      <td>148877</td>\n",
       "      <td>111824</td>\n",
       "    </tr>\n",
       "    <tr>\n",
       "      <th>Y</th>\n",
       "      <td>448</td>\n",
       "      <td>12062</td>\n",
       "    </tr>\n",
       "  </tbody>\n",
       "</table>\n",
       "</div>"
      ],
      "text/plain": [
       "Place_Of_Srvc        F       O\n",
       "HCPCS_Drug_Ind                \n",
       "N               148877  111824\n",
       "Y                  448   12062"
      ]
     },
     "execution_count": 70,
     "metadata": {},
     "output_type": "execute_result"
    }
   ],
   "source": [
    "pd.crosstab(ourdata.HCPCS_Drug_Ind,ourdata.Place_Of_Srvc)"
   ]
  },
  {
   "cell_type": "code",
   "execution_count": 71,
   "id": "1ef9063f",
   "metadata": {},
   "outputs": [
    {
     "data": {
      "text/plain": [
       "(13797.277058344007,\n",
       " 0.0,\n",
       " 1,\n",
       " array([[142487.58953702, 118213.41046298],\n",
       "        [  6837.41046298,   5672.58953702]]))"
      ]
     },
     "execution_count": 71,
     "metadata": {},
     "output_type": "execute_result"
    }
   ],
   "source": [
    "chi2_contingency(pd.crosstab(ourdata.HCPCS_Drug_Ind,ourdata.Place_Of_Srvc))"
   ]
  },
  {
   "cell_type": "code",
   "execution_count": 72,
   "id": "4cedff9e",
   "metadata": {},
   "outputs": [],
   "source": [
    "#  here it is p value 0.0 , p value is <0.05 so it is significant "
   ]
  },
  {
   "cell_type": "code",
   "execution_count": 73,
   "id": "ff956485",
   "metadata": {},
   "outputs": [
    {
     "data": {
      "text/html": [
       "<div>\n",
       "<style scoped>\n",
       "    .dataframe tbody tr th:only-of-type {\n",
       "        vertical-align: middle;\n",
       "    }\n",
       "\n",
       "    .dataframe tbody tr th {\n",
       "        vertical-align: top;\n",
       "    }\n",
       "\n",
       "    .dataframe thead th {\n",
       "        text-align: right;\n",
       "    }\n",
       "</style>\n",
       "<table border=\"1\" class=\"dataframe\">\n",
       "  <thead>\n",
       "    <tr style=\"text-align: right;\">\n",
       "      <th>Rndrng_Prvdr_Geo_Lvl</th>\n",
       "      <th>National</th>\n",
       "      <th>State</th>\n",
       "    </tr>\n",
       "    <tr>\n",
       "      <th>Place_Of_Srvc</th>\n",
       "      <th></th>\n",
       "      <th></th>\n",
       "    </tr>\n",
       "  </thead>\n",
       "  <tbody>\n",
       "    <tr>\n",
       "      <th>F</th>\n",
       "      <td>7042</td>\n",
       "      <td>142283</td>\n",
       "    </tr>\n",
       "    <tr>\n",
       "      <th>O</th>\n",
       "      <td>5952</td>\n",
       "      <td>117934</td>\n",
       "    </tr>\n",
       "  </tbody>\n",
       "</table>\n",
       "</div>"
      ],
      "text/plain": [
       "Rndrng_Prvdr_Geo_Lvl  National   State\n",
       "Place_Of_Srvc                         \n",
       "F                         7042  142283\n",
       "O                         5952  117934"
      ]
     },
     "execution_count": 73,
     "metadata": {},
     "output_type": "execute_result"
    }
   ],
   "source": [
    "pd.crosstab(ourdata.Place_Of_Srvc,ourdata.Rndrng_Prvdr_Geo_Lvl)"
   ]
  },
  {
   "cell_type": "code",
   "execution_count": 74,
   "id": "fea3eb97",
   "metadata": {},
   "outputs": [
    {
     "data": {
      "text/plain": [
       "(1.152041443360135,\n",
       " 0.2831222114825138,\n",
       " 1,\n",
       " array([[  7101.94336978, 142223.05663022],\n",
       "        [  5892.05663022, 117993.94336978]]))"
      ]
     },
     "execution_count": 74,
     "metadata": {},
     "output_type": "execute_result"
    }
   ],
   "source": [
    "chi2_contingency(pd.crosstab(ourdata.Place_Of_Srvc,ourdata.Rndrng_Prvdr_Geo_Lvl))"
   ]
  },
  {
   "cell_type": "code",
   "execution_count": 75,
   "id": "1632a5fd",
   "metadata": {},
   "outputs": [],
   "source": [
    "# here p value is 0.2831222114825138 it is greater  than 0.05 it is non significant "
   ]
  },
  {
   "cell_type": "code",
   "execution_count": 76,
   "id": "3166b70f",
   "metadata": {},
   "outputs": [],
   "source": [
    "obj=ourdata.select_dtypes(include=\"object\")"
   ]
  },
  {
   "cell_type": "code",
   "execution_count": 77,
   "id": "8e27d6b5",
   "metadata": {},
   "outputs": [],
   "source": [
    "inte=ourdata.select_dtypes(include=np.number)"
   ]
  },
  {
   "cell_type": "code",
   "execution_count": 78,
   "id": "7c1497d8",
   "metadata": {},
   "outputs": [
    {
     "data": {
      "text/plain": [
       "(273211, 7)"
      ]
     },
     "execution_count": 78,
     "metadata": {},
     "output_type": "execute_result"
    }
   ],
   "source": [
    "obj.shape"
   ]
  },
  {
   "cell_type": "code",
   "execution_count": 79,
   "id": "84e82ce5",
   "metadata": {},
   "outputs": [
    {
     "data": {
      "text/plain": [
       "(273211, 8)"
      ]
     },
     "execution_count": 79,
     "metadata": {},
     "output_type": "execute_result"
    }
   ],
   "source": [
    "inte.shape"
   ]
  },
  {
   "cell_type": "code",
   "execution_count": 80,
   "id": "4d425b10",
   "metadata": {},
   "outputs": [],
   "source": [
    "import seaborn as sns"
   ]
  },
  {
   "cell_type": "code",
   "execution_count": 81,
   "id": "76dd20b0",
   "metadata": {},
   "outputs": [
    {
     "data": {
      "text/plain": [
       "<AxesSubplot:>"
      ]
     },
     "execution_count": 81,
     "metadata": {},
     "output_type": "execute_result"
    },
    {
     "data": {
      "image/png": "[encoded data removed]",
      "text/plain": [
       "<Figure size 1080x720 with 2 Axes>"
      ]
     },
     "metadata": {
      "needs_background": "light"
     },
     "output_type": "display_data"
    }
   ],
   "source": [
    "plt.figure(figsize=(15,10))\n",
    "sns.heatmap(inte.corr(),annot=True)"
   ]
  },
  {
   "cell_type": "code",
   "execution_count": 82,
   "id": "58798731",
   "metadata": {},
   "outputs": [
    {
     "data": {
      "text/plain": [
       "(273211, 8)"
      ]
     },
     "execution_count": 82,
     "metadata": {},
     "output_type": "execute_result"
    }
   ],
   "source": [
    "inte.shape"
   ]
  },
  {
   "cell_type": "code",
   "execution_count": 83,
   "id": "b9ca270e",
   "metadata": {},
   "outputs": [
    {
     "data": {
      "text/plain": [
       "Index(['Avg_Sbmtd_Chrg', 'Avg_Mdcr_Alowd_Amt', 'Avg_Mdcr_Pymt_Amt',\n",
       "       'Avg_Mdcr_Stdzd_Amt', 'Tot_Srvcs', 'Tot_Rndrng_Prvdrs', 'Tot_Benes',\n",
       "       'Tot_Bene_Day_Srvcs'],\n",
       "      dtype='object')"
      ]
     },
     "execution_count": 83,
     "metadata": {},
     "output_type": "execute_result"
    }
   ],
   "source": [
    "inte.columns"
   ]
  },
  {
   "cell_type": "markdown",
   "id": "94f84d09",
   "metadata": {},
   "source": [
    "from the heat map Because there are three columns with multicolinearity, I opted to eliminate two of them."
   ]
  },
  {
   "cell_type": "code",
   "execution_count": 84,
   "id": "485e5434",
   "metadata": {},
   "outputs": [],
   "source": [
    "inte=inte.drop(['Avg_Mdcr_Alowd_Amt','Avg_Mdcr_Pymt_Amt'],axis=1)"
   ]
  },
  {
   "cell_type": "code",
   "execution_count": 85,
   "id": "cb2b4457",
   "metadata": {},
   "outputs": [],
   "source": [
    "from sklearn.preprocessing import LabelEncoder"
   ]
  },
  {
   "cell_type": "code",
   "execution_count": 86,
   "id": "700e568a",
   "metadata": {},
   "outputs": [],
   "source": [
    "le=LabelEncoder()"
   ]
  },
  {
   "cell_type": "code",
   "execution_count": 87,
   "id": "95fc7067",
   "metadata": {},
   "outputs": [],
   "source": [
    "objdummy=obj.apply(le.fit_transform)"
   ]
  },
  {
   "cell_type": "code",
   "execution_count": 88,
   "id": "986eddac",
   "metadata": {},
   "outputs": [],
   "source": [
    "cleandata=pd.concat([inte,objdummy],axis=1)"
   ]
  },
  {
   "cell_type": "code",
   "execution_count": 89,
   "id": "c01bd42c",
   "metadata": {},
   "outputs": [
    {
     "data": {
      "text/plain": [
       "(273211, 13)"
      ]
     },
     "execution_count": 89,
     "metadata": {},
     "output_type": "execute_result"
    }
   ],
   "source": [
    "cleandata.shape"
   ]
  },
  {
   "cell_type": "markdown",
   "id": "c5d42bc3",
   "metadata": {},
   "source": [
    " After all of the label encoding, I've chosen to pick one dependency and apply machine learning principles to it."
   ]
  },
  {
   "cell_type": "code",
   "execution_count": 90,
   "id": "20b99c4c",
   "metadata": {},
   "outputs": [],
   "source": [
    "y=cleandata.Avg_Mdcr_Stdzd_Amt"
   ]
  },
  {
   "cell_type": "code",
   "execution_count": 91,
   "id": "913e8a96",
   "metadata": {},
   "outputs": [
    {
     "data": {
      "text/plain": [
       "<AxesSubplot:ylabel='Frequency'>"
      ]
     },
     "execution_count": 91,
     "metadata": {},
     "output_type": "execute_result"
    },
    {
     "data": {
      "image/png": "[encoded data removed]",
      "text/plain": [
       "<Figure size 432x288 with 1 Axes>"
      ]
     },
     "metadata": {
      "needs_background": "light"
     },
     "output_type": "display_data"
    }
   ],
   "source": [
    "y.plot(kind='hist')"
   ]
  },
  {
   "cell_type": "code",
   "execution_count": 92,
   "id": "01385c98",
   "metadata": {},
   "outputs": [
    {
     "data": {
      "text/plain": [
       "<AxesSubplot:ylabel='Frequency'>"
      ]
     },
     "execution_count": 92,
     "metadata": {},
     "output_type": "execute_result"
    },
    {
     "data": {
      "image/png": "[encoded data removed]",
      "text/plain": [
       "<Figure size 432x288 with 1 Axes>"
      ]
     },
     "metadata": {
      "needs_background": "light"
     },
     "output_type": "display_data"
    }
   ],
   "source": [
    "np.log(y).plot(kind='hist')"
   ]
  },
  {
   "cell_type": "code",
   "execution_count": 93,
   "id": "cdf10b36",
   "metadata": {},
   "outputs": [
    {
     "data": {
      "text/plain": [
       "<AxesSubplot:>"
      ]
     },
     "execution_count": 93,
     "metadata": {},
     "output_type": "execute_result"
    },
    {
     "data": {
      "image/png": "[encoded data removed]",
      "text/plain": [
       "<Figure size 432x288 with 1 Axes>"
      ]
     },
     "metadata": {
      "needs_background": "light"
     },
     "output_type": "display_data"
    }
   ],
   "source": [
    "y.plot(kind='box',vert=False)"
   ]
  },
  {
   "cell_type": "code",
   "execution_count": 94,
   "id": "6902e304",
   "metadata": {},
   "outputs": [
    {
     "data": {
      "text/plain": [
       "<AxesSubplot:>"
      ]
     },
     "execution_count": 94,
     "metadata": {},
     "output_type": "execute_result"
    },
    {
     "data": {
      "image/png": "[encoded data removed]",
      "text/plain": [
       "<Figure size 432x288 with 1 Axes>"
      ]
     },
     "metadata": {
      "needs_background": "light"
     },
     "output_type": "display_data"
    }
   ],
   "source": [
    "np.log(y).plot(kind='box',vert=False)"
   ]
  },
  {
   "cell_type": "code",
   "execution_count": 95,
   "id": "ded1d225",
   "metadata": {},
   "outputs": [
    {
     "data": {
      "text/plain": [
       "<AxesSubplot:ylabel='Density'>"
      ]
     },
     "execution_count": 95,
     "metadata": {},
     "output_type": "execute_result"
    },
    {
     "data": {
      "image/png": "[encoded data removed]",
      "text/plain": [
       "<Figure size 432x288 with 1 Axes>"
      ]
     },
     "metadata": {
      "needs_background": "light"
     },
     "output_type": "display_data"
    }
   ],
   "source": [
    "y.plot(kind='density')"
   ]
  },
  {
   "cell_type": "code",
   "execution_count": 96,
   "id": "b4b96a7f",
   "metadata": {},
   "outputs": [
    {
     "data": {
      "text/plain": [
       "<AxesSubplot:ylabel='Density'>"
      ]
     },
     "execution_count": 96,
     "metadata": {},
     "output_type": "execute_result"
    },
    {
     "data": {
      "image/png": "[encoded data removed]",
      "text/plain": [
       "<Figure size 432x288 with 1 Axes>"
      ]
     },
     "metadata": {
      "needs_background": "light"
     },
     "output_type": "display_data"
    }
   ],
   "source": [
    "np.log(y).plot(kind='density')"
   ]
  },
  {
   "cell_type": "code",
   "execution_count": 97,
   "id": "a21963cc",
   "metadata": {},
   "outputs": [],
   "source": [
    "x=cleandata.drop([\"Avg_Mdcr_Stdzd_Amt\"],axis=1)"
   ]
  },
  {
   "cell_type": "markdown",
   "id": "64026b25",
   "metadata": {},
   "source": [
    "# linear regression"
   ]
  },
  {
   "cell_type": "raw",
   "id": "c4f1970d",
   "metadata": {},
   "source": [
    "When implementing linear regression of some dependent variable 𝑦 on the set of independent variables 𝐱 = (𝑥₁, …, 𝑥ᵣ), where 𝑟 is the number of predictors, you assume a linear relationship between 𝑦 and 𝐱: 𝑦 = 𝛽₀ + 𝛽₁𝑥₁ + ⋯ + 𝛽ᵣ𝑥ᵣ + 𝜀. This equation is the regression equation. 𝛽₀, 𝛽₁, …, 𝛽ᵣ are the regression coefficients, and 𝜀 is the random error.\n",
    "\n",
    "Linear regression calculates the estimators of the regression coefficients or simply the predicted weights, denoted with 𝑏₀, 𝑏₁, …, 𝑏ᵣ. They define the estimated regression function 𝑓(𝐱) = 𝑏₀ + 𝑏₁𝑥₁ + ⋯ + 𝑏ᵣ𝑥ᵣ. This function should capture the dependencies between the inputs and output sufficiently well.\n",
    "\n",
    "The estimated or predicted response, 𝑓(𝐱ᵢ), for each observation 𝑖 = 1, …, 𝑛, should be as close as possible to the corresponding actual response 𝑦ᵢ. The differences 𝑦ᵢ - 𝑓(𝐱ᵢ) for all observations 𝑖 = 1, …, 𝑛, are called the residuals. Regression is about determining the best predicted weights, that is the weights corresponding to the smallest residuals.\n",
    "\n",
    "To get the best weights, you usually minimize the sum of squared residuals (SSR) for all observations 𝑖 = 1, …, 𝑛: SSR = Σᵢ(𝑦ᵢ - 𝑓(𝐱ᵢ))². This approach is called the method of ordinary least squares."
   ]
  },
  {
   "cell_type": "code",
   "execution_count": 98,
   "id": "1787d163",
   "metadata": {},
   "outputs": [],
   "source": [
    "from sklearn.linear_model import LinearRegression"
   ]
  },
  {
   "cell_type": "code",
   "execution_count": 99,
   "id": "de755bb7",
   "metadata": {},
   "outputs": [],
   "source": [
    "lr=LinearRegression()"
   ]
  },
  {
   "cell_type": "code",
   "execution_count": 100,
   "id": "98ae8b35",
   "metadata": {},
   "outputs": [],
   "source": [
    "lrmodel=lr.fit(x,y)"
   ]
  },
  {
   "cell_type": "code",
   "execution_count": 101,
   "id": "5b33d776",
   "metadata": {},
   "outputs": [
    {
     "data": {
      "text/plain": [
       "0.6287330785810232"
      ]
     },
     "execution_count": 101,
     "metadata": {},
     "output_type": "execute_result"
    }
   ],
   "source": [
    "lrmodel.score(x,y)"
   ]
  },
  {
   "cell_type": "code",
   "execution_count": 102,
   "id": "b077069e",
   "metadata": {},
   "outputs": [],
   "source": [
    "from sklearn.model_selection import cross_val_score"
   ]
  },
  {
   "cell_type": "code",
   "execution_count": 103,
   "id": "ea55eca5",
   "metadata": {},
   "outputs": [],
   "source": [
    "lrpredict=lrmodel.predict(x)"
   ]
  },
  {
   "cell_type": "code",
   "execution_count": 104,
   "id": "c104c388",
   "metadata": {},
   "outputs": [],
   "source": [
    "lrres=y-lrpredict"
   ]
  },
  {
   "cell_type": "code",
   "execution_count": 105,
   "id": "11bea19d",
   "metadata": {},
   "outputs": [
    {
     "data": {
      "text/plain": [
       "370.22727929317614"
      ]
     },
     "execution_count": 105,
     "metadata": {},
     "output_type": "execute_result"
    }
   ],
   "source": [
    "np.sqrt(np.mean(lrres**2))"
   ]
  },
  {
   "cell_type": "code",
   "execution_count": 106,
   "id": "af040484",
   "metadata": {},
   "outputs": [
    {
     "data": {
      "text/plain": [
       "array([0.618882  , 0.63575372, 0.67317509, 0.57951982, 0.60100208])"
      ]
     },
     "execution_count": 106,
     "metadata": {},
     "output_type": "execute_result"
    }
   ],
   "source": [
    "cross_val_score(lrmodel,x,y)"
   ]
  },
  {
   "cell_type": "code",
   "execution_count": 107,
   "id": "24b30c7c",
   "metadata": {},
   "outputs": [
    {
     "data": {
      "text/plain": [
       "0.6216665416462339"
      ]
     },
     "execution_count": 107,
     "metadata": {},
     "output_type": "execute_result"
    }
   ],
   "source": [
    "np.mean(cross_val_score(lrmodel,x,y))"
   ]
  },
  {
   "cell_type": "markdown",
   "id": "27f4c0ce",
   "metadata": {},
   "source": [
    "# log of linear regression"
   ]
  },
  {
   "cell_type": "code",
   "execution_count": 108,
   "id": "72b6e41b",
   "metadata": {},
   "outputs": [],
   "source": [
    "lrmodellog=lr.fit(x,np.log(y))"
   ]
  },
  {
   "cell_type": "code",
   "execution_count": 109,
   "id": "f6291529",
   "metadata": {},
   "outputs": [
    {
     "data": {
      "text/plain": [
       "0.5144773881058766"
      ]
     },
     "execution_count": 109,
     "metadata": {},
     "output_type": "execute_result"
    }
   ],
   "source": [
    "lrmodellog.score(x,np.log(y))"
   ]
  },
  {
   "cell_type": "code",
   "execution_count": 110,
   "id": "17f39247",
   "metadata": {},
   "outputs": [
    {
     "data": {
      "text/plain": [
       "array([0.23399954, 0.51840963, 0.51461977, 0.51091111, 0.4974536 ])"
      ]
     },
     "execution_count": 110,
     "metadata": {},
     "output_type": "execute_result"
    }
   ],
   "source": [
    "cross_val_score(lrmodellog,x,np.log(y))"
   ]
  },
  {
   "cell_type": "code",
   "execution_count": 111,
   "id": "6d1f9de5",
   "metadata": {},
   "outputs": [
    {
     "data": {
      "text/plain": [
       "0.45507872758164103"
      ]
     },
     "execution_count": 111,
     "metadata": {},
     "output_type": "execute_result"
    }
   ],
   "source": [
    "np.mean(cross_val_score(lrmodellog,x,np.log(y)))"
   ]
  },
  {
   "cell_type": "code",
   "execution_count": 112,
   "id": "eaaa99dd",
   "metadata": {},
   "outputs": [],
   "source": [
    "lrpredictlog=lrmodellog.predict(x)"
   ]
  },
  {
   "cell_type": "code",
   "execution_count": 113,
   "id": "d0ef5844",
   "metadata": {},
   "outputs": [],
   "source": [
    "lrpredictlog=np.exp(lrpredictlog)"
   ]
  },
  {
   "cell_type": "code",
   "execution_count": 114,
   "id": "3b62dab7",
   "metadata": {},
   "outputs": [
    {
     "data": {
      "text/plain": [
       "array([191.88185546, 196.96222401, 342.86302044, ...,   6.29825973,\n",
       "         6.26298647,   6.09478775])"
      ]
     },
     "execution_count": 114,
     "metadata": {},
     "output_type": "execute_result"
    }
   ],
   "source": [
    "lrpredictlog"
   ]
  },
  {
   "cell_type": "code",
   "execution_count": 115,
   "id": "7a780b2a",
   "metadata": {},
   "outputs": [],
   "source": [
    "lrlogres=y-lrpredictlog"
   ]
  },
  {
   "cell_type": "code",
   "execution_count": 117,
   "id": "71491c96",
   "metadata": {},
   "outputs": [
    {
     "data": {
      "text/plain": [
       "554894522874.4698"
      ]
     },
     "execution_count": 117,
     "metadata": {},
     "output_type": "execute_result"
    }
   ],
   "source": [
    "np.sqrt(np.mean(lrlogres**2))"
   ]
  },
  {
   "cell_type": "markdown",
   "id": "0049de30",
   "metadata": {},
   "source": [
    "# decission treee"
   ]
  },
  {
   "cell_type": "raw",
   "id": "50623778",
   "metadata": {},
   "source": [
    "A decision tree is a tree-based supervised learning method used to predict the output of a target variable. Supervised learning uses labeled data (data with known output variables) to make predictions with the help of regression and classification algorithms. Supervised learning algorithms act as a supervisor for training a model with a defined output variable. It learns from simple decision rules using the various data features. Decision trees in Python can be used to solve both classification and regression problems—they are frequently used in determining odds. "
   ]
  },
  {
   "cell_type": "raw",
   "id": "d87beb39",
   "metadata": {},
   "source": [
    "1. Entropy: Entropy is the measure of uncertainty or randomness in a data set. Entropy handles how a decision tree splits the data.\n",
    "2. Information Gain: The information gain measures the decrease in entropy after the data set is split.\n",
    "\n",
    "It is calculated as follows:\n",
    "\n",
    "IG( Y, X) = Entropy (Y) - Entropy ( Y | X)\n",
    "\n",
    "3. Gini Index: The Gini Index is used to determine the correct variable for splitting nodes. It measures how often a randomly chosen variable would be incorrectly identified.\n",
    "\n",
    "4. Root Node: The root node is always the top node of a decision tree. It represents the entire population or data sample, and it can be further divided into different sets.\n",
    "\n",
    "5. Decision Node: Decision nodes are subnodes that can be split into different subnodes; they contain at least two branches. \n",
    "\n",
    "6. Leaf Node: A leaf node in a decision tree carries the final results. These nodes, which are also known as terminal nodes, cannot be split any further. "
   ]
  },
  {
   "cell_type": "code",
   "execution_count": 118,
   "id": "c89563d6",
   "metadata": {},
   "outputs": [],
   "source": [
    "from sklearn.tree import DecisionTreeRegressor"
   ]
  },
  {
   "cell_type": "code",
   "execution_count": 119,
   "id": "d5b5e852",
   "metadata": {},
   "outputs": [],
   "source": [
    "dt=DecisionTreeRegressor(max_depth=9)"
   ]
  },
  {
   "cell_type": "code",
   "execution_count": 120,
   "id": "9c3f3d56",
   "metadata": {},
   "outputs": [],
   "source": [
    "dtmodel=dt.fit(x,y)"
   ]
  },
  {
   "cell_type": "code",
   "execution_count": 121,
   "id": "61097759",
   "metadata": {},
   "outputs": [
    {
     "data": {
      "text/plain": [
       "0.9237217927495589"
      ]
     },
     "execution_count": 121,
     "metadata": {},
     "output_type": "execute_result"
    }
   ],
   "source": [
    "dtmodel.score(x,y)"
   ]
  },
  {
   "cell_type": "code",
   "execution_count": 122,
   "id": "2f86d237",
   "metadata": {},
   "outputs": [
    {
     "data": {
      "text/plain": [
       "array([0.82741918, 0.91195508, 0.91364325, 0.88923839, 0.89285939])"
      ]
     },
     "execution_count": 122,
     "metadata": {},
     "output_type": "execute_result"
    }
   ],
   "source": [
    "cross_val_score(dtmodel,x,y)"
   ]
  },
  {
   "cell_type": "code",
   "execution_count": 123,
   "id": "e20f76e7",
   "metadata": {},
   "outputs": [
    {
     "data": {
      "text/plain": [
       "0.8548747843172123"
      ]
     },
     "execution_count": 123,
     "metadata": {},
     "output_type": "execute_result"
    }
   ],
   "source": [
    "np.mean(cross_val_score(dtmodel,x,y))"
   ]
  },
  {
   "cell_type": "code",
   "execution_count": 124,
   "id": "26ffe1fd",
   "metadata": {},
   "outputs": [],
   "source": [
    "dtpre=dtmodel.predict(x)"
   ]
  },
  {
   "cell_type": "code",
   "execution_count": 125,
   "id": "6b3bb45e",
   "metadata": {},
   "outputs": [],
   "source": [
    "dtres=y-dtpre"
   ]
  },
  {
   "cell_type": "code",
   "execution_count": 126,
   "id": "ad2b6a9c",
   "metadata": {},
   "outputs": [
    {
     "data": {
      "text/plain": [
       "167.81297079813464"
      ]
     },
     "execution_count": 126,
     "metadata": {},
     "output_type": "execute_result"
    }
   ],
   "source": [
    "np.sqrt(np.mean(dtres**2))"
   ]
  },
  {
   "cell_type": "markdown",
   "id": "b012bf20",
   "metadata": {},
   "source": [
    "# decissiontreee log"
   ]
  },
  {
   "cell_type": "code",
   "execution_count": 127,
   "id": "e6a819ca",
   "metadata": {},
   "outputs": [],
   "source": [
    "dtmodellog=dt.fit(x,np.log(y))"
   ]
  },
  {
   "cell_type": "code",
   "execution_count": 128,
   "id": "cae38eda",
   "metadata": {},
   "outputs": [
    {
     "data": {
      "text/plain": [
       "0.9111321949086545"
      ]
     },
     "execution_count": 128,
     "metadata": {},
     "output_type": "execute_result"
    }
   ],
   "source": [
    "dtmodellog.score(x,np.log(y))"
   ]
  },
  {
   "cell_type": "code",
   "execution_count": 129,
   "id": "065c1007",
   "metadata": {},
   "outputs": [
    {
     "data": {
      "text/plain": [
       "array([0.8920091 , 0.91470681, 0.91165672, 0.90923664, 0.89196877])"
      ]
     },
     "execution_count": 129,
     "metadata": {},
     "output_type": "execute_result"
    }
   ],
   "source": [
    "cross_val_score(dtmodellog,x,np.log(y))"
   ]
  },
  {
   "cell_type": "code",
   "execution_count": 130,
   "id": "d5b46941",
   "metadata": {},
   "outputs": [
    {
     "data": {
      "text/plain": [
       "0.9038741616721098"
      ]
     },
     "execution_count": 130,
     "metadata": {},
     "output_type": "execute_result"
    }
   ],
   "source": [
    "np.mean(cross_val_score(dtmodellog,x,np.log(y)))"
   ]
  },
  {
   "cell_type": "code",
   "execution_count": 131,
   "id": "deafd314",
   "metadata": {},
   "outputs": [],
   "source": [
    "dtprelog=dtmodellog.predict(x)"
   ]
  },
  {
   "cell_type": "code",
   "execution_count": 132,
   "id": "3c14c6fc",
   "metadata": {},
   "outputs": [],
   "source": [
    "dtprelog=np.exp(dtprelog)"
   ]
  },
  {
   "cell_type": "code",
   "execution_count": 133,
   "id": "f94ad281",
   "metadata": {},
   "outputs": [],
   "source": [
    "dtreslog=y-dtprelog"
   ]
  },
  {
   "cell_type": "code",
   "execution_count": 134,
   "id": "d3ad0d19",
   "metadata": {},
   "outputs": [
    {
     "data": {
      "text/plain": [
       "220.11060884772488"
      ]
     },
     "execution_count": 134,
     "metadata": {},
     "output_type": "execute_result"
    }
   ],
   "source": [
    "np.sqrt(np.mean(dtreslog**2))"
   ]
  },
  {
   "cell_type": "markdown",
   "id": "176264d9",
   "metadata": {},
   "source": [
    "# RandomForestRegressor"
   ]
  },
  {
   "cell_type": "raw",
   "id": "f5480041",
   "metadata": {},
   "source": [
    "Every decision tree has high variance, but when we combine all of them together in parallel then the resultant variance is low as each decision tree gets perfectly trained on that particular sample data and hence the output doesn’t depend on one decision tree but multiple decision trees. In the case of a classification problem, the final output is taken by using the majority voting classifier. In the case of a regression problem, the final output is the mean of all the outputs. This part is Aggregation. "
   ]
  },
  {
   "cell_type": "code",
   "execution_count": 135,
   "id": "c2a0ddaa",
   "metadata": {},
   "outputs": [],
   "source": [
    "from sklearn.ensemble import RandomForestRegressor"
   ]
  },
  {
   "cell_type": "code",
   "execution_count": 136,
   "id": "e63640fa",
   "metadata": {},
   "outputs": [],
   "source": [
    "rf=RandomForestRegressor(max_depth=5,n_estimators=50)"
   ]
  },
  {
   "cell_type": "code",
   "execution_count": 137,
   "id": "c56a0d0b",
   "metadata": {},
   "outputs": [],
   "source": [
    "rfmodel=rf.fit(x,y)"
   ]
  },
  {
   "cell_type": "code",
   "execution_count": 138,
   "id": "a59e6e32",
   "metadata": {},
   "outputs": [
    {
     "data": {
      "text/plain": [
       "0.869528943670689"
      ]
     },
     "execution_count": 138,
     "metadata": {},
     "output_type": "execute_result"
    }
   ],
   "source": [
    "rfmodel.score(x,y)"
   ]
  },
  {
   "cell_type": "code",
   "execution_count": 139,
   "id": "54367c0f",
   "metadata": {},
   "outputs": [
    {
     "data": {
      "text/plain": [
       "array([0.82360812, 0.84890219, 0.85433574, 0.86287671, 0.85473209])"
      ]
     },
     "execution_count": 139,
     "metadata": {},
     "output_type": "execute_result"
    }
   ],
   "source": [
    "cross_val_score(rfmodel,x,y)"
   ]
  },
  {
   "cell_type": "code",
   "execution_count": 140,
   "id": "93cb6dc1",
   "metadata": {},
   "outputs": [
    {
     "data": {
      "text/plain": [
       "0.8484266043298389"
      ]
     },
     "execution_count": 140,
     "metadata": {},
     "output_type": "execute_result"
    }
   ],
   "source": [
    "np.mean(cross_val_score(rfmodel,x,y))"
   ]
  },
  {
   "cell_type": "code",
   "execution_count": 141,
   "id": "3076955c",
   "metadata": {},
   "outputs": [],
   "source": [
    "rfmodelpre=rfmodel.predict(x)"
   ]
  },
  {
   "cell_type": "code",
   "execution_count": 142,
   "id": "1eb2067b",
   "metadata": {},
   "outputs": [],
   "source": [
    "rfres=y-rfmodelpre"
   ]
  },
  {
   "cell_type": "code",
   "execution_count": 143,
   "id": "d7c3fc52",
   "metadata": {},
   "outputs": [
    {
     "data": {
      "text/plain": [
       "219.4736449794004"
      ]
     },
     "execution_count": 143,
     "metadata": {},
     "output_type": "execute_result"
    }
   ],
   "source": [
    "np.sqrt(np.mean(rfres**2))"
   ]
  },
  {
   "cell_type": "markdown",
   "id": "94788931",
   "metadata": {},
   "source": [
    "# random forest log"
   ]
  },
  {
   "cell_type": "code",
   "execution_count": 144,
   "id": "bcfb8865",
   "metadata": {},
   "outputs": [],
   "source": [
    "rfmodellog=rf.fit(x,np.log(y))"
   ]
  },
  {
   "cell_type": "code",
   "execution_count": 145,
   "id": "68f0a607",
   "metadata": {},
   "outputs": [
    {
     "data": {
      "text/plain": [
       "0.884947541389696"
      ]
     },
     "execution_count": 145,
     "metadata": {},
     "output_type": "execute_result"
    }
   ],
   "source": [
    "rfmodellog.score(x,np.log(y))"
   ]
  },
  {
   "cell_type": "code",
   "execution_count": 146,
   "id": "6af2b031",
   "metadata": {},
   "outputs": [
    {
     "data": {
      "text/plain": [
       "array([0.88022336, 0.89302554, 0.89173504, 0.88577052, 0.86868376])"
      ]
     },
     "execution_count": 146,
     "metadata": {},
     "output_type": "execute_result"
    }
   ],
   "source": [
    "cross_val_score(rfmodellog,x,np.log(y))"
   ]
  },
  {
   "cell_type": "code",
   "execution_count": 147,
   "id": "55f3c530",
   "metadata": {},
   "outputs": [
    {
     "data": {
      "text/plain": [
       "0.8838042434439941"
      ]
     },
     "execution_count": 147,
     "metadata": {},
     "output_type": "execute_result"
    }
   ],
   "source": [
    "np.mean(cross_val_score(rfmodellog,x,np.log(y)))"
   ]
  },
  {
   "cell_type": "code",
   "execution_count": 148,
   "id": "7ba28cfd",
   "metadata": {},
   "outputs": [],
   "source": [
    "rfmodelprelog=rfmodellog.predict(x)"
   ]
  },
  {
   "cell_type": "code",
   "execution_count": 149,
   "id": "564e177b",
   "metadata": {},
   "outputs": [],
   "source": [
    "rfmodelprelog=np.exp(rfmodelprelog)"
   ]
  },
  {
   "cell_type": "code",
   "execution_count": 150,
   "id": "6fa0586b",
   "metadata": {},
   "outputs": [],
   "source": [
    "rfreslog=y-rfmodelprelog"
   ]
  },
  {
   "cell_type": "code",
   "execution_count": 151,
   "id": "e6b116e1",
   "metadata": {},
   "outputs": [
    {
     "data": {
      "text/plain": [
       "449.40447293473454"
      ]
     },
     "execution_count": 151,
     "metadata": {},
     "output_type": "execute_result"
    }
   ],
   "source": [
    "np.sqrt(np.mean(rfreslog**2))"
   ]
  },
  {
   "cell_type": "markdown",
   "id": "32e42af3",
   "metadata": {},
   "source": [
    "# gradient boosting method"
   ]
  },
  {
   "cell_type": "raw",
   "id": "c7016895",
   "metadata": {},
   "source": [
    "In Gradient Boosting, each predictor tries to improve on its predecessor by reducing the errors. But the fascinating idea behind Gradient Boosting is that instead of fitting a predictor on the data at each iteration, it actually fits a new predictor to the residual errors made by the previous predictor."
   ]
  },
  {
   "cell_type": "code",
   "execution_count": 152,
   "id": "f1bbf3b7",
   "metadata": {},
   "outputs": [],
   "source": [
    "from sklearn.ensemble import GradientBoostingRegressor"
   ]
  },
  {
   "cell_type": "code",
   "execution_count": 153,
   "id": "a879437f",
   "metadata": {},
   "outputs": [],
   "source": [
    "gbm=GradientBoostingRegressor()"
   ]
  },
  {
   "cell_type": "code",
   "execution_count": 154,
   "id": "2836f45a",
   "metadata": {},
   "outputs": [],
   "source": [
    "gbmmodel=gbm.fit(x,y)"
   ]
  },
  {
   "cell_type": "code",
   "execution_count": 155,
   "id": "2947935c",
   "metadata": {},
   "outputs": [
    {
     "data": {
      "text/plain": [
       "0.9063870367747435"
      ]
     },
     "execution_count": 155,
     "metadata": {},
     "output_type": "execute_result"
    }
   ],
   "source": [
    "gbmmodel.score(x,y)"
   ]
  },
  {
   "cell_type": "code",
   "execution_count": 156,
   "id": "7ebffcb8",
   "metadata": {},
   "outputs": [
    {
     "data": {
      "text/plain": [
       "array([0.82806042, 0.88222971, 0.87430114, 0.88872821, 0.85581507])"
      ]
     },
     "execution_count": 156,
     "metadata": {},
     "output_type": "execute_result"
    }
   ],
   "source": [
    "cross_val_score(gbmmodel,x,y)"
   ]
  },
  {
   "cell_type": "code",
   "execution_count": 157,
   "id": "73237939",
   "metadata": {},
   "outputs": [
    {
     "data": {
      "text/plain": [
       "0.8638064973899663"
      ]
     },
     "execution_count": 157,
     "metadata": {},
     "output_type": "execute_result"
    }
   ],
   "source": [
    "np.mean(cross_val_score(gbmmodel,x,y))"
   ]
  },
  {
   "cell_type": "code",
   "execution_count": 158,
   "id": "32332ab0",
   "metadata": {},
   "outputs": [],
   "source": [
    "gbmmodelpred=gbmmodel.predict(x)"
   ]
  },
  {
   "cell_type": "code",
   "execution_count": 159,
   "id": "0c0f192e",
   "metadata": {},
   "outputs": [],
   "source": [
    "gbmres=y-gbmmodelpred"
   ]
  },
  {
   "cell_type": "code",
   "execution_count": 160,
   "id": "b38a2502",
   "metadata": {},
   "outputs": [
    {
     "data": {
      "text/plain": [
       "185.90594727804734"
      ]
     },
     "execution_count": 160,
     "metadata": {},
     "output_type": "execute_result"
    }
   ],
   "source": [
    "np.sqrt(np.mean(gbmres**2))"
   ]
  },
  {
   "cell_type": "markdown",
   "id": "c61b37b0",
   "metadata": {},
   "source": [
    "# gbm model log"
   ]
  },
  {
   "cell_type": "code",
   "execution_count": 161,
   "id": "3aaf2b57",
   "metadata": {},
   "outputs": [],
   "source": [
    "gbmmodellog=gbm.fit(x,np.log(y))"
   ]
  },
  {
   "cell_type": "code",
   "execution_count": 162,
   "id": "576b0833",
   "metadata": {},
   "outputs": [
    {
     "data": {
      "text/plain": [
       "0.9091778933596482"
      ]
     },
     "execution_count": 162,
     "metadata": {},
     "output_type": "execute_result"
    }
   ],
   "source": [
    "gbmmodellog.score(x,np.log(y))"
   ]
  },
  {
   "cell_type": "code",
   "execution_count": 163,
   "id": "28d9deb2",
   "metadata": {},
   "outputs": [
    {
     "data": {
      "text/plain": [
       "array([0.89590086, 0.91088922, 0.91036863, 0.90532272, 0.88738306])"
      ]
     },
     "execution_count": 163,
     "metadata": {},
     "output_type": "execute_result"
    }
   ],
   "source": [
    "cross_val_score(gbmmodellog,x,np.log(y))"
   ]
  },
  {
   "cell_type": "code",
   "execution_count": 164,
   "id": "3b3eecdb",
   "metadata": {},
   "outputs": [
    {
     "data": {
      "text/plain": [
       "0.9020202972327311"
      ]
     },
     "execution_count": 164,
     "metadata": {},
     "output_type": "execute_result"
    }
   ],
   "source": [
    "np.mean(cross_val_score(gbmmodellog,x,np.log(y)))"
   ]
  },
  {
   "cell_type": "code",
   "execution_count": 165,
   "id": "9a1f605f",
   "metadata": {},
   "outputs": [],
   "source": [
    "gbmmodelpredlog=gbmmodellog.predict(x)"
   ]
  },
  {
   "cell_type": "code",
   "execution_count": 166,
   "id": "ef389480",
   "metadata": {},
   "outputs": [],
   "source": [
    "gbmmodelpredlog=np.exp(gbmmodelpredlog)"
   ]
  },
  {
   "cell_type": "code",
   "execution_count": 167,
   "id": "9752ce01",
   "metadata": {},
   "outputs": [],
   "source": [
    "gbmreslog=y-gbmmodelpredlog"
   ]
  },
  {
   "cell_type": "code",
   "execution_count": 168,
   "id": "62774c61",
   "metadata": {},
   "outputs": [
    {
     "data": {
      "text/plain": [
       "331.8666434888501"
      ]
     },
     "execution_count": 168,
     "metadata": {},
     "output_type": "execute_result"
    }
   ],
   "source": [
    "np.sqrt(np.mean(gbmreslog**2))"
   ]
  },
  {
   "cell_type": "markdown",
   "id": "3997a797",
   "metadata": {},
   "source": [
    "## I have one test column with sentences that I do nlp on and break into words as columns in order to build a better fitting model.\n",
    "# natural language preprocessing for test data in the "
   ]
  },
  {
   "cell_type": "code",
   "execution_count": 169,
   "id": "dacb1bf4",
   "metadata": {},
   "outputs": [],
   "source": [
    "# text column is\n",
    "text=ourdata.HCPCS_Desc"
   ]
  },
  {
   "cell_type": "code",
   "execution_count": 396,
   "id": "63fe83da",
   "metadata": {},
   "outputs": [
    {
     "data": {
      "text/html": [
       "<div>\n",
       "<style scoped>\n",
       "    .dataframe tbody tr th:only-of-type {\n",
       "        vertical-align: middle;\n",
       "    }\n",
       "\n",
       "    .dataframe tbody tr th {\n",
       "        vertical-align: top;\n",
       "    }\n",
       "\n",
       "    .dataframe thead th {\n",
       "        text-align: right;\n",
       "    }\n",
       "</style>\n",
       "<table border=\"1\" class=\"dataframe\">\n",
       "  <thead>\n",
       "    <tr style=\"text-align: right;\">\n",
       "      <th></th>\n",
       "      <th>tweet</th>\n",
       "    </tr>\n",
       "  </thead>\n",
       "  <tbody>\n",
       "    <tr>\n",
       "      <th>0</th>\n",
       "      <td>liver disease ten biochemical assays alt a mac...</td>\n",
       "    </tr>\n",
       "    <tr>\n",
       "      <th>1</th>\n",
       "      <td>test for detecting genes associated with prost...</td>\n",
       "    </tr>\n",
       "    <tr>\n",
       "      <th>2</th>\n",
       "      <td>anesthesia for procedure on salivary gland wit...</td>\n",
       "    </tr>\n",
       "    <tr>\n",
       "      <th>3</th>\n",
       "      <td>anesthesia for procedure on salivary gland wit...</td>\n",
       "    </tr>\n",
       "    <tr>\n",
       "      <th>4</th>\n",
       "      <td>anesthesia for procedure to repair lip defect ...</td>\n",
       "    </tr>\n",
       "    <tr>\n",
       "      <th>5</th>\n",
       "      <td>anesthesia for procedure on eyelid</td>\n",
       "    </tr>\n",
       "    <tr>\n",
       "      <th>6</th>\n",
       "      <td>anesthesia for procedure on eyelid</td>\n",
       "    </tr>\n",
       "    <tr>\n",
       "      <th>7</th>\n",
       "      <td>anesthesia for electric shock treatment</td>\n",
       "    </tr>\n",
       "    <tr>\n",
       "      <th>8</th>\n",
       "      <td>anesthesia for electric shock treatment</td>\n",
       "    </tr>\n",
       "    <tr>\n",
       "      <th>9</th>\n",
       "      <td>anesthesia for biopsy of external middle and i...</td>\n",
       "    </tr>\n",
       "  </tbody>\n",
       "</table>\n",
       "</div>"
      ],
      "text/plain": [
       "                                               tweet\n",
       "0  liver disease ten biochemical assays alt a mac...\n",
       "1  test for detecting genes associated with prost...\n",
       "2  anesthesia for procedure on salivary gland wit...\n",
       "3  anesthesia for procedure on salivary gland wit...\n",
       "4  anesthesia for procedure to repair lip defect ...\n",
       "5                 anesthesia for procedure on eyelid\n",
       "6                 anesthesia for procedure on eyelid\n",
       "7            anesthesia for electric shock treatment\n",
       "8            anesthesia for electric shock treatment\n",
       "9  anesthesia for biopsy of external middle and i..."
      ]
     },
     "execution_count": 396,
     "metadata": {},
     "output_type": "execute_result"
    }
   ],
   "source": [
    "text.head(10)"
   ]
  },
  {
   "cell_type": "markdown",
   "id": "993ee8fb",
   "metadata": {},
   "source": [
    "# I removed all the unwanted data digits, symbols, alphanumeric integers, and alphanumeric words using the def function. As importing re."
   ]
  },
  {
   "cell_type": "code",
   "execution_count": 171,
   "id": "871738e3",
   "metadata": {},
   "outputs": [],
   "source": [
    "import re"
   ]
  },
  {
   "cell_type": "code",
   "execution_count": 172,
   "id": "601f0186",
   "metadata": {},
   "outputs": [],
   "source": [
    "def santosh(minetext):\n",
    "    return ' '.join(re.sub(\"(@[A-Za-z0-9]+)|(#[A-Za-z0-9]+)|([^0-9A-Za-z \\t])|(\\w+:\\/\\/\\s+)|([0-9])\",\" \",minetext).split())"
   ]
  },
  {
   "cell_type": "code",
   "execution_count": 173,
   "id": "cc388809",
   "metadata": {},
   "outputs": [],
   "source": [
    "text=[str(santosh(minetext)) for minetext in text]"
   ]
  },
  {
   "cell_type": "code",
   "execution_count": 174,
   "id": "6267ea88",
   "metadata": {},
   "outputs": [],
   "source": [
    "text=pd.DataFrame(text)"
   ]
  },
  {
   "cell_type": "code",
   "execution_count": 175,
   "id": "782beaed",
   "metadata": {},
   "outputs": [],
   "source": [
    "text.columns=['tweet']"
   ]
  },
  {
   "cell_type": "code",
   "execution_count": 176,
   "id": "ac5826f4",
   "metadata": {},
   "outputs": [],
   "source": [
    "#  all the text in pur data is converted into the lower order\n",
    "text.tweet=text.tweet.str.lower()"
   ]
  },
  {
   "cell_type": "code",
   "execution_count": 177,
   "id": "824b3f48",
   "metadata": {},
   "outputs": [],
   "source": [
    "from nltk.corpus import stopwords"
   ]
  },
  {
   "cell_type": "code",
   "execution_count": 178,
   "id": "c69f7e0e",
   "metadata": {},
   "outputs": [],
   "source": [
    "#  the stopwords contains some english common words which are common in regular usage so by using it i used to remove it \n",
    "stop_words=set(stopwords.words(\"english\"))"
   ]
  },
  {
   "cell_type": "code",
   "execution_count": 179,
   "id": "4e01df74",
   "metadata": {},
   "outputs": [],
   "source": [
    "textwords=text.tweet.str.split()"
   ]
  },
  {
   "cell_type": "code",
   "execution_count": 180,
   "id": "94aa56fd",
   "metadata": {},
   "outputs": [],
   "source": [
    "textwords= text.tweet.str.findall('\\w{3,}').str.join(' ')"
   ]
  },
  {
   "cell_type": "code",
   "execution_count": 181,
   "id": "e713bbaf",
   "metadata": {},
   "outputs": [
    {
     "data": {
      "text/plain": [
       "273211"
      ]
     },
     "execution_count": 181,
     "metadata": {},
     "output_type": "execute_result"
    }
   ],
   "source": [
    "len(textwords)"
   ]
  },
  {
   "cell_type": "markdown",
   "id": "ab8299db",
   "metadata": {},
   "source": [
    "### utilising a word cloud In the graphic,I used to show some of the top counted terms."
   ]
  },
  {
   "cell_type": "code",
   "execution_count": 183,
   "id": "b8b2edb7",
   "metadata": {},
   "outputs": [],
   "source": [
    "from wordcloud import WordCloud"
   ]
  },
  {
   "cell_type": "markdown",
   "id": "bd1e0fd4",
   "metadata": {},
   "source": [
    "## The larger count word in this graphic denotes a larger size. The size of the lower count word is smaller."
   ]
  },
  {
   "cell_type": "code",
   "execution_count": 184,
   "id": "5b5aec39",
   "metadata": {},
   "outputs": [
    {
     "data": {
      "image/png": "[encoded data removed]",
      "text/plain": [
       "<Figure size 1080x720 with 1 Axes>"
      ]
     },
     "metadata": {
      "needs_background": "light"
     },
     "output_type": "display_data"
    }
   ],
   "source": [
    "wordcloud=WordCloud(width=1000,height=500,\n",
    "                    stopwords=stop_words,max_words=1000).generate(\n",
    "    str(textwords.values))\n",
    "plt.figure(figsize=(15,10))\n",
    "plt.imshow(wordcloud)\n",
    "plt.show()"
   ]
  },
  {
   "cell_type": "code",
   "execution_count": 185,
   "id": "da697c34",
   "metadata": {},
   "outputs": [],
   "source": [
    "from sklearn.feature_extraction.text import CountVectorizer"
   ]
  },
  {
   "cell_type": "markdown",
   "id": "989fa5f4",
   "metadata": {},
   "source": [
    "## I took the top 300 words from the clean text data using counter vectorizer."
   ]
  },
  {
   "cell_type": "code",
   "execution_count": 186,
   "id": "849de8c4",
   "metadata": {},
   "outputs": [],
   "source": [
    "vectorizer = CountVectorizer(stop_words=stop_words,max_features=300)"
   ]
  },
  {
   "cell_type": "code",
   "execution_count": 187,
   "id": "18924833",
   "metadata": {},
   "outputs": [],
   "source": [
    "X = vectorizer.fit_transform(textwords)"
   ]
  },
  {
   "cell_type": "code",
   "execution_count": 188,
   "id": "049a4e56",
   "metadata": {},
   "outputs": [],
   "source": [
    "maintext=pd.DataFrame(X.toarray(),columns=vectorizer.vocabulary_)"
   ]
  },
  {
   "cell_type": "code",
   "execution_count": 189,
   "id": "d68cc333",
   "metadata": {},
   "outputs": [
    {
     "data": {
      "text/plain": [
       "Index(['Rndrng_Prvdr_Geo_Lvl', 'Rndrng_Prvdr_Geo_Cd', 'Rndrng_Prvdr_Geo_Desc',\n",
       "       'HCPCS_Cd', 'HCPCS_Desc', 'HCPCS_Drug_Ind', 'Place_Of_Srvc'],\n",
       "      dtype='object')"
      ]
     },
     "execution_count": 189,
     "metadata": {},
     "output_type": "execute_result"
    }
   ],
   "source": [
    "objdummy.columns"
   ]
  },
  {
   "cell_type": "code",
   "execution_count": 190,
   "id": "f377d391",
   "metadata": {},
   "outputs": [],
   "source": [
    "#  removing the test column from the data to add our nlp procesed text columns.\n",
    "objdummy=objdummy.drop(['HCPCS_Desc'],axis=1)"
   ]
  },
  {
   "cell_type": "code",
   "execution_count": 191,
   "id": "a0241c57",
   "metadata": {},
   "outputs": [
    {
     "data": {
      "text/plain": [
       "(273211, 300)"
      ]
     },
     "execution_count": 191,
     "metadata": {},
     "output_type": "execute_result"
    }
   ],
   "source": [
    "maintext.shape"
   ]
  },
  {
   "cell_type": "code",
   "execution_count": 397,
   "id": "cd59fd8b",
   "metadata": {},
   "outputs": [
    {
     "data": {
      "text/html": [
       "<div>\n",
       "<style scoped>\n",
       "    .dataframe tbody tr th:only-of-type {\n",
       "        vertical-align: middle;\n",
       "    }\n",
       "\n",
       "    .dataframe tbody tr th {\n",
       "        vertical-align: top;\n",
       "    }\n",
       "\n",
       "    .dataframe thead th {\n",
       "        text-align: right;\n",
       "    }\n",
       "</style>\n",
       "<table border=\"1\" class=\"dataframe\">\n",
       "  <thead>\n",
       "    <tr style=\"text-align: right;\">\n",
       "      <th></th>\n",
       "      <th>liver</th>\n",
       "      <th>total</th>\n",
       "      <th>test</th>\n",
       "      <th>prostate</th>\n",
       "      <th>cancer</th>\n",
       "      <th>urine</th>\n",
       "      <th>anesthesia</th>\n",
       "      <th>procedure</th>\n",
       "      <th>gland</th>\n",
       "      <th>biopsy</th>\n",
       "      <th>...</th>\n",
       "      <th>observation</th>\n",
       "      <th>programming</th>\n",
       "      <th>qualified</th>\n",
       "      <th>professional</th>\n",
       "      <th>nursing</th>\n",
       "      <th>facility</th>\n",
       "      <th>typically</th>\n",
       "      <th>office</th>\n",
       "      <th>initial</th>\n",
       "      <th>subsequent</th>\n",
       "    </tr>\n",
       "  </thead>\n",
       "  <tbody>\n",
       "    <tr>\n",
       "      <th>0</th>\n",
       "      <td>0</td>\n",
       "      <td>0</td>\n",
       "      <td>0</td>\n",
       "      <td>0</td>\n",
       "      <td>0</td>\n",
       "      <td>0</td>\n",
       "      <td>0</td>\n",
       "      <td>0</td>\n",
       "      <td>0</td>\n",
       "      <td>0</td>\n",
       "      <td>...</td>\n",
       "      <td>0</td>\n",
       "      <td>0</td>\n",
       "      <td>0</td>\n",
       "      <td>0</td>\n",
       "      <td>0</td>\n",
       "      <td>0</td>\n",
       "      <td>0</td>\n",
       "      <td>0</td>\n",
       "      <td>0</td>\n",
       "      <td>0</td>\n",
       "    </tr>\n",
       "    <tr>\n",
       "      <th>1</th>\n",
       "      <td>0</td>\n",
       "      <td>0</td>\n",
       "      <td>0</td>\n",
       "      <td>0</td>\n",
       "      <td>0</td>\n",
       "      <td>0</td>\n",
       "      <td>0</td>\n",
       "      <td>0</td>\n",
       "      <td>0</td>\n",
       "      <td>0</td>\n",
       "      <td>...</td>\n",
       "      <td>0</td>\n",
       "      <td>0</td>\n",
       "      <td>0</td>\n",
       "      <td>0</td>\n",
       "      <td>0</td>\n",
       "      <td>0</td>\n",
       "      <td>0</td>\n",
       "      <td>0</td>\n",
       "      <td>0</td>\n",
       "      <td>0</td>\n",
       "    </tr>\n",
       "    <tr>\n",
       "      <th>2</th>\n",
       "      <td>0</td>\n",
       "      <td>0</td>\n",
       "      <td>0</td>\n",
       "      <td>0</td>\n",
       "      <td>0</td>\n",
       "      <td>0</td>\n",
       "      <td>0</td>\n",
       "      <td>0</td>\n",
       "      <td>0</td>\n",
       "      <td>0</td>\n",
       "      <td>...</td>\n",
       "      <td>0</td>\n",
       "      <td>0</td>\n",
       "      <td>0</td>\n",
       "      <td>0</td>\n",
       "      <td>0</td>\n",
       "      <td>0</td>\n",
       "      <td>0</td>\n",
       "      <td>0</td>\n",
       "      <td>0</td>\n",
       "      <td>0</td>\n",
       "    </tr>\n",
       "    <tr>\n",
       "      <th>3</th>\n",
       "      <td>0</td>\n",
       "      <td>0</td>\n",
       "      <td>0</td>\n",
       "      <td>0</td>\n",
       "      <td>0</td>\n",
       "      <td>0</td>\n",
       "      <td>0</td>\n",
       "      <td>0</td>\n",
       "      <td>0</td>\n",
       "      <td>0</td>\n",
       "      <td>...</td>\n",
       "      <td>0</td>\n",
       "      <td>0</td>\n",
       "      <td>0</td>\n",
       "      <td>0</td>\n",
       "      <td>0</td>\n",
       "      <td>0</td>\n",
       "      <td>0</td>\n",
       "      <td>0</td>\n",
       "      <td>0</td>\n",
       "      <td>0</td>\n",
       "    </tr>\n",
       "    <tr>\n",
       "      <th>4</th>\n",
       "      <td>0</td>\n",
       "      <td>0</td>\n",
       "      <td>0</td>\n",
       "      <td>0</td>\n",
       "      <td>0</td>\n",
       "      <td>0</td>\n",
       "      <td>0</td>\n",
       "      <td>0</td>\n",
       "      <td>0</td>\n",
       "      <td>0</td>\n",
       "      <td>...</td>\n",
       "      <td>0</td>\n",
       "      <td>0</td>\n",
       "      <td>0</td>\n",
       "      <td>0</td>\n",
       "      <td>0</td>\n",
       "      <td>0</td>\n",
       "      <td>0</td>\n",
       "      <td>0</td>\n",
       "      <td>0</td>\n",
       "      <td>0</td>\n",
       "    </tr>\n",
       "    <tr>\n",
       "      <th>5</th>\n",
       "      <td>0</td>\n",
       "      <td>0</td>\n",
       "      <td>0</td>\n",
       "      <td>0</td>\n",
       "      <td>0</td>\n",
       "      <td>0</td>\n",
       "      <td>0</td>\n",
       "      <td>0</td>\n",
       "      <td>0</td>\n",
       "      <td>0</td>\n",
       "      <td>...</td>\n",
       "      <td>0</td>\n",
       "      <td>0</td>\n",
       "      <td>0</td>\n",
       "      <td>0</td>\n",
       "      <td>0</td>\n",
       "      <td>0</td>\n",
       "      <td>0</td>\n",
       "      <td>0</td>\n",
       "      <td>0</td>\n",
       "      <td>0</td>\n",
       "    </tr>\n",
       "    <tr>\n",
       "      <th>6</th>\n",
       "      <td>0</td>\n",
       "      <td>0</td>\n",
       "      <td>0</td>\n",
       "      <td>0</td>\n",
       "      <td>0</td>\n",
       "      <td>0</td>\n",
       "      <td>0</td>\n",
       "      <td>0</td>\n",
       "      <td>0</td>\n",
       "      <td>0</td>\n",
       "      <td>...</td>\n",
       "      <td>0</td>\n",
       "      <td>0</td>\n",
       "      <td>0</td>\n",
       "      <td>0</td>\n",
       "      <td>0</td>\n",
       "      <td>0</td>\n",
       "      <td>0</td>\n",
       "      <td>0</td>\n",
       "      <td>0</td>\n",
       "      <td>0</td>\n",
       "    </tr>\n",
       "    <tr>\n",
       "      <th>7</th>\n",
       "      <td>0</td>\n",
       "      <td>0</td>\n",
       "      <td>0</td>\n",
       "      <td>0</td>\n",
       "      <td>0</td>\n",
       "      <td>0</td>\n",
       "      <td>0</td>\n",
       "      <td>0</td>\n",
       "      <td>0</td>\n",
       "      <td>0</td>\n",
       "      <td>...</td>\n",
       "      <td>0</td>\n",
       "      <td>0</td>\n",
       "      <td>0</td>\n",
       "      <td>0</td>\n",
       "      <td>0</td>\n",
       "      <td>0</td>\n",
       "      <td>0</td>\n",
       "      <td>0</td>\n",
       "      <td>0</td>\n",
       "      <td>0</td>\n",
       "    </tr>\n",
       "    <tr>\n",
       "      <th>8</th>\n",
       "      <td>0</td>\n",
       "      <td>0</td>\n",
       "      <td>0</td>\n",
       "      <td>0</td>\n",
       "      <td>0</td>\n",
       "      <td>0</td>\n",
       "      <td>0</td>\n",
       "      <td>0</td>\n",
       "      <td>0</td>\n",
       "      <td>0</td>\n",
       "      <td>...</td>\n",
       "      <td>0</td>\n",
       "      <td>0</td>\n",
       "      <td>0</td>\n",
       "      <td>0</td>\n",
       "      <td>0</td>\n",
       "      <td>0</td>\n",
       "      <td>0</td>\n",
       "      <td>0</td>\n",
       "      <td>0</td>\n",
       "      <td>0</td>\n",
       "    </tr>\n",
       "    <tr>\n",
       "      <th>9</th>\n",
       "      <td>0</td>\n",
       "      <td>0</td>\n",
       "      <td>0</td>\n",
       "      <td>0</td>\n",
       "      <td>0</td>\n",
       "      <td>0</td>\n",
       "      <td>0</td>\n",
       "      <td>0</td>\n",
       "      <td>0</td>\n",
       "      <td>0</td>\n",
       "      <td>...</td>\n",
       "      <td>0</td>\n",
       "      <td>0</td>\n",
       "      <td>0</td>\n",
       "      <td>0</td>\n",
       "      <td>0</td>\n",
       "      <td>0</td>\n",
       "      <td>0</td>\n",
       "      <td>0</td>\n",
       "      <td>0</td>\n",
       "      <td>0</td>\n",
       "    </tr>\n",
       "  </tbody>\n",
       "</table>\n",
       "<p>10 rows × 300 columns</p>\n",
       "</div>"
      ],
      "text/plain": [
       "   liver  total  test  prostate  cancer  urine  anesthesia  procedure  gland  \\\n",
       "0      0      0     0         0       0      0           0          0      0   \n",
       "1      0      0     0         0       0      0           0          0      0   \n",
       "2      0      0     0         0       0      0           0          0      0   \n",
       "3      0      0     0         0       0      0           0          0      0   \n",
       "4      0      0     0         0       0      0           0          0      0   \n",
       "5      0      0     0         0       0      0           0          0      0   \n",
       "6      0      0     0         0       0      0           0          0      0   \n",
       "7      0      0     0         0       0      0           0          0      0   \n",
       "8      0      0     0         0       0      0           0          0      0   \n",
       "9      0      0     0         0       0      0           0          0      0   \n",
       "\n",
       "   biopsy  ...  observation  programming  qualified  professional  nursing  \\\n",
       "0       0  ...            0            0          0             0        0   \n",
       "1       0  ...            0            0          0             0        0   \n",
       "2       0  ...            0            0          0             0        0   \n",
       "3       0  ...            0            0          0             0        0   \n",
       "4       0  ...            0            0          0             0        0   \n",
       "5       0  ...            0            0          0             0        0   \n",
       "6       0  ...            0            0          0             0        0   \n",
       "7       0  ...            0            0          0             0        0   \n",
       "8       0  ...            0            0          0             0        0   \n",
       "9       0  ...            0            0          0             0        0   \n",
       "\n",
       "   facility  typically  office  initial  subsequent  \n",
       "0         0          0       0        0           0  \n",
       "1         0          0       0        0           0  \n",
       "2         0          0       0        0           0  \n",
       "3         0          0       0        0           0  \n",
       "4         0          0       0        0           0  \n",
       "5         0          0       0        0           0  \n",
       "6         0          0       0        0           0  \n",
       "7         0          0       0        0           0  \n",
       "8         0          0       0        0           0  \n",
       "9         0          0       0        0           0  \n",
       "\n",
       "[10 rows x 300 columns]"
      ]
     },
     "execution_count": 397,
     "metadata": {},
     "output_type": "execute_result"
    }
   ],
   "source": [
    "maintext.head(10)"
   ]
  },
  {
   "cell_type": "code",
   "execution_count": 193,
   "id": "49aef915",
   "metadata": {},
   "outputs": [],
   "source": [
    "#  adding all the data.\n",
    "npltextcleandata=pd.concat([inte,objdummy,maintext],axis=1)"
   ]
  },
  {
   "cell_type": "code",
   "execution_count": 194,
   "id": "c4fd1bcc",
   "metadata": {},
   "outputs": [
    {
     "data": {
      "text/plain": [
       "(273211, 312)"
      ]
     },
     "execution_count": 194,
     "metadata": {},
     "output_type": "execute_result"
    }
   ],
   "source": [
    "npltextcleandata.shape"
   ]
  },
  {
   "cell_type": "code",
   "execution_count": 195,
   "id": "f235d302",
   "metadata": {},
   "outputs": [],
   "source": [
    "yy=npltextcleandata.Avg_Mdcr_Stdzd_Amt"
   ]
  },
  {
   "cell_type": "code",
   "execution_count": 196,
   "id": "d615f85f",
   "metadata": {},
   "outputs": [],
   "source": [
    "xx=npltextcleandata.drop([\"Avg_Mdcr_Stdzd_Amt\"],axis=1)"
   ]
  },
  {
   "cell_type": "code",
   "execution_count": 197,
   "id": "bd436a7f",
   "metadata": {},
   "outputs": [
    {
     "data": {
      "text/plain": [
       "(273211,)"
      ]
     },
     "execution_count": 197,
     "metadata": {},
     "output_type": "execute_result"
    }
   ],
   "source": [
    "yy.shape"
   ]
  },
  {
   "cell_type": "code",
   "execution_count": 198,
   "id": "25a87bed",
   "metadata": {},
   "outputs": [
    {
     "data": {
      "text/plain": [
       "(273211, 311)"
      ]
     },
     "execution_count": 198,
     "metadata": {},
     "output_type": "execute_result"
    }
   ],
   "source": [
    "xx.shape"
   ]
  },
  {
   "cell_type": "markdown",
   "id": "b6cf8884",
   "metadata": {},
   "source": [
    "# model prediction"
   ]
  },
  {
   "cell_type": "markdown",
   "id": "bc786861",
   "metadata": {},
   "source": [
    "# linear regression"
   ]
  },
  {
   "cell_type": "code",
   "execution_count": 199,
   "id": "e17af5bc",
   "metadata": {},
   "outputs": [],
   "source": [
    "nlplrmodel=lr.fit(xx,yy)"
   ]
  },
  {
   "cell_type": "code",
   "execution_count": 200,
   "id": "e512909d",
   "metadata": {},
   "outputs": [
    {
     "data": {
      "text/plain": [
       "0.6464709447408222"
      ]
     },
     "execution_count": 200,
     "metadata": {},
     "output_type": "execute_result"
    }
   ],
   "source": [
    "nlplrmodel.score(xx,yy)"
   ]
  },
  {
   "cell_type": "code",
   "execution_count": 201,
   "id": "ade79da3",
   "metadata": {},
   "outputs": [
    {
     "data": {
      "text/plain": [
       "array([-1.32063776e+13,  6.51944981e-01,  6.91489639e-01,  5.97013603e-01,\n",
       "        6.13096419e-01])"
      ]
     },
     "execution_count": 201,
     "metadata": {},
     "output_type": "execute_result"
    }
   ],
   "source": [
    "cross_val_score(nlplrmodel,xx,yy)"
   ]
  },
  {
   "cell_type": "code",
   "execution_count": 202,
   "id": "82d9bffe",
   "metadata": {},
   "outputs": [
    {
     "data": {
      "text/plain": [
       "-2641275512822.3047"
      ]
     },
     "execution_count": 202,
     "metadata": {},
     "output_type": "execute_result"
    }
   ],
   "source": [
    "np.mean(cross_val_score(nlplrmodel,xx,yy))"
   ]
  },
  {
   "cell_type": "code",
   "execution_count": 203,
   "id": "464f4942",
   "metadata": {},
   "outputs": [],
   "source": [
    "nlplrmodelpre=nlplrmodel.predict(xx)"
   ]
  },
  {
   "cell_type": "code",
   "execution_count": 204,
   "id": "4ad05f03",
   "metadata": {},
   "outputs": [],
   "source": [
    "nlpres=y-nlplrmodelpre"
   ]
  },
  {
   "cell_type": "code",
   "execution_count": 205,
   "id": "a95e8946",
   "metadata": {},
   "outputs": [
    {
     "data": {
      "text/plain": [
       "361.2749448789643"
      ]
     },
     "execution_count": 205,
     "metadata": {},
     "output_type": "execute_result"
    }
   ],
   "source": [
    "np.sqrt(np.mean(nlpres**2))"
   ]
  },
  {
   "cell_type": "markdown",
   "id": "8ec2defb",
   "metadata": {},
   "source": [
    "# linear log"
   ]
  },
  {
   "cell_type": "code",
   "execution_count": 206,
   "id": "f90b18a1",
   "metadata": {},
   "outputs": [],
   "source": [
    "nlplrmodellog=lr.fit(xx,np.log(yy))"
   ]
  },
  {
   "cell_type": "code",
   "execution_count": 207,
   "id": "6e389d68",
   "metadata": {},
   "outputs": [
    {
     "data": {
      "text/plain": [
       "0.6729075396570277"
      ]
     },
     "execution_count": 207,
     "metadata": {},
     "output_type": "execute_result"
    }
   ],
   "source": [
    "nlplrmodellog.score(xx,np.log(yy))"
   ]
  },
  {
   "cell_type": "code",
   "execution_count": 208,
   "id": "cbea7820",
   "metadata": {},
   "outputs": [
    {
     "data": {
      "text/plain": [
       "array([-7.43092835e+11,  6.79413661e-01,  6.76162059e-01,  6.68973109e-01,\n",
       "        6.64520190e-01])"
      ]
     },
     "execution_count": 208,
     "metadata": {},
     "output_type": "execute_result"
    }
   ],
   "source": [
    "cross_val_score(nlplrmodellog,xx,np.log(yy))"
   ]
  },
  {
   "cell_type": "code",
   "execution_count": 209,
   "id": "bc76e021",
   "metadata": {},
   "outputs": [
    {
     "data": {
      "text/plain": [
       "-148618566976.00174"
      ]
     },
     "execution_count": 209,
     "metadata": {},
     "output_type": "execute_result"
    }
   ],
   "source": [
    "np.mean(cross_val_score(nlplrmodellog,xx,np.log(yy)))"
   ]
  },
  {
   "cell_type": "code",
   "execution_count": 210,
   "id": "0a5efee1",
   "metadata": {},
   "outputs": [],
   "source": [
    "nlplrmodelprelog=nlplrmodellog.predict(xx)"
   ]
  },
  {
   "cell_type": "code",
   "execution_count": 211,
   "id": "46537fb6",
   "metadata": {},
   "outputs": [],
   "source": [
    "nlplrmodelprelog=np.exp(nlplrmodelprelog)"
   ]
  },
  {
   "cell_type": "code",
   "execution_count": 212,
   "id": "a81ff3a7",
   "metadata": {},
   "outputs": [],
   "source": [
    "nlpreslog=y-nlplrmodelprelog"
   ]
  },
  {
   "cell_type": "code",
   "execution_count": 213,
   "id": "eeca6cf8",
   "metadata": {},
   "outputs": [
    {
     "data": {
      "text/plain": [
       "507612549.6947609"
      ]
     },
     "execution_count": 213,
     "metadata": {},
     "output_type": "execute_result"
    }
   ],
   "source": [
    "np.sqrt(np.mean(nlpreslog**2))"
   ]
  },
  {
   "cell_type": "markdown",
   "id": "3f623c75",
   "metadata": {},
   "source": [
    "# decission treee"
   ]
  },
  {
   "cell_type": "code",
   "execution_count": 214,
   "id": "99a18b7b",
   "metadata": {},
   "outputs": [],
   "source": [
    "nlpdtmodel=dt.fit(xx,yy)"
   ]
  },
  {
   "cell_type": "code",
   "execution_count": 215,
   "id": "dbd7cdb9",
   "metadata": {},
   "outputs": [
    {
     "data": {
      "text/plain": [
       "0.9235490222634257"
      ]
     },
     "execution_count": 215,
     "metadata": {},
     "output_type": "execute_result"
    }
   ],
   "source": [
    "nlpdtmodel.score(xx,yy)"
   ]
  },
  {
   "cell_type": "code",
   "execution_count": 216,
   "id": "a9dcb7e4",
   "metadata": {},
   "outputs": [
    {
     "data": {
      "text/plain": [
       "array([0.84503513, 0.92000415, 0.92021342, 0.8992102 , 0.89609184])"
      ]
     },
     "execution_count": 216,
     "metadata": {},
     "output_type": "execute_result"
    }
   ],
   "source": [
    "cross_val_score(nlpdtmodel,xx,yy)"
   ]
  },
  {
   "cell_type": "code",
   "execution_count": 217,
   "id": "07b339d2",
   "metadata": {},
   "outputs": [
    {
     "data": {
      "text/plain": [
       "0.8887047208486857"
      ]
     },
     "execution_count": 217,
     "metadata": {},
     "output_type": "execute_result"
    }
   ],
   "source": [
    "np.mean(cross_val_score(nlpdtmodel,xx,yy))"
   ]
  },
  {
   "cell_type": "code",
   "execution_count": 218,
   "id": "a4e66b2f",
   "metadata": {},
   "outputs": [],
   "source": [
    "nlpdtmodelpre=nlpdtmodel.predict(xx)"
   ]
  },
  {
   "cell_type": "code",
   "execution_count": 219,
   "id": "a2009b8a",
   "metadata": {},
   "outputs": [],
   "source": [
    "nlpdtres=y-nlpdtmodelpre"
   ]
  },
  {
   "cell_type": "code",
   "execution_count": 220,
   "id": "082c52df",
   "metadata": {},
   "outputs": [
    {
     "data": {
      "text/plain": [
       "168.00291187543024"
      ]
     },
     "execution_count": 220,
     "metadata": {},
     "output_type": "execute_result"
    }
   ],
   "source": [
    "np.sqrt(np.mean(nlpdtres**2))"
   ]
  },
  {
   "cell_type": "markdown",
   "id": "fc171778",
   "metadata": {},
   "source": [
    "# decission tree log"
   ]
  },
  {
   "cell_type": "code",
   "execution_count": 221,
   "id": "cce430f3",
   "metadata": {},
   "outputs": [],
   "source": [
    "nlpdtmodellog=dt.fit(xx,np.log(yy))"
   ]
  },
  {
   "cell_type": "code",
   "execution_count": 222,
   "id": "14aed4e9",
   "metadata": {},
   "outputs": [
    {
     "data": {
      "text/plain": [
       "0.9113085617444888"
      ]
     },
     "execution_count": 222,
     "metadata": {},
     "output_type": "execute_result"
    }
   ],
   "source": [
    "nlpdtmodellog.score(xx,np.log(yy))"
   ]
  },
  {
   "cell_type": "code",
   "execution_count": 223,
   "id": "fb4a1220",
   "metadata": {},
   "outputs": [
    {
     "data": {
      "text/plain": [
       "array([0.89461262, 0.91529673, 0.91316565, 0.90871922, 0.89479215])"
      ]
     },
     "execution_count": 223,
     "metadata": {},
     "output_type": "execute_result"
    }
   ],
   "source": [
    "cross_val_score(nlpdtmodellog,xx,np.log(yy))"
   ]
  },
  {
   "cell_type": "code",
   "execution_count": 224,
   "id": "579897d4",
   "metadata": {},
   "outputs": [
    {
     "data": {
      "text/plain": [
       "0.9052917377007835"
      ]
     },
     "execution_count": 224,
     "metadata": {},
     "output_type": "execute_result"
    }
   ],
   "source": [
    "np.mean(cross_val_score(nlpdtmodellog,xx,np.log(yy)))"
   ]
  },
  {
   "cell_type": "code",
   "execution_count": 225,
   "id": "c59b76fb",
   "metadata": {},
   "outputs": [],
   "source": [
    "nlpdtmodelprelog=nlpdtmodellog.predict(xx)"
   ]
  },
  {
   "cell_type": "code",
   "execution_count": 226,
   "id": "0d4485a8",
   "metadata": {},
   "outputs": [],
   "source": [
    "nlpdtmodelprelog=np.exp(nlpdtmodelprelog)"
   ]
  },
  {
   "cell_type": "code",
   "execution_count": 390,
   "id": "a12a9433",
   "metadata": {},
   "outputs": [],
   "source": [
    "nlpdtreslog=y-nlpdtmodelprelog"
   ]
  },
  {
   "cell_type": "code",
   "execution_count": 228,
   "id": "5f9853e5",
   "metadata": {},
   "outputs": [
    {
     "data": {
      "text/plain": [
       "206.37069872937522"
      ]
     },
     "execution_count": 228,
     "metadata": {},
     "output_type": "execute_result"
    }
   ],
   "source": [
    "np.sqrt(np.mean(nlpdtreslog**2))"
   ]
  },
  {
   "cell_type": "markdown",
   "id": "37731426",
   "metadata": {},
   "source": [
    "# randorm foreset"
   ]
  },
  {
   "cell_type": "code",
   "execution_count": 229,
   "id": "ba187d20",
   "metadata": {},
   "outputs": [],
   "source": [
    "nlprfmodel=rf.fit(xx,yy)"
   ]
  },
  {
   "cell_type": "code",
   "execution_count": 230,
   "id": "110e3a77",
   "metadata": {},
   "outputs": [
    {
     "data": {
      "text/plain": [
       "0.8697293052362143"
      ]
     },
     "execution_count": 230,
     "metadata": {},
     "output_type": "execute_result"
    }
   ],
   "source": [
    "nlprfmodel.score(xx,yy)"
   ]
  },
  {
   "cell_type": "code",
   "execution_count": 231,
   "id": "f99fe009",
   "metadata": {},
   "outputs": [
    {
     "data": {
      "text/plain": [
       "array([0.82394959, 0.84997214, 0.85098587, 0.87031169, 0.85150652])"
      ]
     },
     "execution_count": 231,
     "metadata": {},
     "output_type": "execute_result"
    }
   ],
   "source": [
    "cross_val_score(nlprfmodel,xx,yy)"
   ]
  },
  {
   "cell_type": "code",
   "execution_count": 232,
   "id": "d760db25",
   "metadata": {},
   "outputs": [
    {
     "data": {
      "text/plain": [
       "0.8493317595462994"
      ]
     },
     "execution_count": 232,
     "metadata": {},
     "output_type": "execute_result"
    }
   ],
   "source": [
    "np.mean(cross_val_score(nlprfmodel,xx,yy))"
   ]
  },
  {
   "cell_type": "code",
   "execution_count": 233,
   "id": "f3757acf",
   "metadata": {},
   "outputs": [],
   "source": [
    "nlprfmodelpre=nlprfmodel.predict(xx)"
   ]
  },
  {
   "cell_type": "code",
   "execution_count": 234,
   "id": "3f9dcd1b",
   "metadata": {},
   "outputs": [],
   "source": [
    "nlprespre=y-nlprfmodelpre"
   ]
  },
  {
   "cell_type": "code",
   "execution_count": 235,
   "id": "fa0562d4",
   "metadata": {},
   "outputs": [
    {
     "data": {
      "text/plain": [
       "219.3050597781107"
      ]
     },
     "execution_count": 235,
     "metadata": {},
     "output_type": "execute_result"
    }
   ],
   "source": [
    "np.sqrt(np.mean(nlprespre**2))"
   ]
  },
  {
   "cell_type": "markdown",
   "id": "8e006ff1",
   "metadata": {},
   "source": [
    "# rf model log"
   ]
  },
  {
   "cell_type": "code",
   "execution_count": 236,
   "id": "86dec7c4",
   "metadata": {},
   "outputs": [],
   "source": [
    "nlprfmodellog=rf.fit(xx,np.log(yy))"
   ]
  },
  {
   "cell_type": "code",
   "execution_count": 237,
   "id": "74ed72fa",
   "metadata": {},
   "outputs": [
    {
     "data": {
      "text/plain": [
       "0.885374596204954"
      ]
     },
     "execution_count": 237,
     "metadata": {},
     "output_type": "execute_result"
    }
   ],
   "source": [
    "nlprfmodellog.score(xx,np.log(yy))"
   ]
  },
  {
   "cell_type": "code",
   "execution_count": 238,
   "id": "42046c92",
   "metadata": {},
   "outputs": [
    {
     "data": {
      "text/plain": [
       "array([0.88044902, 0.89362495, 0.89244599, 0.8862696 , 0.86927005])"
      ]
     },
     "execution_count": 238,
     "metadata": {},
     "output_type": "execute_result"
    }
   ],
   "source": [
    "cross_val_score(nlprfmodellog,xx,np.log(yy))"
   ]
  },
  {
   "cell_type": "code",
   "execution_count": 239,
   "id": "af3fa586",
   "metadata": {},
   "outputs": [
    {
     "data": {
      "text/plain": [
       "0.8843749543844943"
      ]
     },
     "execution_count": 239,
     "metadata": {},
     "output_type": "execute_result"
    }
   ],
   "source": [
    "np.mean(cross_val_score(nlprfmodellog,xx,np.log(yy)))"
   ]
  },
  {
   "cell_type": "code",
   "execution_count": 240,
   "id": "f17a922d",
   "metadata": {},
   "outputs": [],
   "source": [
    "nlprfmodelprelog=nlprfmodellog.predict(xx)"
   ]
  },
  {
   "cell_type": "code",
   "execution_count": 241,
   "id": "31988cee",
   "metadata": {},
   "outputs": [],
   "source": [
    "nlprfmodelprelog=np.exp(nlprfmodelprelog)"
   ]
  },
  {
   "cell_type": "code",
   "execution_count": 242,
   "id": "e466e412",
   "metadata": {},
   "outputs": [],
   "source": [
    "nlpresprelog=y-nlprfmodelprelog"
   ]
  },
  {
   "cell_type": "code",
   "execution_count": 243,
   "id": "6d22c775",
   "metadata": {},
   "outputs": [
    {
     "data": {
      "text/plain": [
       "449.44871938344426"
      ]
     },
     "execution_count": 243,
     "metadata": {},
     "output_type": "execute_result"
    }
   ],
   "source": [
    "np.sqrt(np.mean(nlpresprelog**2))"
   ]
  },
  {
   "cell_type": "markdown",
   "id": "57b996a0",
   "metadata": {},
   "source": [
    "# gradient boosting method"
   ]
  },
  {
   "cell_type": "code",
   "execution_count": 244,
   "id": "982f0bba",
   "metadata": {},
   "outputs": [],
   "source": [
    "nlpgbmmodel=gbm.fit(xx,yy)"
   ]
  },
  {
   "cell_type": "code",
   "execution_count": 245,
   "id": "542e761a",
   "metadata": {},
   "outputs": [
    {
     "data": {
      "text/plain": [
       "0.9070254590364055"
      ]
     },
     "execution_count": 245,
     "metadata": {},
     "output_type": "execute_result"
    }
   ],
   "source": [
    "nlpgbmmodel.score(xx,yy)"
   ]
  },
  {
   "cell_type": "code",
   "execution_count": 246,
   "id": "c1add628",
   "metadata": {},
   "outputs": [
    {
     "data": {
      "text/plain": [
       "array([0.83333091, 0.89235212, 0.89423497, 0.89755932, 0.86615981])"
      ]
     },
     "execution_count": 246,
     "metadata": {},
     "output_type": "execute_result"
    }
   ],
   "source": [
    "cross_val_score(nlpgbmmodel,xx,yy)"
   ]
  },
  {
   "cell_type": "code",
   "execution_count": 247,
   "id": "11bb32aa",
   "metadata": {},
   "outputs": [
    {
     "data": {
      "text/plain": [
       "0.8779228941107868"
      ]
     },
     "execution_count": 247,
     "metadata": {},
     "output_type": "execute_result"
    }
   ],
   "source": [
    "np.mean(cross_val_score(nlpgbmmodel,xx,yy))"
   ]
  },
  {
   "cell_type": "code",
   "execution_count": 248,
   "id": "8d641cf6",
   "metadata": {},
   "outputs": [],
   "source": [
    "nlpgbmodelpre=nlpgbmmodel.predict(xx)"
   ]
  },
  {
   "cell_type": "code",
   "execution_count": 249,
   "id": "fa467f57",
   "metadata": {},
   "outputs": [],
   "source": [
    "nlpgbmres=y-nlpgbmodelpre"
   ]
  },
  {
   "cell_type": "code",
   "execution_count": 250,
   "id": "c0dd8ca0",
   "metadata": {},
   "outputs": [
    {
     "data": {
      "text/plain": [
       "185.2709415111702"
      ]
     },
     "execution_count": 250,
     "metadata": {},
     "output_type": "execute_result"
    }
   ],
   "source": [
    "np.sqrt(np.mean(nlpgbmres**2))"
   ]
  },
  {
   "cell_type": "markdown",
   "id": "5062a2fb",
   "metadata": {},
   "source": [
    "# gradient bossting method log"
   ]
  },
  {
   "cell_type": "code",
   "execution_count": 251,
   "id": "a7704eed",
   "metadata": {},
   "outputs": [],
   "source": [
    "nlpgbmmodellog=gbm.fit(xx,np.log(yy))"
   ]
  },
  {
   "cell_type": "code",
   "execution_count": 252,
   "id": "51311c8b",
   "metadata": {},
   "outputs": [
    {
     "data": {
      "text/plain": [
       "0.9101047633180509"
      ]
     },
     "execution_count": 252,
     "metadata": {},
     "output_type": "execute_result"
    }
   ],
   "source": [
    "nlpgbmmodellog.score(xx,np.log(yy))"
   ]
  },
  {
   "cell_type": "code",
   "execution_count": 253,
   "id": "efb9fae2",
   "metadata": {},
   "outputs": [
    {
     "data": {
      "text/plain": [
       "array([0.89736726, 0.91350836, 0.91283338, 0.90774424, 0.89104361])"
      ]
     },
     "execution_count": 253,
     "metadata": {},
     "output_type": "execute_result"
    }
   ],
   "source": [
    "cross_val_score(nlpgbmmodellog,xx,np.log(yy))"
   ]
  },
  {
   "cell_type": "code",
   "execution_count": 254,
   "id": "84f82568",
   "metadata": {},
   "outputs": [
    {
     "data": {
      "text/plain": [
       "0.9044992325955314"
      ]
     },
     "execution_count": 254,
     "metadata": {},
     "output_type": "execute_result"
    }
   ],
   "source": [
    "np.mean(cross_val_score(nlpgbmmodellog,xx,np.log(yy)))"
   ]
  },
  {
   "cell_type": "code",
   "execution_count": 255,
   "id": "9931f8dd",
   "metadata": {},
   "outputs": [],
   "source": [
    "nlpgbmmodelpre=nlpgbmmodellog.predict(xx)"
   ]
  },
  {
   "cell_type": "code",
   "execution_count": 256,
   "id": "05d23239",
   "metadata": {},
   "outputs": [],
   "source": [
    "nlpgbmmodelpre=np.exp(nlpgbmmodelpre)"
   ]
  },
  {
   "cell_type": "code",
   "execution_count": 257,
   "id": "b95f5491",
   "metadata": {},
   "outputs": [],
   "source": [
    "nlpgbmres=y-nlpgbmmodelpre"
   ]
  },
  {
   "cell_type": "code",
   "execution_count": 258,
   "id": "e0abc15b",
   "metadata": {},
   "outputs": [
    {
     "data": {
      "text/plain": [
       "388.2842660154115"
      ]
     },
     "execution_count": 258,
     "metadata": {},
     "output_type": "execute_result"
    }
   ],
   "source": [
    "np.sqrt(np.mean(nlpgbmres**2))"
   ]
  },
  {
   "cell_type": "markdown",
   "id": "ba92f115",
   "metadata": {},
   "source": [
    "## In machine learning, there is no distinction between the usual procedure and the natural language process of model development. I used to check with better clarity by separating the train data into test and train data for the next step. as well as testing the cart model approaches"
   ]
  },
  {
   "cell_type": "code",
   "execution_count": 259,
   "id": "4cc7208e",
   "metadata": {},
   "outputs": [],
   "source": [
    "# spliting train hole data into train data test data with 80% and 20% data."
   ]
  },
  {
   "cell_type": "code",
   "execution_count": 260,
   "id": "c47c9c57",
   "metadata": {},
   "outputs": [],
   "source": [
    "# before nlp doing on our text file"
   ]
  },
  {
   "cell_type": "code",
   "execution_count": 261,
   "id": "956228f8",
   "metadata": {},
   "outputs": [],
   "source": [
    "from sklearn.model_selection import train_test_split"
   ]
  },
  {
   "cell_type": "code",
   "execution_count": 262,
   "id": "cad76341",
   "metadata": {},
   "outputs": [],
   "source": [
    "x_train,x_test,y_train,y_test=train_test_split(x,y,test_size=0.2)"
   ]
  },
  {
   "cell_type": "code",
   "execution_count": 267,
   "id": "f9e8e692",
   "metadata": {},
   "outputs": [
    {
     "name": "stdout",
     "output_type": "stream",
     "text": [
      "(218568,)\n",
      "(54643,)\n",
      "(218568, 12)\n",
      "(54643, 12)\n"
     ]
    }
   ],
   "source": [
    "print(y_train.shape)\n",
    "print(y_test.shape)\n",
    "print(x_train.shape)\n",
    "print(x_test.shape)"
   ]
  },
  {
   "cell_type": "code",
   "execution_count": 268,
   "id": "9c11165b",
   "metadata": {},
   "outputs": [],
   "source": [
    "# builting in the model to the splited train and test data\n",
    "# x_train,x_test,y_train,y_train."
   ]
  },
  {
   "cell_type": "markdown",
   "id": "b770bd76",
   "metadata": {},
   "source": [
    "#  normal linear regg"
   ]
  },
  {
   "cell_type": "code",
   "execution_count": 269,
   "id": "d5fa555b",
   "metadata": {},
   "outputs": [
    {
     "data": {
      "text/plain": [
       "LinearRegression()"
      ]
     },
     "execution_count": 269,
     "metadata": {},
     "output_type": "execute_result"
    }
   ],
   "source": [
    "lr"
   ]
  },
  {
   "cell_type": "code",
   "execution_count": 270,
   "id": "2b57d0f1",
   "metadata": {},
   "outputs": [],
   "source": [
    "splitlrmodel=lr.fit(x_train,y_train)"
   ]
  },
  {
   "cell_type": "code",
   "execution_count": 271,
   "id": "3a49fb4d",
   "metadata": {},
   "outputs": [
    {
     "data": {
      "text/plain": [
       "0.6316933840310883"
      ]
     },
     "execution_count": 271,
     "metadata": {},
     "output_type": "execute_result"
    }
   ],
   "source": [
    "splitlrmodel.score(x_train,y_train)"
   ]
  },
  {
   "cell_type": "code",
   "execution_count": 272,
   "id": "8ca636a0",
   "metadata": {},
   "outputs": [
    {
     "data": {
      "text/plain": [
       "array([0.65145507, 0.61770205, 0.6574702 , 0.60535072, 0.6308772 ])"
      ]
     },
     "execution_count": 272,
     "metadata": {},
     "output_type": "execute_result"
    }
   ],
   "source": [
    "cross_val_score(splitlrmodel,x_train,y_train)"
   ]
  },
  {
   "cell_type": "code",
   "execution_count": 273,
   "id": "3628ec39",
   "metadata": {},
   "outputs": [
    {
     "data": {
      "text/plain": [
       "0.6325710490094111"
      ]
     },
     "execution_count": 273,
     "metadata": {},
     "output_type": "execute_result"
    }
   ],
   "source": [
    "np.mean(cross_val_score(splitlrmodel,x_train,y_train))"
   ]
  },
  {
   "cell_type": "code",
   "execution_count": 274,
   "id": "280597f9",
   "metadata": {},
   "outputs": [
    {
     "data": {
      "text/plain": [
       "0.6119227191381961"
      ]
     },
     "execution_count": 274,
     "metadata": {},
     "output_type": "execute_result"
    }
   ],
   "source": [
    "splitlrmodel.score(x_test,y_test)"
   ]
  },
  {
   "cell_type": "code",
   "execution_count": 275,
   "id": "d7ea621e",
   "metadata": {},
   "outputs": [
    {
     "data": {
      "text/plain": [
       "array([0.56687927, 0.6037733 , 0.6129607 , 0.641816  , 0.65390665])"
      ]
     },
     "execution_count": 275,
     "metadata": {},
     "output_type": "execute_result"
    }
   ],
   "source": [
    "cross_val_score(splitlrmodel,x_test,y_test)"
   ]
  },
  {
   "cell_type": "code",
   "execution_count": 276,
   "id": "6e8a90d5",
   "metadata": {},
   "outputs": [
    {
     "data": {
      "text/plain": [
       "0.6158671853834805"
      ]
     },
     "execution_count": 276,
     "metadata": {},
     "output_type": "execute_result"
    }
   ],
   "source": [
    "np.mean(cross_val_score(splitlrmodel,x_test,y_test))"
   ]
  },
  {
   "cell_type": "markdown",
   "id": "cdd27c43",
   "metadata": {},
   "source": [
    "#  normal linear regg log"
   ]
  },
  {
   "cell_type": "code",
   "execution_count": 277,
   "id": "158af9e5",
   "metadata": {},
   "outputs": [],
   "source": [
    "splitlrmodellog=lr.fit(x_train,np.log(y_train))"
   ]
  },
  {
   "cell_type": "code",
   "execution_count": 278,
   "id": "08160267",
   "metadata": {},
   "outputs": [
    {
     "data": {
      "text/plain": [
       "0.5138934326270176"
      ]
     },
     "execution_count": 278,
     "metadata": {},
     "output_type": "execute_result"
    }
   ],
   "source": [
    "splitlrmodellog.score(x_train,np.log(y_train))"
   ]
  },
  {
   "cell_type": "code",
   "execution_count": 279,
   "id": "5966df44",
   "metadata": {},
   "outputs": [
    {
     "data": {
      "text/plain": [
       "array([0.51279542, 0.51468984, 0.51524791, 0.51287076, 0.51318046])"
      ]
     },
     "execution_count": 279,
     "metadata": {},
     "output_type": "execute_result"
    }
   ],
   "source": [
    "cross_val_score(splitlrmodellog,x_train,np.log(y_train))"
   ]
  },
  {
   "cell_type": "code",
   "execution_count": 280,
   "id": "556a7104",
   "metadata": {},
   "outputs": [
    {
     "data": {
      "text/plain": [
       "0.5137568779446315"
      ]
     },
     "execution_count": 280,
     "metadata": {},
     "output_type": "execute_result"
    }
   ],
   "source": [
    "np.mean(cross_val_score(splitlrmodellog,x_train,np.log(y_train)))"
   ]
  },
  {
   "cell_type": "code",
   "execution_count": 281,
   "id": "4deb97d3",
   "metadata": {},
   "outputs": [
    {
     "data": {
      "text/plain": [
       "0.5167120019817323"
      ]
     },
     "execution_count": 281,
     "metadata": {},
     "output_type": "execute_result"
    }
   ],
   "source": [
    "splitlrmodellog.score(x_test,np.log(y_test))"
   ]
  },
  {
   "cell_type": "code",
   "execution_count": 282,
   "id": "16e228e7",
   "metadata": {},
   "outputs": [
    {
     "data": {
      "text/plain": [
       "array([0.51912774, 0.50729697, 0.50256351, 0.52153158, 0.53009876])"
      ]
     },
     "execution_count": 282,
     "metadata": {},
     "output_type": "execute_result"
    }
   ],
   "source": [
    "cross_val_score(splitlrmodellog,x_test,np.log(y_test))"
   ]
  },
  {
   "cell_type": "code",
   "execution_count": 283,
   "id": "d157d42d",
   "metadata": {},
   "outputs": [
    {
     "data": {
      "text/plain": [
       "0.516123710792612"
      ]
     },
     "execution_count": 283,
     "metadata": {},
     "output_type": "execute_result"
    }
   ],
   "source": [
    "np.mean(cross_val_score(splitlrmodellog,x_test,np.log(y_test)))"
   ]
  },
  {
   "cell_type": "markdown",
   "id": "fdb7ab73",
   "metadata": {},
   "source": [
    "# decission tree"
   ]
  },
  {
   "cell_type": "code",
   "execution_count": 284,
   "id": "2245d6c1",
   "metadata": {},
   "outputs": [
    {
     "data": {
      "text/plain": [
       "DecisionTreeRegressor(max_depth=9)"
      ]
     },
     "execution_count": 284,
     "metadata": {},
     "output_type": "execute_result"
    }
   ],
   "source": [
    "dt"
   ]
  },
  {
   "cell_type": "code",
   "execution_count": 285,
   "id": "4f1f1a91",
   "metadata": {},
   "outputs": [],
   "source": [
    "splitdtmodel=dt.fit(x_train,y_train)"
   ]
  },
  {
   "cell_type": "code",
   "execution_count": 286,
   "id": "5d1d90c1",
   "metadata": {},
   "outputs": [
    {
     "data": {
      "text/plain": [
       "0.9276023422352906"
      ]
     },
     "execution_count": 286,
     "metadata": {},
     "output_type": "execute_result"
    }
   ],
   "source": [
    "splitdtmodel.score(x_train,y_train)"
   ]
  },
  {
   "cell_type": "code",
   "execution_count": 287,
   "id": "490ae596",
   "metadata": {},
   "outputs": [
    {
     "data": {
      "text/plain": [
       "array([0.82819893, 0.83230394, 0.84609322, 0.89632821, 0.9330712 ])"
      ]
     },
     "execution_count": 287,
     "metadata": {},
     "output_type": "execute_result"
    }
   ],
   "source": [
    "cross_val_score(splitdtmodel,x_train,y_train)"
   ]
  },
  {
   "cell_type": "code",
   "execution_count": 288,
   "id": "0bcabd22",
   "metadata": {},
   "outputs": [
    {
     "data": {
      "text/plain": [
       "0.8702749342134904"
      ]
     },
     "execution_count": 288,
     "metadata": {},
     "output_type": "execute_result"
    }
   ],
   "source": [
    "np.mean(cross_val_score(splitdtmodel,x_train,y_train))"
   ]
  },
  {
   "cell_type": "code",
   "execution_count": 289,
   "id": "383b5fcc",
   "metadata": {},
   "outputs": [
    {
     "data": {
      "text/plain": [
       "0.8937453148197511"
      ]
     },
     "execution_count": 289,
     "metadata": {},
     "output_type": "execute_result"
    }
   ],
   "source": [
    "splitdtmodel.score(x_test,y_test)"
   ]
  },
  {
   "cell_type": "code",
   "execution_count": 290,
   "id": "73222fa8",
   "metadata": {},
   "outputs": [
    {
     "data": {
      "text/plain": [
       "array([0.89262706, 0.79213998, 0.7761685 , 0.87445546, 0.86738867])"
      ]
     },
     "execution_count": 290,
     "metadata": {},
     "output_type": "execute_result"
    }
   ],
   "source": [
    "cross_val_score(splitdtmodel,x_test,y_test)"
   ]
  },
  {
   "cell_type": "code",
   "execution_count": 291,
   "id": "eef86d40",
   "metadata": {},
   "outputs": [
    {
     "data": {
      "text/plain": [
       "0.8409185208287763"
      ]
     },
     "execution_count": 291,
     "metadata": {},
     "output_type": "execute_result"
    }
   ],
   "source": [
    "np.mean(cross_val_score(splitdtmodel,x_test,y_test))"
   ]
  },
  {
   "cell_type": "markdown",
   "id": "49c123d4",
   "metadata": {},
   "source": [
    "# decission tree log"
   ]
  },
  {
   "cell_type": "code",
   "execution_count": 292,
   "id": "472eb529",
   "metadata": {},
   "outputs": [],
   "source": [
    "splitdtmodellog=dt.fit(x_train,np.log(y_train))"
   ]
  },
  {
   "cell_type": "code",
   "execution_count": 293,
   "id": "6eb78d84",
   "metadata": {},
   "outputs": [
    {
     "data": {
      "text/plain": [
       "0.9117498537440882"
      ]
     },
     "execution_count": 293,
     "metadata": {},
     "output_type": "execute_result"
    }
   ],
   "source": [
    "splitdtmodellog.score(x_train,np.log(y_train))"
   ]
  },
  {
   "cell_type": "code",
   "execution_count": 294,
   "id": "b7cf1696",
   "metadata": {},
   "outputs": [
    {
     "data": {
      "text/plain": [
       "array([0.90930726, 0.90544434, 0.90932049, 0.90634765, 0.90790587])"
      ]
     },
     "execution_count": 294,
     "metadata": {},
     "output_type": "execute_result"
    }
   ],
   "source": [
    "cross_val_score(splitdtmodellog,x_train,np.log(y_train))"
   ]
  },
  {
   "cell_type": "code",
   "execution_count": 295,
   "id": "3208b1d9",
   "metadata": {},
   "outputs": [
    {
     "data": {
      "text/plain": [
       "0.9076677634211384"
      ]
     },
     "execution_count": 295,
     "metadata": {},
     "output_type": "execute_result"
    }
   ],
   "source": [
    "np.mean(cross_val_score(splitdtmodellog,x_train,np.log(y_train)))"
   ]
  },
  {
   "cell_type": "code",
   "execution_count": 296,
   "id": "e8555e7d",
   "metadata": {},
   "outputs": [
    {
     "data": {
      "text/plain": [
       "0.9085872842542437"
      ]
     },
     "execution_count": 296,
     "metadata": {},
     "output_type": "execute_result"
    }
   ],
   "source": [
    "splitdtmodellog.score(x_test,np.log(y_test))"
   ]
  },
  {
   "cell_type": "code",
   "execution_count": 297,
   "id": "c51a5835",
   "metadata": {},
   "outputs": [
    {
     "data": {
      "text/plain": [
       "array([0.90477085, 0.90275964, 0.89629007, 0.90480581, 0.90560968])"
      ]
     },
     "execution_count": 297,
     "metadata": {},
     "output_type": "execute_result"
    }
   ],
   "source": [
    "cross_val_score(splitdtmodellog,x_test,np.log(y_test))"
   ]
  },
  {
   "cell_type": "code",
   "execution_count": 298,
   "id": "1b9ec4e3",
   "metadata": {},
   "outputs": [
    {
     "data": {
      "text/plain": [
       "0.90276681060114"
      ]
     },
     "execution_count": 298,
     "metadata": {},
     "output_type": "execute_result"
    }
   ],
   "source": [
    "np.mean(cross_val_score(splitdtmodellog,x_test,np.log(y_test)))"
   ]
  },
  {
   "cell_type": "markdown",
   "id": "a42e86ba",
   "metadata": {},
   "source": [
    "#  random forest model"
   ]
  },
  {
   "cell_type": "code",
   "execution_count": 299,
   "id": "2077e1e9",
   "metadata": {},
   "outputs": [
    {
     "data": {
      "text/plain": [
       "RandomForestRegressor(max_depth=5, n_estimators=50)"
      ]
     },
     "execution_count": 299,
     "metadata": {},
     "output_type": "execute_result"
    }
   ],
   "source": [
    "rf"
   ]
  },
  {
   "cell_type": "code",
   "execution_count": 300,
   "id": "fd97d667",
   "metadata": {},
   "outputs": [],
   "source": [
    "splitrfmodel=dt.fit(x_train,y_train)"
   ]
  },
  {
   "cell_type": "code",
   "execution_count": 301,
   "id": "986a92a3",
   "metadata": {},
   "outputs": [
    {
     "data": {
      "text/plain": [
       "0.9276023422352906"
      ]
     },
     "execution_count": 301,
     "metadata": {},
     "output_type": "execute_result"
    }
   ],
   "source": [
    "splitrfmodel.score(x_train,y_train)"
   ]
  },
  {
   "cell_type": "code",
   "execution_count": 302,
   "id": "356b0e78",
   "metadata": {},
   "outputs": [
    {
     "data": {
      "text/plain": [
       "array([0.82873397, 0.83320974, 0.84178566, 0.90979176, 0.93303224])"
      ]
     },
     "execution_count": 302,
     "metadata": {},
     "output_type": "execute_result"
    }
   ],
   "source": [
    "cross_val_score(splitrfmodel,x_train,y_train)"
   ]
  },
  {
   "cell_type": "code",
   "execution_count": 303,
   "id": "fe209fb6",
   "metadata": {},
   "outputs": [
    {
     "data": {
      "text/plain": [
       "0.8695630075281684"
      ]
     },
     "execution_count": 303,
     "metadata": {},
     "output_type": "execute_result"
    }
   ],
   "source": [
    "np.mean(cross_val_score(splitrfmodel,x_train,y_train))"
   ]
  },
  {
   "cell_type": "code",
   "execution_count": 304,
   "id": "68ccb779",
   "metadata": {},
   "outputs": [
    {
     "data": {
      "text/plain": [
       "0.8893056938561461"
      ]
     },
     "execution_count": 304,
     "metadata": {},
     "output_type": "execute_result"
    }
   ],
   "source": [
    "splitrfmodel.score(x_test,y_test)"
   ]
  },
  {
   "cell_type": "code",
   "execution_count": 305,
   "id": "8a3ecff1",
   "metadata": {},
   "outputs": [
    {
     "data": {
      "text/plain": [
       "array([0.89495691, 0.79226468, 0.77583753, 0.87311498, 0.87708783])"
      ]
     },
     "execution_count": 305,
     "metadata": {},
     "output_type": "execute_result"
    }
   ],
   "source": [
    "cross_val_score(splitrfmodel,x_test,y_test)"
   ]
  },
  {
   "cell_type": "code",
   "execution_count": 306,
   "id": "074cbe01",
   "metadata": {},
   "outputs": [
    {
     "data": {
      "text/plain": [
       "0.8421324669525478"
      ]
     },
     "execution_count": 306,
     "metadata": {},
     "output_type": "execute_result"
    }
   ],
   "source": [
    "np.mean(cross_val_score(splitrfmodel,x_test,y_test))"
   ]
  },
  {
   "cell_type": "markdown",
   "id": "c68f9a9e",
   "metadata": {},
   "source": [
    "#  random forest model log"
   ]
  },
  {
   "cell_type": "code",
   "execution_count": 307,
   "id": "9d1fb266",
   "metadata": {},
   "outputs": [],
   "source": [
    "splitrfmodellog=dt.fit(x_train,np.log(y_train))"
   ]
  },
  {
   "cell_type": "code",
   "execution_count": 308,
   "id": "70fa1707",
   "metadata": {},
   "outputs": [
    {
     "data": {
      "text/plain": [
       "0.9117491658764756"
      ]
     },
     "execution_count": 308,
     "metadata": {},
     "output_type": "execute_result"
    }
   ],
   "source": [
    "splitrfmodellog.score(x_train,np.log(y_train))"
   ]
  },
  {
   "cell_type": "code",
   "execution_count": 309,
   "id": "69f0c0cf",
   "metadata": {},
   "outputs": [
    {
     "data": {
      "text/plain": [
       "array([0.90930672, 0.90542995, 0.9092166 , 0.90638771, 0.90798125])"
      ]
     },
     "execution_count": 309,
     "metadata": {},
     "output_type": "execute_result"
    }
   ],
   "source": [
    "cross_val_score(splitrfmodellog,x_train,np.log(y_train))"
   ]
  },
  {
   "cell_type": "code",
   "execution_count": 310,
   "id": "91f01223",
   "metadata": {},
   "outputs": [
    {
     "data": {
      "text/plain": [
       "0.9077024583484758"
      ]
     },
     "execution_count": 310,
     "metadata": {},
     "output_type": "execute_result"
    }
   ],
   "source": [
    "np.mean(cross_val_score(splitrfmodellog,x_train,np.log(y_train)))"
   ]
  },
  {
   "cell_type": "code",
   "execution_count": 311,
   "id": "c2ae4804",
   "metadata": {},
   "outputs": [
    {
     "data": {
      "text/plain": [
       "0.9085146664559363"
      ]
     },
     "execution_count": 311,
     "metadata": {},
     "output_type": "execute_result"
    }
   ],
   "source": [
    "splitrfmodellog.score(x_test,np.log(y_test))"
   ]
  },
  {
   "cell_type": "code",
   "execution_count": 312,
   "id": "39bd1a04",
   "metadata": {},
   "outputs": [
    {
     "data": {
      "text/plain": [
       "array([0.90430004, 0.90279119, 0.89664072, 0.90457248, 0.90645032])"
      ]
     },
     "execution_count": 312,
     "metadata": {},
     "output_type": "execute_result"
    }
   ],
   "source": [
    "cross_val_score(splitrfmodellog,x_test,np.log(y_test))"
   ]
  },
  {
   "cell_type": "code",
   "execution_count": 313,
   "id": "7e693fa7",
   "metadata": {},
   "outputs": [
    {
     "data": {
      "text/plain": [
       "0.9030007099596349"
      ]
     },
     "execution_count": 313,
     "metadata": {},
     "output_type": "execute_result"
    }
   ],
   "source": [
    "np.mean(cross_val_score(splitrfmodellog,x_test,np.log(y_test)))"
   ]
  },
  {
   "cell_type": "markdown",
   "id": "3851da53",
   "metadata": {},
   "source": [
    "#  gradient boosting method "
   ]
  },
  {
   "cell_type": "code",
   "execution_count": 314,
   "id": "4d00965e",
   "metadata": {},
   "outputs": [
    {
     "data": {
      "text/plain": [
       "GradientBoostingRegressor()"
      ]
     },
     "execution_count": 314,
     "metadata": {},
     "output_type": "execute_result"
    }
   ],
   "source": [
    "gbm"
   ]
  },
  {
   "cell_type": "code",
   "execution_count": 315,
   "id": "d53f21de",
   "metadata": {},
   "outputs": [],
   "source": [
    "splitgbmmodel=gbm.fit(x_train,y_train)"
   ]
  },
  {
   "cell_type": "code",
   "execution_count": 316,
   "id": "93364088",
   "metadata": {},
   "outputs": [
    {
     "data": {
      "text/plain": [
       "0.9122382318377827"
      ]
     },
     "execution_count": 316,
     "metadata": {},
     "output_type": "execute_result"
    }
   ],
   "source": [
    "splitgbmmodel.score(x_train,y_train)"
   ]
  },
  {
   "cell_type": "code",
   "execution_count": 317,
   "id": "bd911a3d",
   "metadata": {},
   "outputs": [
    {
     "data": {
      "text/plain": [
       "array([0.85216285, 0.86319483, 0.84362699, 0.87669546, 0.91225552])"
      ]
     },
     "execution_count": 317,
     "metadata": {},
     "output_type": "execute_result"
    }
   ],
   "source": [
    "cross_val_score(splitgbmmodel,x_train,y_train)"
   ]
  },
  {
   "cell_type": "code",
   "execution_count": 318,
   "id": "5d92086e",
   "metadata": {},
   "outputs": [
    {
     "data": {
      "text/plain": [
       "0.8706689320249821"
      ]
     },
     "execution_count": 318,
     "metadata": {},
     "output_type": "execute_result"
    }
   ],
   "source": [
    "np.mean(cross_val_score(splitgbmmodel,x_train,y_train))"
   ]
  },
  {
   "cell_type": "code",
   "execution_count": 319,
   "id": "60cfcce4",
   "metadata": {},
   "outputs": [
    {
     "data": {
      "text/plain": [
       "0.873706024091472"
      ]
     },
     "execution_count": 319,
     "metadata": {},
     "output_type": "execute_result"
    }
   ],
   "source": [
    "splitgbmmodel.score(x_test,y_test)"
   ]
  },
  {
   "cell_type": "code",
   "execution_count": 320,
   "id": "0998ffe8",
   "metadata": {},
   "outputs": [
    {
     "data": {
      "text/plain": [
       "array([0.90697596, 0.84117908, 0.79214717, 0.87701972, 0.89185729])"
      ]
     },
     "execution_count": 320,
     "metadata": {},
     "output_type": "execute_result"
    }
   ],
   "source": [
    "cross_val_score(splitgbmmodel,x_test,y_test)"
   ]
  },
  {
   "cell_type": "code",
   "execution_count": 321,
   "id": "4c8b699c",
   "metadata": {},
   "outputs": [
    {
     "data": {
      "text/plain": [
       "0.8611692154609475"
      ]
     },
     "execution_count": 321,
     "metadata": {},
     "output_type": "execute_result"
    }
   ],
   "source": [
    "np.mean(cross_val_score(splitgbmmodel,x_test,y_test))"
   ]
  },
  {
   "cell_type": "markdown",
   "id": "246da287",
   "metadata": {},
   "source": [
    "#  gradient boosting model log"
   ]
  },
  {
   "cell_type": "code",
   "execution_count": 322,
   "id": "248b3361",
   "metadata": {},
   "outputs": [],
   "source": [
    "splitgbmmodellog=gbm.fit(x_train,np.log(y_train))"
   ]
  },
  {
   "cell_type": "code",
   "execution_count": 323,
   "id": "5e1f3e1d",
   "metadata": {},
   "outputs": [
    {
     "data": {
      "text/plain": [
       "0.9094983119537658"
      ]
     },
     "execution_count": 323,
     "metadata": {},
     "output_type": "execute_result"
    }
   ],
   "source": [
    "splitgbmmodellog.score(x_train,np.log(y_train))"
   ]
  },
  {
   "cell_type": "code",
   "execution_count": 324,
   "id": "5306658c",
   "metadata": {},
   "outputs": [
    {
     "data": {
      "text/plain": [
       "array([0.90966281, 0.90713915, 0.90827064, 0.9083649 , 0.90932547])"
      ]
     },
     "execution_count": 324,
     "metadata": {},
     "output_type": "execute_result"
    }
   ],
   "source": [
    "cross_val_score(splitgbmmodellog,x_train,np.log(y_train))"
   ]
  },
  {
   "cell_type": "code",
   "execution_count": 325,
   "id": "46d29279",
   "metadata": {},
   "outputs": [
    {
     "data": {
      "text/plain": [
       "0.9085518047105066"
      ]
     },
     "execution_count": 325,
     "metadata": {},
     "output_type": "execute_result"
    }
   ],
   "source": [
    "np.mean(cross_val_score(splitgbmmodellog,x_train,np.log(y_train)))"
   ]
  },
  {
   "cell_type": "code",
   "execution_count": 326,
   "id": "711a28f9",
   "metadata": {},
   "outputs": [
    {
     "data": {
      "text/plain": [
       "0.9087227939266175"
      ]
     },
     "execution_count": 326,
     "metadata": {},
     "output_type": "execute_result"
    }
   ],
   "source": [
    "splitgbmmodellog.score(x_test,np.log(y_test))"
   ]
  },
  {
   "cell_type": "code",
   "execution_count": 327,
   "id": "04da79f1",
   "metadata": {},
   "outputs": [
    {
     "data": {
      "text/plain": [
       "array([0.90933182, 0.90854219, 0.90167695, 0.91219097, 0.90909316])"
      ]
     },
     "execution_count": 327,
     "metadata": {},
     "output_type": "execute_result"
    }
   ],
   "source": [
    "cross_val_score(splitgbmmodellog,x_test,np.log(y_test))"
   ]
  },
  {
   "cell_type": "code",
   "execution_count": 328,
   "id": "522e03af",
   "metadata": {},
   "outputs": [
    {
     "data": {
      "text/plain": [
       "0.908148572661522"
      ]
     },
     "execution_count": 328,
     "metadata": {},
     "output_type": "execute_result"
    }
   ],
   "source": [
    "np.mean(cross_val_score(splitgbmmodellog,x_test,np.log(y_test)))"
   ]
  },
  {
   "cell_type": "markdown",
   "id": "551ff419",
   "metadata": {},
   "source": [
    "### For the nlp model data, separate the train and test data. nlp data processing data model as per spliting the data"
   ]
  },
  {
   "cell_type": "code",
   "execution_count": 329,
   "id": "415e532b",
   "metadata": {},
   "outputs": [],
   "source": [
    "xx_train,xx_test,yy_train,yy_test=train_test_split(xx,yy,test_size=0.2)"
   ]
  },
  {
   "cell_type": "markdown",
   "id": "fa1ba662",
   "metadata": {},
   "source": [
    "# linear model fitting for spliting data"
   ]
  },
  {
   "cell_type": "code",
   "execution_count": 330,
   "id": "10640d5c",
   "metadata": {},
   "outputs": [
    {
     "data": {
      "text/plain": [
       "LinearRegression()"
      ]
     },
     "execution_count": 330,
     "metadata": {},
     "output_type": "execute_result"
    }
   ],
   "source": [
    "lr"
   ]
  },
  {
   "cell_type": "code",
   "execution_count": 331,
   "id": "6482bc9a",
   "metadata": {},
   "outputs": [],
   "source": [
    "nlplrsplit=lr.fit(xx_train,yy_train)"
   ]
  },
  {
   "cell_type": "code",
   "execution_count": 332,
   "id": "090e29c1",
   "metadata": {},
   "outputs": [
    {
     "data": {
      "text/plain": [
       "0.6449645740563554"
      ]
     },
     "execution_count": 332,
     "metadata": {},
     "output_type": "execute_result"
    }
   ],
   "source": [
    "nlplrsplit.score(xx_train,yy_train)"
   ]
  },
  {
   "cell_type": "code",
   "execution_count": 333,
   "id": "3495468f",
   "metadata": {},
   "outputs": [
    {
     "data": {
      "text/plain": [
       "array([-5.92558249e+05,  6.17612188e-01,  6.79127918e-01,  6.48695052e-01,\n",
       "        6.41974709e-01])"
      ]
     },
     "execution_count": 333,
     "metadata": {},
     "output_type": "execute_result"
    }
   ],
   "source": [
    "cross_val_score(nlplrsplit,xx_train,yy_train)"
   ]
  },
  {
   "cell_type": "code",
   "execution_count": 334,
   "id": "70fcd803",
   "metadata": {},
   "outputs": [
    {
     "data": {
      "text/plain": [
       "-118511.13231602192"
      ]
     },
     "execution_count": 334,
     "metadata": {},
     "output_type": "execute_result"
    }
   ],
   "source": [
    "np.mean(cross_val_score(nlplrsplit,xx_train,yy_train))"
   ]
  },
  {
   "cell_type": "code",
   "execution_count": 335,
   "id": "53bc8f58",
   "metadata": {},
   "outputs": [
    {
     "data": {
      "text/plain": [
       "0.6526089352615816"
      ]
     },
     "execution_count": 335,
     "metadata": {},
     "output_type": "execute_result"
    }
   ],
   "source": [
    "nlplrsplit.score(xx_test,yy_test)"
   ]
  },
  {
   "cell_type": "code",
   "execution_count": 336,
   "id": "3a1319df",
   "metadata": {},
   "outputs": [
    {
     "data": {
      "text/plain": [
       "array([-4.94118253e+06, -1.36372664e+07,  6.23025292e-01,  6.93051646e-01,\n",
       "        6.86343101e-01])"
      ]
     },
     "execution_count": 336,
     "metadata": {},
     "output_type": "execute_result"
    }
   ],
   "source": [
    "cross_val_score(nlplrsplit,xx_test,yy_test)"
   ]
  },
  {
   "cell_type": "code",
   "execution_count": 337,
   "id": "db313475",
   "metadata": {},
   "outputs": [
    {
     "data": {
      "text/plain": [
       "-3715689.394882112"
      ]
     },
     "execution_count": 337,
     "metadata": {},
     "output_type": "execute_result"
    }
   ],
   "source": [
    "np.mean(cross_val_score(nlplrsplit,xx_test,yy_test))"
   ]
  },
  {
   "cell_type": "markdown",
   "id": "8bbe6166",
   "metadata": {},
   "source": [
    "# log linear regression"
   ]
  },
  {
   "cell_type": "code",
   "execution_count": 338,
   "id": "b2b6617b",
   "metadata": {},
   "outputs": [],
   "source": [
    "nlplrsplitlog=lr.fit(xx_train,np.log(yy_train))"
   ]
  },
  {
   "cell_type": "code",
   "execution_count": 339,
   "id": "e66688de",
   "metadata": {},
   "outputs": [
    {
     "data": {
      "text/plain": [
       "0.6723752695113356"
      ]
     },
     "execution_count": 339,
     "metadata": {},
     "output_type": "execute_result"
    }
   ],
   "source": [
    "nlplrsplitlog.score(xx_train,np.log(yy_train))"
   ]
  },
  {
   "cell_type": "code",
   "execution_count": 340,
   "id": "1f984f80",
   "metadata": {},
   "outputs": [
    {
     "data": {
      "text/plain": [
       "array([-1.10443617e+06,  6.70725194e-01,  6.71697659e-01,  6.75737658e-01,\n",
       "        6.70479575e-01])"
      ]
     },
     "execution_count": 340,
     "metadata": {},
     "output_type": "execute_result"
    }
   ],
   "source": [
    "cross_val_score(nlplrsplitlog,xx_train,np.log(yy_train))"
   ]
  },
  {
   "cell_type": "code",
   "execution_count": 341,
   "id": "37f87c87",
   "metadata": {},
   "outputs": [
    {
     "data": {
      "text/plain": [
       "-220886.69682097266"
      ]
     },
     "execution_count": 341,
     "metadata": {},
     "output_type": "execute_result"
    }
   ],
   "source": [
    "np.mean(cross_val_score(nlplrsplitlog,xx_train,np.log(yy_train)))"
   ]
  },
  {
   "cell_type": "code",
   "execution_count": 342,
   "id": "279377b9",
   "metadata": {},
   "outputs": [
    {
     "data": {
      "text/plain": [
       "0.6746362984839047"
      ]
     },
     "execution_count": 342,
     "metadata": {},
     "output_type": "execute_result"
    }
   ],
   "source": [
    "nlplrsplitlog.score(xx_test,np.log(yy_test))"
   ]
  },
  {
   "cell_type": "code",
   "execution_count": 343,
   "id": "dd39e5f4",
   "metadata": {},
   "outputs": [
    {
     "data": {
      "text/plain": [
       "array([-2.10240404e+07, -4.66241006e+07,  6.72623956e-01,  6.76087557e-01,\n",
       "        6.75094560e-01])"
      ]
     },
     "execution_count": 343,
     "metadata": {},
     "output_type": "execute_result"
    }
   ],
   "source": [
    "cross_val_score(nlplrsplitlog,xx_test,np.log(yy_test))"
   ]
  },
  {
   "cell_type": "code",
   "execution_count": 344,
   "id": "15cf4a68",
   "metadata": {},
   "outputs": [
    {
     "data": {
      "text/plain": [
       "-13529627.792351302"
      ]
     },
     "execution_count": 344,
     "metadata": {},
     "output_type": "execute_result"
    }
   ],
   "source": [
    "np.mean(cross_val_score(nlplrsplitlog,xx_test,np.log(yy_test)))"
   ]
  },
  {
   "cell_type": "markdown",
   "id": "3e516808",
   "metadata": {},
   "source": [
    "# decission tree"
   ]
  },
  {
   "cell_type": "code",
   "execution_count": 345,
   "id": "2bda73c1",
   "metadata": {},
   "outputs": [
    {
     "data": {
      "text/plain": [
       "DecisionTreeRegressor(max_depth=9)"
      ]
     },
     "execution_count": 345,
     "metadata": {},
     "output_type": "execute_result"
    }
   ],
   "source": [
    "dt"
   ]
  },
  {
   "cell_type": "code",
   "execution_count": 346,
   "id": "f62e1f56",
   "metadata": {},
   "outputs": [],
   "source": [
    "nlpdtsplit=dt.fit(xx_train,yy_train)"
   ]
  },
  {
   "cell_type": "code",
   "execution_count": 347,
   "id": "cf13236a",
   "metadata": {},
   "outputs": [
    {
     "data": {
      "text/plain": [
       "0.926849232443383"
      ]
     },
     "execution_count": 347,
     "metadata": {},
     "output_type": "execute_result"
    }
   ],
   "source": [
    "nlpdtsplit.score(xx_train,yy_train)"
   ]
  },
  {
   "cell_type": "code",
   "execution_count": 348,
   "id": "7590630b",
   "metadata": {},
   "outputs": [
    {
     "data": {
      "text/plain": [
       "array([0.90811768, 0.88658395, 0.80120805, 0.87881801, 0.90639072])"
      ]
     },
     "execution_count": 348,
     "metadata": {},
     "output_type": "execute_result"
    }
   ],
   "source": [
    "cross_val_score(nlpdtsplit,xx_train,yy_train)"
   ]
  },
  {
   "cell_type": "code",
   "execution_count": 349,
   "id": "5d6ec357",
   "metadata": {},
   "outputs": [
    {
     "data": {
      "text/plain": [
       "0.8639917183250801"
      ]
     },
     "execution_count": 349,
     "metadata": {},
     "output_type": "execute_result"
    }
   ],
   "source": [
    "np.mean(cross_val_score(nlpdtsplit,xx_train,yy_train))"
   ]
  },
  {
   "cell_type": "code",
   "execution_count": 350,
   "id": "cc42dc2a",
   "metadata": {},
   "outputs": [
    {
     "data": {
      "text/plain": [
       "0.8934529159661377"
      ]
     },
     "execution_count": 350,
     "metadata": {},
     "output_type": "execute_result"
    }
   ],
   "source": [
    "nlpdtsplit.score(xx_test,yy_test)"
   ]
  },
  {
   "cell_type": "code",
   "execution_count": 351,
   "id": "6be7d274",
   "metadata": {},
   "outputs": [
    {
     "data": {
      "text/plain": [
       "array([0.74648577, 0.85792984, 0.92259712, 0.82228593, 0.2722065 ])"
      ]
     },
     "execution_count": 351,
     "metadata": {},
     "output_type": "execute_result"
    }
   ],
   "source": [
    "cross_val_score(nlpdtsplit,xx_test,yy_test)"
   ]
  },
  {
   "cell_type": "code",
   "execution_count": 352,
   "id": "42593a3f",
   "metadata": {},
   "outputs": [
    {
     "data": {
      "text/plain": [
       "0.8475197240542597"
      ]
     },
     "execution_count": 352,
     "metadata": {},
     "output_type": "execute_result"
    }
   ],
   "source": [
    "np.mean(cross_val_score(nlpdtsplit,xx_test,yy_test))"
   ]
  },
  {
   "cell_type": "markdown",
   "id": "1042f1c4",
   "metadata": {},
   "source": [
    "# decission tree log"
   ]
  },
  {
   "cell_type": "code",
   "execution_count": 353,
   "id": "cc7377a1",
   "metadata": {},
   "outputs": [],
   "source": [
    "nlpdtsplitlog=dt.fit(xx_train,np.log(yy_train))"
   ]
  },
  {
   "cell_type": "code",
   "execution_count": 354,
   "id": "fcf13641",
   "metadata": {},
   "outputs": [
    {
     "data": {
      "text/plain": [
       "0.9121675622475011"
      ]
     },
     "execution_count": 354,
     "metadata": {},
     "output_type": "execute_result"
    }
   ],
   "source": [
    "nlpdtsplitlog.score(xx_train,np.log(yy_train))"
   ]
  },
  {
   "cell_type": "code",
   "execution_count": 355,
   "id": "b3946106",
   "metadata": {},
   "outputs": [
    {
     "data": {
      "text/plain": [
       "array([0.91072788, 0.90951036, 0.90745337, 0.90635309, 0.90911767])"
      ]
     },
     "execution_count": 355,
     "metadata": {},
     "output_type": "execute_result"
    }
   ],
   "source": [
    "cross_val_score(nlpdtsplitlog,xx_train,np.log(yy_train))"
   ]
  },
  {
   "cell_type": "code",
   "execution_count": 356,
   "id": "6f46c893",
   "metadata": {},
   "outputs": [
    {
     "data": {
      "text/plain": [
       "0.9086513865806392"
      ]
     },
     "execution_count": 356,
     "metadata": {},
     "output_type": "execute_result"
    }
   ],
   "source": [
    "np.mean(cross_val_score(nlpdtsplitlog,xx_train,np.log(yy_train)))"
   ]
  },
  {
   "cell_type": "code",
   "execution_count": 357,
   "id": "98546cbe",
   "metadata": {},
   "outputs": [
    {
     "data": {
      "text/plain": [
       "0.9061681141746055"
      ]
     },
     "execution_count": 357,
     "metadata": {},
     "output_type": "execute_result"
    }
   ],
   "source": [
    "nlpdtsplitlog.score(xx_test,np.log(yy_test))"
   ]
  },
  {
   "cell_type": "code",
   "execution_count": 358,
   "id": "fce6e17b",
   "metadata": {},
   "outputs": [
    {
     "data": {
      "text/plain": [
       "array([0.89791844, 0.89945876, 0.89787882, 0.90046255, 0.89787514])"
      ]
     },
     "execution_count": 358,
     "metadata": {},
     "output_type": "execute_result"
    }
   ],
   "source": [
    "cross_val_score(nlpdtsplitlog,xx_test,np.log(yy_test))"
   ]
  },
  {
   "cell_type": "code",
   "execution_count": 359,
   "id": "1cb96fb1",
   "metadata": {},
   "outputs": [
    {
     "data": {
      "text/plain": [
       "0.8983449310319687"
      ]
     },
     "execution_count": 359,
     "metadata": {},
     "output_type": "execute_result"
    }
   ],
   "source": [
    "np.mean(cross_val_score(nlpdtsplitlog,xx_test,np.log(yy_test)))"
   ]
  },
  {
   "cell_type": "markdown",
   "id": "17201268",
   "metadata": {},
   "source": [
    "#  random forest"
   ]
  },
  {
   "cell_type": "code",
   "execution_count": 360,
   "id": "0786f9d7",
   "metadata": {},
   "outputs": [
    {
     "data": {
      "text/plain": [
       "RandomForestRegressor(max_depth=5, n_estimators=50)"
      ]
     },
     "execution_count": 360,
     "metadata": {},
     "output_type": "execute_result"
    }
   ],
   "source": [
    "rf"
   ]
  },
  {
   "cell_type": "code",
   "execution_count": 361,
   "id": "a36c3d44",
   "metadata": {},
   "outputs": [],
   "source": [
    "nlprfsplit=rf.fit(xx_train,yy_train)"
   ]
  },
  {
   "cell_type": "code",
   "execution_count": 362,
   "id": "f5a8c1a6",
   "metadata": {},
   "outputs": [
    {
     "data": {
      "text/plain": [
       "0.8757769450463864"
      ]
     },
     "execution_count": 362,
     "metadata": {},
     "output_type": "execute_result"
    }
   ],
   "source": [
    "nlprfsplit.score(xx_train,yy_train)"
   ]
  },
  {
   "cell_type": "code",
   "execution_count": 363,
   "id": "1fbc7a8e",
   "metadata": {},
   "outputs": [
    {
     "data": {
      "text/plain": [
       "array([0.87077977, 0.79824264, 0.82759518, 0.8534633 , 0.86551651])"
      ]
     },
     "execution_count": 363,
     "metadata": {},
     "output_type": "execute_result"
    }
   ],
   "source": [
    "cross_val_score(nlprfsplit,xx_train,yy_train)"
   ]
  },
  {
   "cell_type": "code",
   "execution_count": 364,
   "id": "07085798",
   "metadata": {},
   "outputs": [
    {
     "data": {
      "text/plain": [
       "0.8458448804471462"
      ]
     },
     "execution_count": 364,
     "metadata": {},
     "output_type": "execute_result"
    }
   ],
   "source": [
    "np.mean(cross_val_score(nlprfsplit,xx_train,yy_train))"
   ]
  },
  {
   "cell_type": "code",
   "execution_count": 365,
   "id": "e7fbaedc",
   "metadata": {},
   "outputs": [
    {
     "data": {
      "text/plain": [
       "0.8459763764137425"
      ]
     },
     "execution_count": 365,
     "metadata": {},
     "output_type": "execute_result"
    }
   ],
   "source": [
    "nlprfsplit.score(xx_test,yy_test)"
   ]
  },
  {
   "cell_type": "code",
   "execution_count": 366,
   "id": "1b5f470f",
   "metadata": {},
   "outputs": [
    {
     "data": {
      "text/plain": [
       "array([0.79080122, 0.83425483, 0.87766175, 0.8241906 , 0.82694503])"
      ]
     },
     "execution_count": 366,
     "metadata": {},
     "output_type": "execute_result"
    }
   ],
   "source": [
    "cross_val_score(nlprfsplit,xx_test,yy_test)"
   ]
  },
  {
   "cell_type": "code",
   "execution_count": 367,
   "id": "ce84c9cb",
   "metadata": {},
   "outputs": [
    {
     "data": {
      "text/plain": [
       "0.8230687231669822"
      ]
     },
     "execution_count": 367,
     "metadata": {},
     "output_type": "execute_result"
    }
   ],
   "source": [
    "np.mean(cross_val_score(nlprfsplit,xx_test,yy_test))"
   ]
  },
  {
   "cell_type": "markdown",
   "id": "fd4b1d3a",
   "metadata": {},
   "source": [
    "# log random forest"
   ]
  },
  {
   "cell_type": "code",
   "execution_count": 368,
   "id": "e82ca126",
   "metadata": {},
   "outputs": [],
   "source": [
    "nlprfsplitlog=rf.fit(xx_train,np.log(yy_train))"
   ]
  },
  {
   "cell_type": "code",
   "execution_count": 369,
   "id": "336dce5d",
   "metadata": {},
   "outputs": [
    {
     "data": {
      "text/plain": [
       "0.8856722945717421"
      ]
     },
     "execution_count": 369,
     "metadata": {},
     "output_type": "execute_result"
    }
   ],
   "source": [
    "nlprfsplitlog.score(xx_train,np.log(yy_train))"
   ]
  },
  {
   "cell_type": "code",
   "execution_count": 370,
   "id": "2854f0b1",
   "metadata": {},
   "outputs": [
    {
     "data": {
      "text/plain": [
       "array([0.88634725, 0.88485963, 0.88532174, 0.88338802, 0.88695206])"
      ]
     },
     "execution_count": 370,
     "metadata": {},
     "output_type": "execute_result"
    }
   ],
   "source": [
    "cross_val_score(nlprfsplitlog,xx_train,np.log(yy_train))"
   ]
  },
  {
   "cell_type": "code",
   "execution_count": 371,
   "id": "3de89efc",
   "metadata": {},
   "outputs": [
    {
     "data": {
      "text/plain": [
       "0.8855496717467313"
      ]
     },
     "execution_count": 371,
     "metadata": {},
     "output_type": "execute_result"
    }
   ],
   "source": [
    "np.mean(cross_val_score(nlprfsplitlog,xx_train,np.log(yy_train)))"
   ]
  },
  {
   "cell_type": "code",
   "execution_count": 372,
   "id": "835ca40d",
   "metadata": {},
   "outputs": [
    {
     "data": {
      "text/plain": [
       "0.8834466530391912"
      ]
     },
     "execution_count": 372,
     "metadata": {},
     "output_type": "execute_result"
    }
   ],
   "source": [
    "nlprfsplitlog.score(xx_test,np.log(yy_test))"
   ]
  },
  {
   "cell_type": "code",
   "execution_count": 373,
   "id": "efeaf9f4",
   "metadata": {},
   "outputs": [
    {
     "data": {
      "text/plain": [
       "array([0.88627201, 0.8858293 , 0.88304468, 0.88723645, 0.88515697])"
      ]
     },
     "execution_count": 373,
     "metadata": {},
     "output_type": "execute_result"
    }
   ],
   "source": [
    "cross_val_score(nlprfsplitlog,xx_test,np.log(yy_test))"
   ]
  },
  {
   "cell_type": "code",
   "execution_count": 374,
   "id": "4af37860",
   "metadata": {},
   "outputs": [
    {
     "data": {
      "text/plain": [
       "0.8855994678866512"
      ]
     },
     "execution_count": 374,
     "metadata": {},
     "output_type": "execute_result"
    }
   ],
   "source": [
    "np.mean(cross_val_score(nlprfsplitlog,xx_test,np.log(yy_test)))"
   ]
  },
  {
   "cell_type": "markdown",
   "id": "5d57a176",
   "metadata": {},
   "source": [
    "# gradient boosting method"
   ]
  },
  {
   "cell_type": "code",
   "execution_count": 375,
   "id": "5fd01d6f",
   "metadata": {},
   "outputs": [
    {
     "data": {
      "text/plain": [
       "GradientBoostingRegressor()"
      ]
     },
     "execution_count": 375,
     "metadata": {},
     "output_type": "execute_result"
    }
   ],
   "source": [
    "gbm"
   ]
  },
  {
   "cell_type": "code",
   "execution_count": 376,
   "id": "e2da5f12",
   "metadata": {},
   "outputs": [],
   "source": [
    "nlpgbmsplit=gbm.fit(xx_train,yy_train)"
   ]
  },
  {
   "cell_type": "code",
   "execution_count": 377,
   "id": "a216021b",
   "metadata": {},
   "outputs": [
    {
     "data": {
      "text/plain": [
       "0.9116165207239112"
      ]
     },
     "execution_count": 377,
     "metadata": {},
     "output_type": "execute_result"
    }
   ],
   "source": [
    "nlpgbmsplit.score(xx_train,yy_train)"
   ]
  },
  {
   "cell_type": "code",
   "execution_count": 378,
   "id": "e4e22861",
   "metadata": {},
   "outputs": [
    {
     "data": {
      "text/plain": [
       "array([0.90662686, 0.84700208, 0.83152823, 0.88109416, 0.88441867])"
      ]
     },
     "execution_count": 378,
     "metadata": {},
     "output_type": "execute_result"
    }
   ],
   "source": [
    "cross_val_score(nlpgbmsplit,xx_train,yy_train)"
   ]
  },
  {
   "cell_type": "code",
   "execution_count": 379,
   "id": "8a418efd",
   "metadata": {},
   "outputs": [
    {
     "data": {
      "text/plain": [
       "0.8628252050906905"
      ]
     },
     "execution_count": 379,
     "metadata": {},
     "output_type": "execute_result"
    }
   ],
   "source": [
    "np.mean(cross_val_score(nlpgbmsplit,xx_train,yy_train))"
   ]
  },
  {
   "cell_type": "code",
   "execution_count": 380,
   "id": "54a93380",
   "metadata": {},
   "outputs": [
    {
     "data": {
      "text/plain": [
       "0.8842991878510114"
      ]
     },
     "execution_count": 380,
     "metadata": {},
     "output_type": "execute_result"
    }
   ],
   "source": [
    "nlpgbmsplit.score(xx_test,yy_test)"
   ]
  },
  {
   "cell_type": "code",
   "execution_count": 381,
   "id": "caa3a41b",
   "metadata": {},
   "outputs": [
    {
     "data": {
      "text/plain": [
       "array([0.83558848, 0.84949588, 0.90949129, 0.8565755 , 0.85847482])"
      ]
     },
     "execution_count": 381,
     "metadata": {},
     "output_type": "execute_result"
    }
   ],
   "source": [
    "cross_val_score(nlpgbmsplit,xx_test,yy_test)"
   ]
  },
  {
   "cell_type": "code",
   "execution_count": 382,
   "id": "f2f020d9",
   "metadata": {},
   "outputs": [
    {
     "data": {
      "text/plain": [
       "0.8652417164056463"
      ]
     },
     "execution_count": 382,
     "metadata": {},
     "output_type": "execute_result"
    }
   ],
   "source": [
    "np.mean(cross_val_score(nlpgbmsplit,xx_test,yy_test))"
   ]
  },
  {
   "cell_type": "markdown",
   "id": "017022f1",
   "metadata": {},
   "source": [
    "# log gradient boosting method"
   ]
  },
  {
   "cell_type": "code",
   "execution_count": 383,
   "id": "3b0b2936",
   "metadata": {},
   "outputs": [],
   "source": [
    "nlpgbmsplitlog=gbm.fit(xx_train,np.log(yy_train))"
   ]
  },
  {
   "cell_type": "code",
   "execution_count": 384,
   "id": "aac83a42",
   "metadata": {},
   "outputs": [
    {
     "data": {
      "text/plain": [
       "0.9108021298598243"
      ]
     },
     "execution_count": 384,
     "metadata": {},
     "output_type": "execute_result"
    }
   ],
   "source": [
    "nlpgbmsplitlog.score(xx_train,np.log(yy_train))"
   ]
  },
  {
   "cell_type": "code",
   "execution_count": 385,
   "id": "a7e15497",
   "metadata": {},
   "outputs": [
    {
     "data": {
      "text/plain": [
       "array([0.9111357 , 0.90928033, 0.90977445, 0.90844231, 0.91044859])"
      ]
     },
     "execution_count": 385,
     "metadata": {},
     "output_type": "execute_result"
    }
   ],
   "source": [
    "cross_val_score(nlpgbmsplitlog,xx_train,np.log(yy_train))"
   ]
  },
  {
   "cell_type": "code",
   "execution_count": 386,
   "id": "5123a9fb",
   "metadata": {},
   "outputs": [
    {
     "data": {
      "text/plain": [
       "0.9098148022983874"
      ]
     },
     "execution_count": 386,
     "metadata": {},
     "output_type": "execute_result"
    }
   ],
   "source": [
    "np.mean(cross_val_score(nlpgbmsplitlog,xx_train,np.log(yy_train)))"
   ]
  },
  {
   "cell_type": "code",
   "execution_count": 387,
   "id": "b136855a",
   "metadata": {},
   "outputs": [
    {
     "data": {
      "text/plain": [
       "0.9086336766586061"
      ]
     },
     "execution_count": 387,
     "metadata": {},
     "output_type": "execute_result"
    }
   ],
   "source": [
    "nlpgbmsplitlog.score(xx_test,np.log(yy_test))"
   ]
  },
  {
   "cell_type": "code",
   "execution_count": 388,
   "id": "88d27acb",
   "metadata": {},
   "outputs": [
    {
     "data": {
      "text/plain": [
       "array([0.90838845, 0.90918587, 0.90502885, 0.90866183, 0.90706412])"
      ]
     },
     "execution_count": 388,
     "metadata": {},
     "output_type": "execute_result"
    }
   ],
   "source": [
    "cross_val_score(nlpgbmsplitlog,xx_test,np.log(yy_test))"
   ]
  },
  {
   "cell_type": "code",
   "execution_count": 389,
   "id": "22db12d7",
   "metadata": {},
   "outputs": [
    {
     "data": {
      "text/plain": [
       "0.9076599433882244"
      ]
     },
     "execution_count": 389,
     "metadata": {},
     "output_type": "execute_result"
    }
   ],
   "source": [
    "np.mean(cross_val_score(nlpgbmsplitlog,xx_test,np.log(yy_test)))"
   ]
  },
  {
   "cell_type": "code",
   "execution_count": 394,
   "id": "e7f2fc9e",
   "metadata": {},
   "outputs": [],
   "source": [
    "report=pd.read_excel(\"report file acess normal.xlsx\")"
   ]
  },
  {
   "cell_type": "code",
   "execution_count": 395,
   "id": "2ce77247",
   "metadata": {},
   "outputs": [
    {
     "data": {
      "text/html": [
       "<div>\n",
       "<style scoped>\n",
       "    .dataframe tbody tr th:only-of-type {\n",
       "        vertical-align: middle;\n",
       "    }\n",
       "\n",
       "    .dataframe tbody tr th {\n",
       "        vertical-align: top;\n",
       "    }\n",
       "\n",
       "    .dataframe thead th {\n",
       "        text-align: right;\n",
       "    }\n",
       "</style>\n",
       "<table border=\"1\" class=\"dataframe\">\n",
       "  <thead>\n",
       "    <tr style=\"text-align: right;\">\n",
       "      <th></th>\n",
       "      <th>model</th>\n",
       "      <th>accuracy</th>\n",
       "      <th>cross validation score</th>\n",
       "      <th>rmse</th>\n",
       "      <th>NLP</th>\n",
       "      <th>accuracy.1</th>\n",
       "      <th>cross validation score .1</th>\n",
       "      <th>rmse.1</th>\n",
       "      <th>Unnamed: 8</th>\n",
       "      <th>Unnamed: 9</th>\n",
       "    </tr>\n",
       "  </thead>\n",
       "  <tbody>\n",
       "    <tr>\n",
       "      <th>0</th>\n",
       "      <td>linear regression model</td>\n",
       "      <td>0.628</td>\n",
       "      <td>0.621</td>\n",
       "      <td>370.22</td>\n",
       "      <td>NaN</td>\n",
       "      <td>0.646</td>\n",
       "      <td>-26412755</td>\n",
       "      <td>361.274</td>\n",
       "      <td>NaN</td>\n",
       "      <td>NaN</td>\n",
       "    </tr>\n",
       "    <tr>\n",
       "      <th>1</th>\n",
       "      <td>linear regression log</td>\n",
       "      <td>0.514</td>\n",
       "      <td>0.455</td>\n",
       "      <td>554894…</td>\n",
       "      <td>NaN</td>\n",
       "      <td>0.672</td>\n",
       "      <td>-14861855.4622</td>\n",
       "      <td>507612549.4865</td>\n",
       "      <td>NaN</td>\n",
       "      <td>NaN</td>\n",
       "    </tr>\n",
       "    <tr>\n",
       "      <th>2</th>\n",
       "      <td>decission tree</td>\n",
       "      <td>0.923</td>\n",
       "      <td>0.854</td>\n",
       "      <td>167.812</td>\n",
       "      <td>NaN</td>\n",
       "      <td>0.923</td>\n",
       "      <td>0.888</td>\n",
       "      <td>168</td>\n",
       "      <td>NaN</td>\n",
       "      <td>NaN</td>\n",
       "    </tr>\n",
       "    <tr>\n",
       "      <th>3</th>\n",
       "      <td>decission tree log</td>\n",
       "      <td>0.911</td>\n",
       "      <td>0.903</td>\n",
       "      <td>220.11</td>\n",
       "      <td>NaN</td>\n",
       "      <td>0.911</td>\n",
       "      <td>0.905</td>\n",
       "      <td>206.37</td>\n",
       "      <td>NaN</td>\n",
       "      <td>NaN</td>\n",
       "    </tr>\n",
       "    <tr>\n",
       "      <th>4</th>\n",
       "      <td>random forest</td>\n",
       "      <td>0.869</td>\n",
       "      <td>0.848</td>\n",
       "      <td>219.473</td>\n",
       "      <td>NaN</td>\n",
       "      <td>0.869</td>\n",
       "      <td>0.849</td>\n",
       "      <td>219.305</td>\n",
       "      <td>NaN</td>\n",
       "      <td>NaN</td>\n",
       "    </tr>\n",
       "    <tr>\n",
       "      <th>5</th>\n",
       "      <td>random forest log</td>\n",
       "      <td>0.884</td>\n",
       "      <td>0.883</td>\n",
       "      <td>449.404</td>\n",
       "      <td>NaN</td>\n",
       "      <td>0.885</td>\n",
       "      <td>0.884</td>\n",
       "      <td>449.448</td>\n",
       "      <td>NaN</td>\n",
       "      <td>NaN</td>\n",
       "    </tr>\n",
       "    <tr>\n",
       "      <th>6</th>\n",
       "      <td>gradient boosting method</td>\n",
       "      <td>0.906</td>\n",
       "      <td>0.863</td>\n",
       "      <td>185.905</td>\n",
       "      <td>NaN</td>\n",
       "      <td>0.907</td>\n",
       "      <td>0.877</td>\n",
       "      <td>185.27</td>\n",
       "      <td>NaN</td>\n",
       "      <td>NaN</td>\n",
       "    </tr>\n",
       "    <tr>\n",
       "      <th>7</th>\n",
       "      <td>gradient boosting method log</td>\n",
       "      <td>0.909</td>\n",
       "      <td>0.902</td>\n",
       "      <td>331.866</td>\n",
       "      <td>NaN</td>\n",
       "      <td>0.9101</td>\n",
       "      <td>0.904</td>\n",
       "      <td>388.284</td>\n",
       "      <td>NaN</td>\n",
       "      <td>NaN</td>\n",
       "    </tr>\n",
       "    <tr>\n",
       "      <th>8</th>\n",
       "      <td>NaN</td>\n",
       "      <td>NaN</td>\n",
       "      <td>NaN</td>\n",
       "      <td>NaN</td>\n",
       "      <td>NaN</td>\n",
       "      <td>NaN</td>\n",
       "      <td>NaN</td>\n",
       "      <td>NaN</td>\n",
       "      <td>NaN</td>\n",
       "      <td>NaN</td>\n",
       "    </tr>\n",
       "    <tr>\n",
       "      <th>9</th>\n",
       "      <td>model</td>\n",
       "      <td>train accuracy</td>\n",
       "      <td>test accuracy</td>\n",
       "      <td>train cross</td>\n",
       "      <td>test cross</td>\n",
       "      <td>nlp</td>\n",
       "      <td>train accuracy</td>\n",
       "      <td>test accuracy</td>\n",
       "      <td>train cross</td>\n",
       "      <td>test cross</td>\n",
       "    </tr>\n",
       "    <tr>\n",
       "      <th>10</th>\n",
       "      <td>linear regression model</td>\n",
       "      <td>0.631</td>\n",
       "      <td>0.611</td>\n",
       "      <td>0.623</td>\n",
       "      <td>0.615</td>\n",
       "      <td>NaN</td>\n",
       "      <td>0.644</td>\n",
       "      <td>0.652</td>\n",
       "      <td>-118511.132</td>\n",
       "      <td>-37515689.39488</td>\n",
       "    </tr>\n",
       "    <tr>\n",
       "      <th>11</th>\n",
       "      <td>linear regression log</td>\n",
       "      <td>0.513</td>\n",
       "      <td>0.516</td>\n",
       "      <td>0.513</td>\n",
       "      <td>0.516</td>\n",
       "      <td>NaN</td>\n",
       "      <td>0.672</td>\n",
       "      <td>0.674</td>\n",
       "      <td>-220886.6968</td>\n",
       "      <td>-13529627.792</td>\n",
       "    </tr>\n",
       "    <tr>\n",
       "      <th>12</th>\n",
       "      <td>decission tree</td>\n",
       "      <td>0.927</td>\n",
       "      <td>0.893</td>\n",
       "      <td>0.87</td>\n",
       "      <td>0.84</td>\n",
       "      <td>NaN</td>\n",
       "      <td>0.926</td>\n",
       "      <td>0.893</td>\n",
       "      <td>0.863</td>\n",
       "      <td>0.847</td>\n",
       "    </tr>\n",
       "    <tr>\n",
       "      <th>13</th>\n",
       "      <td>decission tree log</td>\n",
       "      <td>0.911</td>\n",
       "      <td>0.908</td>\n",
       "      <td>0.907</td>\n",
       "      <td>0.902</td>\n",
       "      <td>NaN</td>\n",
       "      <td>0.912</td>\n",
       "      <td>0.906</td>\n",
       "      <td>0.908</td>\n",
       "      <td>0.989</td>\n",
       "    </tr>\n",
       "    <tr>\n",
       "      <th>14</th>\n",
       "      <td>random forest</td>\n",
       "      <td>0.927</td>\n",
       "      <td>0.889</td>\n",
       "      <td>0.869</td>\n",
       "      <td>0.842</td>\n",
       "      <td>NaN</td>\n",
       "      <td>0.875</td>\n",
       "      <td>0.845</td>\n",
       "      <td>0.845</td>\n",
       "      <td>0.823</td>\n",
       "    </tr>\n",
       "    <tr>\n",
       "      <th>15</th>\n",
       "      <td>random forest log</td>\n",
       "      <td>0.911</td>\n",
       "      <td>0.908</td>\n",
       "      <td>0.907</td>\n",
       "      <td>0.903</td>\n",
       "      <td>NaN</td>\n",
       "      <td>0.885</td>\n",
       "      <td>0.883</td>\n",
       "      <td>0.885</td>\n",
       "      <td>0.885</td>\n",
       "    </tr>\n",
       "    <tr>\n",
       "      <th>16</th>\n",
       "      <td>gradient boosting method</td>\n",
       "      <td>0.912</td>\n",
       "      <td>0.873</td>\n",
       "      <td>0.87</td>\n",
       "      <td>0.861</td>\n",
       "      <td>NaN</td>\n",
       "      <td>0.911</td>\n",
       "      <td>0.884</td>\n",
       "      <td>0.862</td>\n",
       "      <td>0.865</td>\n",
       "    </tr>\n",
       "    <tr>\n",
       "      <th>17</th>\n",
       "      <td>gradient boosting method log</td>\n",
       "      <td>0.904</td>\n",
       "      <td>0.908</td>\n",
       "      <td>0.908</td>\n",
       "      <td>0.908</td>\n",
       "      <td>NaN</td>\n",
       "      <td>0.91</td>\n",
       "      <td>0.908</td>\n",
       "      <td>0.909</td>\n",
       "      <td>0.907</td>\n",
       "    </tr>\n",
       "  </tbody>\n",
       "</table>\n",
       "</div>"
      ],
      "text/plain": [
       "                           model        accuracy cross validation score   \\\n",
       "0        linear regression model           0.628                   0.621   \n",
       "1          linear regression log           0.514                   0.455   \n",
       "2                 decission tree           0.923                   0.854   \n",
       "3             decission tree log           0.911                   0.903   \n",
       "4                  random forest           0.869                   0.848   \n",
       "5              random forest log           0.884                   0.883   \n",
       "6       gradient boosting method           0.906                   0.863   \n",
       "7   gradient boosting method log           0.909                   0.902   \n",
       "8                            NaN             NaN                     NaN   \n",
       "9                          model  train accuracy           test accuracy   \n",
       "10       linear regression model           0.631                   0.611   \n",
       "11         linear regression log           0.513                   0.516   \n",
       "12                decission tree           0.927                   0.893   \n",
       "13            decission tree log           0.911                   0.908   \n",
       "14                 random forest           0.927                   0.889   \n",
       "15             random forest log           0.911                   0.908   \n",
       "16      gradient boosting method           0.912                   0.873   \n",
       "17  gradient boosting method log           0.904                   0.908   \n",
       "\n",
       "           rmse         NLP accuracy.1 cross validation score .1  \\\n",
       "0        370.22         NaN      0.646                 -26412755   \n",
       "1       554894…         NaN      0.672            -14861855.4622   \n",
       "2       167.812         NaN      0.923                     0.888   \n",
       "3        220.11         NaN      0.911                     0.905   \n",
       "4       219.473         NaN      0.869                     0.849   \n",
       "5       449.404         NaN      0.885                     0.884   \n",
       "6       185.905         NaN      0.907                     0.877   \n",
       "7       331.866         NaN     0.9101                     0.904   \n",
       "8           NaN         NaN        NaN                       NaN   \n",
       "9   train cross  test cross        nlp            train accuracy   \n",
       "10        0.623       0.615        NaN                     0.644   \n",
       "11        0.513       0.516        NaN                     0.672   \n",
       "12         0.87        0.84        NaN                     0.926   \n",
       "13        0.907       0.902        NaN                     0.912   \n",
       "14        0.869       0.842        NaN                     0.875   \n",
       "15        0.907       0.903        NaN                     0.885   \n",
       "16         0.87       0.861        NaN                     0.911   \n",
       "17        0.908       0.908        NaN                      0.91   \n",
       "\n",
       "            rmse.1   Unnamed: 8      Unnamed: 9  \n",
       "0          361.274          NaN             NaN  \n",
       "1   507612549.4865          NaN             NaN  \n",
       "2              168          NaN             NaN  \n",
       "3           206.37          NaN             NaN  \n",
       "4          219.305          NaN             NaN  \n",
       "5          449.448          NaN             NaN  \n",
       "6           185.27          NaN             NaN  \n",
       "7          388.284          NaN             NaN  \n",
       "8              NaN          NaN             NaN  \n",
       "9    test accuracy  train cross      test cross  \n",
       "10           0.652  -118511.132 -37515689.39488  \n",
       "11           0.674 -220886.6968   -13529627.792  \n",
       "12           0.893        0.863           0.847  \n",
       "13           0.906        0.908           0.989  \n",
       "14           0.845        0.845           0.823  \n",
       "15           0.883        0.885           0.885  \n",
       "16           0.884        0.862           0.865  \n",
       "17           0.908        0.909           0.907  "
      ]
     },
     "execution_count": 395,
     "metadata": {},
     "output_type": "execute_result"
    }
   ],
   "source": [
    "report"
   ]
  },
  {
   "cell_type": "markdown",
   "id": "3436ab1b",
   "metadata": {},
   "source": [
    "# According to my report, the gradient boosting model fits the data better than all the other models."
   ]
  },
  {
   "cell_type": "code",
   "execution_count": null,
   "id": "2244f0c0",
   "metadata": {},
   "outputs": [],
   "source": []
  }
 ],
 "metadata": {
  "kernelspec": {
   "display_name": "Python 3 (ipykernel)",
   "language": "python",
   "name": "python3"
  },
  "language_info": {
   "codemirror_mode": {
    "name": "ipython",
    "version": 3
   },
   "file_extension": ".py",
   "mimetype": "text/x-python",
   "name": "python",
   "nbconvert_exporter": "python",
   "pygments_lexer": "ipython3",
   "version": "3.9.12"
  }
 },
 "nbformat": 4,
 "nbformat_minor": 5
}
