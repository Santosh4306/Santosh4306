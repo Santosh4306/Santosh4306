{
 "cells": [
  {
   "cell_type": "code",
   "execution_count": 1,
   "id": "efd61ced",
   "metadata": {},
   "outputs": [],
   "source": [
    "#Attribute Information:\n",
    "\n",
    "#This research employed a binary variable, default payment (Yes = 1, No = 0), as the response variable. This study reviewed the literature and used the following 23 variables as explanatory variables:\n",
    "#X1: Amount of the given credit (NT dollar): it includes both the individual consumer credit and his/her family (supplementary) credit.\n",
    "#X2: Gender (1 = male; 2 = female).\n",
    "#X3: Education (1 = graduate school; 2 = university; 3 = high school; 4 = others).\n",
    "#X4: Marital status (1 = married; 2 = single; 3 = others).\n",
    "#X5: Age (year).\n",
    "#X6 - X11: History of past payment. We tracked the past monthly payment records (from April to September, 2005) as follows: X6 = the repayment status in September, 2005; X7 = the repayment status in August, 2005; . . .;X11 = the repayment status in April, 2005. The measurement scale for the repayment status is: -1 = pay duly; 1 = payment delay for one month; 2 = payment delay for two months; . . .; 8 = payment delaynt delay for nine months and above. for eight months; 9 = payme\n",
    "#X12-X17: Amount of bill statement (NT dollar). X12 = amount of bill statement in September, 2005; X13 = amount of bill statement in August, 2005; . . .; X17 = amount of bill statement in April, 2005.\n",
    "#X18-X23: Amount of previous payment (NT dollar). X18 = amount paid in September, 2005; X19 = amount paid in August, 2005; . . .;X23 = amount paid in April, 2005.\n",
    "\n",
    "\n",
    "#Evaluation Tasks for PGA 20\n",
    "\n",
    "# Exploratory Data Analysis\n",
    "# Frequency Counts of default.payment.next.month, SEX, Education, Marriage\n",
    "# Describe of Limit_Bal, Age, BILL_AMT1,BILL_AMT2,BILL_AMT3,BILL_AMT4,\n",
    "# BILL_AMT5, BILL_AMT6\n",
    "# Frequency Counts of PAY_0, PAY_2,PAY_3,PAY_4,PAY_5,PAY_6\n",
    "\n",
    "# Histogram, Boxplot and density Curve - Limit_Bal, Age\n",
    "\n",
    "# Cross Tabulations default.payment.next.month and Sex, \n",
    "# default.payment.next.month and Education, \n",
    "# default.payment.next.month and Marriage\n",
    "\n",
    "# What is the Average Limit_bal for default.payment.next.month 0 & 1?\n",
    "# What is the Average Age for default.payment.next.month 0 & 1?\n",
    "# What is the Averahe Limit_Bal for Marriage?\\\n",
    "\n",
    "# Hypothesis testing\n",
    "# Test Null Average Limit_bal for gender is equal\n",
    "# Test Null Average Limit_bal for Marital is equal\n",
    "# Test Null No Association between gender and default.payment.next.month\n",
    "# Test Null No Association between Marital and default.payment.next.month\n",
    "\n",
    "# Label Encode after seleting the following variables as object\n",
    "# default.payment.next.month, SEX, Education, MarriagePAY_0, PAY_2,PAY_3,\n",
    "# PAY_4,PAY_5,PAY_6\n",
    "# Numericvariables - LIMIT_BAL,all BILL_AMT,PAY_AMT\n",
    "# Correlation of Numeric Variables\n",
    "\n",
    "# Balance Data using SMOTENC if necessary\n",
    "\n",
    "# Build the following Models\n",
    "# Logistic Regression, Decsion Tree, Random Forest, Gradient Boosting,\n",
    "# Support VEctor, Naive Bayes, MLPClassifier\n",
    "# Predict and Print Classification Report\n",
    "# Cross Validate all Models\n",
    "# Plot ROC Curve\n",
    "# Find the Best Model."
   ]
  },
  {
   "cell_type": "code",
   "execution_count": 2,
   "id": "1bf0f477",
   "metadata": {},
   "outputs": [],
   "source": [
    "import pandas as pd\n",
    "import numpy as np\n",
    "import matplotlib.pyplot as ply\n",
    "%matplotlib inline"
   ]
  },
  {
   "cell_type": "code",
   "execution_count": 3,
   "id": "c623b0e9",
   "metadata": {},
   "outputs": [
    {
     "name": "stdout",
     "output_type": "stream",
     "text": [
      "D:\\phython\\credit\n"
     ]
    }
   ],
   "source": [
    "import io\n",
    "%cd \"D:\\phython\\credit\""
   ]
  },
  {
   "cell_type": "code",
   "execution_count": 4,
   "id": "973c2487",
   "metadata": {},
   "outputs": [],
   "source": [
    "credict=pd.read_csv(\"UCI_Credit_Card Classification Data.csv\")"
   ]
  },
  {
   "cell_type": "code",
   "execution_count": 5,
   "id": "2b69208b",
   "metadata": {},
   "outputs": [
    {
     "data": {
      "text/plain": [
       "(30000, 25)"
      ]
     },
     "execution_count": 5,
     "metadata": {},
     "output_type": "execute_result"
    }
   ],
   "source": [
    "credict.shape"
   ]
  },
  {
   "cell_type": "code",
   "execution_count": 6,
   "id": "dd493d43",
   "metadata": {},
   "outputs": [
    {
     "data": {
      "text/plain": [
       "ID                            0\n",
       "BILL_AMT2                     0\n",
       "PAY_AMT6                      0\n",
       "PAY_AMT5                      0\n",
       "PAY_AMT4                      0\n",
       "PAY_AMT3                      0\n",
       "PAY_AMT2                      0\n",
       "PAY_AMT1                      0\n",
       "BILL_AMT6                     0\n",
       "BILL_AMT5                     0\n",
       "BILL_AMT4                     0\n",
       "BILL_AMT3                     0\n",
       "BILL_AMT1                     0\n",
       "LIMIT_BAL                     0\n",
       "PAY_6                         0\n",
       "PAY_5                         0\n",
       "PAY_4                         0\n",
       "PAY_3                         0\n",
       "PAY_2                         0\n",
       "PAY_0                         0\n",
       "AGE                           0\n",
       "MARRIAGE                      0\n",
       "EDUCATION                     0\n",
       "SEX                           0\n",
       "default.payment.next.month    0\n",
       "dtype: int64"
      ]
     },
     "execution_count": 6,
     "metadata": {},
     "output_type": "execute_result"
    }
   ],
   "source": [
    "credict.isnull().sum().sort_values(ascending=False)"
   ]
  },
  {
   "cell_type": "markdown",
   "id": "72db8bc4",
   "metadata": {},
   "source": [
    "# in credict data set thier is no null and missing values"
   ]
  },
  {
   "cell_type": "code",
   "execution_count": 7,
   "id": "6f9fd31c",
   "metadata": {},
   "outputs": [
    {
     "data": {
      "text/plain": [
       "ID                            0\n",
       "LIMIT_BAL                     0\n",
       "SEX                           0\n",
       "EDUCATION                     0\n",
       "MARRIAGE                      0\n",
       "AGE                           0\n",
       "PAY_0                         0\n",
       "PAY_2                         0\n",
       "PAY_3                         0\n",
       "PAY_4                         0\n",
       "PAY_5                         0\n",
       "PAY_6                         0\n",
       "BILL_AMT1                     0\n",
       "BILL_AMT2                     0\n",
       "BILL_AMT3                     0\n",
       "BILL_AMT4                     0\n",
       "BILL_AMT5                     0\n",
       "BILL_AMT6                     0\n",
       "PAY_AMT1                      0\n",
       "PAY_AMT2                      0\n",
       "PAY_AMT3                      0\n",
       "PAY_AMT4                      0\n",
       "PAY_AMT5                      0\n",
       "PAY_AMT6                      0\n",
       "default.payment.next.month    0\n",
       "dtype: int64"
      ]
     },
     "execution_count": 7,
     "metadata": {},
     "output_type": "execute_result"
    }
   ],
   "source": [
    "credict.isnull().sum()*100"
   ]
  },
  {
   "cell_type": "code",
   "execution_count": 8,
   "id": "8d2e6ab8",
   "metadata": {},
   "outputs": [],
   "source": [
    "# replaceing the column name\n",
    "credict.rename(columns={\"default.payment.next.month\":\"nextmonth\"},inplace=True)"
   ]
  },
  {
   "cell_type": "code",
   "execution_count": 9,
   "id": "2b347878",
   "metadata": {},
   "outputs": [
    {
     "name": "stdout",
     "output_type": "stream",
     "text": [
      "<class 'pandas.core.frame.DataFrame'>\n",
      "RangeIndex: 30000 entries, 0 to 29999\n",
      "Data columns (total 25 columns):\n",
      " #   Column     Non-Null Count  Dtype  \n",
      "---  ------     --------------  -----  \n",
      " 0   ID         30000 non-null  int64  \n",
      " 1   LIMIT_BAL  30000 non-null  float64\n",
      " 2   SEX        30000 non-null  int64  \n",
      " 3   EDUCATION  30000 non-null  int64  \n",
      " 4   MARRIAGE   30000 non-null  int64  \n",
      " 5   AGE        30000 non-null  int64  \n",
      " 6   PAY_0      30000 non-null  int64  \n",
      " 7   PAY_2      30000 non-null  int64  \n",
      " 8   PAY_3      30000 non-null  int64  \n",
      " 9   PAY_4      30000 non-null  int64  \n",
      " 10  PAY_5      30000 non-null  int64  \n",
      " 11  PAY_6      30000 non-null  int64  \n",
      " 12  BILL_AMT1  30000 non-null  float64\n",
      " 13  BILL_AMT2  30000 non-null  float64\n",
      " 14  BILL_AMT3  30000 non-null  float64\n",
      " 15  BILL_AMT4  30000 non-null  float64\n",
      " 16  BILL_AMT5  30000 non-null  float64\n",
      " 17  BILL_AMT6  30000 non-null  float64\n",
      " 18  PAY_AMT1   30000 non-null  float64\n",
      " 19  PAY_AMT2   30000 non-null  float64\n",
      " 20  PAY_AMT3   30000 non-null  float64\n",
      " 21  PAY_AMT4   30000 non-null  float64\n",
      " 22  PAY_AMT5   30000 non-null  float64\n",
      " 23  PAY_AMT6   30000 non-null  float64\n",
      " 24  nextmonth  30000 non-null  int64  \n",
      "dtypes: float64(13), int64(12)\n",
      "memory usage: 5.7 MB\n"
     ]
    }
   ],
   "source": [
    "credict.info()"
   ]
  },
  {
   "cell_type": "code",
   "execution_count": 10,
   "id": "d708ca90",
   "metadata": {},
   "outputs": [],
   "source": [
    "s=credict.SEX"
   ]
  },
  {
   "cell_type": "code",
   "execution_count": 11,
   "id": "d838bdef",
   "metadata": {},
   "outputs": [
    {
     "name": "stdout",
     "output_type": "stream",
     "text": [
      "1        1\n",
      "19997    1\n",
      "20009    1\n",
      "20008    1\n",
      "20007    1\n",
      "        ..\n",
      "9996     1\n",
      "9995     1\n",
      "9994     1\n",
      "9993     1\n",
      "30000    1\n",
      "Name: ID, Length: 30000, dtype: int64\n",
      "50000.0      3365\n",
      "20000.0      1976\n",
      "30000.0      1610\n",
      "80000.0      1567\n",
      "200000.0     1528\n",
      "             ... \n",
      "730000.0        2\n",
      "1000000.0       1\n",
      "327680.0        1\n",
      "760000.0        1\n",
      "690000.0        1\n",
      "Name: LIMIT_BAL, Length: 81, dtype: int64\n",
      "2    18112\n",
      "1    11888\n",
      "Name: SEX, dtype: int64\n",
      "2    14030\n",
      "1    10585\n",
      "3     4917\n",
      "5      280\n",
      "4      123\n",
      "6       51\n",
      "0       14\n",
      "Name: EDUCATION, dtype: int64\n",
      "2    15964\n",
      "1    13659\n",
      "3      323\n",
      "0       54\n",
      "Name: MARRIAGE, dtype: int64\n",
      "29    1605\n",
      "27    1477\n",
      "28    1409\n",
      "30    1395\n",
      "26    1256\n",
      "31    1217\n",
      "25    1186\n",
      "34    1162\n",
      "32    1158\n",
      "33    1146\n",
      "24    1127\n",
      "35    1113\n",
      "36    1108\n",
      "37    1041\n",
      "39     954\n",
      "38     944\n",
      "23     931\n",
      "40     870\n",
      "41     824\n",
      "42     794\n",
      "44     700\n",
      "43     670\n",
      "45     617\n",
      "46     570\n",
      "22     560\n",
      "47     501\n",
      "48     466\n",
      "49     452\n",
      "50     411\n",
      "51     340\n",
      "53     325\n",
      "52     304\n",
      "54     247\n",
      "55     209\n",
      "56     178\n",
      "58     122\n",
      "57     122\n",
      "59      83\n",
      "60      67\n",
      "21      67\n",
      "61      56\n",
      "62      44\n",
      "63      31\n",
      "64      31\n",
      "66      25\n",
      "65      24\n",
      "67      16\n",
      "69      15\n",
      "70      10\n",
      "68       5\n",
      "73       4\n",
      "72       3\n",
      "75       3\n",
      "71       3\n",
      "79       1\n",
      "74       1\n",
      "Name: AGE, dtype: int64\n",
      " 0    14737\n",
      "-1     5686\n",
      " 1     3688\n",
      "-2     2759\n",
      " 2     2667\n",
      " 3      322\n",
      " 4       76\n",
      " 5       26\n",
      " 8       19\n",
      " 6       11\n",
      " 7        9\n",
      "Name: PAY_0, dtype: int64\n",
      " 0    15730\n",
      "-1     6050\n",
      " 2     3927\n",
      "-2     3782\n",
      " 3      326\n",
      " 4       99\n",
      " 1       28\n",
      " 5       25\n",
      " 7       20\n",
      " 6       12\n",
      " 8        1\n",
      "Name: PAY_2, dtype: int64\n",
      " 0    15764\n",
      "-1     5938\n",
      "-2     4085\n",
      " 2     3819\n",
      " 3      240\n",
      " 4       76\n",
      " 7       27\n",
      " 6       23\n",
      " 5       21\n",
      " 1        4\n",
      " 8        3\n",
      "Name: PAY_3, dtype: int64\n",
      " 0    16455\n",
      "-1     5687\n",
      "-2     4348\n",
      " 2     3159\n",
      " 3      180\n",
      " 4       69\n",
      " 7       58\n",
      " 5       35\n",
      " 6        5\n",
      " 1        2\n",
      " 8        2\n",
      "Name: PAY_4, dtype: int64\n",
      " 0    16947\n",
      "-1     5539\n",
      "-2     4546\n",
      " 2     2626\n",
      " 3      178\n",
      " 4       84\n",
      " 7       58\n",
      " 5       17\n",
      " 6        4\n",
      " 8        1\n",
      "Name: PAY_5, dtype: int64\n",
      " 0    16286\n",
      "-1     5740\n",
      "-2     4895\n",
      " 2     2766\n",
      " 3      184\n",
      " 4       49\n",
      " 7       46\n",
      " 6       19\n",
      " 5       13\n",
      " 8        2\n",
      "Name: PAY_6, dtype: int64\n",
      "0.0         2008\n",
      "390.0        244\n",
      "780.0         76\n",
      "326.0         72\n",
      "316.0         63\n",
      "            ... \n",
      "11636.0        1\n",
      "146034.0       1\n",
      "20817.0        1\n",
      "1351.0         1\n",
      "47929.0        1\n",
      "Name: BILL_AMT1, Length: 22723, dtype: int64\n",
      "0.0        2506\n",
      "390.0       231\n",
      "326.0        75\n",
      "780.0        75\n",
      "316.0        72\n",
      "           ... \n",
      "26357.0       1\n",
      "85195.0       1\n",
      "6889.0        1\n",
      "11004.0       1\n",
      "48905.0       1\n",
      "Name: BILL_AMT2, Length: 22346, dtype: int64\n",
      "0.0         2870\n",
      "390.0        275\n",
      "780.0         74\n",
      "326.0         63\n",
      "316.0         62\n",
      "            ... \n",
      "19580.0        1\n",
      "45129.0        1\n",
      "227807.0       1\n",
      "39330.0        1\n",
      "49764.0        1\n",
      "Name: BILL_AMT3, Length: 22026, dtype: int64\n",
      "0.0         3195\n",
      "390.0        246\n",
      "780.0        101\n",
      "316.0         68\n",
      "326.0         62\n",
      "            ... \n",
      "97189.0        1\n",
      "118839.0       1\n",
      "23567.0        1\n",
      "18377.0        1\n",
      "36535.0        1\n",
      "Name: BILL_AMT4, Length: 21548, dtype: int64\n",
      "0.0        3506\n",
      "390.0       235\n",
      "780.0        94\n",
      "316.0        79\n",
      "326.0        62\n",
      "           ... \n",
      "19341.0       1\n",
      "66726.0       1\n",
      "80682.0       1\n",
      "28508.0       1\n",
      "32428.0       1\n",
      "Name: BILL_AMT5, Length: 21010, dtype: int64\n",
      "0.0         4020\n",
      "390.0        207\n",
      "780.0         86\n",
      "150.0         78\n",
      "316.0         77\n",
      "            ... \n",
      "26852.0        1\n",
      "108660.0       1\n",
      "480.0          1\n",
      "15298.0        1\n",
      "15313.0        1\n",
      "Name: BILL_AMT6, Length: 20604, dtype: int64\n",
      "0.0        5249\n",
      "2000.0     1363\n",
      "3000.0      891\n",
      "5000.0      698\n",
      "1500.0      507\n",
      "           ... \n",
      "3391.0        1\n",
      "7785.0        1\n",
      "66022.0       1\n",
      "10121.0       1\n",
      "85900.0       1\n",
      "Name: PAY_AMT1, Length: 7943, dtype: int64\n",
      "0.0        5396\n",
      "2000.0     1290\n",
      "3000.0      857\n",
      "5000.0      717\n",
      "1000.0      594\n",
      "           ... \n",
      "7866.0        1\n",
      "6206.0        1\n",
      "10529.0       1\n",
      "21300.0       1\n",
      "3526.0        1\n",
      "Name: PAY_AMT2, Length: 7899, dtype: int64\n",
      "0.0        5968\n",
      "2000.0     1285\n",
      "1000.0     1103\n",
      "3000.0      870\n",
      "5000.0      721\n",
      "           ... \n",
      "5102.0        1\n",
      "5368.0        1\n",
      "28138.0       1\n",
      "549.0         1\n",
      "25128.0       1\n",
      "Name: PAY_AMT3, Length: 7518, dtype: int64\n",
      "0.0        6408\n",
      "1000.0     1394\n",
      "2000.0     1214\n",
      "3000.0      887\n",
      "5000.0      810\n",
      "           ... \n",
      "18916.0       1\n",
      "3468.0        1\n",
      "11476.0       1\n",
      "4363.0        1\n",
      "8049.0        1\n",
      "Name: PAY_AMT4, Length: 6937, dtype: int64\n",
      "0.0        6703\n",
      "1000.0     1340\n",
      "2000.0     1323\n",
      "3000.0      947\n",
      "5000.0      814\n",
      "           ... \n",
      "9111.0        1\n",
      "16496.0       1\n",
      "4819.0        1\n",
      "10078.0       1\n",
      "52964.0       1\n",
      "Name: PAY_AMT5, Length: 6897, dtype: int64\n",
      "0.0        7173\n",
      "1000.0     1299\n",
      "2000.0     1295\n",
      "3000.0      914\n",
      "5000.0      808\n",
      "           ... \n",
      "7329.0        1\n",
      "6862.0        1\n",
      "6525.0        1\n",
      "11894.0       1\n",
      "16080.0       1\n",
      "Name: PAY_AMT6, Length: 6939, dtype: int64\n",
      "0    23364\n",
      "1     6636\n",
      "Name: nextmonth, dtype: int64\n"
     ]
    }
   ],
   "source": [
    "for col in credict.columns:\n",
    "    fir=credict[col].value_counts(dropna=False)\n",
    "    print(fir)       "
   ]
  },
  {
   "cell_type": "code",
   "execution_count": 12,
   "id": "ce8376cf",
   "metadata": {},
   "outputs": [],
   "source": [
    "# Frequency Counts of nextmonth, SEX, Education, Marriage"
   ]
  },
  {
   "cell_type": "code",
   "execution_count": 13,
   "id": "ac5890ca",
   "metadata": {},
   "outputs": [
    {
     "data": {
      "text/plain": [
       "0    23364\n",
       "1     6636\n",
       "Name: nextmonth, dtype: int64"
      ]
     },
     "execution_count": 13,
     "metadata": {},
     "output_type": "execute_result"
    }
   ],
   "source": [
    "credict.nextmonth.value_counts(dropna=False)"
   ]
  },
  {
   "cell_type": "code",
   "execution_count": 14,
   "id": "e0ad6bf9",
   "metadata": {},
   "outputs": [
    {
     "data": {
      "text/plain": [
       "2    18112\n",
       "1    11888\n",
       "Name: SEX, dtype: int64"
      ]
     },
     "execution_count": 14,
     "metadata": {},
     "output_type": "execute_result"
    }
   ],
   "source": [
    "credict.SEX.value_counts(dropna=False)"
   ]
  },
  {
   "cell_type": "code",
   "execution_count": 15,
   "id": "660d0046",
   "metadata": {},
   "outputs": [
    {
     "data": {
      "text/plain": [
       "2    14030\n",
       "1    10585\n",
       "3     4917\n",
       "5      280\n",
       "4      123\n",
       "6       51\n",
       "0       14\n",
       "Name: EDUCATION, dtype: int64"
      ]
     },
     "execution_count": 15,
     "metadata": {},
     "output_type": "execute_result"
    }
   ],
   "source": [
    "credict.EDUCATION.value_counts(dropna=False)"
   ]
  },
  {
   "cell_type": "code",
   "execution_count": 16,
   "id": "550494de",
   "metadata": {},
   "outputs": [
    {
     "data": {
      "text/plain": [
       "2    15964\n",
       "1    13659\n",
       "3      323\n",
       "0       54\n",
       "Name: MARRIAGE, dtype: int64"
      ]
     },
     "execution_count": 16,
     "metadata": {},
     "output_type": "execute_result"
    }
   ],
   "source": [
    "credict.MARRIAGE.value_counts(dropna=False)"
   ]
  },
  {
   "cell_type": "code",
   "execution_count": 17,
   "id": "8a4b9bd0",
   "metadata": {},
   "outputs": [],
   "source": [
    "# Describe of Limit_Bal, Age, BILL_AMT1,BILL_AMT2,BILL_AMT3,BILL_AMT4,\n",
    "# BILL_AMT5, BILL_AMT6"
   ]
  },
  {
   "cell_type": "code",
   "execution_count": 18,
   "id": "9b78912a",
   "metadata": {},
   "outputs": [
    {
     "data": {
      "text/html": [
       "<div>\n",
       "<style scoped>\n",
       "    .dataframe tbody tr th:only-of-type {\n",
       "        vertical-align: middle;\n",
       "    }\n",
       "\n",
       "    .dataframe tbody tr th {\n",
       "        vertical-align: top;\n",
       "    }\n",
       "\n",
       "    .dataframe thead th {\n",
       "        text-align: right;\n",
       "    }\n",
       "</style>\n",
       "<table border=\"1\" class=\"dataframe\">\n",
       "  <thead>\n",
       "    <tr style=\"text-align: right;\">\n",
       "      <th></th>\n",
       "      <th>LIMIT_BAL</th>\n",
       "      <th>AGE</th>\n",
       "      <th>BILL_AMT1</th>\n",
       "      <th>BILL_AMT2</th>\n",
       "      <th>BILL_AMT3</th>\n",
       "      <th>BILL_AMT4</th>\n",
       "      <th>BILL_AMT5</th>\n",
       "      <th>BILL_AMT6</th>\n",
       "    </tr>\n",
       "  </thead>\n",
       "  <tbody>\n",
       "    <tr>\n",
       "      <th>count</th>\n",
       "      <td>30000.000000</td>\n",
       "      <td>30000.000000</td>\n",
       "      <td>30000.000000</td>\n",
       "      <td>30000.000000</td>\n",
       "      <td>3.000000e+04</td>\n",
       "      <td>30000.000000</td>\n",
       "      <td>30000.000000</td>\n",
       "      <td>30000.000000</td>\n",
       "    </tr>\n",
       "    <tr>\n",
       "      <th>mean</th>\n",
       "      <td>167484.322667</td>\n",
       "      <td>35.485500</td>\n",
       "      <td>51223.330900</td>\n",
       "      <td>49179.075167</td>\n",
       "      <td>4.701315e+04</td>\n",
       "      <td>43262.948967</td>\n",
       "      <td>40311.400967</td>\n",
       "      <td>38871.760400</td>\n",
       "    </tr>\n",
       "    <tr>\n",
       "      <th>std</th>\n",
       "      <td>129747.661567</td>\n",
       "      <td>9.217904</td>\n",
       "      <td>73635.860576</td>\n",
       "      <td>71173.768783</td>\n",
       "      <td>6.934939e+04</td>\n",
       "      <td>64332.856134</td>\n",
       "      <td>60797.155770</td>\n",
       "      <td>59554.107537</td>\n",
       "    </tr>\n",
       "    <tr>\n",
       "      <th>min</th>\n",
       "      <td>10000.000000</td>\n",
       "      <td>21.000000</td>\n",
       "      <td>-165580.000000</td>\n",
       "      <td>-69777.000000</td>\n",
       "      <td>-1.572640e+05</td>\n",
       "      <td>-170000.000000</td>\n",
       "      <td>-81334.000000</td>\n",
       "      <td>-339603.000000</td>\n",
       "    </tr>\n",
       "    <tr>\n",
       "      <th>25%</th>\n",
       "      <td>50000.000000</td>\n",
       "      <td>28.000000</td>\n",
       "      <td>3558.750000</td>\n",
       "      <td>2984.750000</td>\n",
       "      <td>2.666250e+03</td>\n",
       "      <td>2326.750000</td>\n",
       "      <td>1763.000000</td>\n",
       "      <td>1256.000000</td>\n",
       "    </tr>\n",
       "    <tr>\n",
       "      <th>50%</th>\n",
       "      <td>140000.000000</td>\n",
       "      <td>34.000000</td>\n",
       "      <td>22381.500000</td>\n",
       "      <td>21200.000000</td>\n",
       "      <td>2.008850e+04</td>\n",
       "      <td>19052.000000</td>\n",
       "      <td>18104.500000</td>\n",
       "      <td>17071.000000</td>\n",
       "    </tr>\n",
       "    <tr>\n",
       "      <th>75%</th>\n",
       "      <td>240000.000000</td>\n",
       "      <td>41.000000</td>\n",
       "      <td>67091.000000</td>\n",
       "      <td>64006.250000</td>\n",
       "      <td>6.016475e+04</td>\n",
       "      <td>54506.000000</td>\n",
       "      <td>50190.500000</td>\n",
       "      <td>49198.250000</td>\n",
       "    </tr>\n",
       "    <tr>\n",
       "      <th>max</th>\n",
       "      <td>1000000.000000</td>\n",
       "      <td>79.000000</td>\n",
       "      <td>964511.000000</td>\n",
       "      <td>983931.000000</td>\n",
       "      <td>1.664089e+06</td>\n",
       "      <td>891586.000000</td>\n",
       "      <td>927171.000000</td>\n",
       "      <td>961664.000000</td>\n",
       "    </tr>\n",
       "  </tbody>\n",
       "</table>\n",
       "</div>"
      ],
      "text/plain": [
       "            LIMIT_BAL           AGE      BILL_AMT1      BILL_AMT2  \\\n",
       "count    30000.000000  30000.000000   30000.000000   30000.000000   \n",
       "mean    167484.322667     35.485500   51223.330900   49179.075167   \n",
       "std     129747.661567      9.217904   73635.860576   71173.768783   \n",
       "min      10000.000000     21.000000 -165580.000000  -69777.000000   \n",
       "25%      50000.000000     28.000000    3558.750000    2984.750000   \n",
       "50%     140000.000000     34.000000   22381.500000   21200.000000   \n",
       "75%     240000.000000     41.000000   67091.000000   64006.250000   \n",
       "max    1000000.000000     79.000000  964511.000000  983931.000000   \n",
       "\n",
       "          BILL_AMT3      BILL_AMT4      BILL_AMT5      BILL_AMT6  \n",
       "count  3.000000e+04   30000.000000   30000.000000   30000.000000  \n",
       "mean   4.701315e+04   43262.948967   40311.400967   38871.760400  \n",
       "std    6.934939e+04   64332.856134   60797.155770   59554.107537  \n",
       "min   -1.572640e+05 -170000.000000  -81334.000000 -339603.000000  \n",
       "25%    2.666250e+03    2326.750000    1763.000000    1256.000000  \n",
       "50%    2.008850e+04   19052.000000   18104.500000   17071.000000  \n",
       "75%    6.016475e+04   54506.000000   50190.500000   49198.250000  \n",
       "max    1.664089e+06  891586.000000  927171.000000  961664.000000  "
      ]
     },
     "execution_count": 18,
     "metadata": {},
     "output_type": "execute_result"
    }
   ],
   "source": [
    "credict[['LIMIT_BAL','AGE','BILL_AMT1','BILL_AMT2','BILL_AMT3','BILL_AMT4','BILL_AMT5','BILL_AMT6']].describe()"
   ]
  },
  {
   "cell_type": "code",
   "execution_count": 19,
   "id": "d9439cda",
   "metadata": {},
   "outputs": [],
   "source": [
    "#Frequency Counts of PAY_0, PAY_2,PAY_3,PAY_4,PAY_5,PAY_6"
   ]
  },
  {
   "cell_type": "code",
   "execution_count": 20,
   "id": "3b39f83d",
   "metadata": {},
   "outputs": [
    {
     "name": "stdout",
     "output_type": "stream",
     "text": [
      " 0    14737\n",
      "-1     5686\n",
      " 1     3688\n",
      "-2     2759\n",
      " 2     2667\n",
      " 3      322\n",
      " 4       76\n",
      " 5       26\n",
      " 8       19\n",
      " 6       11\n",
      " 7        9\n",
      "Name: PAY_0, dtype: int64\n",
      " 0    15730\n",
      "-1     6050\n",
      " 2     3927\n",
      "-2     3782\n",
      " 3      326\n",
      " 4       99\n",
      " 1       28\n",
      " 5       25\n",
      " 7       20\n",
      " 6       12\n",
      " 8        1\n",
      "Name: PAY_2, dtype: int64\n",
      " 0    15764\n",
      "-1     5938\n",
      "-2     4085\n",
      " 2     3819\n",
      " 3      240\n",
      " 4       76\n",
      " 7       27\n",
      " 6       23\n",
      " 5       21\n",
      " 1        4\n",
      " 8        3\n",
      "Name: PAY_3, dtype: int64\n",
      " 0    16455\n",
      "-1     5687\n",
      "-2     4348\n",
      " 2     3159\n",
      " 3      180\n",
      " 4       69\n",
      " 7       58\n",
      " 5       35\n",
      " 6        5\n",
      " 1        2\n",
      " 8        2\n",
      "Name: PAY_4, dtype: int64\n",
      " 0    16947\n",
      "-1     5539\n",
      "-2     4546\n",
      " 2     2626\n",
      " 3      178\n",
      " 4       84\n",
      " 7       58\n",
      " 5       17\n",
      " 6        4\n",
      " 8        1\n",
      "Name: PAY_5, dtype: int64\n",
      " 0    16286\n",
      "-1     5740\n",
      "-2     4895\n",
      " 2     2766\n",
      " 3      184\n",
      " 4       49\n",
      " 7       46\n",
      " 6       19\n",
      " 5       13\n",
      " 8        2\n",
      "Name: PAY_6, dtype: int64\n"
     ]
    }
   ],
   "source": [
    "for col in credict[['PAY_0','PAY_2','PAY_3','PAY_4','PAY_5','PAY_6']]:\n",
    "    fix=credict[col].value_counts(dropna=False)\n",
    "    print(fix)"
   ]
  },
  {
   "cell_type": "code",
   "execution_count": 21,
   "id": "2f360d34",
   "metadata": {},
   "outputs": [],
   "source": [
    "#Histogram, Boxplot and density Curve - Limit_Bal, Age"
   ]
  },
  {
   "cell_type": "code",
   "execution_count": 22,
   "id": "292d93f1",
   "metadata": {},
   "outputs": [
    {
     "data": {
      "text/plain": [
       "<AxesSubplot:ylabel='Frequency'>"
      ]
     },
     "execution_count": 22,
     "metadata": {},
     "output_type": "execute_result"
    },
    {
     "data": {
      "image/png": "[encoded data removed]",
      "text/plain": [
       "<Figure size 432x288 with 1 Axes>"
      ]
     },
     "metadata": {
      "needs_background": "light"
     },
     "output_type": "display_data"
    }
   ],
   "source": [
    "credict.LIMIT_BAL.plot(kind='hist')"
   ]
  },
  {
   "cell_type": "code",
   "execution_count": 23,
   "id": "25e490b1",
   "metadata": {},
   "outputs": [
    {
     "data": {
      "text/plain": [
       "<AxesSubplot:>"
      ]
     },
     "execution_count": 23,
     "metadata": {},
     "output_type": "execute_result"
    },
    {
     "data": {
      "image/png": "[encoded data removed]",
      "text/plain": [
       "<Figure size 432x288 with 1 Axes>"
      ]
     },
     "metadata": {
      "needs_background": "light"
     },
     "output_type": "display_data"
    }
   ],
   "source": [
    "credict.LIMIT_BAL.plot(kind='box',vert=False)"
   ]
  },
  {
   "cell_type": "code",
   "execution_count": 24,
   "id": "e5d13287",
   "metadata": {},
   "outputs": [
    {
     "data": {
      "text/plain": [
       "<AxesSubplot:ylabel='Density'>"
      ]
     },
     "execution_count": 24,
     "metadata": {},
     "output_type": "execute_result"
    },
    {
     "data": {
      "image/png": "[encoded data removed]",
      "text/plain": [
       "<Figure size 432x288 with 1 Axes>"
      ]
     },
     "metadata": {
      "needs_background": "light"
     },
     "output_type": "display_data"
    }
   ],
   "source": [
    "credict.LIMIT_BAL.plot(kind='density')"
   ]
  },
  {
   "cell_type": "code",
   "execution_count": 25,
   "id": "1ed6179c",
   "metadata": {},
   "outputs": [
    {
     "data": {
      "text/plain": [
       "<AxesSubplot:ylabel='Frequency'>"
      ]
     },
     "execution_count": 25,
     "metadata": {},
     "output_type": "execute_result"
    },
    {
     "data": {
      "image/png": "[encoded data removed]",
      "text/plain": [
       "<Figure size 432x288 with 1 Axes>"
      ]
     },
     "metadata": {
      "needs_background": "light"
     },
     "output_type": "display_data"
    }
   ],
   "source": [
    "credict.AGE.plot(kind='hist')"
   ]
  },
  {
   "cell_type": "code",
   "execution_count": 26,
   "id": "d349aa55",
   "metadata": {},
   "outputs": [
    {
     "data": {
      "text/plain": [
       "<AxesSubplot:>"
      ]
     },
     "execution_count": 26,
     "metadata": {},
     "output_type": "execute_result"
    },
    {
     "data": {
      "image/png": "[encoded data removed]",
      "text/plain": [
       "<Figure size 432x288 with 1 Axes>"
      ]
     },
     "metadata": {
      "needs_background": "light"
     },
     "output_type": "display_data"
    }
   ],
   "source": [
    "credict.AGE.plot(kind='box',vert=False)"
   ]
  },
  {
   "cell_type": "code",
   "execution_count": 27,
   "id": "6a58676f",
   "metadata": {},
   "outputs": [
    {
     "data": {
      "text/plain": [
       "<AxesSubplot:ylabel='Density'>"
      ]
     },
     "execution_count": 27,
     "metadata": {},
     "output_type": "execute_result"
    },
    {
     "data": {
      "image/png": "[encoded data removed]",
      "text/plain": [
       "<Figure size 432x288 with 1 Axes>"
      ]
     },
     "metadata": {
      "needs_background": "light"
     },
     "output_type": "display_data"
    }
   ],
   "source": [
    "credict.AGE.plot(kind='density')"
   ]
  },
  {
   "cell_type": "code",
   "execution_count": 28,
   "id": "6ebb137b",
   "metadata": {},
   "outputs": [],
   "source": [
    "#Cross Tabulations default.payment.next.month and Sex, \n",
    "# default.payment.next.month and Education, \n",
    "# default.payment.next.month and Marriage"
   ]
  },
  {
   "cell_type": "code",
   "execution_count": 29,
   "id": "314614e2",
   "metadata": {},
   "outputs": [
    {
     "data": {
      "text/html": [
       "<div>\n",
       "<style scoped>\n",
       "    .dataframe tbody tr th:only-of-type {\n",
       "        vertical-align: middle;\n",
       "    }\n",
       "\n",
       "    .dataframe tbody tr th {\n",
       "        vertical-align: top;\n",
       "    }\n",
       "\n",
       "    .dataframe thead th {\n",
       "        text-align: right;\n",
       "    }\n",
       "</style>\n",
       "<table border=\"1\" class=\"dataframe\">\n",
       "  <thead>\n",
       "    <tr style=\"text-align: right;\">\n",
       "      <th>SEX</th>\n",
       "      <th>1</th>\n",
       "      <th>2</th>\n",
       "    </tr>\n",
       "    <tr>\n",
       "      <th>nextmonth</th>\n",
       "      <th></th>\n",
       "      <th></th>\n",
       "    </tr>\n",
       "  </thead>\n",
       "  <tbody>\n",
       "    <tr>\n",
       "      <th>0</th>\n",
       "      <td>9015</td>\n",
       "      <td>14349</td>\n",
       "    </tr>\n",
       "    <tr>\n",
       "      <th>1</th>\n",
       "      <td>2873</td>\n",
       "      <td>3763</td>\n",
       "    </tr>\n",
       "  </tbody>\n",
       "</table>\n",
       "</div>"
      ],
      "text/plain": [
       "SEX           1      2\n",
       "nextmonth             \n",
       "0          9015  14349\n",
       "1          2873   3763"
      ]
     },
     "execution_count": 29,
     "metadata": {},
     "output_type": "execute_result"
    }
   ],
   "source": [
    "pd.crosstab(credict.nextmonth,credict.SEX)"
   ]
  },
  {
   "cell_type": "code",
   "execution_count": 30,
   "id": "51ed68d2",
   "metadata": {},
   "outputs": [
    {
     "data": {
      "text/html": [
       "<div>\n",
       "<style scoped>\n",
       "    .dataframe tbody tr th:only-of-type {\n",
       "        vertical-align: middle;\n",
       "    }\n",
       "\n",
       "    .dataframe tbody tr th {\n",
       "        vertical-align: top;\n",
       "    }\n",
       "\n",
       "    .dataframe thead th {\n",
       "        text-align: right;\n",
       "    }\n",
       "</style>\n",
       "<table border=\"1\" class=\"dataframe\">\n",
       "  <thead>\n",
       "    <tr style=\"text-align: right;\">\n",
       "      <th>EDUCATION</th>\n",
       "      <th>0</th>\n",
       "      <th>1</th>\n",
       "      <th>2</th>\n",
       "      <th>3</th>\n",
       "      <th>4</th>\n",
       "      <th>5</th>\n",
       "      <th>6</th>\n",
       "    </tr>\n",
       "    <tr>\n",
       "      <th>nextmonth</th>\n",
       "      <th></th>\n",
       "      <th></th>\n",
       "      <th></th>\n",
       "      <th></th>\n",
       "      <th></th>\n",
       "      <th></th>\n",
       "      <th></th>\n",
       "    </tr>\n",
       "  </thead>\n",
       "  <tbody>\n",
       "    <tr>\n",
       "      <th>0</th>\n",
       "      <td>14</td>\n",
       "      <td>8549</td>\n",
       "      <td>10700</td>\n",
       "      <td>3680</td>\n",
       "      <td>116</td>\n",
       "      <td>262</td>\n",
       "      <td>43</td>\n",
       "    </tr>\n",
       "    <tr>\n",
       "      <th>1</th>\n",
       "      <td>0</td>\n",
       "      <td>2036</td>\n",
       "      <td>3330</td>\n",
       "      <td>1237</td>\n",
       "      <td>7</td>\n",
       "      <td>18</td>\n",
       "      <td>8</td>\n",
       "    </tr>\n",
       "  </tbody>\n",
       "</table>\n",
       "</div>"
      ],
      "text/plain": [
       "EDUCATION   0     1      2     3    4    5   6\n",
       "nextmonth                                     \n",
       "0          14  8549  10700  3680  116  262  43\n",
       "1           0  2036   3330  1237    7   18   8"
      ]
     },
     "execution_count": 30,
     "metadata": {},
     "output_type": "execute_result"
    }
   ],
   "source": [
    "pd.crosstab(credict.nextmonth,credict.EDUCATION)"
   ]
  },
  {
   "cell_type": "code",
   "execution_count": 31,
   "id": "cfd605c8",
   "metadata": {},
   "outputs": [
    {
     "data": {
      "text/html": [
       "<div>\n",
       "<style scoped>\n",
       "    .dataframe tbody tr th:only-of-type {\n",
       "        vertical-align: middle;\n",
       "    }\n",
       "\n",
       "    .dataframe tbody tr th {\n",
       "        vertical-align: top;\n",
       "    }\n",
       "\n",
       "    .dataframe thead th {\n",
       "        text-align: right;\n",
       "    }\n",
       "</style>\n",
       "<table border=\"1\" class=\"dataframe\">\n",
       "  <thead>\n",
       "    <tr style=\"text-align: right;\">\n",
       "      <th>MARRIAGE</th>\n",
       "      <th>0</th>\n",
       "      <th>1</th>\n",
       "      <th>2</th>\n",
       "      <th>3</th>\n",
       "    </tr>\n",
       "    <tr>\n",
       "      <th>nextmonth</th>\n",
       "      <th></th>\n",
       "      <th></th>\n",
       "      <th></th>\n",
       "      <th></th>\n",
       "    </tr>\n",
       "  </thead>\n",
       "  <tbody>\n",
       "    <tr>\n",
       "      <th>0</th>\n",
       "      <td>49</td>\n",
       "      <td>10453</td>\n",
       "      <td>12623</td>\n",
       "      <td>239</td>\n",
       "    </tr>\n",
       "    <tr>\n",
       "      <th>1</th>\n",
       "      <td>5</td>\n",
       "      <td>3206</td>\n",
       "      <td>3341</td>\n",
       "      <td>84</td>\n",
       "    </tr>\n",
       "  </tbody>\n",
       "</table>\n",
       "</div>"
      ],
      "text/plain": [
       "MARRIAGE    0      1      2    3\n",
       "nextmonth                       \n",
       "0          49  10453  12623  239\n",
       "1           5   3206   3341   84"
      ]
     },
     "execution_count": 31,
     "metadata": {},
     "output_type": "execute_result"
    }
   ],
   "source": [
    "pd.crosstab(credict.nextmonth,credict.MARRIAGE)"
   ]
  },
  {
   "cell_type": "code",
   "execution_count": 32,
   "id": "d99c43a0",
   "metadata": {},
   "outputs": [],
   "source": [
    "# What is the Average Limit_bal for default.payment.next.month 0 & 1?"
   ]
  },
  {
   "cell_type": "code",
   "execution_count": 33,
   "id": "ab8d0ad6",
   "metadata": {},
   "outputs": [
    {
     "data": {
      "text/plain": [
       "nextmonth\n",
       "0    178099.726074\n",
       "1    130109.656420\n",
       "Name: LIMIT_BAL, dtype: float64"
      ]
     },
     "execution_count": 33,
     "metadata": {},
     "output_type": "execute_result"
    }
   ],
   "source": [
    "credict.LIMIT_BAL.groupby(credict.nextmonth).mean()"
   ]
  },
  {
   "cell_type": "code",
   "execution_count": 34,
   "id": "c941f3f2",
   "metadata": {},
   "outputs": [],
   "source": [
    "# What is the Average Age for default.payment.next.month 0 & 1?"
   ]
  },
  {
   "cell_type": "code",
   "execution_count": 35,
   "id": "599f1299",
   "metadata": {},
   "outputs": [
    {
     "data": {
      "text/plain": [
       "nextmonth\n",
       "0    35.417266\n",
       "1    35.725738\n",
       "Name: AGE, dtype: float64"
      ]
     },
     "execution_count": 35,
     "metadata": {},
     "output_type": "execute_result"
    }
   ],
   "source": [
    "credict.AGE.groupby(credict.nextmonth).mean()"
   ]
  },
  {
   "cell_type": "code",
   "execution_count": 36,
   "id": "b670178e",
   "metadata": {},
   "outputs": [],
   "source": [
    "# What is the Averahe Limit_Bal for Marriage?"
   ]
  },
  {
   "cell_type": "code",
   "execution_count": 37,
   "id": "b9abd01d",
   "metadata": {},
   "outputs": [
    {
     "data": {
      "text/plain": [
       "MARRIAGE\n",
       "0    132962.962963\n",
       "1    182200.893184\n",
       "2    156413.660737\n",
       "3     98080.495356\n",
       "Name: LIMIT_BAL, dtype: float64"
      ]
     },
     "execution_count": 37,
     "metadata": {},
     "output_type": "execute_result"
    }
   ],
   "source": [
    "credict.LIMIT_BAL.groupby(credict.MARRIAGE).mean()"
   ]
  },
  {
   "cell_type": "code",
   "execution_count": 38,
   "id": "9ff48511",
   "metadata": {},
   "outputs": [],
   "source": [
    "# Hypothesis testing\n",
    "# Test Null Average Limit_bal for gender is equal\n",
    "# Test Null Average Limit_bal for Marital is equal\n",
    "# Test Null No Association between gender and default.payment.next.month\n",
    "# Test Null No Association between Marital and default.payment.next.month"
   ]
  },
  {
   "cell_type": "code",
   "execution_count": 39,
   "id": "fa4175d1",
   "metadata": {},
   "outputs": [],
   "source": [
    "# Test Null Average Limit_bal for gender is equal"
   ]
  },
  {
   "cell_type": "code",
   "execution_count": 40,
   "id": "198c2dc7",
   "metadata": {},
   "outputs": [
    {
     "data": {
      "text/plain": [
       "50000.0      3365\n",
       "20000.0      1976\n",
       "30000.0      1610\n",
       "80000.0      1567\n",
       "200000.0     1528\n",
       "             ... \n",
       "730000.0        2\n",
       "1000000.0       1\n",
       "327680.0        1\n",
       "760000.0        1\n",
       "690000.0        1\n",
       "Name: LIMIT_BAL, Length: 81, dtype: int64"
      ]
     },
     "execution_count": 40,
     "metadata": {},
     "output_type": "execute_result"
    }
   ],
   "source": [
    "credict.LIMIT_BAL.value_counts()"
   ]
  },
  {
   "cell_type": "code",
   "execution_count": 41,
   "id": "39ac2a2e",
   "metadata": {},
   "outputs": [
    {
     "data": {
      "text/plain": [
       "2    18112\n",
       "1    11888\n",
       "Name: SEX, dtype: int64"
      ]
     },
     "execution_count": 41,
     "metadata": {},
     "output_type": "execute_result"
    }
   ],
   "source": [
    "credict.SEX.value_counts()"
   ]
  },
  {
   "cell_type": "code",
   "execution_count": 42,
   "id": "eca8afa8",
   "metadata": {},
   "outputs": [
    {
     "data": {
      "text/plain": [
       "SEX\n",
       "1    163519.825034\n",
       "2    170086.462014\n",
       "Name: LIMIT_BAL, dtype: float64"
      ]
     },
     "execution_count": 42,
     "metadata": {},
     "output_type": "execute_result"
    }
   ],
   "source": [
    "credict.LIMIT_BAL.groupby(credict.SEX).mean()"
   ]
  },
  {
   "cell_type": "code",
   "execution_count": 43,
   "id": "5b7341ff",
   "metadata": {},
   "outputs": [
    {
     "data": {
      "text/plain": [
       "SEX\n",
       "1    130000.0\n",
       "2    150000.0\n",
       "Name: LIMIT_BAL, dtype: float64"
      ]
     },
     "execution_count": 43,
     "metadata": {},
     "output_type": "execute_result"
    }
   ],
   "source": [
    "credict.LIMIT_BAL.groupby(credict.SEX).median()"
   ]
  },
  {
   "cell_type": "code",
   "execution_count": 44,
   "id": "453cf74a",
   "metadata": {},
   "outputs": [
    {
     "data": {
      "text/plain": [
       "SEX\n",
       "1    1.856419e+10\n",
       "2    1.568300e+10\n",
       "Name: LIMIT_BAL, dtype: float64"
      ]
     },
     "execution_count": 44,
     "metadata": {},
     "output_type": "execute_result"
    }
   ],
   "source": [
    "credict.LIMIT_BAL.groupby(credict.SEX).var()"
   ]
  },
  {
   "cell_type": "code",
   "execution_count": 45,
   "id": "569007c9",
   "metadata": {},
   "outputs": [],
   "source": [
    "# here sex is a categorical data 1 is female and 2 is male"
   ]
  },
  {
   "cell_type": "code",
   "execution_count": 46,
   "id": "c1a6a35b",
   "metadata": {},
   "outputs": [],
   "source": [
    "f=credict[credict.SEX==1]\n",
    "m=credict[credict.SEX==2]"
   ]
  },
  {
   "cell_type": "code",
   "execution_count": 47,
   "id": "7d14337e",
   "metadata": {},
   "outputs": [],
   "source": [
    "from scipy.stats import ttest_ind"
   ]
  },
  {
   "cell_type": "code",
   "execution_count": 48,
   "id": "b35269c0",
   "metadata": {},
   "outputs": [
    {
     "data": {
      "text/plain": [
       "Ttest_indResult(statistic=-4.214684758841189, pvalue=2.5104526780345055e-05)"
      ]
     },
     "execution_count": 48,
     "metadata": {},
     "output_type": "execute_result"
    }
   ],
   "source": [
    "ttest_ind(f.LIMIT_BAL,m.LIMIT_BAL,equal_var=False)"
   ]
  },
  {
   "cell_type": "code",
   "execution_count": 49,
   "id": "8ca53c80",
   "metadata": {},
   "outputs": [],
   "source": [
    "# Test Null Average Limit_bal for Marital is equal"
   ]
  },
  {
   "cell_type": "code",
   "execution_count": 50,
   "id": "175657bf",
   "metadata": {},
   "outputs": [
    {
     "data": {
      "text/plain": [
       "2    15964\n",
       "1    13659\n",
       "3      323\n",
       "0       54\n",
       "Name: MARRIAGE, dtype: int64"
      ]
     },
     "execution_count": 50,
     "metadata": {},
     "output_type": "execute_result"
    }
   ],
   "source": [
    "credict.MARRIAGE.value_counts(dropna=False)"
   ]
  },
  {
   "cell_type": "code",
   "execution_count": 51,
   "id": "b9dc573b",
   "metadata": {},
   "outputs": [],
   "source": [
    "m1=credict[credict.MARRIAGE==0]\n",
    "m2=credict[credict.MARRIAGE==1]\n",
    "m3=credict[credict.MARRIAGE==2]\n",
    "m4=credict[credict.MARRIAGE==3]"
   ]
  },
  {
   "cell_type": "code",
   "execution_count": 52,
   "id": "924e9b08",
   "metadata": {},
   "outputs": [],
   "source": [
    "from scipy.stats import f_oneway"
   ]
  },
  {
   "cell_type": "code",
   "execution_count": 53,
   "id": "7cc9ca98",
   "metadata": {},
   "outputs": [
    {
     "data": {
      "text/plain": [
       "F_onewayResult(statistic=131.0801926348674, pvalue=2.2978933917745916e-84)"
      ]
     },
     "execution_count": 53,
     "metadata": {},
     "output_type": "execute_result"
    }
   ],
   "source": [
    "f_oneway(m1.LIMIT_BAL,m2.LIMIT_BAL,m3.LIMIT_BAL,m4.LIMIT_BAL)"
   ]
  },
  {
   "cell_type": "code",
   "execution_count": 54,
   "id": "49f9b80c",
   "metadata": {},
   "outputs": [],
   "source": [
    "# Test Null No Association between gender and default.payment.next.month"
   ]
  },
  {
   "cell_type": "code",
   "execution_count": 55,
   "id": "2f31ed5b",
   "metadata": {},
   "outputs": [
    {
     "data": {
      "text/plain": [
       "2    18112\n",
       "1    11888\n",
       "Name: SEX, dtype: int64"
      ]
     },
     "execution_count": 55,
     "metadata": {},
     "output_type": "execute_result"
    }
   ],
   "source": [
    "credict.SEX.value_counts()"
   ]
  },
  {
   "cell_type": "code",
   "execution_count": 56,
   "id": "1173c48a",
   "metadata": {},
   "outputs": [
    {
     "data": {
      "text/plain": [
       "0    23364\n",
       "1     6636\n",
       "Name: nextmonth, dtype: int64"
      ]
     },
     "execution_count": 56,
     "metadata": {},
     "output_type": "execute_result"
    }
   ],
   "source": [
    "credict.nextmonth.value_counts()"
   ]
  },
  {
   "cell_type": "code",
   "execution_count": 57,
   "id": "5e9131a1",
   "metadata": {},
   "outputs": [],
   "source": [
    "# here the both columns are the catogorical data "
   ]
  },
  {
   "cell_type": "code",
   "execution_count": 58,
   "id": "13f220fd",
   "metadata": {},
   "outputs": [],
   "source": [
    "from scipy.stats import chi2_contingency"
   ]
  },
  {
   "cell_type": "code",
   "execution_count": 59,
   "id": "36469dc6",
   "metadata": {},
   "outputs": [
    {
     "data": {
      "text/html": [
       "<div>\n",
       "<style scoped>\n",
       "    .dataframe tbody tr th:only-of-type {\n",
       "        vertical-align: middle;\n",
       "    }\n",
       "\n",
       "    .dataframe tbody tr th {\n",
       "        vertical-align: top;\n",
       "    }\n",
       "\n",
       "    .dataframe thead th {\n",
       "        text-align: right;\n",
       "    }\n",
       "</style>\n",
       "<table border=\"1\" class=\"dataframe\">\n",
       "  <thead>\n",
       "    <tr style=\"text-align: right;\">\n",
       "      <th>nextmonth</th>\n",
       "      <th>0</th>\n",
       "      <th>1</th>\n",
       "    </tr>\n",
       "    <tr>\n",
       "      <th>SEX</th>\n",
       "      <th></th>\n",
       "      <th></th>\n",
       "    </tr>\n",
       "  </thead>\n",
       "  <tbody>\n",
       "    <tr>\n",
       "      <th>1</th>\n",
       "      <td>9015</td>\n",
       "      <td>2873</td>\n",
       "    </tr>\n",
       "    <tr>\n",
       "      <th>2</th>\n",
       "      <td>14349</td>\n",
       "      <td>3763</td>\n",
       "    </tr>\n",
       "  </tbody>\n",
       "</table>\n",
       "</div>"
      ],
      "text/plain": [
       "nextmonth      0     1\n",
       "SEX                   \n",
       "1           9015  2873\n",
       "2          14349  3763"
      ]
     },
     "execution_count": 59,
     "metadata": {},
     "output_type": "execute_result"
    }
   ],
   "source": [
    "pd.crosstab(credict.SEX,credict.nextmonth)"
   ]
  },
  {
   "cell_type": "code",
   "execution_count": 60,
   "id": "77599030",
   "metadata": {},
   "outputs": [
    {
     "data": {
      "text/plain": [
       "(47.70879689062111,\n",
       " 4.944678999412044e-12,\n",
       " 1,\n",
       " array([[ 9258.3744,  2629.6256],\n",
       "        [14105.6256,  4006.3744]]))"
      ]
     },
     "execution_count": 60,
     "metadata": {},
     "output_type": "execute_result"
    }
   ],
   "source": [
    "chi2_contingency(pd.crosstab(credict.SEX,credict.nextmonth))"
   ]
  },
  {
   "cell_type": "code",
   "execution_count": 61,
   "id": "d836181d",
   "metadata": {},
   "outputs": [],
   "source": [
    "# Test Null No Association between Marital and default.payment.next.month"
   ]
  },
  {
   "cell_type": "code",
   "execution_count": 62,
   "id": "ded8efe1",
   "metadata": {},
   "outputs": [],
   "source": [
    "# here  both are the categorical data so that we perform the chi square test"
   ]
  },
  {
   "cell_type": "code",
   "execution_count": 63,
   "id": "52de4c11",
   "metadata": {},
   "outputs": [
    {
     "data": {
      "text/html": [
       "<div>\n",
       "<style scoped>\n",
       "    .dataframe tbody tr th:only-of-type {\n",
       "        vertical-align: middle;\n",
       "    }\n",
       "\n",
       "    .dataframe tbody tr th {\n",
       "        vertical-align: top;\n",
       "    }\n",
       "\n",
       "    .dataframe thead th {\n",
       "        text-align: right;\n",
       "    }\n",
       "</style>\n",
       "<table border=\"1\" class=\"dataframe\">\n",
       "  <thead>\n",
       "    <tr style=\"text-align: right;\">\n",
       "      <th>nextmonth</th>\n",
       "      <th>0</th>\n",
       "      <th>1</th>\n",
       "    </tr>\n",
       "    <tr>\n",
       "      <th>MARRIAGE</th>\n",
       "      <th></th>\n",
       "      <th></th>\n",
       "    </tr>\n",
       "  </thead>\n",
       "  <tbody>\n",
       "    <tr>\n",
       "      <th>0</th>\n",
       "      <td>49</td>\n",
       "      <td>5</td>\n",
       "    </tr>\n",
       "    <tr>\n",
       "      <th>1</th>\n",
       "      <td>10453</td>\n",
       "      <td>3206</td>\n",
       "    </tr>\n",
       "    <tr>\n",
       "      <th>2</th>\n",
       "      <td>12623</td>\n",
       "      <td>3341</td>\n",
       "    </tr>\n",
       "    <tr>\n",
       "      <th>3</th>\n",
       "      <td>239</td>\n",
       "      <td>84</td>\n",
       "    </tr>\n",
       "  </tbody>\n",
       "</table>\n",
       "</div>"
      ],
      "text/plain": [
       "nextmonth      0     1\n",
       "MARRIAGE              \n",
       "0             49     5\n",
       "1          10453  3206\n",
       "2          12623  3341\n",
       "3            239    84"
      ]
     },
     "execution_count": 63,
     "metadata": {},
     "output_type": "execute_result"
    }
   ],
   "source": [
    "pd.crosstab(credict.MARRIAGE,credict.nextmonth)"
   ]
  },
  {
   "cell_type": "code",
   "execution_count": 64,
   "id": "5f5b33a5",
   "metadata": {},
   "outputs": [
    {
     "data": {
      "text/plain": [
       "(35.66239583433609,\n",
       " 8.825862457577375e-08,\n",
       " 3,\n",
       " array([[4.20552000e+01, 1.19448000e+01],\n",
       "        [1.06376292e+04, 3.02137080e+03],\n",
       "        [1.24327632e+04, 3.53123680e+03],\n",
       "        [2.51552400e+02, 7.14476000e+01]]))"
      ]
     },
     "execution_count": 64,
     "metadata": {},
     "output_type": "execute_result"
    }
   ],
   "source": [
    "chi2_contingency(pd.crosstab(credict.MARRIAGE,credict.nextmonth))"
   ]
  },
  {
   "cell_type": "code",
   "execution_count": 65,
   "id": "190f8732",
   "metadata": {},
   "outputs": [],
   "source": [
    "# Label Encode after seleting the following variables as object\n",
    "# default.payment.next.month, SEX, Education, MarriagePAY_0, PAY_2,PAY_3,\n",
    "# PAY_4,PAY_5,PAY_6\n",
    "# Numericvariables - LIMIT_BAL,all BILL_AMT,PAY_AMT\n",
    "# Correlation of Numeric Variables"
   ]
  },
  {
   "cell_type": "code",
   "execution_count": 66,
   "id": "0f71ab07",
   "metadata": {},
   "outputs": [
    {
     "name": "stdout",
     "output_type": "stream",
     "text": [
      "<class 'pandas.core.frame.DataFrame'>\n",
      "RangeIndex: 30000 entries, 0 to 29999\n",
      "Data columns (total 25 columns):\n",
      " #   Column     Non-Null Count  Dtype  \n",
      "---  ------     --------------  -----  \n",
      " 0   ID         30000 non-null  int64  \n",
      " 1   LIMIT_BAL  30000 non-null  float64\n",
      " 2   SEX        30000 non-null  int64  \n",
      " 3   EDUCATION  30000 non-null  int64  \n",
      " 4   MARRIAGE   30000 non-null  int64  \n",
      " 5   AGE        30000 non-null  int64  \n",
      " 6   PAY_0      30000 non-null  int64  \n",
      " 7   PAY_2      30000 non-null  int64  \n",
      " 8   PAY_3      30000 non-null  int64  \n",
      " 9   PAY_4      30000 non-null  int64  \n",
      " 10  PAY_5      30000 non-null  int64  \n",
      " 11  PAY_6      30000 non-null  int64  \n",
      " 12  BILL_AMT1  30000 non-null  float64\n",
      " 13  BILL_AMT2  30000 non-null  float64\n",
      " 14  BILL_AMT3  30000 non-null  float64\n",
      " 15  BILL_AMT4  30000 non-null  float64\n",
      " 16  BILL_AMT5  30000 non-null  float64\n",
      " 17  BILL_AMT6  30000 non-null  float64\n",
      " 18  PAY_AMT1   30000 non-null  float64\n",
      " 19  PAY_AMT2   30000 non-null  float64\n",
      " 20  PAY_AMT3   30000 non-null  float64\n",
      " 21  PAY_AMT4   30000 non-null  float64\n",
      " 22  PAY_AMT5   30000 non-null  float64\n",
      " 23  PAY_AMT6   30000 non-null  float64\n",
      " 24  nextmonth  30000 non-null  int64  \n",
      "dtypes: float64(13), int64(12)\n",
      "memory usage: 5.7 MB\n"
     ]
    }
   ],
   "source": [
    "credict.info()"
   ]
  },
  {
   "cell_type": "code",
   "execution_count": 67,
   "id": "c9ce4715",
   "metadata": {},
   "outputs": [
    {
     "data": {
      "text/plain": [
       "1        1\n",
       "19997    1\n",
       "20009    1\n",
       "20008    1\n",
       "20007    1\n",
       "        ..\n",
       "9996     1\n",
       "9995     1\n",
       "9994     1\n",
       "9993     1\n",
       "30000    1\n",
       "Name: ID, Length: 30000, dtype: int64"
      ]
     },
     "execution_count": 67,
     "metadata": {},
     "output_type": "execute_result"
    }
   ],
   "source": [
    "credict.ID.value_counts()"
   ]
  },
  {
   "cell_type": "code",
   "execution_count": 68,
   "id": "34afef32",
   "metadata": {},
   "outputs": [],
   "source": [
    "# here id is a uniquie so we are droping the id from the data"
   ]
  },
  {
   "cell_type": "code",
   "execution_count": 69,
   "id": "395b1354",
   "metadata": {},
   "outputs": [],
   "source": [
    "credict=credict.drop(['ID'],axis=1)"
   ]
  },
  {
   "cell_type": "code",
   "execution_count": 70,
   "id": "62e3d9df",
   "metadata": {},
   "outputs": [
    {
     "data": {
      "text/plain": [
       "Index(['LIMIT_BAL', 'SEX', 'EDUCATION', 'MARRIAGE', 'AGE', 'PAY_0', 'PAY_2',\n",
       "       'PAY_3', 'PAY_4', 'PAY_5', 'PAY_6', 'BILL_AMT1', 'BILL_AMT2',\n",
       "       'BILL_AMT3', 'BILL_AMT4', 'BILL_AMT5', 'BILL_AMT6', 'PAY_AMT1',\n",
       "       'PAY_AMT2', 'PAY_AMT3', 'PAY_AMT4', 'PAY_AMT5', 'PAY_AMT6',\n",
       "       'nextmonth'],\n",
       "      dtype='object')"
      ]
     },
     "execution_count": 70,
     "metadata": {},
     "output_type": "execute_result"
    }
   ],
   "source": [
    "credict.columns"
   ]
  },
  {
   "cell_type": "code",
   "execution_count": 71,
   "id": "6c4b641d",
   "metadata": {},
   "outputs": [
    {
     "data": {
      "text/plain": [
       "(30000, 24)"
      ]
     },
     "execution_count": 71,
     "metadata": {},
     "output_type": "execute_result"
    }
   ],
   "source": [
    "credict.shape"
   ]
  },
  {
   "cell_type": "code",
   "execution_count": 72,
   "id": "24a997ca",
   "metadata": {},
   "outputs": [],
   "source": [
    "cat=credict[['nextmonth','SEX','EDUCATION','MARRIAGE','AGE','PAY_0','PAY_2',\n",
    "             'PAY_3','PAY_4','PAY_5','PAY_6']]"
   ]
  },
  {
   "cell_type": "code",
   "execution_count": 73,
   "id": "88811ab6",
   "metadata": {},
   "outputs": [],
   "source": [
    "num=credict[['LIMIT_BAL','BILL_AMT1','BILL_AMT2',\n",
    "             'BILL_AMT3','BILL_AMT4','BILL_AMT5','BILL_AMT6','PAY_AMT1',\n",
    "             'PAY_AMT2','PAY_AMT3','PAY_AMT4','PAY_AMT5','PAY_AMT6']]"
   ]
  },
  {
   "cell_type": "code",
   "execution_count": 74,
   "id": "d49961b3",
   "metadata": {},
   "outputs": [
    {
     "name": "stdout",
     "output_type": "stream",
     "text": [
      "(30000, 11)\n",
      "(30000, 13)\n"
     ]
    }
   ],
   "source": [
    "print(cat.shape)\n",
    "print(num.shape)"
   ]
  },
  {
   "cell_type": "code",
   "execution_count": 75,
   "id": "a5cd04be",
   "metadata": {},
   "outputs": [],
   "source": [
    "from sklearn.preprocessing import LabelEncoder"
   ]
  },
  {
   "cell_type": "code",
   "execution_count": 76,
   "id": "07dfd89a",
   "metadata": {},
   "outputs": [],
   "source": [
    "le=LabelEncoder()"
   ]
  },
  {
   "cell_type": "code",
   "execution_count": 77,
   "id": "1148f771",
   "metadata": {},
   "outputs": [],
   "source": [
    "catdummy=cat.apply(le.fit_transform)"
   ]
  },
  {
   "cell_type": "code",
   "execution_count": 78,
   "id": "6ed7af16",
   "metadata": {},
   "outputs": [
    {
     "name": "stdout",
     "output_type": "stream",
     "text": [
      "<class 'pandas.core.frame.DataFrame'>\n",
      "RangeIndex: 30000 entries, 0 to 29999\n",
      "Data columns (total 11 columns):\n",
      " #   Column     Non-Null Count  Dtype\n",
      "---  ------     --------------  -----\n",
      " 0   nextmonth  30000 non-null  int64\n",
      " 1   SEX        30000 non-null  int64\n",
      " 2   EDUCATION  30000 non-null  int64\n",
      " 3   MARRIAGE   30000 non-null  int64\n",
      " 4   AGE        30000 non-null  int64\n",
      " 5   PAY_0      30000 non-null  int64\n",
      " 6   PAY_2      30000 non-null  int64\n",
      " 7   PAY_3      30000 non-null  int64\n",
      " 8   PAY_4      30000 non-null  int64\n",
      " 9   PAY_5      30000 non-null  int64\n",
      " 10  PAY_6      30000 non-null  int64\n",
      "dtypes: int64(11)\n",
      "memory usage: 2.5 MB\n"
     ]
    }
   ],
   "source": [
    "catdummy.info()"
   ]
  },
  {
   "cell_type": "code",
   "execution_count": 79,
   "id": "e17b8916",
   "metadata": {},
   "outputs": [],
   "source": [
    "credcl=pd.concat([num,catdummy],axis=1)"
   ]
  },
  {
   "cell_type": "code",
   "execution_count": 80,
   "id": "7384d858",
   "metadata": {},
   "outputs": [
    {
     "data": {
      "text/plain": [
       "(30000, 24)"
      ]
     },
     "execution_count": 80,
     "metadata": {},
     "output_type": "execute_result"
    }
   ],
   "source": [
    "credcl.shape"
   ]
  },
  {
   "cell_type": "code",
   "execution_count": 81,
   "id": "db8f2dfd",
   "metadata": {},
   "outputs": [
    {
     "data": {
      "text/html": [
       "<div>\n",
       "<style scoped>\n",
       "    .dataframe tbody tr th:only-of-type {\n",
       "        vertical-align: middle;\n",
       "    }\n",
       "\n",
       "    .dataframe tbody tr th {\n",
       "        vertical-align: top;\n",
       "    }\n",
       "\n",
       "    .dataframe thead th {\n",
       "        text-align: right;\n",
       "    }\n",
       "</style>\n",
       "<table border=\"1\" class=\"dataframe\">\n",
       "  <thead>\n",
       "    <tr style=\"text-align: right;\">\n",
       "      <th></th>\n",
       "      <th>LIMIT_BAL</th>\n",
       "      <th>BILL_AMT1</th>\n",
       "      <th>BILL_AMT2</th>\n",
       "      <th>BILL_AMT3</th>\n",
       "      <th>BILL_AMT4</th>\n",
       "      <th>BILL_AMT5</th>\n",
       "      <th>BILL_AMT6</th>\n",
       "      <th>PAY_AMT1</th>\n",
       "      <th>PAY_AMT2</th>\n",
       "      <th>PAY_AMT3</th>\n",
       "      <th>PAY_AMT4</th>\n",
       "      <th>PAY_AMT5</th>\n",
       "      <th>PAY_AMT6</th>\n",
       "    </tr>\n",
       "  </thead>\n",
       "  <tbody>\n",
       "    <tr>\n",
       "      <th>LIMIT_BAL</th>\n",
       "      <td>1.000000</td>\n",
       "      <td>0.285430</td>\n",
       "      <td>0.278314</td>\n",
       "      <td>0.283236</td>\n",
       "      <td>0.293988</td>\n",
       "      <td>0.295562</td>\n",
       "      <td>0.290389</td>\n",
       "      <td>0.195236</td>\n",
       "      <td>0.178408</td>\n",
       "      <td>0.210167</td>\n",
       "      <td>0.203242</td>\n",
       "      <td>0.217202</td>\n",
       "      <td>0.219595</td>\n",
       "    </tr>\n",
       "    <tr>\n",
       "      <th>BILL_AMT1</th>\n",
       "      <td>0.285430</td>\n",
       "      <td>1.000000</td>\n",
       "      <td>0.951484</td>\n",
       "      <td>0.892279</td>\n",
       "      <td>0.860272</td>\n",
       "      <td>0.829779</td>\n",
       "      <td>0.802650</td>\n",
       "      <td>0.140277</td>\n",
       "      <td>0.099355</td>\n",
       "      <td>0.156887</td>\n",
       "      <td>0.158303</td>\n",
       "      <td>0.167026</td>\n",
       "      <td>0.179341</td>\n",
       "    </tr>\n",
       "    <tr>\n",
       "      <th>BILL_AMT2</th>\n",
       "      <td>0.278314</td>\n",
       "      <td>0.951484</td>\n",
       "      <td>1.000000</td>\n",
       "      <td>0.928326</td>\n",
       "      <td>0.892482</td>\n",
       "      <td>0.859778</td>\n",
       "      <td>0.831594</td>\n",
       "      <td>0.280365</td>\n",
       "      <td>0.100851</td>\n",
       "      <td>0.150718</td>\n",
       "      <td>0.147398</td>\n",
       "      <td>0.157957</td>\n",
       "      <td>0.174256</td>\n",
       "    </tr>\n",
       "    <tr>\n",
       "      <th>BILL_AMT3</th>\n",
       "      <td>0.283236</td>\n",
       "      <td>0.892279</td>\n",
       "      <td>0.928326</td>\n",
       "      <td>1.000000</td>\n",
       "      <td>0.923969</td>\n",
       "      <td>0.883910</td>\n",
       "      <td>0.853320</td>\n",
       "      <td>0.244335</td>\n",
       "      <td>0.316936</td>\n",
       "      <td>0.130011</td>\n",
       "      <td>0.143405</td>\n",
       "      <td>0.179712</td>\n",
       "      <td>0.182326</td>\n",
       "    </tr>\n",
       "    <tr>\n",
       "      <th>BILL_AMT4</th>\n",
       "      <td>0.293988</td>\n",
       "      <td>0.860272</td>\n",
       "      <td>0.892482</td>\n",
       "      <td>0.923969</td>\n",
       "      <td>1.000000</td>\n",
       "      <td>0.940134</td>\n",
       "      <td>0.900941</td>\n",
       "      <td>0.233012</td>\n",
       "      <td>0.207564</td>\n",
       "      <td>0.300023</td>\n",
       "      <td>0.130191</td>\n",
       "      <td>0.160433</td>\n",
       "      <td>0.177637</td>\n",
       "    </tr>\n",
       "    <tr>\n",
       "      <th>BILL_AMT5</th>\n",
       "      <td>0.295562</td>\n",
       "      <td>0.829779</td>\n",
       "      <td>0.859778</td>\n",
       "      <td>0.883910</td>\n",
       "      <td>0.940134</td>\n",
       "      <td>1.000000</td>\n",
       "      <td>0.946197</td>\n",
       "      <td>0.217031</td>\n",
       "      <td>0.181246</td>\n",
       "      <td>0.252305</td>\n",
       "      <td>0.293118</td>\n",
       "      <td>0.141574</td>\n",
       "      <td>0.164184</td>\n",
       "    </tr>\n",
       "    <tr>\n",
       "      <th>BILL_AMT6</th>\n",
       "      <td>0.290389</td>\n",
       "      <td>0.802650</td>\n",
       "      <td>0.831594</td>\n",
       "      <td>0.853320</td>\n",
       "      <td>0.900941</td>\n",
       "      <td>0.946197</td>\n",
       "      <td>1.000000</td>\n",
       "      <td>0.199965</td>\n",
       "      <td>0.172663</td>\n",
       "      <td>0.233770</td>\n",
       "      <td>0.250237</td>\n",
       "      <td>0.307729</td>\n",
       "      <td>0.115494</td>\n",
       "    </tr>\n",
       "    <tr>\n",
       "      <th>PAY_AMT1</th>\n",
       "      <td>0.195236</td>\n",
       "      <td>0.140277</td>\n",
       "      <td>0.280365</td>\n",
       "      <td>0.244335</td>\n",
       "      <td>0.233012</td>\n",
       "      <td>0.217031</td>\n",
       "      <td>0.199965</td>\n",
       "      <td>1.000000</td>\n",
       "      <td>0.285576</td>\n",
       "      <td>0.252191</td>\n",
       "      <td>0.199558</td>\n",
       "      <td>0.148459</td>\n",
       "      <td>0.185735</td>\n",
       "    </tr>\n",
       "    <tr>\n",
       "      <th>PAY_AMT2</th>\n",
       "      <td>0.178408</td>\n",
       "      <td>0.099355</td>\n",
       "      <td>0.100851</td>\n",
       "      <td>0.316936</td>\n",
       "      <td>0.207564</td>\n",
       "      <td>0.181246</td>\n",
       "      <td>0.172663</td>\n",
       "      <td>0.285576</td>\n",
       "      <td>1.000000</td>\n",
       "      <td>0.244770</td>\n",
       "      <td>0.180107</td>\n",
       "      <td>0.180908</td>\n",
       "      <td>0.157634</td>\n",
       "    </tr>\n",
       "    <tr>\n",
       "      <th>PAY_AMT3</th>\n",
       "      <td>0.210167</td>\n",
       "      <td>0.156887</td>\n",
       "      <td>0.150718</td>\n",
       "      <td>0.130011</td>\n",
       "      <td>0.300023</td>\n",
       "      <td>0.252305</td>\n",
       "      <td>0.233770</td>\n",
       "      <td>0.252191</td>\n",
       "      <td>0.244770</td>\n",
       "      <td>1.000000</td>\n",
       "      <td>0.216325</td>\n",
       "      <td>0.159214</td>\n",
       "      <td>0.162740</td>\n",
       "    </tr>\n",
       "    <tr>\n",
       "      <th>PAY_AMT4</th>\n",
       "      <td>0.203242</td>\n",
       "      <td>0.158303</td>\n",
       "      <td>0.147398</td>\n",
       "      <td>0.143405</td>\n",
       "      <td>0.130191</td>\n",
       "      <td>0.293118</td>\n",
       "      <td>0.250237</td>\n",
       "      <td>0.199558</td>\n",
       "      <td>0.180107</td>\n",
       "      <td>0.216325</td>\n",
       "      <td>1.000000</td>\n",
       "      <td>0.151830</td>\n",
       "      <td>0.157834</td>\n",
       "    </tr>\n",
       "    <tr>\n",
       "      <th>PAY_AMT5</th>\n",
       "      <td>0.217202</td>\n",
       "      <td>0.167026</td>\n",
       "      <td>0.157957</td>\n",
       "      <td>0.179712</td>\n",
       "      <td>0.160433</td>\n",
       "      <td>0.141574</td>\n",
       "      <td>0.307729</td>\n",
       "      <td>0.148459</td>\n",
       "      <td>0.180908</td>\n",
       "      <td>0.159214</td>\n",
       "      <td>0.151830</td>\n",
       "      <td>1.000000</td>\n",
       "      <td>0.154896</td>\n",
       "    </tr>\n",
       "    <tr>\n",
       "      <th>PAY_AMT6</th>\n",
       "      <td>0.219595</td>\n",
       "      <td>0.179341</td>\n",
       "      <td>0.174256</td>\n",
       "      <td>0.182326</td>\n",
       "      <td>0.177637</td>\n",
       "      <td>0.164184</td>\n",
       "      <td>0.115494</td>\n",
       "      <td>0.185735</td>\n",
       "      <td>0.157634</td>\n",
       "      <td>0.162740</td>\n",
       "      <td>0.157834</td>\n",
       "      <td>0.154896</td>\n",
       "      <td>1.000000</td>\n",
       "    </tr>\n",
       "  </tbody>\n",
       "</table>\n",
       "</div>"
      ],
      "text/plain": [
       "           LIMIT_BAL  BILL_AMT1  BILL_AMT2  BILL_AMT3  BILL_AMT4  BILL_AMT5  \\\n",
       "LIMIT_BAL   1.000000   0.285430   0.278314   0.283236   0.293988   0.295562   \n",
       "BILL_AMT1   0.285430   1.000000   0.951484   0.892279   0.860272   0.829779   \n",
       "BILL_AMT2   0.278314   0.951484   1.000000   0.928326   0.892482   0.859778   \n",
       "BILL_AMT3   0.283236   0.892279   0.928326   1.000000   0.923969   0.883910   \n",
       "BILL_AMT4   0.293988   0.860272   0.892482   0.923969   1.000000   0.940134   \n",
       "BILL_AMT5   0.295562   0.829779   0.859778   0.883910   0.940134   1.000000   \n",
       "BILL_AMT6   0.290389   0.802650   0.831594   0.853320   0.900941   0.946197   \n",
       "PAY_AMT1    0.195236   0.140277   0.280365   0.244335   0.233012   0.217031   \n",
       "PAY_AMT2    0.178408   0.099355   0.100851   0.316936   0.207564   0.181246   \n",
       "PAY_AMT3    0.210167   0.156887   0.150718   0.130011   0.300023   0.252305   \n",
       "PAY_AMT4    0.203242   0.158303   0.147398   0.143405   0.130191   0.293118   \n",
       "PAY_AMT5    0.217202   0.167026   0.157957   0.179712   0.160433   0.141574   \n",
       "PAY_AMT6    0.219595   0.179341   0.174256   0.182326   0.177637   0.164184   \n",
       "\n",
       "           BILL_AMT6  PAY_AMT1  PAY_AMT2  PAY_AMT3  PAY_AMT4  PAY_AMT5  \\\n",
       "LIMIT_BAL   0.290389  0.195236  0.178408  0.210167  0.203242  0.217202   \n",
       "BILL_AMT1   0.802650  0.140277  0.099355  0.156887  0.158303  0.167026   \n",
       "BILL_AMT2   0.831594  0.280365  0.100851  0.150718  0.147398  0.157957   \n",
       "BILL_AMT3   0.853320  0.244335  0.316936  0.130011  0.143405  0.179712   \n",
       "BILL_AMT4   0.900941  0.233012  0.207564  0.300023  0.130191  0.160433   \n",
       "BILL_AMT5   0.946197  0.217031  0.181246  0.252305  0.293118  0.141574   \n",
       "BILL_AMT6   1.000000  0.199965  0.172663  0.233770  0.250237  0.307729   \n",
       "PAY_AMT1    0.199965  1.000000  0.285576  0.252191  0.199558  0.148459   \n",
       "PAY_AMT2    0.172663  0.285576  1.000000  0.244770  0.180107  0.180908   \n",
       "PAY_AMT3    0.233770  0.252191  0.244770  1.000000  0.216325  0.159214   \n",
       "PAY_AMT4    0.250237  0.199558  0.180107  0.216325  1.000000  0.151830   \n",
       "PAY_AMT5    0.307729  0.148459  0.180908  0.159214  0.151830  1.000000   \n",
       "PAY_AMT6    0.115494  0.185735  0.157634  0.162740  0.157834  0.154896   \n",
       "\n",
       "           PAY_AMT6  \n",
       "LIMIT_BAL  0.219595  \n",
       "BILL_AMT1  0.179341  \n",
       "BILL_AMT2  0.174256  \n",
       "BILL_AMT3  0.182326  \n",
       "BILL_AMT4  0.177637  \n",
       "BILL_AMT5  0.164184  \n",
       "BILL_AMT6  0.115494  \n",
       "PAY_AMT1   0.185735  \n",
       "PAY_AMT2   0.157634  \n",
       "PAY_AMT3   0.162740  \n",
       "PAY_AMT4   0.157834  \n",
       "PAY_AMT5   0.154896  \n",
       "PAY_AMT6   1.000000  "
      ]
     },
     "execution_count": 81,
     "metadata": {},
     "output_type": "execute_result"
    }
   ],
   "source": [
    "num.corr()"
   ]
  },
  {
   "cell_type": "code",
   "execution_count": 82,
   "id": "55dee594",
   "metadata": {},
   "outputs": [],
   "source": [
    "import seaborn as sns"
   ]
  },
  {
   "cell_type": "code",
   "execution_count": 83,
   "id": "6ff03dca",
   "metadata": {},
   "outputs": [
    {
     "data": {
      "text/plain": [
       "<AxesSubplot:>"
      ]
     },
     "execution_count": 83,
     "metadata": {},
     "output_type": "execute_result"
    },
    {
     "data": {
      "image/png": "[encoded data removed]",
      "text/plain": [
       "<Figure size 1080x720 with 2 Axes>"
      ]
     },
     "metadata": {
      "needs_background": "light"
     },
     "output_type": "display_data"
    }
   ],
   "source": [
    "ply.figure(figsize=(15,10))\n",
    "sns.heatmap(num.corr(),annot=True)"
   ]
  },
  {
   "cell_type": "code",
   "execution_count": 84,
   "id": "0b64a5eb",
   "metadata": {},
   "outputs": [
    {
     "data": {
      "text/html": [
       "<div>\n",
       "<style scoped>\n",
       "    .dataframe tbody tr th:only-of-type {\n",
       "        vertical-align: middle;\n",
       "    }\n",
       "\n",
       "    .dataframe tbody tr th {\n",
       "        vertical-align: top;\n",
       "    }\n",
       "\n",
       "    .dataframe thead th {\n",
       "        text-align: right;\n",
       "    }\n",
       "</style>\n",
       "<table border=\"1\" class=\"dataframe\">\n",
       "  <thead>\n",
       "    <tr style=\"text-align: right;\">\n",
       "      <th></th>\n",
       "      <th>LIMIT_BAL</th>\n",
       "      <th>BILL_AMT1</th>\n",
       "      <th>BILL_AMT2</th>\n",
       "      <th>BILL_AMT3</th>\n",
       "      <th>BILL_AMT4</th>\n",
       "      <th>BILL_AMT5</th>\n",
       "      <th>BILL_AMT6</th>\n",
       "      <th>PAY_AMT1</th>\n",
       "      <th>PAY_AMT2</th>\n",
       "      <th>PAY_AMT3</th>\n",
       "      <th>...</th>\n",
       "      <th>SEX</th>\n",
       "      <th>EDUCATION</th>\n",
       "      <th>MARRIAGE</th>\n",
       "      <th>AGE</th>\n",
       "      <th>PAY_0</th>\n",
       "      <th>PAY_2</th>\n",
       "      <th>PAY_3</th>\n",
       "      <th>PAY_4</th>\n",
       "      <th>PAY_5</th>\n",
       "      <th>PAY_6</th>\n",
       "    </tr>\n",
       "  </thead>\n",
       "  <tbody>\n",
       "    <tr>\n",
       "      <th>0</th>\n",
       "      <td>20000.0</td>\n",
       "      <td>3913.0</td>\n",
       "      <td>3102.0</td>\n",
       "      <td>689.0</td>\n",
       "      <td>0.0</td>\n",
       "      <td>0.0</td>\n",
       "      <td>0.0</td>\n",
       "      <td>0.0</td>\n",
       "      <td>689.0</td>\n",
       "      <td>0.0</td>\n",
       "      <td>...</td>\n",
       "      <td>1</td>\n",
       "      <td>2</td>\n",
       "      <td>1</td>\n",
       "      <td>3</td>\n",
       "      <td>4</td>\n",
       "      <td>4</td>\n",
       "      <td>1</td>\n",
       "      <td>1</td>\n",
       "      <td>0</td>\n",
       "      <td>0</td>\n",
       "    </tr>\n",
       "    <tr>\n",
       "      <th>1</th>\n",
       "      <td>120000.0</td>\n",
       "      <td>2682.0</td>\n",
       "      <td>1725.0</td>\n",
       "      <td>2682.0</td>\n",
       "      <td>3272.0</td>\n",
       "      <td>3455.0</td>\n",
       "      <td>3261.0</td>\n",
       "      <td>0.0</td>\n",
       "      <td>1000.0</td>\n",
       "      <td>1000.0</td>\n",
       "      <td>...</td>\n",
       "      <td>1</td>\n",
       "      <td>2</td>\n",
       "      <td>2</td>\n",
       "      <td>5</td>\n",
       "      <td>1</td>\n",
       "      <td>4</td>\n",
       "      <td>2</td>\n",
       "      <td>2</td>\n",
       "      <td>2</td>\n",
       "      <td>3</td>\n",
       "    </tr>\n",
       "    <tr>\n",
       "      <th>2</th>\n",
       "      <td>90000.0</td>\n",
       "      <td>29239.0</td>\n",
       "      <td>14027.0</td>\n",
       "      <td>13559.0</td>\n",
       "      <td>14331.0</td>\n",
       "      <td>14948.0</td>\n",
       "      <td>15549.0</td>\n",
       "      <td>1518.0</td>\n",
       "      <td>1500.0</td>\n",
       "      <td>1000.0</td>\n",
       "      <td>...</td>\n",
       "      <td>1</td>\n",
       "      <td>2</td>\n",
       "      <td>2</td>\n",
       "      <td>13</td>\n",
       "      <td>2</td>\n",
       "      <td>2</td>\n",
       "      <td>2</td>\n",
       "      <td>2</td>\n",
       "      <td>2</td>\n",
       "      <td>2</td>\n",
       "    </tr>\n",
       "    <tr>\n",
       "      <th>3</th>\n",
       "      <td>50000.0</td>\n",
       "      <td>46990.0</td>\n",
       "      <td>48233.0</td>\n",
       "      <td>49291.0</td>\n",
       "      <td>28314.0</td>\n",
       "      <td>28959.0</td>\n",
       "      <td>29547.0</td>\n",
       "      <td>2000.0</td>\n",
       "      <td>2019.0</td>\n",
       "      <td>1200.0</td>\n",
       "      <td>...</td>\n",
       "      <td>1</td>\n",
       "      <td>2</td>\n",
       "      <td>1</td>\n",
       "      <td>16</td>\n",
       "      <td>2</td>\n",
       "      <td>2</td>\n",
       "      <td>2</td>\n",
       "      <td>2</td>\n",
       "      <td>2</td>\n",
       "      <td>2</td>\n",
       "    </tr>\n",
       "    <tr>\n",
       "      <th>4</th>\n",
       "      <td>50000.0</td>\n",
       "      <td>8617.0</td>\n",
       "      <td>5670.0</td>\n",
       "      <td>35835.0</td>\n",
       "      <td>20940.0</td>\n",
       "      <td>19146.0</td>\n",
       "      <td>19131.0</td>\n",
       "      <td>2000.0</td>\n",
       "      <td>36681.0</td>\n",
       "      <td>10000.0</td>\n",
       "      <td>...</td>\n",
       "      <td>0</td>\n",
       "      <td>2</td>\n",
       "      <td>1</td>\n",
       "      <td>36</td>\n",
       "      <td>1</td>\n",
       "      <td>2</td>\n",
       "      <td>1</td>\n",
       "      <td>2</td>\n",
       "      <td>2</td>\n",
       "      <td>2</td>\n",
       "    </tr>\n",
       "    <tr>\n",
       "      <th>...</th>\n",
       "      <td>...</td>\n",
       "      <td>...</td>\n",
       "      <td>...</td>\n",
       "      <td>...</td>\n",
       "      <td>...</td>\n",
       "      <td>...</td>\n",
       "      <td>...</td>\n",
       "      <td>...</td>\n",
       "      <td>...</td>\n",
       "      <td>...</td>\n",
       "      <td>...</td>\n",
       "      <td>...</td>\n",
       "      <td>...</td>\n",
       "      <td>...</td>\n",
       "      <td>...</td>\n",
       "      <td>...</td>\n",
       "      <td>...</td>\n",
       "      <td>...</td>\n",
       "      <td>...</td>\n",
       "      <td>...</td>\n",
       "      <td>...</td>\n",
       "    </tr>\n",
       "    <tr>\n",
       "      <th>29995</th>\n",
       "      <td>220000.0</td>\n",
       "      <td>188948.0</td>\n",
       "      <td>192815.0</td>\n",
       "      <td>208365.0</td>\n",
       "      <td>88004.0</td>\n",
       "      <td>31237.0</td>\n",
       "      <td>15980.0</td>\n",
       "      <td>8500.0</td>\n",
       "      <td>20000.0</td>\n",
       "      <td>5003.0</td>\n",
       "      <td>...</td>\n",
       "      <td>0</td>\n",
       "      <td>3</td>\n",
       "      <td>1</td>\n",
       "      <td>18</td>\n",
       "      <td>2</td>\n",
       "      <td>2</td>\n",
       "      <td>2</td>\n",
       "      <td>2</td>\n",
       "      <td>2</td>\n",
       "      <td>2</td>\n",
       "    </tr>\n",
       "    <tr>\n",
       "      <th>29996</th>\n",
       "      <td>150000.0</td>\n",
       "      <td>1683.0</td>\n",
       "      <td>1828.0</td>\n",
       "      <td>3502.0</td>\n",
       "      <td>8979.0</td>\n",
       "      <td>5190.0</td>\n",
       "      <td>0.0</td>\n",
       "      <td>1837.0</td>\n",
       "      <td>3526.0</td>\n",
       "      <td>8998.0</td>\n",
       "      <td>...</td>\n",
       "      <td>0</td>\n",
       "      <td>3</td>\n",
       "      <td>2</td>\n",
       "      <td>22</td>\n",
       "      <td>1</td>\n",
       "      <td>1</td>\n",
       "      <td>1</td>\n",
       "      <td>1</td>\n",
       "      <td>2</td>\n",
       "      <td>2</td>\n",
       "    </tr>\n",
       "    <tr>\n",
       "      <th>29997</th>\n",
       "      <td>30000.0</td>\n",
       "      <td>3565.0</td>\n",
       "      <td>3356.0</td>\n",
       "      <td>2758.0</td>\n",
       "      <td>20878.0</td>\n",
       "      <td>20582.0</td>\n",
       "      <td>19357.0</td>\n",
       "      <td>0.0</td>\n",
       "      <td>0.0</td>\n",
       "      <td>22000.0</td>\n",
       "      <td>...</td>\n",
       "      <td>0</td>\n",
       "      <td>2</td>\n",
       "      <td>2</td>\n",
       "      <td>16</td>\n",
       "      <td>6</td>\n",
       "      <td>5</td>\n",
       "      <td>4</td>\n",
       "      <td>1</td>\n",
       "      <td>2</td>\n",
       "      <td>2</td>\n",
       "    </tr>\n",
       "    <tr>\n",
       "      <th>29998</th>\n",
       "      <td>80000.0</td>\n",
       "      <td>-1645.0</td>\n",
       "      <td>78379.0</td>\n",
       "      <td>76304.0</td>\n",
       "      <td>52774.0</td>\n",
       "      <td>11855.0</td>\n",
       "      <td>48944.0</td>\n",
       "      <td>85900.0</td>\n",
       "      <td>3409.0</td>\n",
       "      <td>1178.0</td>\n",
       "      <td>...</td>\n",
       "      <td>0</td>\n",
       "      <td>3</td>\n",
       "      <td>1</td>\n",
       "      <td>20</td>\n",
       "      <td>3</td>\n",
       "      <td>1</td>\n",
       "      <td>2</td>\n",
       "      <td>2</td>\n",
       "      <td>2</td>\n",
       "      <td>1</td>\n",
       "    </tr>\n",
       "    <tr>\n",
       "      <th>29999</th>\n",
       "      <td>50000.0</td>\n",
       "      <td>47929.0</td>\n",
       "      <td>48905.0</td>\n",
       "      <td>49764.0</td>\n",
       "      <td>36535.0</td>\n",
       "      <td>32428.0</td>\n",
       "      <td>15313.0</td>\n",
       "      <td>2078.0</td>\n",
       "      <td>1800.0</td>\n",
       "      <td>1430.0</td>\n",
       "      <td>...</td>\n",
       "      <td>0</td>\n",
       "      <td>2</td>\n",
       "      <td>1</td>\n",
       "      <td>25</td>\n",
       "      <td>2</td>\n",
       "      <td>2</td>\n",
       "      <td>2</td>\n",
       "      <td>2</td>\n",
       "      <td>2</td>\n",
       "      <td>2</td>\n",
       "    </tr>\n",
       "  </tbody>\n",
       "</table>\n",
       "<p>30000 rows × 24 columns</p>\n",
       "</div>"
      ],
      "text/plain": [
       "       LIMIT_BAL  BILL_AMT1  BILL_AMT2  BILL_AMT3  BILL_AMT4  BILL_AMT5  \\\n",
       "0        20000.0     3913.0     3102.0      689.0        0.0        0.0   \n",
       "1       120000.0     2682.0     1725.0     2682.0     3272.0     3455.0   \n",
       "2        90000.0    29239.0    14027.0    13559.0    14331.0    14948.0   \n",
       "3        50000.0    46990.0    48233.0    49291.0    28314.0    28959.0   \n",
       "4        50000.0     8617.0     5670.0    35835.0    20940.0    19146.0   \n",
       "...          ...        ...        ...        ...        ...        ...   \n",
       "29995   220000.0   188948.0   192815.0   208365.0    88004.0    31237.0   \n",
       "29996   150000.0     1683.0     1828.0     3502.0     8979.0     5190.0   \n",
       "29997    30000.0     3565.0     3356.0     2758.0    20878.0    20582.0   \n",
       "29998    80000.0    -1645.0    78379.0    76304.0    52774.0    11855.0   \n",
       "29999    50000.0    47929.0    48905.0    49764.0    36535.0    32428.0   \n",
       "\n",
       "       BILL_AMT6  PAY_AMT1  PAY_AMT2  PAY_AMT3  ...  SEX  EDUCATION  MARRIAGE  \\\n",
       "0            0.0       0.0     689.0       0.0  ...    1          2         1   \n",
       "1         3261.0       0.0    1000.0    1000.0  ...    1          2         2   \n",
       "2        15549.0    1518.0    1500.0    1000.0  ...    1          2         2   \n",
       "3        29547.0    2000.0    2019.0    1200.0  ...    1          2         1   \n",
       "4        19131.0    2000.0   36681.0   10000.0  ...    0          2         1   \n",
       "...          ...       ...       ...       ...  ...  ...        ...       ...   \n",
       "29995    15980.0    8500.0   20000.0    5003.0  ...    0          3         1   \n",
       "29996        0.0    1837.0    3526.0    8998.0  ...    0          3         2   \n",
       "29997    19357.0       0.0       0.0   22000.0  ...    0          2         2   \n",
       "29998    48944.0   85900.0    3409.0    1178.0  ...    0          3         1   \n",
       "29999    15313.0    2078.0    1800.0    1430.0  ...    0          2         1   \n",
       "\n",
       "       AGE  PAY_0  PAY_2  PAY_3  PAY_4  PAY_5  PAY_6  \n",
       "0        3      4      4      1      1      0      0  \n",
       "1        5      1      4      2      2      2      3  \n",
       "2       13      2      2      2      2      2      2  \n",
       "3       16      2      2      2      2      2      2  \n",
       "4       36      1      2      1      2      2      2  \n",
       "...    ...    ...    ...    ...    ...    ...    ...  \n",
       "29995   18      2      2      2      2      2      2  \n",
       "29996   22      1      1      1      1      2      2  \n",
       "29997   16      6      5      4      1      2      2  \n",
       "29998   20      3      1      2      2      2      1  \n",
       "29999   25      2      2      2      2      2      2  \n",
       "\n",
       "[30000 rows x 24 columns]"
      ]
     },
     "execution_count": 84,
     "metadata": {},
     "output_type": "execute_result"
    }
   ],
   "source": [
    "credcl"
   ]
  },
  {
   "cell_type": "code",
   "execution_count": 85,
   "id": "28180874",
   "metadata": {},
   "outputs": [
    {
     "name": "stdout",
     "output_type": "stream",
     "text": [
      "<class 'pandas.core.frame.DataFrame'>\n",
      "RangeIndex: 30000 entries, 0 to 29999\n",
      "Data columns (total 24 columns):\n",
      " #   Column     Non-Null Count  Dtype  \n",
      "---  ------     --------------  -----  \n",
      " 0   LIMIT_BAL  30000 non-null  float64\n",
      " 1   BILL_AMT1  30000 non-null  float64\n",
      " 2   BILL_AMT2  30000 non-null  float64\n",
      " 3   BILL_AMT3  30000 non-null  float64\n",
      " 4   BILL_AMT4  30000 non-null  float64\n",
      " 5   BILL_AMT5  30000 non-null  float64\n",
      " 6   BILL_AMT6  30000 non-null  float64\n",
      " 7   PAY_AMT1   30000 non-null  float64\n",
      " 8   PAY_AMT2   30000 non-null  float64\n",
      " 9   PAY_AMT3   30000 non-null  float64\n",
      " 10  PAY_AMT4   30000 non-null  float64\n",
      " 11  PAY_AMT5   30000 non-null  float64\n",
      " 12  PAY_AMT6   30000 non-null  float64\n",
      " 13  nextmonth  30000 non-null  int64  \n",
      " 14  SEX        30000 non-null  int64  \n",
      " 15  EDUCATION  30000 non-null  int64  \n",
      " 16  MARRIAGE   30000 non-null  int64  \n",
      " 17  AGE        30000 non-null  int64  \n",
      " 18  PAY_0      30000 non-null  int64  \n",
      " 19  PAY_2      30000 non-null  int64  \n",
      " 20  PAY_3      30000 non-null  int64  \n",
      " 21  PAY_4      30000 non-null  int64  \n",
      " 22  PAY_5      30000 non-null  int64  \n",
      " 23  PAY_6      30000 non-null  int64  \n",
      "dtypes: float64(13), int64(11)\n",
      "memory usage: 5.5 MB\n"
     ]
    }
   ],
   "source": [
    "credcl.info()"
   ]
  },
  {
   "cell_type": "code",
   "execution_count": 86,
   "id": "a578934e",
   "metadata": {},
   "outputs": [],
   "source": [
    "y=credcl.nextmonth"
   ]
  },
  {
   "cell_type": "code",
   "execution_count": 87,
   "id": "98350235",
   "metadata": {},
   "outputs": [],
   "source": [
    "x=credcl.drop(['nextmonth'],axis=1)"
   ]
  },
  {
   "cell_type": "code",
   "execution_count": 88,
   "id": "42a64909",
   "metadata": {},
   "outputs": [
    {
     "name": "stdout",
     "output_type": "stream",
     "text": [
      "(30000, 23)\n",
      "(30000,)\n"
     ]
    }
   ],
   "source": [
    "print(x.shape)\n",
    "print(y.shape)"
   ]
  },
  {
   "cell_type": "code",
   "execution_count": 89,
   "id": "18f32186",
   "metadata": {},
   "outputs": [],
   "source": [
    "# Balance Data using SMOTEnc if necessary"
   ]
  },
  {
   "cell_type": "code",
   "execution_count": 90,
   "id": "060bcd2c",
   "metadata": {},
   "outputs": [],
   "source": [
    "#  here the dependent variable is the next month "
   ]
  },
  {
   "cell_type": "code",
   "execution_count": 91,
   "id": "6b49e7a1",
   "metadata": {},
   "outputs": [
    {
     "data": {
      "text/plain": [
       "<AxesSubplot:ylabel='Frequency'>"
      ]
     },
     "execution_count": 91,
     "metadata": {},
     "output_type": "execute_result"
    },
    {
     "data": {
      "image/png": "[encoded data removed]",
      "text/plain": [
       "<Figure size 432x288 with 1 Axes>"
      ]
     },
     "metadata": {
      "needs_background": "light"
     },
     "output_type": "display_data"
    }
   ],
   "source": [
    "credcl.nextmonth.plot(kind='hist')"
   ]
  },
  {
   "cell_type": "markdown",
   "id": "7677d2ba",
   "metadata": {},
   "source": [
    "#  logistic regression"
   ]
  },
  {
   "cell_type": "code",
   "execution_count": 92,
   "id": "37f435f5",
   "metadata": {},
   "outputs": [],
   "source": [
    "from sklearn.linear_model import LogisticRegression"
   ]
  },
  {
   "cell_type": "code",
   "execution_count": 93,
   "id": "309c65a9",
   "metadata": {},
   "outputs": [],
   "source": [
    "lr=LogisticRegression(max_iter=250)"
   ]
  },
  {
   "cell_type": "code",
   "execution_count": 94,
   "id": "b820bf7c",
   "metadata": {},
   "outputs": [],
   "source": [
    "li=lr.fit(x,y)"
   ]
  },
  {
   "cell_type": "code",
   "execution_count": 95,
   "id": "5e9d67fb",
   "metadata": {},
   "outputs": [
    {
     "data": {
      "text/plain": [
       "0.7787333333333334"
      ]
     },
     "execution_count": 95,
     "metadata": {},
     "output_type": "execute_result"
    }
   ],
   "source": [
    "li.score(x,y)"
   ]
  },
  {
   "cell_type": "code",
   "execution_count": 96,
   "id": "e83e607e",
   "metadata": {},
   "outputs": [],
   "source": [
    "lipre=li.predict(x)"
   ]
  },
  {
   "cell_type": "code",
   "execution_count": 97,
   "id": "1f352199",
   "metadata": {},
   "outputs": [],
   "source": [
    " from sklearn.metrics import classification_report"
   ]
  },
  {
   "cell_type": "code",
   "execution_count": 98,
   "id": "e01b7944",
   "metadata": {},
   "outputs": [
    {
     "name": "stdout",
     "output_type": "stream",
     "text": [
      "              precision    recall  f1-score   support\n",
      "\n",
      "           0       0.78      1.00      0.88     23364\n",
      "           1       0.00      0.00      0.00      6636\n",
      "\n",
      "    accuracy                           0.78     30000\n",
      "   macro avg       0.39      0.50      0.44     30000\n",
      "weighted avg       0.61      0.78      0.68     30000\n",
      "\n"
     ]
    }
   ],
   "source": [
    "print(classification_report(y,lipre))"
   ]
  },
  {
   "cell_type": "code",
   "execution_count": 99,
   "id": "200f7983",
   "metadata": {},
   "outputs": [],
   "source": [
    "from sklearn.model_selection import cross_val_score"
   ]
  },
  {
   "cell_type": "code",
   "execution_count": 100,
   "id": "cec781a2",
   "metadata": {},
   "outputs": [
    {
     "data": {
      "text/plain": [
       "array([0.77866667, 0.77883333, 0.77883333, 0.77883333, 0.77866667])"
      ]
     },
     "execution_count": 100,
     "metadata": {},
     "output_type": "execute_result"
    }
   ],
   "source": [
    "cross_val_score(li,x,y)"
   ]
  },
  {
   "cell_type": "code",
   "execution_count": 101,
   "id": "bc179206",
   "metadata": {},
   "outputs": [
    {
     "data": {
      "text/html": [
       "<div>\n",
       "<style scoped>\n",
       "    .dataframe tbody tr th:only-of-type {\n",
       "        vertical-align: middle;\n",
       "    }\n",
       "\n",
       "    .dataframe tbody tr th {\n",
       "        vertical-align: top;\n",
       "    }\n",
       "\n",
       "    .dataframe thead th {\n",
       "        text-align: right;\n",
       "    }\n",
       "</style>\n",
       "<table border=\"1\" class=\"dataframe\">\n",
       "  <thead>\n",
       "    <tr style=\"text-align: right;\">\n",
       "      <th>col_0</th>\n",
       "      <th>0</th>\n",
       "      <th>1</th>\n",
       "    </tr>\n",
       "    <tr>\n",
       "      <th>nextmonth</th>\n",
       "      <th></th>\n",
       "      <th></th>\n",
       "    </tr>\n",
       "  </thead>\n",
       "  <tbody>\n",
       "    <tr>\n",
       "      <th>0</th>\n",
       "      <td>23362</td>\n",
       "      <td>2</td>\n",
       "    </tr>\n",
       "    <tr>\n",
       "      <th>1</th>\n",
       "      <td>6636</td>\n",
       "      <td>0</td>\n",
       "    </tr>\n",
       "  </tbody>\n",
       "</table>\n",
       "</div>"
      ],
      "text/plain": [
       "col_0          0  1\n",
       "nextmonth          \n",
       "0          23362  2\n",
       "1           6636  0"
      ]
     },
     "execution_count": 101,
     "metadata": {},
     "output_type": "execute_result"
    }
   ],
   "source": [
    "pd.crosstab(y,lipre)"
   ]
  },
  {
   "cell_type": "code",
   "execution_count": 102,
   "id": "d8f53911",
   "metadata": {},
   "outputs": [],
   "source": [
    "from sklearn.metrics import plot_roc_curve"
   ]
  },
  {
   "cell_type": "code",
   "execution_count": 103,
   "id": "e1dc2cfd",
   "metadata": {},
   "outputs": [
    {
     "name": "stderr",
     "output_type": "stream",
     "text": [
      "C:\\Users\\Dell\\anaconda3\\lib\\site-packages\\sklearn\\utils\\deprecation.py:87: FutureWarning: Function plot_roc_curve is deprecated; Function :func:`plot_roc_curve` is deprecated in 1.0 and will be removed in 1.2. Use one of the class methods: :meth:`sklearn.metric.RocCurveDisplay.from_predictions` or :meth:`sklearn.metric.RocCurveDisplay.from_estimator`.\n",
      "  warnings.warn(msg, category=FutureWarning)\n"
     ]
    },
    {
     "data": {
      "text/plain": [
       "<sklearn.metrics._plot.roc_curve.RocCurveDisplay at 0x182e27add60>"
      ]
     },
     "execution_count": 103,
     "metadata": {},
     "output_type": "execute_result"
    },
    {
     "data": {
      "image/png": "[encoded data removed]",
      "text/plain": [
       "<Figure size 432x288 with 1 Axes>"
      ]
     },
     "metadata": {
      "needs_background": "light"
     },
     "output_type": "display_data"
    }
   ],
   "source": [
    "plot_roc_curve(li,x,y)"
   ]
  },
  {
   "cell_type": "markdown",
   "id": "baf63943",
   "metadata": {},
   "source": [
    "#  decission treee"
   ]
  },
  {
   "cell_type": "code",
   "execution_count": 104,
   "id": "66edbc5e",
   "metadata": {},
   "outputs": [],
   "source": [
    "from sklearn.tree import DecisionTreeClassifier"
   ]
  },
  {
   "cell_type": "code",
   "execution_count": 105,
   "id": "6e013916",
   "metadata": {},
   "outputs": [],
   "source": [
    "d=DecisionTreeClassifier(max_depth=15)"
   ]
  },
  {
   "cell_type": "code",
   "execution_count": 106,
   "id": "dcbcf8fb",
   "metadata": {},
   "outputs": [],
   "source": [
    "dm=d.fit(x,y)"
   ]
  },
  {
   "cell_type": "code",
   "execution_count": 107,
   "id": "611c4d71",
   "metadata": {},
   "outputs": [
    {
     "data": {
      "text/plain": [
       "0.8962666666666667"
      ]
     },
     "execution_count": 107,
     "metadata": {},
     "output_type": "execute_result"
    }
   ],
   "source": [
    "dm.score(x,y)"
   ]
  },
  {
   "cell_type": "code",
   "execution_count": 108,
   "id": "84135092",
   "metadata": {},
   "outputs": [],
   "source": [
    "dmpre=dm.predict(x)"
   ]
  },
  {
   "cell_type": "code",
   "execution_count": 109,
   "id": "befe0c36",
   "metadata": {},
   "outputs": [
    {
     "data": {
      "text/html": [
       "<div>\n",
       "<style scoped>\n",
       "    .dataframe tbody tr th:only-of-type {\n",
       "        vertical-align: middle;\n",
       "    }\n",
       "\n",
       "    .dataframe tbody tr th {\n",
       "        vertical-align: top;\n",
       "    }\n",
       "\n",
       "    .dataframe thead th {\n",
       "        text-align: right;\n",
       "    }\n",
       "</style>\n",
       "<table border=\"1\" class=\"dataframe\">\n",
       "  <thead>\n",
       "    <tr style=\"text-align: right;\">\n",
       "      <th>col_0</th>\n",
       "      <th>0</th>\n",
       "      <th>1</th>\n",
       "    </tr>\n",
       "    <tr>\n",
       "      <th>nextmonth</th>\n",
       "      <th></th>\n",
       "      <th></th>\n",
       "    </tr>\n",
       "  </thead>\n",
       "  <tbody>\n",
       "    <tr>\n",
       "      <th>0</th>\n",
       "      <td>22862</td>\n",
       "      <td>502</td>\n",
       "    </tr>\n",
       "    <tr>\n",
       "      <th>1</th>\n",
       "      <td>2610</td>\n",
       "      <td>4026</td>\n",
       "    </tr>\n",
       "  </tbody>\n",
       "</table>\n",
       "</div>"
      ],
      "text/plain": [
       "col_0          0     1\n",
       "nextmonth             \n",
       "0          22862   502\n",
       "1           2610  4026"
      ]
     },
     "execution_count": 109,
     "metadata": {},
     "output_type": "execute_result"
    }
   ],
   "source": [
    "pd.crosstab(y,dmpre)"
   ]
  },
  {
   "cell_type": "code",
   "execution_count": 110,
   "id": "231928e1",
   "metadata": {},
   "outputs": [
    {
     "name": "stdout",
     "output_type": "stream",
     "text": [
      "              precision    recall  f1-score   support\n",
      "\n",
      "           0       0.90      0.98      0.94     23364\n",
      "           1       0.89      0.61      0.72      6636\n",
      "\n",
      "    accuracy                           0.90     30000\n",
      "   macro avg       0.89      0.79      0.83     30000\n",
      "weighted avg       0.90      0.90      0.89     30000\n",
      "\n"
     ]
    }
   ],
   "source": [
    "print(classification_report(y,dmpre))"
   ]
  },
  {
   "cell_type": "code",
   "execution_count": 111,
   "id": "e410d693",
   "metadata": {},
   "outputs": [
    {
     "data": {
      "text/plain": [
       "array([0.77483333, 0.77633333, 0.78366667, 0.79933333, 0.78533333])"
      ]
     },
     "execution_count": 111,
     "metadata": {},
     "output_type": "execute_result"
    }
   ],
   "source": [
    "cross_val_score(dm,x,y)"
   ]
  },
  {
   "cell_type": "code",
   "execution_count": 112,
   "id": "608a784b",
   "metadata": {},
   "outputs": [
    {
     "name": "stderr",
     "output_type": "stream",
     "text": [
      "C:\\Users\\Dell\\anaconda3\\lib\\site-packages\\sklearn\\utils\\deprecation.py:87: FutureWarning: Function plot_roc_curve is deprecated; Function :func:`plot_roc_curve` is deprecated in 1.0 and will be removed in 1.2. Use one of the class methods: :meth:`sklearn.metric.RocCurveDisplay.from_predictions` or :meth:`sklearn.metric.RocCurveDisplay.from_estimator`.\n",
      "  warnings.warn(msg, category=FutureWarning)\n"
     ]
    },
    {
     "data": {
      "text/plain": [
       "<sklearn.metrics._plot.roc_curve.RocCurveDisplay at 0x182e27e0850>"
      ]
     },
     "execution_count": 112,
     "metadata": {},
     "output_type": "execute_result"
    },
    {
     "data": {
      "image/png": "[encoded data removed]",
      "text/plain": [
       "<Figure size 432x288 with 1 Axes>"
      ]
     },
     "metadata": {
      "needs_background": "light"
     },
     "output_type": "display_data"
    }
   ],
   "source": [
    "plot_roc_curve(dm,x,y)"
   ]
  },
  {
   "cell_type": "markdown",
   "id": "ea82491b",
   "metadata": {},
   "source": [
    "#  random forest"
   ]
  },
  {
   "cell_type": "code",
   "execution_count": 113,
   "id": "2b233f3a",
   "metadata": {},
   "outputs": [],
   "source": [
    " from sklearn.ensemble import RandomForestClassifier"
   ]
  },
  {
   "cell_type": "code",
   "execution_count": 114,
   "id": "4293702d",
   "metadata": {},
   "outputs": [],
   "source": [
    "rf=RandomForestClassifier(max_depth=15,n_estimators=15)"
   ]
  },
  {
   "cell_type": "code",
   "execution_count": 115,
   "id": "cab47bb8",
   "metadata": {},
   "outputs": [],
   "source": [
    "rfm=rf.fit(x,y)"
   ]
  },
  {
   "cell_type": "code",
   "execution_count": 116,
   "id": "5d156dee",
   "metadata": {},
   "outputs": [
    {
     "data": {
      "text/plain": [
       "0.8958"
      ]
     },
     "execution_count": 116,
     "metadata": {},
     "output_type": "execute_result"
    }
   ],
   "source": [
    "rfm.score(x,y)"
   ]
  },
  {
   "cell_type": "code",
   "execution_count": 117,
   "id": "9f7f747e",
   "metadata": {},
   "outputs": [],
   "source": [
    "rfmpre=rfm.predict(x)"
   ]
  },
  {
   "cell_type": "code",
   "execution_count": 118,
   "id": "b73bc58f",
   "metadata": {},
   "outputs": [
    {
     "data": {
      "text/html": [
       "<div>\n",
       "<style scoped>\n",
       "    .dataframe tbody tr th:only-of-type {\n",
       "        vertical-align: middle;\n",
       "    }\n",
       "\n",
       "    .dataframe tbody tr th {\n",
       "        vertical-align: top;\n",
       "    }\n",
       "\n",
       "    .dataframe thead th {\n",
       "        text-align: right;\n",
       "    }\n",
       "</style>\n",
       "<table border=\"1\" class=\"dataframe\">\n",
       "  <thead>\n",
       "    <tr style=\"text-align: right;\">\n",
       "      <th>col_0</th>\n",
       "      <th>0</th>\n",
       "      <th>1</th>\n",
       "    </tr>\n",
       "    <tr>\n",
       "      <th>nextmonth</th>\n",
       "      <th></th>\n",
       "      <th></th>\n",
       "    </tr>\n",
       "  </thead>\n",
       "  <tbody>\n",
       "    <tr>\n",
       "      <th>0</th>\n",
       "      <td>23130</td>\n",
       "      <td>234</td>\n",
       "    </tr>\n",
       "    <tr>\n",
       "      <th>1</th>\n",
       "      <td>2892</td>\n",
       "      <td>3744</td>\n",
       "    </tr>\n",
       "  </tbody>\n",
       "</table>\n",
       "</div>"
      ],
      "text/plain": [
       "col_0          0     1\n",
       "nextmonth             \n",
       "0          23130   234\n",
       "1           2892  3744"
      ]
     },
     "execution_count": 118,
     "metadata": {},
     "output_type": "execute_result"
    }
   ],
   "source": [
    "pd.crosstab(y,rfmpre)"
   ]
  },
  {
   "cell_type": "code",
   "execution_count": 119,
   "id": "d01994b2",
   "metadata": {},
   "outputs": [
    {
     "name": "stdout",
     "output_type": "stream",
     "text": [
      "              precision    recall  f1-score   support\n",
      "\n",
      "           0       0.89      0.99      0.94     23364\n",
      "           1       0.94      0.56      0.71      6636\n",
      "\n",
      "    accuracy                           0.90     30000\n",
      "   macro avg       0.92      0.78      0.82     30000\n",
      "weighted avg       0.90      0.90      0.89     30000\n",
      "\n"
     ]
    }
   ],
   "source": [
    "print(classification_report(y,rfmpre))"
   ]
  },
  {
   "cell_type": "code",
   "execution_count": 120,
   "id": "210eee3c",
   "metadata": {},
   "outputs": [
    {
     "data": {
      "text/plain": [
       "array([0.80516667, 0.80916667, 0.81783333, 0.825     , 0.82066667])"
      ]
     },
     "execution_count": 120,
     "metadata": {},
     "output_type": "execute_result"
    }
   ],
   "source": [
    "cross_val_score(rfm,x,y)"
   ]
  },
  {
   "cell_type": "code",
   "execution_count": 121,
   "id": "5b13d984",
   "metadata": {},
   "outputs": [
    {
     "name": "stderr",
     "output_type": "stream",
     "text": [
      "C:\\Users\\Dell\\anaconda3\\lib\\site-packages\\sklearn\\utils\\deprecation.py:87: FutureWarning: Function plot_roc_curve is deprecated; Function :func:`plot_roc_curve` is deprecated in 1.0 and will be removed in 1.2. Use one of the class methods: :meth:`sklearn.metric.RocCurveDisplay.from_predictions` or :meth:`sklearn.metric.RocCurveDisplay.from_estimator`.\n",
      "  warnings.warn(msg, category=FutureWarning)\n"
     ]
    },
    {
     "data": {
      "text/plain": [
       "<sklearn.metrics._plot.roc_curve.RocCurveDisplay at 0x182e2ac0e20>"
      ]
     },
     "execution_count": 121,
     "metadata": {},
     "output_type": "execute_result"
    },
    {
     "data": {
      "image/png": "[encoded data removed]",
      "text/plain": [
       "<Figure size 432x288 with 1 Axes>"
      ]
     },
     "metadata": {
      "needs_background": "light"
     },
     "output_type": "display_data"
    }
   ],
   "source": [
    "plot_roc_curve(rfm,x,y)"
   ]
  },
  {
   "cell_type": "markdown",
   "id": "b1b2a03b",
   "metadata": {},
   "source": [
    "#  gardient bossting method"
   ]
  },
  {
   "cell_type": "code",
   "execution_count": 122,
   "id": "072a756d",
   "metadata": {},
   "outputs": [],
   "source": [
    "from sklearn.ensemble import GradientBoostingClassifier"
   ]
  },
  {
   "cell_type": "code",
   "execution_count": 123,
   "id": "a259de1e",
   "metadata": {},
   "outputs": [],
   "source": [
    "gb=GradientBoostingClassifier(n_estimators=300)"
   ]
  },
  {
   "cell_type": "code",
   "execution_count": 124,
   "id": "298fdef9",
   "metadata": {},
   "outputs": [],
   "source": [
    "gbm=gb.fit(x,y)"
   ]
  },
  {
   "cell_type": "code",
   "execution_count": 125,
   "id": "69574763",
   "metadata": {},
   "outputs": [
    {
     "data": {
      "text/plain": [
       "0.8317"
      ]
     },
     "execution_count": 125,
     "metadata": {},
     "output_type": "execute_result"
    }
   ],
   "source": [
    "gbm.score(x,y)"
   ]
  },
  {
   "cell_type": "code",
   "execution_count": 126,
   "id": "1d8ee07d",
   "metadata": {},
   "outputs": [
    {
     "data": {
      "text/plain": [
       "array([0.80633333, 0.8085    , 0.822     , 0.83433333, 0.82416667])"
      ]
     },
     "execution_count": 126,
     "metadata": {},
     "output_type": "execute_result"
    }
   ],
   "source": [
    "cross_val_score(gbm,x,y)"
   ]
  },
  {
   "cell_type": "code",
   "execution_count": 127,
   "id": "08d479c0",
   "metadata": {},
   "outputs": [],
   "source": [
    "gbmpre=gbm.predict(x)"
   ]
  },
  {
   "cell_type": "code",
   "execution_count": 128,
   "id": "13537d1f",
   "metadata": {},
   "outputs": [
    {
     "name": "stdout",
     "output_type": "stream",
     "text": [
      "              precision    recall  f1-score   support\n",
      "\n",
      "           0       0.85      0.96      0.90     23364\n",
      "           1       0.72      0.40      0.51      6636\n",
      "\n",
      "    accuracy                           0.83     30000\n",
      "   macro avg       0.78      0.68      0.70     30000\n",
      "weighted avg       0.82      0.83      0.81     30000\n",
      "\n"
     ]
    }
   ],
   "source": [
    "print(classification_report(y,gbmpre))"
   ]
  },
  {
   "cell_type": "code",
   "execution_count": 129,
   "id": "1cea6cb5",
   "metadata": {},
   "outputs": [
    {
     "name": "stderr",
     "output_type": "stream",
     "text": [
      "C:\\Users\\Dell\\anaconda3\\lib\\site-packages\\sklearn\\utils\\deprecation.py:87: FutureWarning: Function plot_roc_curve is deprecated; Function :func:`plot_roc_curve` is deprecated in 1.0 and will be removed in 1.2. Use one of the class methods: :meth:`sklearn.metric.RocCurveDisplay.from_predictions` or :meth:`sklearn.metric.RocCurveDisplay.from_estimator`.\n",
      "  warnings.warn(msg, category=FutureWarning)\n"
     ]
    },
    {
     "data": {
      "text/plain": [
       "<sklearn.metrics._plot.roc_curve.RocCurveDisplay at 0x182e2b9b520>"
      ]
     },
     "execution_count": 129,
     "metadata": {},
     "output_type": "execute_result"
    },
    {
     "data": {
      "image/png": "[encoded data removed]",
      "text/plain": [
       "<Figure size 432x288 with 1 Axes>"
      ]
     },
     "metadata": {
      "needs_background": "light"
     },
     "output_type": "display_data"
    }
   ],
   "source": [
    "plot_roc_curve(gbm,x,y)"
   ]
  },
  {
   "cell_type": "markdown",
   "id": "5f3c1aa4",
   "metadata": {},
   "source": [
    "# svm"
   ]
  },
  {
   "cell_type": "code",
   "execution_count": 130,
   "id": "d7958c3c",
   "metadata": {},
   "outputs": [],
   "source": [
    "from sklearn.svm import SVC"
   ]
  },
  {
   "cell_type": "code",
   "execution_count": 131,
   "id": "bb9fada6",
   "metadata": {},
   "outputs": [],
   "source": [
    "svm=SVC()"
   ]
  },
  {
   "cell_type": "code",
   "execution_count": 132,
   "id": "85f6da59",
   "metadata": {},
   "outputs": [],
   "source": [
    "svmmodel=svm.fit(x,y)"
   ]
  },
  {
   "cell_type": "code",
   "execution_count": 133,
   "id": "444ec7a3",
   "metadata": {},
   "outputs": [
    {
     "data": {
      "text/plain": [
       "0.779"
      ]
     },
     "execution_count": 133,
     "metadata": {},
     "output_type": "execute_result"
    }
   ],
   "source": [
    "svmmodel.score(x,y)"
   ]
  },
  {
   "cell_type": "code",
   "execution_count": 134,
   "id": "f99dc9da",
   "metadata": {},
   "outputs": [
    {
     "data": {
      "text/plain": [
       "array([0.77866667, 0.77883333, 0.77883333, 0.77883333, 0.77883333])"
      ]
     },
     "execution_count": 134,
     "metadata": {},
     "output_type": "execute_result"
    }
   ],
   "source": [
    "cross_val_score(svm,x,y)"
   ]
  },
  {
   "cell_type": "code",
   "execution_count": 135,
   "id": "c34ad69a",
   "metadata": {},
   "outputs": [],
   "source": [
    "svmpred=svmmodel.predict(x)"
   ]
  },
  {
   "cell_type": "code",
   "execution_count": 136,
   "id": "9d706003",
   "metadata": {},
   "outputs": [
    {
     "name": "stdout",
     "output_type": "stream",
     "text": [
      "              precision    recall  f1-score   support\n",
      "\n",
      "           0       0.78      1.00      0.88     23364\n",
      "           1       1.00      0.00      0.00      6636\n",
      "\n",
      "    accuracy                           0.78     30000\n",
      "   macro avg       0.89      0.50      0.44     30000\n",
      "weighted avg       0.83      0.78      0.68     30000\n",
      "\n"
     ]
    }
   ],
   "source": [
    "print(classification_report(y,svmpred))"
   ]
  },
  {
   "cell_type": "code",
   "execution_count": 137,
   "id": "92ed6d51",
   "metadata": {},
   "outputs": [
    {
     "name": "stderr",
     "output_type": "stream",
     "text": [
      "C:\\Users\\Dell\\anaconda3\\lib\\site-packages\\sklearn\\utils\\deprecation.py:87: FutureWarning: Function plot_roc_curve is deprecated; Function :func:`plot_roc_curve` is deprecated in 1.0 and will be removed in 1.2. Use one of the class methods: :meth:`sklearn.metric.RocCurveDisplay.from_predictions` or :meth:`sklearn.metric.RocCurveDisplay.from_estimator`.\n",
      "  warnings.warn(msg, category=FutureWarning)\n"
     ]
    },
    {
     "data": {
      "text/plain": [
       "<sklearn.metrics._plot.roc_curve.RocCurveDisplay at 0x182e2c20b20>"
      ]
     },
     "execution_count": 137,
     "metadata": {},
     "output_type": "execute_result"
    },
    {
     "data": {
      "image/png": "[encoded data removed]",
      "text/plain": [
       "<Figure size 432x288 with 1 Axes>"
      ]
     },
     "metadata": {
      "needs_background": "light"
     },
     "output_type": "display_data"
    }
   ],
   "source": [
    "plot_roc_curve(svmmodel,x,y)"
   ]
  },
  {
   "cell_type": "markdown",
   "id": "fae4a1b9",
   "metadata": {},
   "source": [
    "#  navybias "
   ]
  },
  {
   "cell_type": "code",
   "execution_count": 138,
   "id": "b3c00bcd",
   "metadata": {},
   "outputs": [],
   "source": [
    "from sklearn.naive_bayes import BernoulliNB"
   ]
  },
  {
   "cell_type": "code",
   "execution_count": 139,
   "id": "70b1f992",
   "metadata": {},
   "outputs": [],
   "source": [
    "nb=BernoulliNB()"
   ]
  },
  {
   "cell_type": "code",
   "execution_count": 140,
   "id": "0c2ae3c6",
   "metadata": {},
   "outputs": [],
   "source": [
    "nbmodel=nb.fit(x,y)\n"
   ]
  },
  {
   "cell_type": "code",
   "execution_count": 141,
   "id": "b4a1cddc",
   "metadata": {},
   "outputs": [
    {
     "data": {
      "text/plain": [
       "0.7382"
      ]
     },
     "execution_count": 141,
     "metadata": {},
     "output_type": "execute_result"
    }
   ],
   "source": [
    "nbmodel.score(x,y)"
   ]
  },
  {
   "cell_type": "code",
   "execution_count": 142,
   "id": "a2d75d63",
   "metadata": {},
   "outputs": [],
   "source": [
    "nbmpre=nbmodel.predict(x)"
   ]
  },
  {
   "cell_type": "code",
   "execution_count": 143,
   "id": "251ad077",
   "metadata": {},
   "outputs": [
    {
     "data": {
      "text/plain": [
       "array([0.73566667, 0.72666667, 0.74066667, 0.73933333, 0.74766667])"
      ]
     },
     "execution_count": 143,
     "metadata": {},
     "output_type": "execute_result"
    }
   ],
   "source": [
    "cross_val_score(nbmodel,x,y)"
   ]
  },
  {
   "cell_type": "code",
   "execution_count": 144,
   "id": "5415fc9d",
   "metadata": {},
   "outputs": [
    {
     "name": "stdout",
     "output_type": "stream",
     "text": [
      "              precision    recall  f1-score   support\n",
      "\n",
      "           0       0.80      0.89      0.84     23364\n",
      "           1       0.34      0.19      0.24      6636\n",
      "\n",
      "    accuracy                           0.74     30000\n",
      "   macro avg       0.57      0.54      0.54     30000\n",
      "weighted avg       0.69      0.74      0.71     30000\n",
      "\n"
     ]
    }
   ],
   "source": [
    "print(classification_report(y,nbmpre))"
   ]
  },
  {
   "cell_type": "code",
   "execution_count": 145,
   "id": "32567a32",
   "metadata": {},
   "outputs": [
    {
     "name": "stderr",
     "output_type": "stream",
     "text": [
      "C:\\Users\\Dell\\anaconda3\\lib\\site-packages\\sklearn\\utils\\deprecation.py:87: FutureWarning: Function plot_roc_curve is deprecated; Function :func:`plot_roc_curve` is deprecated in 1.0 and will be removed in 1.2. Use one of the class methods: :meth:`sklearn.metric.RocCurveDisplay.from_predictions` or :meth:`sklearn.metric.RocCurveDisplay.from_estimator`.\n",
      "  warnings.warn(msg, category=FutureWarning)\n"
     ]
    },
    {
     "data": {
      "text/plain": [
       "<sklearn.metrics._plot.roc_curve.RocCurveDisplay at 0x182e2f34f40>"
      ]
     },
     "execution_count": 145,
     "metadata": {},
     "output_type": "execute_result"
    },
    {
     "data": {
      "image/png": "[encoded data removed]",
      "text/plain": [
       "<Figure size 432x288 with 1 Axes>"
      ]
     },
     "metadata": {
      "needs_background": "light"
     },
     "output_type": "display_data"
    }
   ],
   "source": [
    "plot_roc_curve(nbmodel,x,y)"
   ]
  },
  {
   "cell_type": "markdown",
   "id": "d7afe2ae",
   "metadata": {},
   "source": [
    "# smote function using "
   ]
  },
  {
   "cell_type": "code",
   "execution_count": 146,
   "id": "395c7fb9",
   "metadata": {},
   "outputs": [],
   "source": [
    "# Balance  the imbalance data  using SMOTEnc over samplying the data"
   ]
  },
  {
   "cell_type": "code",
   "execution_count": 149,
   "id": "1f2eeb0a",
   "metadata": {},
   "outputs": [],
   "source": [
    "from imblearn.over_sampling import SMOTENC"
   ]
  },
  {
   "cell_type": "code",
   "execution_count": 150,
   "id": "d4afa9fa",
   "metadata": {},
   "outputs": [],
   "source": [
    "# simulate the last columns to be categorical features"
   ]
  },
  {
   "cell_type": "code",
   "execution_count": 151,
   "id": "74792c93",
   "metadata": {},
   "outputs": [],
   "source": [
    "sn=SMOTENC([13],random_state=26)"
   ]
  },
  {
   "cell_type": "code",
   "execution_count": 152,
   "id": "fcc57449",
   "metadata": {},
   "outputs": [],
   "source": [
    "x_smn,y_smn=sn.fit_resample(x,y)"
   ]
  },
  {
   "cell_type": "code",
   "execution_count": 153,
   "id": "f6677fa4",
   "metadata": {},
   "outputs": [
    {
     "name": "stdout",
     "output_type": "stream",
     "text": [
      "nextmonth\n",
      "0            23364\n",
      "1             6636\n",
      "dtype: int64\n",
      "nextmonth\n",
      "0            23364\n",
      "1            23364\n",
      "dtype: int64\n"
     ]
    }
   ],
   "source": [
    "print(pd.DataFrame(y).value_counts())\n",
    "print(pd.DataFrame(y_smn).value_counts())"
   ]
  },
  {
   "cell_type": "markdown",
   "id": "467b3230",
   "metadata": {},
   "source": [
    "#  logistic reggression"
   ]
  },
  {
   "cell_type": "code",
   "execution_count": 154,
   "id": "dc87957e",
   "metadata": {},
   "outputs": [],
   "source": [
    "lom=lr.fit(x_smn,y_smn)"
   ]
  },
  {
   "cell_type": "code",
   "execution_count": 155,
   "id": "7b2aa936",
   "metadata": {},
   "outputs": [
    {
     "data": {
      "text/plain": [
       "0.628060263653484"
      ]
     },
     "execution_count": 155,
     "metadata": {},
     "output_type": "execute_result"
    }
   ],
   "source": [
    "lom.score(x_smn,y_smn)"
   ]
  },
  {
   "cell_type": "code",
   "execution_count": 156,
   "id": "c5325e3f",
   "metadata": {},
   "outputs": [],
   "source": [
    "lompre=lom.predict(x_smn)"
   ]
  },
  {
   "cell_type": "code",
   "execution_count": 157,
   "id": "6982959d",
   "metadata": {},
   "outputs": [
    {
     "name": "stdout",
     "output_type": "stream",
     "text": [
      "              precision    recall  f1-score   support\n",
      "\n",
      "           0       0.64      0.58      0.61     23364\n",
      "           1       0.62      0.68      0.65     23364\n",
      "\n",
      "    accuracy                           0.63     46728\n",
      "   macro avg       0.63      0.63      0.63     46728\n",
      "weighted avg       0.63      0.63      0.63     46728\n",
      "\n"
     ]
    }
   ],
   "source": [
    "print(classification_report(y_smn,lompre))"
   ]
  },
  {
   "cell_type": "code",
   "execution_count": 158,
   "id": "1db06544",
   "metadata": {},
   "outputs": [
    {
     "data": {
      "text/html": [
       "<div>\n",
       "<style scoped>\n",
       "    .dataframe tbody tr th:only-of-type {\n",
       "        vertical-align: middle;\n",
       "    }\n",
       "\n",
       "    .dataframe tbody tr th {\n",
       "        vertical-align: top;\n",
       "    }\n",
       "\n",
       "    .dataframe thead th {\n",
       "        text-align: right;\n",
       "    }\n",
       "</style>\n",
       "<table border=\"1\" class=\"dataframe\">\n",
       "  <thead>\n",
       "    <tr style=\"text-align: right;\">\n",
       "      <th>col_0</th>\n",
       "      <th>0</th>\n",
       "      <th>1</th>\n",
       "    </tr>\n",
       "    <tr>\n",
       "      <th>nextmonth</th>\n",
       "      <th></th>\n",
       "      <th></th>\n",
       "    </tr>\n",
       "  </thead>\n",
       "  <tbody>\n",
       "    <tr>\n",
       "      <th>0</th>\n",
       "      <td>13534</td>\n",
       "      <td>9830</td>\n",
       "    </tr>\n",
       "    <tr>\n",
       "      <th>1</th>\n",
       "      <td>7550</td>\n",
       "      <td>15814</td>\n",
       "    </tr>\n",
       "  </tbody>\n",
       "</table>\n",
       "</div>"
      ],
      "text/plain": [
       "col_0          0      1\n",
       "nextmonth              \n",
       "0          13534   9830\n",
       "1           7550  15814"
      ]
     },
     "execution_count": 158,
     "metadata": {},
     "output_type": "execute_result"
    }
   ],
   "source": [
    "pd.crosstab(y_smn,lompre)"
   ]
  },
  {
   "cell_type": "code",
   "execution_count": 159,
   "id": "58e17855",
   "metadata": {},
   "outputs": [
    {
     "data": {
      "text/plain": [
       "array([0.56120265, 0.56698053, 0.57564734, 0.64515784, 0.57784912])"
      ]
     },
     "execution_count": 159,
     "metadata": {},
     "output_type": "execute_result"
    }
   ],
   "source": [
    "cross_val_score(lom,x_smn,y_smn)"
   ]
  },
  {
   "cell_type": "code",
   "execution_count": 160,
   "id": "b60c30d6",
   "metadata": {},
   "outputs": [
    {
     "name": "stderr",
     "output_type": "stream",
     "text": [
      "C:\\Users\\Dell\\anaconda3\\lib\\site-packages\\sklearn\\utils\\deprecation.py:87: FutureWarning: Function plot_roc_curve is deprecated; Function :func:`plot_roc_curve` is deprecated in 1.0 and will be removed in 1.2. Use one of the class methods: :meth:`sklearn.metric.RocCurveDisplay.from_predictions` or :meth:`sklearn.metric.RocCurveDisplay.from_estimator`.\n",
      "  warnings.warn(msg, category=FutureWarning)\n"
     ]
    },
    {
     "data": {
      "text/plain": [
       "<sklearn.metrics._plot.roc_curve.RocCurveDisplay at 0x182e500a550>"
      ]
     },
     "execution_count": 160,
     "metadata": {},
     "output_type": "execute_result"
    },
    {
     "data": {
      "image/png": "[encoded data removed]",
      "text/plain": [
       "<Figure size 432x288 with 1 Axes>"
      ]
     },
     "metadata": {
      "needs_background": "light"
     },
     "output_type": "display_data"
    }
   ],
   "source": [
    "plot_roc_curve(lom,x_smn,y_smn)"
   ]
  },
  {
   "cell_type": "markdown",
   "id": "5435b6ae",
   "metadata": {},
   "source": [
    "#  decission tree"
   ]
  },
  {
   "cell_type": "code",
   "execution_count": 161,
   "id": "bd37bc4d",
   "metadata": {},
   "outputs": [],
   "source": [
    "dtsm=d.fit(x_smn,y_smn)"
   ]
  },
  {
   "cell_type": "code",
   "execution_count": 162,
   "id": "9d6d7ae3",
   "metadata": {},
   "outputs": [
    {
     "data": {
      "text/plain": [
       "0.8956728299948639"
      ]
     },
     "execution_count": 162,
     "metadata": {},
     "output_type": "execute_result"
    }
   ],
   "source": [
    "dtsm.score(x_smn,y_smn)"
   ]
  },
  {
   "cell_type": "code",
   "execution_count": 163,
   "id": "ea478226",
   "metadata": {},
   "outputs": [],
   "source": [
    "dtsmpre=dtsm.predict(x_smn)"
   ]
  },
  {
   "cell_type": "code",
   "execution_count": 164,
   "id": "1f18ba0e",
   "metadata": {},
   "outputs": [
    {
     "data": {
      "text/html": [
       "<div>\n",
       "<style scoped>\n",
       "    .dataframe tbody tr th:only-of-type {\n",
       "        vertical-align: middle;\n",
       "    }\n",
       "\n",
       "    .dataframe tbody tr th {\n",
       "        vertical-align: top;\n",
       "    }\n",
       "\n",
       "    .dataframe thead th {\n",
       "        text-align: right;\n",
       "    }\n",
       "</style>\n",
       "<table border=\"1\" class=\"dataframe\">\n",
       "  <thead>\n",
       "    <tr style=\"text-align: right;\">\n",
       "      <th>col_0</th>\n",
       "      <th>0</th>\n",
       "      <th>1</th>\n",
       "    </tr>\n",
       "    <tr>\n",
       "      <th>nextmonth</th>\n",
       "      <th></th>\n",
       "      <th></th>\n",
       "    </tr>\n",
       "  </thead>\n",
       "  <tbody>\n",
       "    <tr>\n",
       "      <th>0</th>\n",
       "      <td>21141</td>\n",
       "      <td>2223</td>\n",
       "    </tr>\n",
       "    <tr>\n",
       "      <th>1</th>\n",
       "      <td>2652</td>\n",
       "      <td>20712</td>\n",
       "    </tr>\n",
       "  </tbody>\n",
       "</table>\n",
       "</div>"
      ],
      "text/plain": [
       "col_0          0      1\n",
       "nextmonth              \n",
       "0          21141   2223\n",
       "1           2652  20712"
      ]
     },
     "execution_count": 164,
     "metadata": {},
     "output_type": "execute_result"
    }
   ],
   "source": [
    "pd.crosstab(y_smn,dtsmpre)"
   ]
  },
  {
   "cell_type": "code",
   "execution_count": 165,
   "id": "d5ac6180",
   "metadata": {},
   "outputs": [
    {
     "name": "stdout",
     "output_type": "stream",
     "text": [
      "              precision    recall  f1-score   support\n",
      "\n",
      "           0       0.89      0.90      0.90     23364\n",
      "           1       0.90      0.89      0.89     23364\n",
      "\n",
      "    accuracy                           0.90     46728\n",
      "   macro avg       0.90      0.90      0.90     46728\n",
      "weighted avg       0.90      0.90      0.90     46728\n",
      "\n"
     ]
    }
   ],
   "source": [
    "print(classification_report(y_smn,dtsmpre))"
   ]
  },
  {
   "cell_type": "code",
   "execution_count": 166,
   "id": "9f5dbb50",
   "metadata": {},
   "outputs": [
    {
     "data": {
      "text/plain": [
       "array([0.65396961, 0.71602825, 0.77830088, 0.78608882, 0.79315142])"
      ]
     },
     "execution_count": 166,
     "metadata": {},
     "output_type": "execute_result"
    }
   ],
   "source": [
    "cross_val_score(dtsm,x_smn,y_smn)"
   ]
  },
  {
   "cell_type": "code",
   "execution_count": 167,
   "id": "9513dd2a",
   "metadata": {},
   "outputs": [
    {
     "name": "stderr",
     "output_type": "stream",
     "text": [
      "C:\\Users\\Dell\\anaconda3\\lib\\site-packages\\sklearn\\utils\\deprecation.py:87: FutureWarning: Function plot_roc_curve is deprecated; Function :func:`plot_roc_curve` is deprecated in 1.0 and will be removed in 1.2. Use one of the class methods: :meth:`sklearn.metric.RocCurveDisplay.from_predictions` or :meth:`sklearn.metric.RocCurveDisplay.from_estimator`.\n",
      "  warnings.warn(msg, category=FutureWarning)\n"
     ]
    },
    {
     "data": {
      "text/plain": [
       "<sklearn.metrics._plot.roc_curve.RocCurveDisplay at 0x18281727670>"
      ]
     },
     "execution_count": 167,
     "metadata": {},
     "output_type": "execute_result"
    },
    {
     "data": {
      "image/png": "[encoded data removed]",
      "text/plain": [
       "<Figure size 432x288 with 1 Axes>"
      ]
     },
     "metadata": {
      "needs_background": "light"
     },
     "output_type": "display_data"
    }
   ],
   "source": [
    "plot_roc_curve(dtsm,x_smn,y_smn)"
   ]
  },
  {
   "cell_type": "markdown",
   "id": "a849f327",
   "metadata": {},
   "source": [
    "# Random forest as rf"
   ]
  },
  {
   "cell_type": "code",
   "execution_count": 168,
   "id": "7c5a9d4f",
   "metadata": {},
   "outputs": [],
   "source": [
    "rfsm=rf.fit(x_smn,y_smn)"
   ]
  },
  {
   "cell_type": "code",
   "execution_count": 169,
   "id": "b78da832",
   "metadata": {},
   "outputs": [
    {
     "data": {
      "text/plain": [
       "0.9002333333333333"
      ]
     },
     "execution_count": 169,
     "metadata": {},
     "output_type": "execute_result"
    }
   ],
   "source": [
    "rfsm.score(x,y)"
   ]
  },
  {
   "cell_type": "code",
   "execution_count": 170,
   "id": "1e6b9ddf",
   "metadata": {},
   "outputs": [],
   "source": [
    "rfsmpre=rfsm.predict(x_smn)"
   ]
  },
  {
   "cell_type": "code",
   "execution_count": 171,
   "id": "ae1527f3",
   "metadata": {},
   "outputs": [
    {
     "data": {
      "text/plain": [
       "array([0.80416667, 0.806     , 0.8135    , 0.82816667, 0.81683333])"
      ]
     },
     "execution_count": 171,
     "metadata": {},
     "output_type": "execute_result"
    }
   ],
   "source": [
    "cross_val_score(rfsm,x,y)"
   ]
  },
  {
   "cell_type": "code",
   "execution_count": 172,
   "id": "999dabad",
   "metadata": {},
   "outputs": [
    {
     "name": "stdout",
     "output_type": "stream",
     "text": [
      "              precision    recall  f1-score   support\n",
      "\n",
      "           0       0.89      0.93      0.91     23364\n",
      "           1       0.93      0.88      0.90     23364\n",
      "\n",
      "    accuracy                           0.91     46728\n",
      "   macro avg       0.91      0.91      0.91     46728\n",
      "weighted avg       0.91      0.91      0.91     46728\n",
      "\n"
     ]
    }
   ],
   "source": [
    "print(classification_report(y_smn,rfsmpre))"
   ]
  },
  {
   "cell_type": "code",
   "execution_count": 173,
   "id": "05e77464",
   "metadata": {},
   "outputs": [
    {
     "name": "stderr",
     "output_type": "stream",
     "text": [
      "C:\\Users\\Dell\\anaconda3\\lib\\site-packages\\sklearn\\utils\\deprecation.py:87: FutureWarning: Function plot_roc_curve is deprecated; Function :func:`plot_roc_curve` is deprecated in 1.0 and will be removed in 1.2. Use one of the class methods: :meth:`sklearn.metric.RocCurveDisplay.from_predictions` or :meth:`sklearn.metric.RocCurveDisplay.from_estimator`.\n",
      "  warnings.warn(msg, category=FutureWarning)\n"
     ]
    },
    {
     "data": {
      "text/plain": [
       "<sklearn.metrics._plot.roc_curve.RocCurveDisplay at 0x182812bfc70>"
      ]
     },
     "execution_count": 173,
     "metadata": {},
     "output_type": "execute_result"
    },
    {
     "data": {
      "image/png": "[encoded data removed]",
      "text/plain": [
       "<Figure size 432x288 with 1 Axes>"
      ]
     },
     "metadata": {
      "needs_background": "light"
     },
     "output_type": "display_data"
    }
   ],
   "source": [
    "plot_roc_curve(rfsm,x,y)"
   ]
  },
  {
   "cell_type": "markdown",
   "id": "795f5429",
   "metadata": {},
   "source": [
    "#  gradient boosting (gb)"
   ]
  },
  {
   "cell_type": "code",
   "execution_count": 174,
   "id": "f229dcab",
   "metadata": {},
   "outputs": [],
   "source": [
    "gbsm=gb.fit(x_smn,y_smn)"
   ]
  },
  {
   "cell_type": "code",
   "execution_count": 175,
   "id": "686181ea",
   "metadata": {},
   "outputs": [
    {
     "data": {
      "text/plain": [
       "0.8055983564458141"
      ]
     },
     "execution_count": 175,
     "metadata": {},
     "output_type": "execute_result"
    }
   ],
   "source": [
    "gbsm.score(x_smn,y_smn)"
   ]
  },
  {
   "cell_type": "code",
   "execution_count": 176,
   "id": "7e2751b9",
   "metadata": {},
   "outputs": [],
   "source": [
    "gbsmpre=gbsm.predict(x_smn)"
   ]
  },
  {
   "cell_type": "code",
   "execution_count": 177,
   "id": "d37db5d8",
   "metadata": {},
   "outputs": [
    {
     "data": {
      "text/plain": [
       "array([0.64894072, 0.7499465 , 0.81970897, 0.83263777, 0.83274478])"
      ]
     },
     "execution_count": 177,
     "metadata": {},
     "output_type": "execute_result"
    }
   ],
   "source": [
    "cross_val_score(gbsm,x_smn,y_smn)"
   ]
  },
  {
   "cell_type": "code",
   "execution_count": 178,
   "id": "4e93017a",
   "metadata": {},
   "outputs": [
    {
     "name": "stdout",
     "output_type": "stream",
     "text": [
      "              precision    recall  f1-score   support\n",
      "\n",
      "           0       0.79      0.84      0.81     23364\n",
      "           1       0.83      0.77      0.80     23364\n",
      "\n",
      "    accuracy                           0.81     46728\n",
      "   macro avg       0.81      0.81      0.81     46728\n",
      "weighted avg       0.81      0.81      0.81     46728\n",
      "\n"
     ]
    }
   ],
   "source": [
    "print(classification_report(y_smn,gbsmpre))"
   ]
  },
  {
   "cell_type": "code",
   "execution_count": 179,
   "id": "97bf8999",
   "metadata": {},
   "outputs": [
    {
     "name": "stderr",
     "output_type": "stream",
     "text": [
      "C:\\Users\\Dell\\anaconda3\\lib\\site-packages\\sklearn\\utils\\deprecation.py:87: FutureWarning: Function plot_roc_curve is deprecated; Function :func:`plot_roc_curve` is deprecated in 1.0 and will be removed in 1.2. Use one of the class methods: :meth:`sklearn.metric.RocCurveDisplay.from_predictions` or :meth:`sklearn.metric.RocCurveDisplay.from_estimator`.\n",
      "  warnings.warn(msg, category=FutureWarning)\n"
     ]
    },
    {
     "data": {
      "text/plain": [
       "<sklearn.metrics._plot.roc_curve.RocCurveDisplay at 0x182e2bb3dc0>"
      ]
     },
     "execution_count": 179,
     "metadata": {},
     "output_type": "execute_result"
    },
    {
     "data": {
      "image/png": "[encoded data removed]",
      "text/plain": [
       "<Figure size 432x288 with 1 Axes>"
      ]
     },
     "metadata": {
      "needs_background": "light"
     },
     "output_type": "display_data"
    }
   ],
   "source": [
    "plot_roc_curve(gbsm,x_smn,y_smn)"
   ]
  },
  {
   "cell_type": "markdown",
   "id": "a80393cb",
   "metadata": {},
   "source": [
    "#  svm model(svm)"
   ]
  },
  {
   "cell_type": "code",
   "execution_count": 180,
   "id": "916af0f9",
   "metadata": {},
   "outputs": [],
   "source": [
    "svmsmo=svm.fit(x_smn,y_smn)"
   ]
  },
  {
   "cell_type": "code",
   "execution_count": 181,
   "id": "cfe43152",
   "metadata": {},
   "outputs": [
    {
     "data": {
      "text/plain": [
       "0.6244649888717685"
      ]
     },
     "execution_count": 181,
     "metadata": {},
     "output_type": "execute_result"
    }
   ],
   "source": [
    "svmsmo.score(x_smn,y_smn)"
   ]
  },
  {
   "cell_type": "code",
   "execution_count": 182,
   "id": "ea971cd1",
   "metadata": {},
   "outputs": [],
   "source": [
    "svmsmopre=svmsmo.predict(x_smn)"
   ]
  },
  {
   "cell_type": "code",
   "execution_count": 183,
   "id": "907654fc",
   "metadata": {},
   "outputs": [
    {
     "data": {
      "text/plain": [
       "array([0.60549968, 0.60614166, 0.61138455, 0.62899946, 0.63959337])"
      ]
     },
     "execution_count": 183,
     "metadata": {},
     "output_type": "execute_result"
    }
   ],
   "source": [
    "cross_val_score(svmsmo,x_smn,y_smn)"
   ]
  },
  {
   "cell_type": "code",
   "execution_count": 184,
   "id": "588ab128",
   "metadata": {},
   "outputs": [
    {
     "name": "stdout",
     "output_type": "stream",
     "text": [
      "              precision    recall  f1-score   support\n",
      "\n",
      "           0       0.64      0.56      0.60     23364\n",
      "           1       0.61      0.69      0.65     23364\n",
      "\n",
      "    accuracy                           0.62     46728\n",
      "   macro avg       0.63      0.62      0.62     46728\n",
      "weighted avg       0.63      0.62      0.62     46728\n",
      "\n"
     ]
    }
   ],
   "source": [
    "print(classification_report(y_smn,svmsmopre))"
   ]
  },
  {
   "cell_type": "code",
   "execution_count": 185,
   "id": "2f27ca4b",
   "metadata": {},
   "outputs": [
    {
     "name": "stderr",
     "output_type": "stream",
     "text": [
      "C:\\Users\\Dell\\anaconda3\\lib\\site-packages\\sklearn\\utils\\deprecation.py:87: FutureWarning: Function plot_roc_curve is deprecated; Function :func:`plot_roc_curve` is deprecated in 1.0 and will be removed in 1.2. Use one of the class methods: :meth:`sklearn.metric.RocCurveDisplay.from_predictions` or :meth:`sklearn.metric.RocCurveDisplay.from_estimator`.\n",
      "  warnings.warn(msg, category=FutureWarning)\n"
     ]
    },
    {
     "data": {
      "text/plain": [
       "<sklearn.metrics._plot.roc_curve.RocCurveDisplay at 0x182e2baec10>"
      ]
     },
     "execution_count": 185,
     "metadata": {},
     "output_type": "execute_result"
    },
    {
     "data": {
      "image/png": "[encoded data removed]",
      "text/plain": [
       "<Figure size 432x288 with 1 Axes>"
      ]
     },
     "metadata": {
      "needs_background": "light"
     },
     "output_type": "display_data"
    }
   ],
   "source": [
    "plot_roc_curve(svmsmo,x_smn,y_smn)"
   ]
  },
  {
   "cell_type": "markdown",
   "id": "832264b5",
   "metadata": {},
   "source": [
    "# naviye bais (nb)"
   ]
  },
  {
   "cell_type": "code",
   "execution_count": 186,
   "id": "345e4c09",
   "metadata": {},
   "outputs": [],
   "source": [
    "nbsmn=nb.fit(x_smn,y_smn)"
   ]
  },
  {
   "cell_type": "code",
   "execution_count": 187,
   "id": "6e4f77a8",
   "metadata": {},
   "outputs": [
    {
     "data": {
      "text/plain": [
       "0.5411744564286937"
      ]
     },
     "execution_count": 187,
     "metadata": {},
     "output_type": "execute_result"
    }
   ],
   "source": [
    "nbsmn.score(x_smn,y_smn)"
   ]
  },
  {
   "cell_type": "code",
   "execution_count": 188,
   "id": "d034edf4",
   "metadata": {},
   "outputs": [],
   "source": [
    "nbsmnpre=nbsmn.predict(x_smn)"
   ]
  },
  {
   "cell_type": "code",
   "execution_count": 189,
   "id": "e83d1a7c",
   "metadata": {},
   "outputs": [
    {
     "data": {
      "text/plain": [
       "array([0.51209073, 0.54365504, 0.5226835 , 0.5434992 , 0.51268058])"
      ]
     },
     "execution_count": 189,
     "metadata": {},
     "output_type": "execute_result"
    }
   ],
   "source": [
    "cross_val_score(nbsmn,x_smn,y_smn)"
   ]
  },
  {
   "cell_type": "code",
   "execution_count": 190,
   "id": "1182aae1",
   "metadata": {},
   "outputs": [
    {
     "name": "stdout",
     "output_type": "stream",
     "text": [
      "              precision    recall  f1-score   support\n",
      "\n",
      "           0       0.59      0.28      0.38     23364\n",
      "           1       0.53      0.81      0.64     23364\n",
      "\n",
      "    accuracy                           0.54     46728\n",
      "   macro avg       0.56      0.54      0.51     46728\n",
      "weighted avg       0.56      0.54      0.51     46728\n",
      "\n"
     ]
    }
   ],
   "source": [
    "print(classification_report(y_smn,nbsmnpre))"
   ]
  },
  {
   "cell_type": "code",
   "execution_count": 191,
   "id": "67cd4d4b",
   "metadata": {},
   "outputs": [
    {
     "name": "stderr",
     "output_type": "stream",
     "text": [
      "C:\\Users\\Dell\\anaconda3\\lib\\site-packages\\sklearn\\utils\\deprecation.py:87: FutureWarning: Function plot_roc_curve is deprecated; Function :func:`plot_roc_curve` is deprecated in 1.0 and will be removed in 1.2. Use one of the class methods: :meth:`sklearn.metric.RocCurveDisplay.from_predictions` or :meth:`sklearn.metric.RocCurveDisplay.from_estimator`.\n",
      "  warnings.warn(msg, category=FutureWarning)\n"
     ]
    },
    {
     "data": {
      "text/plain": [
       "<sklearn.metrics._plot.roc_curve.RocCurveDisplay at 0x182e2bae190>"
      ]
     },
     "execution_count": 191,
     "metadata": {},
     "output_type": "execute_result"
    },
    {
     "data": {
      "image/png": "[encoded data removed]",
      "text/plain": [
       "<Figure size 432x288 with 1 Axes>"
      ]
     },
     "metadata": {
      "needs_background": "light"
     },
     "output_type": "display_data"
    }
   ],
   "source": [
    "plot_roc_curve(nbsmn,x_smn,y_smn)"
   ]
  },
  {
   "cell_type": "code",
   "execution_count": 192,
   "id": "2455197e",
   "metadata": {},
   "outputs": [],
   "source": [
    "# as my concultion on the data set  according to my reports we are working on the credict  classification data\n",
    " # this data have both numeric cols and the categorical cols which are are called here as float data types\n",
    "    # i have lable encoded the categorical columns \n",
    "    # here the dependent varaiable is next month and is in  the imbalance data\n",
    "    # so there i used the smotnc techq to over sample the imbalance data \n",
    "# as of the decission tree smote model the accuracy and the pression and the recall and the f1 score are the goodd  score \n",
    "# the plot roc  score on the auc score is 96% and it is good \n",
    "# cross validation vales are near to each other \n",
    "#  as per my report output  the decission tree smotenc model is fitting good"
   ]
  },
  {
   "cell_type": "code",
   "execution_count": null,
   "id": "53fa211b",
   "metadata": {},
   "outputs": [],
   "source": []
  }
 ],
 "metadata": {
  "kernelspec": {
   "display_name": "Python 3 (ipykernel)",
   "language": "python",
   "name": "python3"
  },
  "language_info": {
   "codemirror_mode": {
    "name": "ipython",
    "version": 3
   },
   "file_extension": ".py",
   "mimetype": "text/x-python",
   "name": "python",
   "nbconvert_exporter": "python",
   "pygments_lexer": "ipython3",
   "version": "3.9.12"
  }
 },
 "nbformat": 4,
 "nbformat_minor": 5
}
