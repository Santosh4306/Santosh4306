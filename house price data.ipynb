{
 "cells": [
  {
   "cell_type": "markdown",
   "id": "3aabbf42",
   "metadata": {},
   "source": [
    "## House Prices data taken from kaggle"
   ]
  },
  {
   "cell_type": "markdown",
   "id": "5d90dac0",
   "metadata": {},
   "source": [
    "### problem statement"
   ]
  },
  {
   "cell_type": "markdown",
   "id": "d2a77401",
   "metadata": {},
   "source": [
    "#### Ask a home buyer to describe their dream house, and they probably won't begin with the height of the basement ceiling or the proximity to an east-west railroad. But this playground competition's dataset proves that much more influences price negotiations than the number of bedrooms or a white-picket fence.With 79 explanatory variables describing (almost) every aspect of residential homes in Ames, Iowa, this competition challenges you to predict the final price of each home."
   ]
  },
  {
   "cell_type": "raw",
   "id": "98abbe2e",
   "metadata": {},
   "source": [
    "The three data sets collected from kaggle are train, test, and submissions.\n",
    "data sets for training and testing"
   ]
  },
  {
   "cell_type": "markdown",
   "id": "a07c3073",
   "metadata": {},
   "source": [
    "# I predicted the values using machine learning techniques."
   ]
  },
  {
   "cell_type": "raw",
   "id": "147ef9b4",
   "metadata": {},
   "source": [
    "# import the libraries we'll need to make our predictions"
   ]
  },
  {
   "cell_type": "code",
   "execution_count": 187,
   "id": "d1f4c53a",
   "metadata": {},
   "outputs": [],
   "source": [
    "import pandas as pd\n",
    "import numpy as np\n",
    "import matplotlib.pyplot as plt\n",
    "%matplotlib inline"
   ]
  },
  {
   "cell_type": "markdown",
   "id": "44ab2d9b",
   "metadata": {},
   "source": [
    "# establishing a connection between my jupiter notebook and the file"
   ]
  },
  {
   "cell_type": "code",
   "execution_count": 188,
   "id": "a5d037b0",
   "metadata": {},
   "outputs": [
    {
     "name": "stdout",
     "output_type": "stream",
     "text": [
      "D:\\phython\\house-prices-advanced-regression-techniques\n"
     ]
    }
   ],
   "source": [
    "import io\n",
    "%cd \"D:\\phython\\house-prices-advanced-regression-techniques\""
   ]
  },
  {
   "cell_type": "markdown",
   "id": "12526f9a",
   "metadata": {},
   "source": [
    "# Importing the data from the train and the test"
   ]
  },
  {
   "cell_type": "code",
   "execution_count": 358,
   "id": "a741d94e",
   "metadata": {},
   "outputs": [],
   "source": [
    "housetrain=pd.read_csv(\"train.csv\")"
   ]
  },
  {
   "cell_type": "code",
   "execution_count": 359,
   "id": "d2609ddf",
   "metadata": {},
   "outputs": [],
   "source": [
    "housetest=pd.read_csv(\"test.csv\")"
   ]
  },
  {
   "cell_type": "markdown",
   "id": "819e9b6b",
   "metadata": {},
   "source": [
    "# EDA(exploratory data anlaysis)"
   ]
  },
  {
   "cell_type": "code",
   "execution_count": 360,
   "id": "30b08a9c",
   "metadata": {},
   "outputs": [],
   "source": [
    "# exploratory data anlaysis done on train data."
   ]
  },
  {
   "cell_type": "code",
   "execution_count": 363,
   "id": "f926e01d",
   "metadata": {
    "scrolled": true
   },
   "outputs": [
    {
     "name": "stdout",
     "output_type": "stream",
     "text": [
      "<class 'pandas.core.frame.DataFrame'>\n",
      "RangeIndex: 1460 entries, 0 to 1459\n",
      "Data columns (total 81 columns):\n",
      " #   Column         Non-Null Count  Dtype  \n",
      "---  ------         --------------  -----  \n",
      " 0   Id             1460 non-null   int64  \n",
      " 1   MSSubClass     1460 non-null   int64  \n",
      " 2   MSZoning       1460 non-null   object \n",
      " 3   LotFrontage    1201 non-null   float64\n",
      " 4   LotArea        1460 non-null   int64  \n",
      " 5   Street         1460 non-null   object \n",
      " 6   Alley          91 non-null     object \n",
      " 7   LotShape       1460 non-null   object \n",
      " 8   LandContour    1460 non-null   object \n",
      " 9   Utilities      1460 non-null   object \n",
      " 10  LotConfig      1460 non-null   object \n",
      " 11  LandSlope      1460 non-null   object \n",
      " 12  Neighborhood   1460 non-null   object \n",
      " 13  Condition1     1460 non-null   object \n",
      " 14  Condition2     1460 non-null   object \n",
      " 15  BldgType       1460 non-null   object \n",
      " 16  HouseStyle     1460 non-null   object \n",
      " 17  OverallQual    1460 non-null   int64  \n",
      " 18  OverallCond    1460 non-null   int64  \n",
      " 19  YearBuilt      1460 non-null   int64  \n",
      " 20  YearRemodAdd   1460 non-null   int64  \n",
      " 21  RoofStyle      1460 non-null   object \n",
      " 22  RoofMatl       1460 non-null   object \n",
      " 23  Exterior1st    1460 non-null   object \n",
      " 24  Exterior2nd    1460 non-null   object \n",
      " 25  MasVnrType     1452 non-null   object \n",
      " 26  MasVnrArea     1452 non-null   float64\n",
      " 27  ExterQual      1460 non-null   object \n",
      " 28  ExterCond      1460 non-null   object \n",
      " 29  Foundation     1460 non-null   object \n",
      " 30  BsmtQual       1423 non-null   object \n",
      " 31  BsmtCond       1423 non-null   object \n",
      " 32  BsmtExposure   1422 non-null   object \n",
      " 33  BsmtFinType1   1423 non-null   object \n",
      " 34  BsmtFinSF1     1460 non-null   int64  \n",
      " 35  BsmtFinType2   1422 non-null   object \n",
      " 36  BsmtFinSF2     1460 non-null   int64  \n",
      " 37  BsmtUnfSF      1460 non-null   int64  \n",
      " 38  TotalBsmtSF    1460 non-null   int64  \n",
      " 39  Heating        1460 non-null   object \n",
      " 40  HeatingQC      1460 non-null   object \n",
      " 41  CentralAir     1460 non-null   object \n",
      " 42  Electrical     1459 non-null   object \n",
      " 43  1stFlrSF       1460 non-null   int64  \n",
      " 44  2ndFlrSF       1460 non-null   int64  \n",
      " 45  LowQualFinSF   1460 non-null   int64  \n",
      " 46  GrLivArea      1460 non-null   int64  \n",
      " 47  BsmtFullBath   1460 non-null   int64  \n",
      " 48  BsmtHalfBath   1460 non-null   int64  \n",
      " 49  FullBath       1460 non-null   int64  \n",
      " 50  HalfBath       1460 non-null   int64  \n",
      " 51  BedroomAbvGr   1460 non-null   int64  \n",
      " 52  KitchenAbvGr   1460 non-null   int64  \n",
      " 53  KitchenQual    1460 non-null   object \n",
      " 54  TotRmsAbvGrd   1460 non-null   int64  \n",
      " 55  Functional     1460 non-null   object \n",
      " 56  Fireplaces     1460 non-null   int64  \n",
      " 57  FireplaceQu    770 non-null    object \n",
      " 58  GarageType     1379 non-null   object \n",
      " 59  GarageYrBlt    1379 non-null   float64\n",
      " 60  GarageFinish   1379 non-null   object \n",
      " 61  GarageCars     1460 non-null   int64  \n",
      " 62  GarageArea     1460 non-null   int64  \n",
      " 63  GarageQual     1379 non-null   object \n",
      " 64  GarageCond     1379 non-null   object \n",
      " 65  PavedDrive     1460 non-null   object \n",
      " 66  WoodDeckSF     1460 non-null   int64  \n",
      " 67  OpenPorchSF    1460 non-null   int64  \n",
      " 68  EnclosedPorch  1460 non-null   int64  \n",
      " 69  3SsnPorch      1460 non-null   int64  \n",
      " 70  ScreenPorch    1460 non-null   int64  \n",
      " 71  PoolArea       1460 non-null   int64  \n",
      " 72  PoolQC         7 non-null      object \n",
      " 73  Fence          281 non-null    object \n",
      " 74  MiscFeature    54 non-null     object \n",
      " 75  MiscVal        1460 non-null   int64  \n",
      " 76  MoSold         1460 non-null   int64  \n",
      " 77  YrSold         1460 non-null   int64  \n",
      " 78  SaleType       1460 non-null   object \n",
      " 79  SaleCondition  1460 non-null   object \n",
      " 80  SalePrice      1460 non-null   int64  \n",
      "dtypes: float64(3), int64(35), object(43)\n",
      "memory usage: 924.0+ KB\n"
     ]
    }
   ],
   "source": [
    "housetrain.info()"
   ]
  },
  {
   "cell_type": "code",
   "execution_count": 364,
   "id": "a56e65f6",
   "metadata": {},
   "outputs": [
    {
     "data": {
      "text/plain": [
       "RL         1151\n",
       "RM          218\n",
       "FV           65\n",
       "RH           16\n",
       "C (all)      10\n",
       "Name: MSZoning, dtype: int64"
      ]
     },
     "execution_count": 364,
     "metadata": {},
     "output_type": "execute_result"
    }
   ],
   "source": [
    "housetrain.MSZoning.value_counts()"
   ]
  },
  {
   "cell_type": "code",
   "execution_count": 365,
   "id": "385d1109",
   "metadata": {},
   "outputs": [
    {
     "data": {
      "text/plain": [
       "Pave    1454\n",
       "Grvl       6\n",
       "Name: Street, dtype: int64"
      ]
     },
     "execution_count": 365,
     "metadata": {},
     "output_type": "execute_result"
    }
   ],
   "source": [
    "housetrain.Street.value_counts()"
   ]
  },
  {
   "cell_type": "code",
   "execution_count": 366,
   "id": "0d898a01",
   "metadata": {},
   "outputs": [
    {
     "data": {
      "text/plain": [
       "Grvl    50\n",
       "Pave    41\n",
       "Name: Alley, dtype: int64"
      ]
     },
     "execution_count": 366,
     "metadata": {},
     "output_type": "execute_result"
    }
   ],
   "source": [
    "housetrain.Alley.value_counts()"
   ]
  },
  {
   "cell_type": "code",
   "execution_count": 367,
   "id": "b24ec202",
   "metadata": {},
   "outputs": [
    {
     "data": {
      "text/plain": [
       "180921.19589041095"
      ]
     },
     "execution_count": 367,
     "metadata": {},
     "output_type": "execute_result"
    }
   ],
   "source": [
    "housetrain.SalePrice.mean()"
   ]
  },
  {
   "cell_type": "code",
   "execution_count": 368,
   "id": "2a015cab",
   "metadata": {},
   "outputs": [
    {
     "data": {
      "text/plain": [
       "163000.0"
      ]
     },
     "execution_count": 368,
     "metadata": {},
     "output_type": "execute_result"
    }
   ],
   "source": [
    "housetrain.SalePrice.median()"
   ]
  },
  {
   "cell_type": "code",
   "execution_count": 369,
   "id": "6b63102b",
   "metadata": {},
   "outputs": [
    {
     "data": {
      "text/plain": [
       "Attchd     870\n",
       "Detchd     387\n",
       "BuiltIn     88\n",
       "Basment     19\n",
       "CarPort      9\n",
       "2Types       6\n",
       "Name: GarageType, dtype: int64"
      ]
     },
     "execution_count": 369,
     "metadata": {},
     "output_type": "execute_result"
    }
   ],
   "source": [
    "housetrain.GarageType.value_counts()"
   ]
  },
  {
   "cell_type": "code",
   "execution_count": 370,
   "id": "8625832d",
   "metadata": {},
   "outputs": [
    {
     "data": {
      "text/plain": [
       "Unf    605\n",
       "RFn    422\n",
       "Fin    352\n",
       "Name: GarageFinish, dtype: int64"
      ]
     },
     "execution_count": 370,
     "metadata": {},
     "output_type": "execute_result"
    }
   ],
   "source": [
    "housetrain.GarageFinish.value_counts()"
   ]
  },
  {
   "cell_type": "code",
   "execution_count": 371,
   "id": "86fa4b15",
   "metadata": {},
   "outputs": [
    {
     "data": {
      "text/plain": [
       "GarageFinish\n",
       "Fin    240052.690341\n",
       "RFn    202068.869668\n",
       "Unf    142156.423140\n",
       "Name: SalePrice, dtype: float64"
      ]
     },
     "execution_count": 371,
     "metadata": {},
     "output_type": "execute_result"
    }
   ],
   "source": [
    "housetrain.SalePrice.groupby(housetrain.GarageFinish).mean()"
   ]
  },
  {
   "cell_type": "code",
   "execution_count": 372,
   "id": "d95c84be",
   "metadata": {},
   "outputs": [
    {
     "data": {
      "text/plain": [
       "GarageFinish\n",
       "Fin    215000.0\n",
       "RFn    190000.0\n",
       "Unf    135000.0\n",
       "Name: SalePrice, dtype: float64"
      ]
     },
     "execution_count": 372,
     "metadata": {},
     "output_type": "execute_result"
    }
   ],
   "source": [
    "housetrain.SalePrice.groupby(housetrain.GarageFinish).median()"
   ]
  },
  {
   "cell_type": "code",
   "execution_count": 373,
   "id": "b23f5857",
   "metadata": {},
   "outputs": [
    {
     "data": {
      "text/plain": [
       "GarageType\n",
       "2Types     159000.0\n",
       "Attchd     185000.0\n",
       "Basment    148000.0\n",
       "BuiltIn    227500.0\n",
       "CarPort    108000.0\n",
       "Detchd     129500.0\n",
       "Name: SalePrice, dtype: float64"
      ]
     },
     "execution_count": 373,
     "metadata": {},
     "output_type": "execute_result"
    }
   ],
   "source": [
    "housetrain.SalePrice.groupby(housetrain.GarageType).median()"
   ]
  },
  {
   "cell_type": "code",
   "execution_count": 374,
   "id": "360337ec",
   "metadata": {},
   "outputs": [
    {
     "data": {
      "text/plain": [
       "GarageType\n",
       "2Types     159000.0\n",
       "Attchd     185000.0\n",
       "Basment    148000.0\n",
       "BuiltIn    227500.0\n",
       "CarPort    108000.0\n",
       "Detchd     129500.0\n",
       "Name: SalePrice, dtype: float64"
      ]
     },
     "execution_count": 374,
     "metadata": {},
     "output_type": "execute_result"
    }
   ],
   "source": [
    "housetrain.SalePrice.groupby(housetrain.GarageType).median()"
   ]
  },
  {
   "cell_type": "code",
   "execution_count": 375,
   "id": "714a60f1",
   "metadata": {},
   "outputs": [
    {
     "data": {
      "text/plain": [
       "GarageType\n",
       "2Types     151283.333333\n",
       "Attchd     202892.656322\n",
       "Basment    160570.684211\n",
       "BuiltIn    254751.738636\n",
       "CarPort    109962.111111\n",
       "Detchd     134091.162791\n",
       "Name: SalePrice, dtype: float64"
      ]
     },
     "execution_count": 375,
     "metadata": {},
     "output_type": "execute_result"
    }
   ],
   "source": [
    "housetrain.SalePrice.groupby(housetrain.GarageType).mean()"
   ]
  },
  {
   "cell_type": "code",
   "execution_count": 376,
   "id": "325fa667",
   "metadata": {},
   "outputs": [
    {
     "data": {
      "text/plain": [
       "GarageType\n",
       "2Types     151283.333333\n",
       "Attchd     202892.656322\n",
       "Basment    160570.684211\n",
       "BuiltIn    254751.738636\n",
       "CarPort    109962.111111\n",
       "Detchd     134091.162791\n",
       "Name: SalePrice, dtype: float64"
      ]
     },
     "execution_count": 376,
     "metadata": {},
     "output_type": "execute_result"
    }
   ],
   "source": [
    "housetrain.SalePrice.groupby(housetrain.GarageType).mean()"
   ]
  },
  {
   "cell_type": "code",
   "execution_count": 538,
   "id": "dd52ce40",
   "metadata": {},
   "outputs": [
    {
     "data": {
      "text/plain": [
       "<AxesSubplot:ylabel='Frequency'>"
      ]
     },
     "execution_count": 538,
     "metadata": {},
     "output_type": "execute_result"
    },
    {
     "data": {
      "image/png": "[encoded data removed]",
      "text/plain": [
       "<Figure size 432x288 with 1 Axes>"
      ]
     },
     "metadata": {
      "needs_background": "light"
     },
     "output_type": "display_data"
    }
   ],
   "source": [
    "housetrain.SalePrice.plot(kind='hist')"
   ]
  },
  {
   "cell_type": "code",
   "execution_count": 539,
   "id": "cd3e1be4",
   "metadata": {},
   "outputs": [
    {
     "data": {
      "text/plain": [
       "GarageFinish\n",
       "Fin    AxesSubplot(0.125,0.125;0.775x0.755)\n",
       "RFn    AxesSubplot(0.125,0.125;0.775x0.755)\n",
       "Unf    AxesSubplot(0.125,0.125;0.775x0.755)\n",
       "Name: SalePrice, dtype: object"
      ]
     },
     "execution_count": 539,
     "metadata": {},
     "output_type": "execute_result"
    },
    {
     "data": {
      "image/png": "[encoded data removed]",
      "text/plain": [
       "<Figure size 432x288 with 1 Axes>"
      ]
     },
     "metadata": {
      "needs_background": "light"
     },
     "output_type": "display_data"
    }
   ],
   "source": [
    "housetrain.SalePrice.groupby(housetrain.GarageFinish).plot(kind='hist')"
   ]
  },
  {
   "cell_type": "code",
   "execution_count": 540,
   "id": "02d00ff1",
   "metadata": {},
   "outputs": [
    {
     "data": {
      "text/plain": [
       "GarageType\n",
       "2Types     AxesSubplot(0.125,0.125;0.775x0.755)\n",
       "Attchd     AxesSubplot(0.125,0.125;0.775x0.755)\n",
       "Basment    AxesSubplot(0.125,0.125;0.775x0.755)\n",
       "BuiltIn    AxesSubplot(0.125,0.125;0.775x0.755)\n",
       "CarPort    AxesSubplot(0.125,0.125;0.775x0.755)\n",
       "Detchd     AxesSubplot(0.125,0.125;0.775x0.755)\n",
       "Name: SalePrice, dtype: object"
      ]
     },
     "execution_count": 540,
     "metadata": {},
     "output_type": "execute_result"
    },
    {
     "data": {
      "image/png": "[encoded data removed]",
      "text/plain": [
       "<Figure size 432x288 with 1 Axes>"
      ]
     },
     "metadata": {
      "needs_background": "light"
     },
     "output_type": "display_data"
    }
   ],
   "source": [
    "housetrain.SalePrice.groupby(housetrain.GarageType).plot(kind='hist')"
   ]
  },
  {
   "cell_type": "code",
   "execution_count": 378,
   "id": "94b740f2",
   "metadata": {},
   "outputs": [
    {
     "name": "stdout",
     "output_type": "stream",
     "text": [
      "(1460, 81)\n",
      "(1459, 80)\n"
     ]
    }
   ],
   "source": [
    "# Using shape to understand the data observations and variables\n",
    "print(housetrain.shape)\n",
    "print(housetest.shape)"
   ]
  },
  {
   "cell_type": "code",
   "execution_count": 379,
   "id": "80c6abc6",
   "metadata": {},
   "outputs": [
    {
     "data": {
      "text/plain": [
       "PoolQC           1453\n",
       "MiscFeature      1406\n",
       "Alley            1369\n",
       "Fence            1179\n",
       "FireplaceQu       690\n",
       "LotFrontage       259\n",
       "GarageYrBlt        81\n",
       "GarageCond         81\n",
       "GarageType         81\n",
       "GarageFinish       81\n",
       "GarageQual         81\n",
       "BsmtFinType2       38\n",
       "BsmtExposure       38\n",
       "BsmtQual           37\n",
       "BsmtCond           37\n",
       "BsmtFinType1       37\n",
       "MasVnrArea          8\n",
       "MasVnrType          8\n",
       "Electrical          1\n",
       "Id                  0\n",
       "Functional          0\n",
       "Fireplaces          0\n",
       "KitchenQual         0\n",
       "KitchenAbvGr        0\n",
       "BedroomAbvGr        0\n",
       "HalfBath            0\n",
       "FullBath            0\n",
       "BsmtHalfBath        0\n",
       "TotRmsAbvGrd        0\n",
       "GarageCars          0\n",
       "GrLivArea           0\n",
       "GarageArea          0\n",
       "PavedDrive          0\n",
       "WoodDeckSF          0\n",
       "OpenPorchSF         0\n",
       "EnclosedPorch       0\n",
       "3SsnPorch           0\n",
       "ScreenPorch         0\n",
       "PoolArea            0\n",
       "MiscVal             0\n",
       "MoSold              0\n",
       "YrSold              0\n",
       "SaleType            0\n",
       "SaleCondition       0\n",
       "BsmtFullBath        0\n",
       "HeatingQC           0\n",
       "LowQualFinSF        0\n",
       "LandSlope           0\n",
       "OverallQual         0\n",
       "HouseStyle          0\n",
       "dtype: int64"
      ]
     },
     "execution_count": 379,
     "metadata": {},
     "output_type": "execute_result"
    }
   ],
   "source": [
    "housetrain.isnull().sum().sort_values(ascending=False).head(50)"
   ]
  },
  {
   "cell_type": "code",
   "execution_count": 380,
   "id": "67e783a0",
   "metadata": {},
   "outputs": [],
   "source": [
    "# Added Dependent variable to test Data for Row wise Concatenation\n",
    "housetest['SalePrice']='test'"
   ]
  },
  {
   "cell_type": "markdown",
   "id": "6e168280",
   "metadata": {},
   "source": [
    "# combining the test and training data into a single file Row wise Concatenation"
   ]
  },
  {
   "cell_type": "code",
   "execution_count": 381,
   "id": "c9012417",
   "metadata": {},
   "outputs": [],
   "source": [
    "# Row wise concatenation\n",
    "combinedf=pd.concat([housetrain,housetest],axis=0)"
   ]
  },
  {
   "cell_type": "raw",
   "id": "75fb9c2d",
   "metadata": {},
   "source": [
    "# separating the numeric columns from the object columns"
   ]
  },
  {
   "cell_type": "code",
   "execution_count": 382,
   "id": "0d4d9ad1",
   "metadata": {},
   "outputs": [],
   "source": [
    "# Split data into ObjectColumns and NumericColumns\n",
    "objectcolumns=combinedf.select_dtypes(include=['object'])\n",
    "numericcolumns=combinedf.select_dtypes(include=np.number)"
   ]
  },
  {
   "cell_type": "code",
   "execution_count": 383,
   "id": "c7e2088a",
   "metadata": {},
   "outputs": [
    {
     "name": "stdout",
     "output_type": "stream",
     "text": [
      "(2919, 44)\n",
      "(2919, 37)\n"
     ]
    }
   ],
   "source": [
    "# to know the observation and variables.\n",
    "print(objectcolumns.shape)\n",
    "print(numericcolumns.shape)"
   ]
  },
  {
   "cell_type": "markdown",
   "id": "0edf3421",
   "metadata": {},
   "source": [
    "# examining null values"
   ]
  },
  {
   "cell_type": "code",
   "execution_count": 384,
   "id": "d26a1160",
   "metadata": {
    "scrolled": true
   },
   "outputs": [
    {
     "data": {
      "text/plain": [
       "PoolQC           2909\n",
       "MiscFeature      2814\n",
       "Alley            2721\n",
       "Fence            2348\n",
       "FireplaceQu      1420\n",
       "GarageCond        159\n",
       "GarageQual        159\n",
       "GarageFinish      159\n",
       "GarageType        157\n",
       "BsmtCond           82\n",
       "BsmtExposure       82\n",
       "BsmtQual           81\n",
       "BsmtFinType2       80\n",
       "BsmtFinType1       79\n",
       "MasVnrType         24\n",
       "MSZoning            4\n",
       "Utilities           2\n",
       "Functional          2\n",
       "Exterior2nd         1\n",
       "Electrical          1\n",
       "SaleType            1\n",
       "Exterior1st         1\n",
       "KitchenQual         1\n",
       "RoofStyle           0\n",
       "Neighborhood        0\n",
       "SaleCondition       0\n",
       "ExterQual           0\n",
       "LotShape            0\n",
       "LandContour         0\n",
       "ExterCond           0\n",
       "PavedDrive          0\n",
       "LotConfig           0\n",
       "LandSlope           0\n",
       "Condition1          0\n",
       "HouseStyle          0\n",
       "Condition2          0\n",
       "Foundation          0\n",
       "RoofMatl            0\n",
       "Street              0\n",
       "CentralAir          0\n",
       "HeatingQC           0\n",
       "Heating             0\n",
       "BldgType            0\n",
       "SalePrice           0\n",
       "dtype: int64"
      ]
     },
     "execution_count": 384,
     "metadata": {},
     "output_type": "execute_result"
    }
   ],
   "source": [
    "objectcolumns.isnull().sum().sort_values(ascending=False)"
   ]
  },
  {
   "cell_type": "raw",
   "id": "9a31d3a8",
   "metadata": {},
   "source": [
    "# I'm seperating these data since certain variables are categorical values with large number of missing vales."
   ]
  },
  {
   "cell_type": "code",
   "execution_count": 385,
   "id": "fa2624cd",
   "metadata": {},
   "outputs": [],
   "source": [
    "# Since variables - PoolQC,MiscFeature,Alley,Fence, FireplaceQu has morethan\n",
    "# 50% NA or missing values - impute with word 'missing'\n",
    "missingcols=['PoolQC','MiscFeature','Alley','Fence','FireplaceQu']"
   ]
  },
  {
   "cell_type": "markdown",
   "id": "12eed489",
   "metadata": {},
   "source": [
    "#The missing columns include enormous amounts of missing data, thus I'm replacing missing observations with missing data."
   ]
  },
  {
   "cell_type": "code",
   "execution_count": 386,
   "id": "1d5e4b56",
   "metadata": {},
   "outputs": [],
   "source": [
    "for col in missingcols:\n",
    "    objectcolumns[col]=objectcolumns[col].fillna(\"missing\")"
   ]
  },
  {
   "cell_type": "markdown",
   "id": "be28ad6e",
   "metadata": {},
   "source": [
    "Creating a for loop to find duplicate categorical values in a dataset"
   ]
  },
  {
   "cell_type": "code",
   "execution_count": 387,
   "id": "e35d8ab4",
   "metadata": {},
   "outputs": [
    {
     "name": "stdout",
     "output_type": "stream",
     "text": [
      "RL         2265\n",
      "RM          460\n",
      "FV          139\n",
      "RH           26\n",
      "C (all)      25\n",
      "NaN           4\n",
      "Name: MSZoning, dtype: int64\n",
      "Pave    2907\n",
      "Grvl      12\n",
      "Name: Street, dtype: int64\n",
      "missing    2721\n",
      "Grvl        120\n",
      "Pave         78\n",
      "Name: Alley, dtype: int64\n",
      "Reg    1859\n",
      "IR1     968\n",
      "IR2      76\n",
      "IR3      16\n",
      "Name: LotShape, dtype: int64\n",
      "Lvl    2622\n",
      "HLS     120\n",
      "Bnk     117\n",
      "Low      60\n",
      "Name: LandContour, dtype: int64\n",
      "AllPub    2916\n",
      "NaN          2\n",
      "NoSeWa       1\n",
      "Name: Utilities, dtype: int64\n",
      "Inside     2133\n",
      "Corner      511\n",
      "CulDSac     176\n",
      "FR2          85\n",
      "FR3          14\n",
      "Name: LotConfig, dtype: int64\n",
      "Gtl    2778\n",
      "Mod     125\n",
      "Sev      16\n",
      "Name: LandSlope, dtype: int64\n",
      "NAmes      443\n",
      "CollgCr    267\n",
      "OldTown    239\n",
      "Edwards    194\n",
      "Somerst    182\n",
      "NridgHt    166\n",
      "Gilbert    165\n",
      "Sawyer     151\n",
      "NWAmes     131\n",
      "SawyerW    125\n",
      "Mitchel    114\n",
      "BrkSide    108\n",
      "Crawfor    103\n",
      "IDOTRR      93\n",
      "Timber      72\n",
      "NoRidge     71\n",
      "StoneBr     51\n",
      "SWISU       48\n",
      "ClearCr     44\n",
      "MeadowV     37\n",
      "BrDale      30\n",
      "Blmngtn     28\n",
      "Veenker     24\n",
      "NPkVill     23\n",
      "Blueste     10\n",
      "Name: Neighborhood, dtype: int64\n",
      "Norm      2511\n",
      "Feedr      164\n",
      "Artery      92\n",
      "RRAn        50\n",
      "PosN        39\n",
      "RRAe        28\n",
      "PosA        20\n",
      "RRNn         9\n",
      "RRNe         6\n",
      "Name: Condition1, dtype: int64\n",
      "Norm      2889\n",
      "Feedr       13\n",
      "Artery       5\n",
      "PosN         4\n",
      "PosA         4\n",
      "RRNn         2\n",
      "RRAn         1\n",
      "RRAe         1\n",
      "Name: Condition2, dtype: int64\n",
      "1Fam      2425\n",
      "TwnhsE     227\n",
      "Duplex     109\n",
      "Twnhs       96\n",
      "2fmCon      62\n",
      "Name: BldgType, dtype: int64\n",
      "1Story    1471\n",
      "2Story     872\n",
      "1.5Fin     314\n",
      "SLvl       128\n",
      "SFoyer      83\n",
      "2.5Unf      24\n",
      "1.5Unf      19\n",
      "2.5Fin       8\n",
      "Name: HouseStyle, dtype: int64\n",
      "Gable      2310\n",
      "Hip         551\n",
      "Gambrel      22\n",
      "Flat         20\n",
      "Mansard      11\n",
      "Shed          5\n",
      "Name: RoofStyle, dtype: int64\n",
      "CompShg    2876\n",
      "Tar&Grv      23\n",
      "WdShake       9\n",
      "WdShngl       7\n",
      "Metal         1\n",
      "Membran       1\n",
      "Roll          1\n",
      "ClyTile       1\n",
      "Name: RoofMatl, dtype: int64\n",
      "VinylSd    1025\n",
      "MetalSd     450\n",
      "HdBoard     442\n",
      "Wd Sdng     411\n",
      "Plywood     221\n",
      "CemntBd     126\n",
      "BrkFace      87\n",
      "WdShing      56\n",
      "AsbShng      44\n",
      "Stucco       43\n",
      "BrkComm       6\n",
      "AsphShn       2\n",
      "Stone         2\n",
      "CBlock        2\n",
      "ImStucc       1\n",
      "NaN           1\n",
      "Name: Exterior1st, dtype: int64\n",
      "VinylSd    1014\n",
      "MetalSd     447\n",
      "HdBoard     406\n",
      "Wd Sdng     391\n",
      "Plywood     270\n",
      "CmentBd     126\n",
      "Wd Shng      81\n",
      "Stucco       47\n",
      "BrkFace      47\n",
      "AsbShng      38\n",
      "Brk Cmn      22\n",
      "ImStucc      15\n",
      "Stone         6\n",
      "AsphShn       4\n",
      "CBlock        3\n",
      "Other         1\n",
      "NaN           1\n",
      "Name: Exterior2nd, dtype: int64\n",
      "None       1742\n",
      "BrkFace     879\n",
      "Stone       249\n",
      "BrkCmn       25\n",
      "NaN          24\n",
      "Name: MasVnrType, dtype: int64\n",
      "TA    1798\n",
      "Gd     979\n",
      "Ex     107\n",
      "Fa      35\n",
      "Name: ExterQual, dtype: int64\n",
      "TA    2538\n",
      "Gd     299\n",
      "Fa      67\n",
      "Ex      12\n",
      "Po       3\n",
      "Name: ExterCond, dtype: int64\n",
      "PConc     1308\n",
      "CBlock    1235\n",
      "BrkTil     311\n",
      "Slab        49\n",
      "Stone       11\n",
      "Wood         5\n",
      "Name: Foundation, dtype: int64\n",
      "TA     1283\n",
      "Gd     1209\n",
      "Ex      258\n",
      "Fa       88\n",
      "NaN      81\n",
      "Name: BsmtQual, dtype: int64\n",
      "TA     2606\n",
      "Gd      122\n",
      "Fa      104\n",
      "NaN      82\n",
      "Po        5\n",
      "Name: BsmtCond, dtype: int64\n",
      "No     1904\n",
      "Av      418\n",
      "Gd      276\n",
      "Mn      239\n",
      "NaN      82\n",
      "Name: BsmtExposure, dtype: int64\n",
      "Unf    851\n",
      "GLQ    849\n",
      "ALQ    429\n",
      "Rec    288\n",
      "BLQ    269\n",
      "LwQ    154\n",
      "NaN     79\n",
      "Name: BsmtFinType1, dtype: int64\n",
      "Unf    2493\n",
      "Rec     105\n",
      "LwQ      87\n",
      "NaN      80\n",
      "BLQ      68\n",
      "ALQ      52\n",
      "GLQ      34\n",
      "Name: BsmtFinType2, dtype: int64\n",
      "GasA     2874\n",
      "GasW       27\n",
      "Grav        9\n",
      "Wall        6\n",
      "OthW        2\n",
      "Floor       1\n",
      "Name: Heating, dtype: int64\n",
      "Ex    1493\n",
      "TA     857\n",
      "Gd     474\n",
      "Fa      92\n",
      "Po       3\n",
      "Name: HeatingQC, dtype: int64\n",
      "Y    2723\n",
      "N     196\n",
      "Name: CentralAir, dtype: int64\n",
      "SBrkr    2671\n",
      "FuseA     188\n",
      "FuseF      50\n",
      "FuseP       8\n",
      "Mix         1\n",
      "NaN         1\n",
      "Name: Electrical, dtype: int64\n",
      "TA     1492\n",
      "Gd     1151\n",
      "Ex      205\n",
      "Fa       70\n",
      "NaN       1\n",
      "Name: KitchenQual, dtype: int64\n",
      "Typ     2717\n",
      "Min2      70\n",
      "Min1      65\n",
      "Mod       35\n",
      "Maj1      19\n",
      "Maj2       9\n",
      "Sev        2\n",
      "NaN        2\n",
      "Name: Functional, dtype: int64\n",
      "missing    1420\n",
      "Gd          744\n",
      "TA          592\n",
      "Fa           74\n",
      "Po           46\n",
      "Ex           43\n",
      "Name: FireplaceQu, dtype: int64\n",
      "Attchd     1723\n",
      "Detchd      779\n",
      "BuiltIn     186\n",
      "NaN         157\n",
      "Basment      36\n",
      "2Types       23\n",
      "CarPort      15\n",
      "Name: GarageType, dtype: int64\n",
      "Unf    1230\n",
      "RFn     811\n",
      "Fin     719\n",
      "NaN     159\n",
      "Name: GarageFinish, dtype: int64\n",
      "TA     2604\n",
      "NaN     159\n",
      "Fa      124\n",
      "Gd       24\n",
      "Po        5\n",
      "Ex        3\n",
      "Name: GarageQual, dtype: int64\n",
      "TA     2654\n",
      "NaN     159\n",
      "Fa       74\n",
      "Gd       15\n",
      "Po       14\n",
      "Ex        3\n",
      "Name: GarageCond, dtype: int64\n",
      "Y    2641\n",
      "N     216\n",
      "P      62\n",
      "Name: PavedDrive, dtype: int64\n",
      "missing    2909\n",
      "Ex            4\n",
      "Gd            4\n",
      "Fa            2\n",
      "Name: PoolQC, dtype: int64\n",
      "missing    2348\n",
      "MnPrv       329\n",
      "GdPrv       118\n",
      "GdWo        112\n",
      "MnWw         12\n",
      "Name: Fence, dtype: int64\n",
      "missing    2814\n",
      "Shed         95\n",
      "Gar2          5\n",
      "Othr          4\n",
      "TenC          1\n",
      "Name: MiscFeature, dtype: int64\n",
      "WD       2525\n",
      "New       239\n",
      "COD        87\n",
      "ConLD      26\n",
      "CWD        12\n",
      "ConLI       9\n",
      "ConLw       8\n",
      "Oth         7\n",
      "Con         5\n",
      "NaN         1\n",
      "Name: SaleType, dtype: int64\n",
      "Normal     2402\n",
      "Partial     245\n",
      "Abnorml     190\n",
      "Family       46\n",
      "Alloca       24\n",
      "AdjLand      12\n",
      "Name: SaleCondition, dtype: int64\n",
      "test      1459\n",
      "140000      20\n",
      "135000      17\n",
      "145000      14\n",
      "155000      14\n",
      "          ... \n",
      "202665       1\n",
      "164900       1\n",
      "181500       1\n",
      "289000       1\n",
      "208300       1\n",
      "Name: SalePrice, Length: 664, dtype: int64\n"
     ]
    }
   ],
   "source": [
    "for col in objectcolumns.columns:\n",
    "    freq=objectcolumns[col].value_counts(dropna=False)\n",
    "    print(freq)"
   ]
  },
  {
   "cell_type": "markdown",
   "id": "3dcc7fe7",
   "metadata": {},
   "source": [
    "# Because the sales price is a dependent variable (int data type) in the object, converting the file to numeric data is necessary."
   ]
  },
  {
   "cell_type": "code",
   "execution_count": 388,
   "id": "28cc8bc8",
   "metadata": {},
   "outputs": [],
   "source": [
    "numericcolumns['SalePrice']=objectcolumns.SalePrice"
   ]
  },
  {
   "cell_type": "code",
   "execution_count": 389,
   "id": "aef1ef3c",
   "metadata": {},
   "outputs": [
    {
     "data": {
      "text/plain": [
       "1454    test\n",
       "1455    test\n",
       "1456    test\n",
       "1457    test\n",
       "1458    test\n",
       "Name: SalePrice, dtype: object"
      ]
     },
     "execution_count": 389,
     "metadata": {},
     "output_type": "execute_result"
    }
   ],
   "source": [
    "numericcolumns.SalePrice.tail()"
   ]
  },
  {
   "cell_type": "code",
   "execution_count": 390,
   "id": "947a0e59",
   "metadata": {},
   "outputs": [],
   "source": [
    "# droping the dependent variable from the objectcolumns"
   ]
  },
  {
   "cell_type": "code",
   "execution_count": 391,
   "id": "086351b7",
   "metadata": {},
   "outputs": [],
   "source": [
    "objectcolumns=objectcolumns.drop('SalePrice',axis=1)"
   ]
  },
  {
   "cell_type": "markdown",
   "id": "3e39ad25",
   "metadata": {},
   "source": [
    "# Using the simple imputer technique to impute the data's missing values"
   ]
  },
  {
   "cell_type": "code",
   "execution_count": 392,
   "id": "19e6d210",
   "metadata": {},
   "outputs": [],
   "source": [
    "from sklearn.impute import SimpleImputer"
   ]
  },
  {
   "cell_type": "code",
   "execution_count": 393,
   "id": "3f94ad69",
   "metadata": {},
   "outputs": [],
   "source": [
    "# for categorical data imputation using the simple imputer we use strategy=most_frequent\n",
    "# for numerical data imputation using the simple imputer  we use strategy=mean,median"
   ]
  },
  {
   "cell_type": "code",
   "execution_count": 394,
   "id": "a525f297",
   "metadata": {},
   "outputs": [],
   "source": [
    "imputer=SimpleImputer(strategy=\"most_frequent\")"
   ]
  },
  {
   "cell_type": "code",
   "execution_count": 395,
   "id": "4a95d11a",
   "metadata": {},
   "outputs": [],
   "source": [
    "objectcolumnsimputed=imputer.fit_transform(objectcolumns)"
   ]
  },
  {
   "cell_type": "code",
   "execution_count": 396,
   "id": "46bb45b3",
   "metadata": {},
   "outputs": [],
   "source": [
    "#  after imputation the objectcolumnsimputed data type is changed so we are changing the objectcolumnsimputed data type"
   ]
  },
  {
   "cell_type": "code",
   "execution_count": 397,
   "id": "7d5bf3de",
   "metadata": {},
   "outputs": [],
   "source": [
    "objectcolumnsimputed=pd.DataFrame(objectcolumnsimputed,\n",
    "                                 columns=objectcolumns.columns)"
   ]
  },
  {
   "cell_type": "code",
   "execution_count": 400,
   "id": "dc1862b0",
   "metadata": {},
   "outputs": [],
   "source": [
    "numericcolumns.YrSold=2022-numericcolumns.YrSold"
   ]
  },
  {
   "cell_type": "code",
   "execution_count": 401,
   "id": "eef600d2",
   "metadata": {},
   "outputs": [
    {
     "data": {
      "text/plain": [
       "0       14\n",
       "1       15\n",
       "2       14\n",
       "3       16\n",
       "4       14\n",
       "        ..\n",
       "1454    16\n",
       "1455    16\n",
       "1456    16\n",
       "1457    16\n",
       "1458    16\n",
       "Name: YrSold, Length: 2919, dtype: int64"
      ]
     },
     "execution_count": 401,
     "metadata": {},
     "output_type": "execute_result"
    }
   ],
   "source": [
    "numericcolumns.YrSold"
   ]
  },
  {
   "cell_type": "code",
   "execution_count": 402,
   "id": "e48b8903",
   "metadata": {},
   "outputs": [],
   "source": [
    "# separating the categorical data from the numerical data"
   ]
  },
  {
   "cell_type": "code",
   "execution_count": 403,
   "id": "4e2ef7c1",
   "metadata": {},
   "outputs": [],
   "source": [
    "categorycolumns=numericcolumns[['OverallQual','OverallCond', 'YearBuilt', \n",
    "                                'YearRemodAdd','GarageYrBlt','MoSold']]"
   ]
  },
  {
   "cell_type": "code",
   "execution_count": 404,
   "id": "8a359799",
   "metadata": {},
   "outputs": [],
   "source": [
    "numericcolumns=numericcolumns.drop(['OverallQual','OverallCond', 'YearBuilt', \n",
    "                                'YearRemodAdd','GarageYrBlt','MoSold'],axis=1)"
   ]
  },
  {
   "cell_type": "code",
   "execution_count": 405,
   "id": "5ebc55ed",
   "metadata": {},
   "outputs": [
    {
     "name": "stdout",
     "output_type": "stream",
     "text": [
      "(2919, 43)\n",
      "(2919, 6)\n",
      "(2919, 32)\n"
     ]
    }
   ],
   "source": [
    "print(objectcolumnsimputed.shape)\n",
    "print(categorycolumns.shape)\n",
    "print(numericcolumns.shape)"
   ]
  },
  {
   "cell_type": "code",
   "execution_count": 406,
   "id": "809c5067",
   "metadata": {},
   "outputs": [],
   "source": [
    "#  here i am using the manual imputation to impute the missing data  from the numeric columns"
   ]
  },
  {
   "cell_type": "code",
   "execution_count": 407,
   "id": "39e17051",
   "metadata": {},
   "outputs": [],
   "source": [
    "numericcolumns.LotFrontage=numericcolumns.LotFrontage.fillna(\n",
    "numericcolumns.LotFrontage.median())"
   ]
  },
  {
   "cell_type": "code",
   "execution_count": 408,
   "id": "9fb8ad5a",
   "metadata": {},
   "outputs": [],
   "source": [
    "for col in numericcolumns.columns.drop('SalePrice'):\n",
    "    numericcolumns[col]=numericcolumns[col].fillna(\n",
    "        numericcolumns[col].median())"
   ]
  },
  {
   "cell_type": "code",
   "execution_count": 409,
   "id": "caf919c2",
   "metadata": {},
   "outputs": [],
   "source": [
    "categorycolumnsimputed=imputer.fit_transform(categorycolumns)"
   ]
  },
  {
   "cell_type": "code",
   "execution_count": 410,
   "id": "3de2e16f",
   "metadata": {},
   "outputs": [],
   "source": [
    "categorycolumnsimputed=pd.DataFrame(categorycolumnsimputed,\n",
    "                                   columns=categorycolumns.columns)"
   ]
  },
  {
   "cell_type": "code",
   "execution_count": 411,
   "id": "e410c781",
   "metadata": {},
   "outputs": [],
   "source": [
    "# importing the lable encoder to convert the categorical data into binary coded form"
   ]
  },
  {
   "cell_type": "code",
   "execution_count": 412,
   "id": "76ae3f94",
   "metadata": {},
   "outputs": [],
   "source": [
    "from sklearn.preprocessing import LabelEncoder"
   ]
  },
  {
   "cell_type": "code",
   "execution_count": 413,
   "id": "f071b8c8",
   "metadata": {},
   "outputs": [],
   "source": [
    "le=LabelEncoder()"
   ]
  },
  {
   "cell_type": "code",
   "execution_count": 414,
   "id": "1563516f",
   "metadata": {},
   "outputs": [],
   "source": [
    "objectcolumnsdummy=objectcolumnsimputed.apply(le.fit_transform)"
   ]
  },
  {
   "cell_type": "code",
   "execution_count": 415,
   "id": "bc333fde",
   "metadata": {},
   "outputs": [],
   "source": [
    "categorycolumnsdummy=categorycolumnsimputed.apply(le.fit_transform)"
   ]
  },
  {
   "cell_type": "code",
   "execution_count": 416,
   "id": "b9c48335",
   "metadata": {},
   "outputs": [],
   "source": [
    "numericcolumns=numericcolumns.reset_index(drop=True)"
   ]
  },
  {
   "cell_type": "code",
   "execution_count": 417,
   "id": "f9b6e2f1",
   "metadata": {},
   "outputs": [],
   "source": [
    "objectcolumnsdummy=objectcolumnsdummy.reset_index(drop=True)"
   ]
  },
  {
   "cell_type": "code",
   "execution_count": 418,
   "id": "7005feb6",
   "metadata": {},
   "outputs": [],
   "source": [
    "categorycolumnsdummy=categorycolumnsdummy.reset_index(drop=True)"
   ]
  },
  {
   "cell_type": "code",
   "execution_count": 419,
   "id": "016698ab",
   "metadata": {},
   "outputs": [],
   "source": [
    "combinedfclean=pd.concat([numericcolumns,objectcolumnsdummy,\n",
    "                          categorycolumnsdummy],axis=1)"
   ]
  },
  {
   "cell_type": "markdown",
   "id": "6adcb399",
   "metadata": {},
   "source": [
    "#  finding a correlation for the numeric columns"
   ]
  },
  {
   "cell_type": "code",
   "execution_count": 420,
   "id": "c37d8abe",
   "metadata": {},
   "outputs": [
    {
     "data": {
      "text/html": [
       "<div>\n",
       "<style scoped>\n",
       "    .dataframe tbody tr th:only-of-type {\n",
       "        vertical-align: middle;\n",
       "    }\n",
       "\n",
       "    .dataframe tbody tr th {\n",
       "        vertical-align: top;\n",
       "    }\n",
       "\n",
       "    .dataframe thead th {\n",
       "        text-align: right;\n",
       "    }\n",
       "</style>\n",
       "<table border=\"1\" class=\"dataframe\">\n",
       "  <thead>\n",
       "    <tr style=\"text-align: right;\">\n",
       "      <th></th>\n",
       "      <th>Id</th>\n",
       "      <th>MSSubClass</th>\n",
       "      <th>LotFrontage</th>\n",
       "      <th>LotArea</th>\n",
       "      <th>MasVnrArea</th>\n",
       "      <th>BsmtFinSF1</th>\n",
       "      <th>BsmtFinSF2</th>\n",
       "      <th>BsmtUnfSF</th>\n",
       "      <th>TotalBsmtSF</th>\n",
       "      <th>1stFlrSF</th>\n",
       "      <th>...</th>\n",
       "      <th>GarageCars</th>\n",
       "      <th>GarageArea</th>\n",
       "      <th>WoodDeckSF</th>\n",
       "      <th>OpenPorchSF</th>\n",
       "      <th>EnclosedPorch</th>\n",
       "      <th>3SsnPorch</th>\n",
       "      <th>ScreenPorch</th>\n",
       "      <th>PoolArea</th>\n",
       "      <th>MiscVal</th>\n",
       "      <th>YrSold</th>\n",
       "    </tr>\n",
       "  </thead>\n",
       "  <tbody>\n",
       "    <tr>\n",
       "      <th>Id</th>\n",
       "      <td>1.000000</td>\n",
       "      <td>0.008931</td>\n",
       "      <td>-0.024710</td>\n",
       "      <td>-0.040746</td>\n",
       "      <td>-0.026737</td>\n",
       "      <td>-0.016988</td>\n",
       "      <td>0.018170</td>\n",
       "      <td>-0.014509</td>\n",
       "      <td>-0.024960</td>\n",
       "      <td>-0.008678</td>\n",
       "      <td>...</td>\n",
       "      <td>-0.010066</td>\n",
       "      <td>-0.008847</td>\n",
       "      <td>-0.007056</td>\n",
       "      <td>0.009960</td>\n",
       "      <td>0.021609</td>\n",
       "      <td>-0.046538</td>\n",
       "      <td>0.022208</td>\n",
       "      <td>0.014332</td>\n",
       "      <td>0.008244</td>\n",
       "      <td>0.256050</td>\n",
       "    </tr>\n",
       "    <tr>\n",
       "      <th>MSSubClass</th>\n",
       "      <td>0.008931</td>\n",
       "      <td>1.000000</td>\n",
       "      <td>-0.389469</td>\n",
       "      <td>-0.201730</td>\n",
       "      <td>0.006309</td>\n",
       "      <td>-0.064254</td>\n",
       "      <td>-0.072431</td>\n",
       "      <td>-0.125913</td>\n",
       "      <td>-0.219893</td>\n",
       "      <td>-0.248641</td>\n",
       "      <td>...</td>\n",
       "      <td>-0.046564</td>\n",
       "      <td>-0.103389</td>\n",
       "      <td>-0.017654</td>\n",
       "      <td>-0.015923</td>\n",
       "      <td>-0.020867</td>\n",
       "      <td>-0.037529</td>\n",
       "      <td>-0.049181</td>\n",
       "      <td>-0.003080</td>\n",
       "      <td>-0.028867</td>\n",
       "      <td>0.015028</td>\n",
       "    </tr>\n",
       "    <tr>\n",
       "      <th>LotFrontage</th>\n",
       "      <td>-0.024710</td>\n",
       "      <td>-0.389469</td>\n",
       "      <td>1.000000</td>\n",
       "      <td>0.361426</td>\n",
       "      <td>0.200474</td>\n",
       "      <td>0.201697</td>\n",
       "      <td>0.040330</td>\n",
       "      <td>0.106921</td>\n",
       "      <td>0.330765</td>\n",
       "      <td>0.423217</td>\n",
       "      <td>...</td>\n",
       "      <td>0.290631</td>\n",
       "      <td>0.338014</td>\n",
       "      <td>0.104364</td>\n",
       "      <td>0.151789</td>\n",
       "      <td>0.011039</td>\n",
       "      <td>0.024882</td>\n",
       "      <td>0.069352</td>\n",
       "      <td>0.161025</td>\n",
       "      <td>0.035161</td>\n",
       "      <td>0.007562</td>\n",
       "    </tr>\n",
       "    <tr>\n",
       "      <th>LotArea</th>\n",
       "      <td>-0.040746</td>\n",
       "      <td>-0.201730</td>\n",
       "      <td>0.361426</td>\n",
       "      <td>1.000000</td>\n",
       "      <td>0.124728</td>\n",
       "      <td>0.194050</td>\n",
       "      <td>0.084107</td>\n",
       "      <td>0.021400</td>\n",
       "      <td>0.254150</td>\n",
       "      <td>0.332460</td>\n",
       "      <td>...</td>\n",
       "      <td>0.180415</td>\n",
       "      <td>0.213249</td>\n",
       "      <td>0.158045</td>\n",
       "      <td>0.104797</td>\n",
       "      <td>0.020974</td>\n",
       "      <td>0.015995</td>\n",
       "      <td>0.054375</td>\n",
       "      <td>0.093708</td>\n",
       "      <td>0.069029</td>\n",
       "      <td>0.024234</td>\n",
       "    </tr>\n",
       "    <tr>\n",
       "      <th>MasVnrArea</th>\n",
       "      <td>-0.026737</td>\n",
       "      <td>0.006309</td>\n",
       "      <td>0.200474</td>\n",
       "      <td>0.124728</td>\n",
       "      <td>1.000000</td>\n",
       "      <td>0.301427</td>\n",
       "      <td>-0.014580</td>\n",
       "      <td>0.087991</td>\n",
       "      <td>0.393662</td>\n",
       "      <td>0.392367</td>\n",
       "      <td>...</td>\n",
       "      <td>0.357659</td>\n",
       "      <td>0.370945</td>\n",
       "      <td>0.166606</td>\n",
       "      <td>0.140880</td>\n",
       "      <td>-0.110614</td>\n",
       "      <td>0.014059</td>\n",
       "      <td>0.066392</td>\n",
       "      <td>0.004791</td>\n",
       "      <td>0.045156</td>\n",
       "      <td>0.017654</td>\n",
       "    </tr>\n",
       "    <tr>\n",
       "      <th>BsmtFinSF1</th>\n",
       "      <td>-0.016988</td>\n",
       "      <td>-0.064254</td>\n",
       "      <td>0.201697</td>\n",
       "      <td>0.194050</td>\n",
       "      <td>0.301427</td>\n",
       "      <td>1.000000</td>\n",
       "      <td>-0.055028</td>\n",
       "      <td>-0.477387</td>\n",
       "      <td>0.536471</td>\n",
       "      <td>0.458091</td>\n",
       "      <td>...</td>\n",
       "      <td>0.255510</td>\n",
       "      <td>0.310454</td>\n",
       "      <td>0.223511</td>\n",
       "      <td>0.124191</td>\n",
       "      <td>-0.099690</td>\n",
       "      <td>0.050914</td>\n",
       "      <td>0.096837</td>\n",
       "      <td>0.084465</td>\n",
       "      <td>0.093300</td>\n",
       "      <td>-0.022547</td>\n",
       "    </tr>\n",
       "    <tr>\n",
       "      <th>BsmtFinSF2</th>\n",
       "      <td>0.018170</td>\n",
       "      <td>-0.072431</td>\n",
       "      <td>0.040330</td>\n",
       "      <td>0.084107</td>\n",
       "      <td>-0.014580</td>\n",
       "      <td>-0.055028</td>\n",
       "      <td>1.000000</td>\n",
       "      <td>-0.238215</td>\n",
       "      <td>0.089423</td>\n",
       "      <td>0.084389</td>\n",
       "      <td>...</td>\n",
       "      <td>-0.014753</td>\n",
       "      <td>0.003225</td>\n",
       "      <td>0.098462</td>\n",
       "      <td>-0.005805</td>\n",
       "      <td>0.032775</td>\n",
       "      <td>-0.023268</td>\n",
       "      <td>0.063329</td>\n",
       "      <td>0.044530</td>\n",
       "      <td>-0.005130</td>\n",
       "      <td>-0.008867</td>\n",
       "    </tr>\n",
       "    <tr>\n",
       "      <th>BsmtUnfSF</th>\n",
       "      <td>-0.014509</td>\n",
       "      <td>-0.125913</td>\n",
       "      <td>0.106921</td>\n",
       "      <td>0.021400</td>\n",
       "      <td>0.087991</td>\n",
       "      <td>-0.477387</td>\n",
       "      <td>-0.238215</td>\n",
       "      <td>1.000000</td>\n",
       "      <td>0.412291</td>\n",
       "      <td>0.296623</td>\n",
       "      <td>...</td>\n",
       "      <td>0.180067</td>\n",
       "      <td>0.164435</td>\n",
       "      <td>-0.039244</td>\n",
       "      <td>0.119804</td>\n",
       "      <td>0.005032</td>\n",
       "      <td>-0.005803</td>\n",
       "      <td>-0.049136</td>\n",
       "      <td>-0.032268</td>\n",
       "      <td>-0.010486</td>\n",
       "      <td>0.038026</td>\n",
       "    </tr>\n",
       "    <tr>\n",
       "      <th>TotalBsmtSF</th>\n",
       "      <td>-0.024960</td>\n",
       "      <td>-0.219893</td>\n",
       "      <td>0.330765</td>\n",
       "      <td>0.254150</td>\n",
       "      <td>0.393662</td>\n",
       "      <td>0.536471</td>\n",
       "      <td>0.089423</td>\n",
       "      <td>0.412291</td>\n",
       "      <td>1.000000</td>\n",
       "      <td>0.801638</td>\n",
       "      <td>...</td>\n",
       "      <td>0.437900</td>\n",
       "      <td>0.486021</td>\n",
       "      <td>0.229614</td>\n",
       "      <td>0.245533</td>\n",
       "      <td>-0.085490</td>\n",
       "      <td>0.037897</td>\n",
       "      <td>0.075376</td>\n",
       "      <td>0.072219</td>\n",
       "      <td>0.084005</td>\n",
       "      <td>0.011192</td>\n",
       "    </tr>\n",
       "    <tr>\n",
       "      <th>1stFlrSF</th>\n",
       "      <td>-0.008678</td>\n",
       "      <td>-0.248641</td>\n",
       "      <td>0.423217</td>\n",
       "      <td>0.332460</td>\n",
       "      <td>0.392367</td>\n",
       "      <td>0.458091</td>\n",
       "      <td>0.084389</td>\n",
       "      <td>0.296623</td>\n",
       "      <td>0.801638</td>\n",
       "      <td>1.000000</td>\n",
       "      <td>...</td>\n",
       "      <td>0.440452</td>\n",
       "      <td>0.491979</td>\n",
       "      <td>0.227347</td>\n",
       "      <td>0.238502</td>\n",
       "      <td>-0.065796</td>\n",
       "      <td>0.044086</td>\n",
       "      <td>0.098381</td>\n",
       "      <td>0.121900</td>\n",
       "      <td>0.093062</td>\n",
       "      <td>0.013442</td>\n",
       "    </tr>\n",
       "    <tr>\n",
       "      <th>2ndFlrSF</th>\n",
       "      <td>-0.022252</td>\n",
       "      <td>0.309309</td>\n",
       "      <td>0.023249</td>\n",
       "      <td>0.031515</td>\n",
       "      <td>0.119377</td>\n",
       "      <td>-0.162240</td>\n",
       "      <td>-0.097654</td>\n",
       "      <td>-0.000318</td>\n",
       "      <td>-0.205605</td>\n",
       "      <td>-0.249823</td>\n",
       "      <td>...</td>\n",
       "      <td>0.182532</td>\n",
       "      <td>0.128548</td>\n",
       "      <td>0.089922</td>\n",
       "      <td>0.185387</td>\n",
       "      <td>0.054645</td>\n",
       "      <td>-0.032458</td>\n",
       "      <td>0.011070</td>\n",
       "      <td>0.044503</td>\n",
       "      <td>-0.005299</td>\n",
       "      <td>0.019229</td>\n",
       "    </tr>\n",
       "    <tr>\n",
       "      <th>LowQualFinSF</th>\n",
       "      <td>-0.037816</td>\n",
       "      <td>0.026482</td>\n",
       "      <td>0.005142</td>\n",
       "      <td>0.000554</td>\n",
       "      <td>-0.057380</td>\n",
       "      <td>-0.066022</td>\n",
       "      <td>-0.004913</td>\n",
       "      <td>0.046920</td>\n",
       "      <td>-0.023354</td>\n",
       "      <td>-0.012704</td>\n",
       "      <td>...</td>\n",
       "      <td>-0.067345</td>\n",
       "      <td>-0.053552</td>\n",
       "      <td>-0.015622</td>\n",
       "      <td>-0.000692</td>\n",
       "      <td>0.087212</td>\n",
       "      <td>-0.004545</td>\n",
       "      <td>0.006835</td>\n",
       "      <td>0.035177</td>\n",
       "      <td>-0.005973</td>\n",
       "      <td>0.002257</td>\n",
       "    </tr>\n",
       "    <tr>\n",
       "      <th>GrLivArea</th>\n",
       "      <td>-0.029046</td>\n",
       "      <td>0.071677</td>\n",
       "      <td>0.348304</td>\n",
       "      <td>0.284519</td>\n",
       "      <td>0.400088</td>\n",
       "      <td>0.211682</td>\n",
       "      <td>-0.017747</td>\n",
       "      <td>0.234017</td>\n",
       "      <td>0.445223</td>\n",
       "      <td>0.562538</td>\n",
       "      <td>...</td>\n",
       "      <td>0.489958</td>\n",
       "      <td>0.485441</td>\n",
       "      <td>0.251017</td>\n",
       "      <td>0.341907</td>\n",
       "      <td>0.003274</td>\n",
       "      <td>0.006268</td>\n",
       "      <td>0.086284</td>\n",
       "      <td>0.135441</td>\n",
       "      <td>0.067118</td>\n",
       "      <td>0.026919</td>\n",
       "    </tr>\n",
       "    <tr>\n",
       "      <th>BsmtFullBath</th>\n",
       "      <td>-0.000318</td>\n",
       "      <td>0.010436</td>\n",
       "      <td>0.100502</td>\n",
       "      <td>0.126671</td>\n",
       "      <td>0.141141</td>\n",
       "      <td>0.638911</td>\n",
       "      <td>0.162957</td>\n",
       "      <td>-0.398054</td>\n",
       "      <td>0.325939</td>\n",
       "      <td>0.257950</td>\n",
       "      <td>...</td>\n",
       "      <td>0.161731</td>\n",
       "      <td>0.184679</td>\n",
       "      <td>0.186445</td>\n",
       "      <td>0.079767</td>\n",
       "      <td>-0.068172</td>\n",
       "      <td>0.027429</td>\n",
       "      <td>0.053265</td>\n",
       "      <td>0.043996</td>\n",
       "      <td>-0.004578</td>\n",
       "      <td>-0.045155</td>\n",
       "    </tr>\n",
       "    <tr>\n",
       "      <th>BsmtHalfBath</th>\n",
       "      <td>0.010243</td>\n",
       "      <td>-0.001728</td>\n",
       "      <td>-0.023879</td>\n",
       "      <td>0.025838</td>\n",
       "      <td>0.016204</td>\n",
       "      <td>0.078443</td>\n",
       "      <td>0.099530</td>\n",
       "      <td>-0.106960</td>\n",
       "      <td>0.012600</td>\n",
       "      <td>0.010462</td>\n",
       "      <td>...</td>\n",
       "      <td>-0.033420</td>\n",
       "      <td>-0.021426</td>\n",
       "      <td>0.051665</td>\n",
       "      <td>-0.035126</td>\n",
       "      <td>-0.009613</td>\n",
       "      <td>0.026878</td>\n",
       "      <td>0.042115</td>\n",
       "      <td>0.066860</td>\n",
       "      <td>0.036917</td>\n",
       "      <td>0.020055</td>\n",
       "    </tr>\n",
       "    <tr>\n",
       "      <th>FullBath</th>\n",
       "      <td>-0.009946</td>\n",
       "      <td>0.139140</td>\n",
       "      <td>0.163745</td>\n",
       "      <td>0.125826</td>\n",
       "      <td>0.254085</td>\n",
       "      <td>0.081566</td>\n",
       "      <td>-0.075314</td>\n",
       "      <td>0.273231</td>\n",
       "      <td>0.327751</td>\n",
       "      <td>0.373077</td>\n",
       "      <td>...</td>\n",
       "      <td>0.480012</td>\n",
       "      <td>0.408453</td>\n",
       "      <td>0.181266</td>\n",
       "      <td>0.260423</td>\n",
       "      <td>-0.118983</td>\n",
       "      <td>0.015192</td>\n",
       "      <td>-0.015910</td>\n",
       "      <td>0.028091</td>\n",
       "      <td>-0.010024</td>\n",
       "      <td>0.004882</td>\n",
       "    </tr>\n",
       "    <tr>\n",
       "      <th>HalfBath</th>\n",
       "      <td>-0.015358</td>\n",
       "      <td>0.178750</td>\n",
       "      <td>0.034010</td>\n",
       "      <td>0.034244</td>\n",
       "      <td>0.187685</td>\n",
       "      <td>-0.007269</td>\n",
       "      <td>-0.032368</td>\n",
       "      <td>-0.035744</td>\n",
       "      <td>-0.055676</td>\n",
       "      <td>-0.104141</td>\n",
       "      <td>...</td>\n",
       "      <td>0.234435</td>\n",
       "      <td>0.178966</td>\n",
       "      <td>0.116701</td>\n",
       "      <td>0.182048</td>\n",
       "      <td>-0.081978</td>\n",
       "      <td>-0.023417</td>\n",
       "      <td>0.035622</td>\n",
       "      <td>0.001424</td>\n",
       "      <td>0.026553</td>\n",
       "      <td>-0.001587</td>\n",
       "    </tr>\n",
       "    <tr>\n",
       "      <th>BedroomAbvGr</th>\n",
       "      <td>0.003074</td>\n",
       "      <td>-0.008796</td>\n",
       "      <td>0.212073</td>\n",
       "      <td>0.132801</td>\n",
       "      <td>0.078213</td>\n",
       "      <td>-0.113468</td>\n",
       "      <td>-0.031111</td>\n",
       "      <td>0.183300</td>\n",
       "      <td>0.053433</td>\n",
       "      <td>0.108418</td>\n",
       "      <td>...</td>\n",
       "      <td>0.092892</td>\n",
       "      <td>0.073914</td>\n",
       "      <td>0.031644</td>\n",
       "      <td>0.086212</td>\n",
       "      <td>0.049940</td>\n",
       "      <td>-0.048279</td>\n",
       "      <td>0.007254</td>\n",
       "      <td>0.036544</td>\n",
       "      <td>0.000245</td>\n",
       "      <td>0.020453</td>\n",
       "    </tr>\n",
       "    <tr>\n",
       "      <th>KitchenAbvGr</th>\n",
       "      <td>-0.011702</td>\n",
       "      <td>0.260155</td>\n",
       "      <td>0.004911</td>\n",
       "      <td>-0.020854</td>\n",
       "      <td>-0.051118</td>\n",
       "      <td>-0.086342</td>\n",
       "      <td>-0.037758</td>\n",
       "      <td>0.065001</td>\n",
       "      <td>-0.038948</td>\n",
       "      <td>0.076071</td>\n",
       "      <td>...</td>\n",
       "      <td>-0.037081</td>\n",
       "      <td>-0.057854</td>\n",
       "      <td>-0.087399</td>\n",
       "      <td>-0.068181</td>\n",
       "      <td>0.027639</td>\n",
       "      <td>-0.021462</td>\n",
       "      <td>-0.056573</td>\n",
       "      <td>-0.013116</td>\n",
       "      <td>0.025078</td>\n",
       "      <td>-0.035173</td>\n",
       "    </tr>\n",
       "    <tr>\n",
       "      <th>TotRmsAbvGrd</th>\n",
       "      <td>-0.029368</td>\n",
       "      <td>0.040509</td>\n",
       "      <td>0.320571</td>\n",
       "      <td>0.213802</td>\n",
       "      <td>0.277103</td>\n",
       "      <td>0.052204</td>\n",
       "      <td>-0.048245</td>\n",
       "      <td>0.247514</td>\n",
       "      <td>0.282082</td>\n",
       "      <td>0.391782</td>\n",
       "      <td>...</td>\n",
       "      <td>0.358012</td>\n",
       "      <td>0.328679</td>\n",
       "      <td>0.156543</td>\n",
       "      <td>0.238156</td>\n",
       "      <td>0.015345</td>\n",
       "      <td>-0.025764</td>\n",
       "      <td>0.032324</td>\n",
       "      <td>0.072061</td>\n",
       "      <td>0.060903</td>\n",
       "      <td>0.032354</td>\n",
       "    </tr>\n",
       "    <tr>\n",
       "      <th>Fireplaces</th>\n",
       "      <td>-0.035236</td>\n",
       "      <td>-0.055151</td>\n",
       "      <td>0.231731</td>\n",
       "      <td>0.261185</td>\n",
       "      <td>0.273129</td>\n",
       "      <td>0.293095</td>\n",
       "      <td>0.065707</td>\n",
       "      <td>0.004881</td>\n",
       "      <td>0.332948</td>\n",
       "      <td>0.407545</td>\n",
       "      <td>...</td>\n",
       "      <td>0.321533</td>\n",
       "      <td>0.294713</td>\n",
       "      <td>0.227608</td>\n",
       "      <td>0.158621</td>\n",
       "      <td>0.000971</td>\n",
       "      <td>0.018852</td>\n",
       "      <td>0.169784</td>\n",
       "      <td>0.099123</td>\n",
       "      <td>0.008535</td>\n",
       "      <td>0.006752</td>\n",
       "    </tr>\n",
       "    <tr>\n",
       "      <th>GarageCars</th>\n",
       "      <td>-0.010066</td>\n",
       "      <td>-0.046564</td>\n",
       "      <td>0.290631</td>\n",
       "      <td>0.180415</td>\n",
       "      <td>0.357659</td>\n",
       "      <td>0.255510</td>\n",
       "      <td>-0.014753</td>\n",
       "      <td>0.180067</td>\n",
       "      <td>0.437900</td>\n",
       "      <td>0.440452</td>\n",
       "      <td>...</td>\n",
       "      <td>1.000000</td>\n",
       "      <td>0.889689</td>\n",
       "      <td>0.240761</td>\n",
       "      <td>0.203449</td>\n",
       "      <td>-0.132338</td>\n",
       "      <td>0.023372</td>\n",
       "      <td>0.043081</td>\n",
       "      <td>0.030417</td>\n",
       "      <td>-0.016943</td>\n",
       "      <td>0.022980</td>\n",
       "    </tr>\n",
       "    <tr>\n",
       "      <th>GarageArea</th>\n",
       "      <td>-0.008847</td>\n",
       "      <td>-0.103389</td>\n",
       "      <td>0.338014</td>\n",
       "      <td>0.213249</td>\n",
       "      <td>0.370945</td>\n",
       "      <td>0.310454</td>\n",
       "      <td>0.003225</td>\n",
       "      <td>0.164435</td>\n",
       "      <td>0.486021</td>\n",
       "      <td>0.491979</td>\n",
       "      <td>...</td>\n",
       "      <td>0.889689</td>\n",
       "      <td>1.000000</td>\n",
       "      <td>0.238066</td>\n",
       "      <td>0.232531</td>\n",
       "      <td>-0.106226</td>\n",
       "      <td>0.029439</td>\n",
       "      <td>0.062385</td>\n",
       "      <td>0.053049</td>\n",
       "      <td>0.008445</td>\n",
       "      <td>0.013457</td>\n",
       "    </tr>\n",
       "    <tr>\n",
       "      <th>WoodDeckSF</th>\n",
       "      <td>-0.007056</td>\n",
       "      <td>-0.017654</td>\n",
       "      <td>0.104364</td>\n",
       "      <td>0.158045</td>\n",
       "      <td>0.166606</td>\n",
       "      <td>0.223511</td>\n",
       "      <td>0.098462</td>\n",
       "      <td>-0.039244</td>\n",
       "      <td>0.229614</td>\n",
       "      <td>0.227347</td>\n",
       "      <td>...</td>\n",
       "      <td>0.240761</td>\n",
       "      <td>0.238066</td>\n",
       "      <td>1.000000</td>\n",
       "      <td>0.038457</td>\n",
       "      <td>-0.119114</td>\n",
       "      <td>-0.003935</td>\n",
       "      <td>-0.052134</td>\n",
       "      <td>0.094231</td>\n",
       "      <td>0.056883</td>\n",
       "      <td>0.000180</td>\n",
       "    </tr>\n",
       "    <tr>\n",
       "      <th>OpenPorchSF</th>\n",
       "      <td>0.009960</td>\n",
       "      <td>-0.015923</td>\n",
       "      <td>0.151789</td>\n",
       "      <td>0.104797</td>\n",
       "      <td>0.140880</td>\n",
       "      <td>0.124191</td>\n",
       "      <td>-0.005805</td>\n",
       "      <td>0.119804</td>\n",
       "      <td>0.245533</td>\n",
       "      <td>0.238502</td>\n",
       "      <td>...</td>\n",
       "      <td>0.203449</td>\n",
       "      <td>0.232531</td>\n",
       "      <td>0.038457</td>\n",
       "      <td>1.000000</td>\n",
       "      <td>-0.059672</td>\n",
       "      <td>-0.009392</td>\n",
       "      <td>0.047777</td>\n",
       "      <td>0.064212</td>\n",
       "      <td>0.077357</td>\n",
       "      <td>0.037377</td>\n",
       "    </tr>\n",
       "    <tr>\n",
       "      <th>EnclosedPorch</th>\n",
       "      <td>0.021609</td>\n",
       "      <td>-0.020867</td>\n",
       "      <td>0.011039</td>\n",
       "      <td>0.020974</td>\n",
       "      <td>-0.110614</td>\n",
       "      <td>-0.099690</td>\n",
       "      <td>0.032775</td>\n",
       "      <td>0.005032</td>\n",
       "      <td>-0.085490</td>\n",
       "      <td>-0.065796</td>\n",
       "      <td>...</td>\n",
       "      <td>-0.132338</td>\n",
       "      <td>-0.106226</td>\n",
       "      <td>-0.119114</td>\n",
       "      <td>-0.059672</td>\n",
       "      <td>1.000000</td>\n",
       "      <td>-0.032822</td>\n",
       "      <td>-0.064377</td>\n",
       "      <td>0.092534</td>\n",
       "      <td>0.008654</td>\n",
       "      <td>0.001134</td>\n",
       "    </tr>\n",
       "    <tr>\n",
       "      <th>3SsnPorch</th>\n",
       "      <td>-0.046538</td>\n",
       "      <td>-0.037529</td>\n",
       "      <td>0.024882</td>\n",
       "      <td>0.015995</td>\n",
       "      <td>0.014059</td>\n",
       "      <td>0.050914</td>\n",
       "      <td>-0.023268</td>\n",
       "      <td>-0.005803</td>\n",
       "      <td>0.037897</td>\n",
       "      <td>0.044086</td>\n",
       "      <td>...</td>\n",
       "      <td>0.023372</td>\n",
       "      <td>0.029439</td>\n",
       "      <td>-0.003935</td>\n",
       "      <td>-0.009392</td>\n",
       "      <td>-0.032822</td>\n",
       "      <td>1.000000</td>\n",
       "      <td>-0.029546</td>\n",
       "      <td>-0.006525</td>\n",
       "      <td>-0.000788</td>\n",
       "      <td>-0.022560</td>\n",
       "    </tr>\n",
       "    <tr>\n",
       "      <th>ScreenPorch</th>\n",
       "      <td>0.022208</td>\n",
       "      <td>-0.049181</td>\n",
       "      <td>0.069352</td>\n",
       "      <td>0.054375</td>\n",
       "      <td>0.066392</td>\n",
       "      <td>0.096837</td>\n",
       "      <td>0.063329</td>\n",
       "      <td>-0.049136</td>\n",
       "      <td>0.075376</td>\n",
       "      <td>0.098381</td>\n",
       "      <td>...</td>\n",
       "      <td>0.043081</td>\n",
       "      <td>0.062385</td>\n",
       "      <td>-0.052134</td>\n",
       "      <td>0.047777</td>\n",
       "      <td>-0.064377</td>\n",
       "      <td>-0.029546</td>\n",
       "      <td>1.000000</td>\n",
       "      <td>0.026319</td>\n",
       "      <td>0.007067</td>\n",
       "      <td>0.006634</td>\n",
       "    </tr>\n",
       "    <tr>\n",
       "      <th>PoolArea</th>\n",
       "      <td>0.014332</td>\n",
       "      <td>-0.003080</td>\n",
       "      <td>0.161025</td>\n",
       "      <td>0.093708</td>\n",
       "      <td>0.004791</td>\n",
       "      <td>0.084465</td>\n",
       "      <td>0.044530</td>\n",
       "      <td>-0.032268</td>\n",
       "      <td>0.072219</td>\n",
       "      <td>0.121900</td>\n",
       "      <td>...</td>\n",
       "      <td>0.030417</td>\n",
       "      <td>0.053049</td>\n",
       "      <td>0.094231</td>\n",
       "      <td>0.064212</td>\n",
       "      <td>0.092534</td>\n",
       "      <td>-0.006525</td>\n",
       "      <td>0.026319</td>\n",
       "      <td>1.000000</td>\n",
       "      <td>0.011921</td>\n",
       "      <td>0.052816</td>\n",
       "    </tr>\n",
       "    <tr>\n",
       "      <th>MiscVal</th>\n",
       "      <td>0.008244</td>\n",
       "      <td>-0.028867</td>\n",
       "      <td>0.035161</td>\n",
       "      <td>0.069029</td>\n",
       "      <td>0.045156</td>\n",
       "      <td>0.093300</td>\n",
       "      <td>-0.005130</td>\n",
       "      <td>-0.010486</td>\n",
       "      <td>0.084005</td>\n",
       "      <td>0.093062</td>\n",
       "      <td>...</td>\n",
       "      <td>-0.016943</td>\n",
       "      <td>0.008445</td>\n",
       "      <td>0.056883</td>\n",
       "      <td>0.077357</td>\n",
       "      <td>0.008654</td>\n",
       "      <td>-0.000788</td>\n",
       "      <td>0.007067</td>\n",
       "      <td>0.011921</td>\n",
       "      <td>1.000000</td>\n",
       "      <td>-0.008445</td>\n",
       "    </tr>\n",
       "    <tr>\n",
       "      <th>YrSold</th>\n",
       "      <td>0.256050</td>\n",
       "      <td>0.015028</td>\n",
       "      <td>0.007562</td>\n",
       "      <td>0.024234</td>\n",
       "      <td>0.017654</td>\n",
       "      <td>-0.022547</td>\n",
       "      <td>-0.008867</td>\n",
       "      <td>0.038026</td>\n",
       "      <td>0.011192</td>\n",
       "      <td>0.013442</td>\n",
       "      <td>...</td>\n",
       "      <td>0.022980</td>\n",
       "      <td>0.013457</td>\n",
       "      <td>0.000180</td>\n",
       "      <td>0.037377</td>\n",
       "      <td>0.001134</td>\n",
       "      <td>-0.022560</td>\n",
       "      <td>0.006634</td>\n",
       "      <td>0.052816</td>\n",
       "      <td>-0.008445</td>\n",
       "      <td>1.000000</td>\n",
       "    </tr>\n",
       "  </tbody>\n",
       "</table>\n",
       "<p>31 rows × 31 columns</p>\n",
       "</div>"
      ],
      "text/plain": [
       "                     Id  MSSubClass  LotFrontage   LotArea  MasVnrArea  \\\n",
       "Id             1.000000    0.008931    -0.024710 -0.040746   -0.026737   \n",
       "MSSubClass     0.008931    1.000000    -0.389469 -0.201730    0.006309   \n",
       "LotFrontage   -0.024710   -0.389469     1.000000  0.361426    0.200474   \n",
       "LotArea       -0.040746   -0.201730     0.361426  1.000000    0.124728   \n",
       "MasVnrArea    -0.026737    0.006309     0.200474  0.124728    1.000000   \n",
       "BsmtFinSF1    -0.016988   -0.064254     0.201697  0.194050    0.301427   \n",
       "BsmtFinSF2     0.018170   -0.072431     0.040330  0.084107   -0.014580   \n",
       "BsmtUnfSF     -0.014509   -0.125913     0.106921  0.021400    0.087991   \n",
       "TotalBsmtSF   -0.024960   -0.219893     0.330765  0.254150    0.393662   \n",
       "1stFlrSF      -0.008678   -0.248641     0.423217  0.332460    0.392367   \n",
       "2ndFlrSF      -0.022252    0.309309     0.023249  0.031515    0.119377   \n",
       "LowQualFinSF  -0.037816    0.026482     0.005142  0.000554   -0.057380   \n",
       "GrLivArea     -0.029046    0.071677     0.348304  0.284519    0.400088   \n",
       "BsmtFullBath  -0.000318    0.010436     0.100502  0.126671    0.141141   \n",
       "BsmtHalfBath   0.010243   -0.001728    -0.023879  0.025838    0.016204   \n",
       "FullBath      -0.009946    0.139140     0.163745  0.125826    0.254085   \n",
       "HalfBath      -0.015358    0.178750     0.034010  0.034244    0.187685   \n",
       "BedroomAbvGr   0.003074   -0.008796     0.212073  0.132801    0.078213   \n",
       "KitchenAbvGr  -0.011702    0.260155     0.004911 -0.020854   -0.051118   \n",
       "TotRmsAbvGrd  -0.029368    0.040509     0.320571  0.213802    0.277103   \n",
       "Fireplaces    -0.035236   -0.055151     0.231731  0.261185    0.273129   \n",
       "GarageCars    -0.010066   -0.046564     0.290631  0.180415    0.357659   \n",
       "GarageArea    -0.008847   -0.103389     0.338014  0.213249    0.370945   \n",
       "WoodDeckSF    -0.007056   -0.017654     0.104364  0.158045    0.166606   \n",
       "OpenPorchSF    0.009960   -0.015923     0.151789  0.104797    0.140880   \n",
       "EnclosedPorch  0.021609   -0.020867     0.011039  0.020974   -0.110614   \n",
       "3SsnPorch     -0.046538   -0.037529     0.024882  0.015995    0.014059   \n",
       "ScreenPorch    0.022208   -0.049181     0.069352  0.054375    0.066392   \n",
       "PoolArea       0.014332   -0.003080     0.161025  0.093708    0.004791   \n",
       "MiscVal        0.008244   -0.028867     0.035161  0.069029    0.045156   \n",
       "YrSold         0.256050    0.015028     0.007562  0.024234    0.017654   \n",
       "\n",
       "               BsmtFinSF1  BsmtFinSF2  BsmtUnfSF  TotalBsmtSF  1stFlrSF  ...  \\\n",
       "Id              -0.016988    0.018170  -0.014509    -0.024960 -0.008678  ...   \n",
       "MSSubClass      -0.064254   -0.072431  -0.125913    -0.219893 -0.248641  ...   \n",
       "LotFrontage      0.201697    0.040330   0.106921     0.330765  0.423217  ...   \n",
       "LotArea          0.194050    0.084107   0.021400     0.254150  0.332460  ...   \n",
       "MasVnrArea       0.301427   -0.014580   0.087991     0.393662  0.392367  ...   \n",
       "BsmtFinSF1       1.000000   -0.055028  -0.477387     0.536471  0.458091  ...   \n",
       "BsmtFinSF2      -0.055028    1.000000  -0.238215     0.089423  0.084389  ...   \n",
       "BsmtUnfSF       -0.477387   -0.238215   1.000000     0.412291  0.296623  ...   \n",
       "TotalBsmtSF      0.536471    0.089423   0.412291     1.000000  0.801638  ...   \n",
       "1stFlrSF         0.458091    0.084389   0.296623     0.801638  1.000000  ...   \n",
       "2ndFlrSF        -0.162240   -0.097654  -0.000318    -0.205605 -0.249823  ...   \n",
       "LowQualFinSF    -0.066022   -0.004913   0.046920    -0.023354 -0.012704  ...   \n",
       "GrLivArea        0.211682   -0.017747   0.234017     0.445223  0.562538  ...   \n",
       "BsmtFullBath     0.638911    0.162957  -0.398054     0.325939  0.257950  ...   \n",
       "BsmtHalfBath     0.078443    0.099530  -0.106960     0.012600  0.010462  ...   \n",
       "FullBath         0.081566   -0.075314   0.273231     0.327751  0.373077  ...   \n",
       "HalfBath        -0.007269   -0.032368  -0.035744    -0.055676 -0.104141  ...   \n",
       "BedroomAbvGr    -0.113468   -0.031111   0.183300     0.053433  0.108418  ...   \n",
       "KitchenAbvGr    -0.086342   -0.037758   0.065001    -0.038948  0.076071  ...   \n",
       "TotRmsAbvGrd     0.052204   -0.048245   0.247514     0.282082  0.391782  ...   \n",
       "Fireplaces       0.293095    0.065707   0.004881     0.332948  0.407545  ...   \n",
       "GarageCars       0.255510   -0.014753   0.180067     0.437900  0.440452  ...   \n",
       "GarageArea       0.310454    0.003225   0.164435     0.486021  0.491979  ...   \n",
       "WoodDeckSF       0.223511    0.098462  -0.039244     0.229614  0.227347  ...   \n",
       "OpenPorchSF      0.124191   -0.005805   0.119804     0.245533  0.238502  ...   \n",
       "EnclosedPorch   -0.099690    0.032775   0.005032    -0.085490 -0.065796  ...   \n",
       "3SsnPorch        0.050914   -0.023268  -0.005803     0.037897  0.044086  ...   \n",
       "ScreenPorch      0.096837    0.063329  -0.049136     0.075376  0.098381  ...   \n",
       "PoolArea         0.084465    0.044530  -0.032268     0.072219  0.121900  ...   \n",
       "MiscVal          0.093300   -0.005130  -0.010486     0.084005  0.093062  ...   \n",
       "YrSold          -0.022547   -0.008867   0.038026     0.011192  0.013442  ...   \n",
       "\n",
       "               GarageCars  GarageArea  WoodDeckSF  OpenPorchSF  EnclosedPorch  \\\n",
       "Id              -0.010066   -0.008847   -0.007056     0.009960       0.021609   \n",
       "MSSubClass      -0.046564   -0.103389   -0.017654    -0.015923      -0.020867   \n",
       "LotFrontage      0.290631    0.338014    0.104364     0.151789       0.011039   \n",
       "LotArea          0.180415    0.213249    0.158045     0.104797       0.020974   \n",
       "MasVnrArea       0.357659    0.370945    0.166606     0.140880      -0.110614   \n",
       "BsmtFinSF1       0.255510    0.310454    0.223511     0.124191      -0.099690   \n",
       "BsmtFinSF2      -0.014753    0.003225    0.098462    -0.005805       0.032775   \n",
       "BsmtUnfSF        0.180067    0.164435   -0.039244     0.119804       0.005032   \n",
       "TotalBsmtSF      0.437900    0.486021    0.229614     0.245533      -0.085490   \n",
       "1stFlrSF         0.440452    0.491979    0.227347     0.238502      -0.065796   \n",
       "2ndFlrSF         0.182532    0.128548    0.089922     0.185387       0.054645   \n",
       "LowQualFinSF    -0.067345   -0.053552   -0.015622    -0.000692       0.087212   \n",
       "GrLivArea        0.489958    0.485441    0.251017     0.341907       0.003274   \n",
       "BsmtFullBath     0.161731    0.184679    0.186445     0.079767      -0.068172   \n",
       "BsmtHalfBath    -0.033420   -0.021426    0.051665    -0.035126      -0.009613   \n",
       "FullBath         0.480012    0.408453    0.181266     0.260423      -0.118983   \n",
       "HalfBath         0.234435    0.178966    0.116701     0.182048      -0.081978   \n",
       "BedroomAbvGr     0.092892    0.073914    0.031644     0.086212       0.049940   \n",
       "KitchenAbvGr    -0.037081   -0.057854   -0.087399    -0.068181       0.027639   \n",
       "TotRmsAbvGrd     0.358012    0.328679    0.156543     0.238156       0.015345   \n",
       "Fireplaces       0.321533    0.294713    0.227608     0.158621       0.000971   \n",
       "GarageCars       1.000000    0.889689    0.240761     0.203449      -0.132338   \n",
       "GarageArea       0.889689    1.000000    0.238066     0.232531      -0.106226   \n",
       "WoodDeckSF       0.240761    0.238066    1.000000     0.038457      -0.119114   \n",
       "OpenPorchSF      0.203449    0.232531    0.038457     1.000000      -0.059672   \n",
       "EnclosedPorch   -0.132338   -0.106226   -0.119114    -0.059672       1.000000   \n",
       "3SsnPorch        0.023372    0.029439   -0.003935    -0.009392      -0.032822   \n",
       "ScreenPorch      0.043081    0.062385   -0.052134     0.047777      -0.064377   \n",
       "PoolArea         0.030417    0.053049    0.094231     0.064212       0.092534   \n",
       "MiscVal         -0.016943    0.008445    0.056883     0.077357       0.008654   \n",
       "YrSold           0.022980    0.013457    0.000180     0.037377       0.001134   \n",
       "\n",
       "               3SsnPorch  ScreenPorch  PoolArea   MiscVal    YrSold  \n",
       "Id             -0.046538     0.022208  0.014332  0.008244  0.256050  \n",
       "MSSubClass     -0.037529    -0.049181 -0.003080 -0.028867  0.015028  \n",
       "LotFrontage     0.024882     0.069352  0.161025  0.035161  0.007562  \n",
       "LotArea         0.015995     0.054375  0.093708  0.069029  0.024234  \n",
       "MasVnrArea      0.014059     0.066392  0.004791  0.045156  0.017654  \n",
       "BsmtFinSF1      0.050914     0.096837  0.084465  0.093300 -0.022547  \n",
       "BsmtFinSF2     -0.023268     0.063329  0.044530 -0.005130 -0.008867  \n",
       "BsmtUnfSF      -0.005803    -0.049136 -0.032268 -0.010486  0.038026  \n",
       "TotalBsmtSF     0.037897     0.075376  0.072219  0.084005  0.011192  \n",
       "1stFlrSF        0.044086     0.098381  0.121900  0.093062  0.013442  \n",
       "2ndFlrSF       -0.032458     0.011070  0.044503 -0.005299  0.019229  \n",
       "LowQualFinSF   -0.004545     0.006835  0.035177 -0.005973  0.002257  \n",
       "GrLivArea       0.006268     0.086284  0.135441  0.067118  0.026919  \n",
       "BsmtFullBath    0.027429     0.053265  0.043996 -0.004578 -0.045155  \n",
       "BsmtHalfBath    0.026878     0.042115  0.066860  0.036917  0.020055  \n",
       "FullBath        0.015192    -0.015910  0.028091 -0.010024  0.004882  \n",
       "HalfBath       -0.023417     0.035622  0.001424  0.026553 -0.001587  \n",
       "BedroomAbvGr   -0.048279     0.007254  0.036544  0.000245  0.020453  \n",
       "KitchenAbvGr   -0.021462    -0.056573 -0.013116  0.025078 -0.035173  \n",
       "TotRmsAbvGrd   -0.025764     0.032324  0.072061  0.060903  0.032354  \n",
       "Fireplaces      0.018852     0.169784  0.099123  0.008535  0.006752  \n",
       "GarageCars      0.023372     0.043081  0.030417 -0.016943  0.022980  \n",
       "GarageArea      0.029439     0.062385  0.053049  0.008445  0.013457  \n",
       "WoodDeckSF     -0.003935    -0.052134  0.094231  0.056883  0.000180  \n",
       "OpenPorchSF    -0.009392     0.047777  0.064212  0.077357  0.037377  \n",
       "EnclosedPorch  -0.032822    -0.064377  0.092534  0.008654  0.001134  \n",
       "3SsnPorch       1.000000    -0.029546 -0.006525 -0.000788 -0.022560  \n",
       "ScreenPorch    -0.029546     1.000000  0.026319  0.007067  0.006634  \n",
       "PoolArea       -0.006525     0.026319  1.000000  0.011921  0.052816  \n",
       "MiscVal        -0.000788     0.007067  0.011921  1.000000 -0.008445  \n",
       "YrSold         -0.022560     0.006634  0.052816 -0.008445  1.000000  \n",
       "\n",
       "[31 rows x 31 columns]"
      ]
     },
     "execution_count": 420,
     "metadata": {},
     "output_type": "execute_result"
    }
   ],
   "source": [
    "numericcolumns.corr()"
   ]
  },
  {
   "cell_type": "code",
   "execution_count": 421,
   "id": "a51648c2",
   "metadata": {},
   "outputs": [],
   "source": [
    "# Split Data into train and test\n",
    "housetraindf=combinedfclean[combinedfclean.SalePrice!='test']\n",
    "housetestdf=combinedfclean[combinedfclean.SalePrice=='test']"
   ]
  },
  {
   "cell_type": "code",
   "execution_count": 422,
   "id": "f36ea27b",
   "metadata": {},
   "outputs": [
    {
     "name": "stdout",
     "output_type": "stream",
     "text": [
      "(1460, 81)\n",
      "(1459, 81)\n"
     ]
    }
   ],
   "source": [
    "print(housetraindf.shape)\n",
    "print(housetestdf.shape)"
   ]
  },
  {
   "cell_type": "code",
   "execution_count": 423,
   "id": "a7b30446",
   "metadata": {},
   "outputs": [],
   "source": [
    "housetestdf=housetestdf.drop('SalePrice',axis=1)"
   ]
  },
  {
   "cell_type": "code",
   "execution_count": 424,
   "id": "a1e99b27",
   "metadata": {},
   "outputs": [],
   "source": [
    "# here id is a uniquie so i am deleting the variable from the data"
   ]
  },
  {
   "cell_type": "code",
   "execution_count": 425,
   "id": "0eb61a59",
   "metadata": {},
   "outputs": [],
   "source": [
    "housetestdf=housetestdf.drop('Id',axis=1)"
   ]
  },
  {
   "cell_type": "code",
   "execution_count": 426,
   "id": "d8985836",
   "metadata": {},
   "outputs": [],
   "source": [
    "y=housetraindf.SalePrice\n",
    "X=housetraindf.drop(['SalePrice','Id'],axis=1)"
   ]
  },
  {
   "cell_type": "code",
   "execution_count": 427,
   "id": "cb22fa61",
   "metadata": {},
   "outputs": [],
   "source": [
    "y=y.astype('float64')"
   ]
  },
  {
   "cell_type": "code",
   "execution_count": 428,
   "id": "8fca6556",
   "metadata": {},
   "outputs": [
    {
     "data": {
      "text/plain": [
       "1.8828757597682129"
      ]
     },
     "execution_count": 428,
     "metadata": {},
     "output_type": "execute_result"
    }
   ],
   "source": [
    "y.skew()"
   ]
  },
  {
   "cell_type": "code",
   "execution_count": 429,
   "id": "2fda5b5e",
   "metadata": {},
   "outputs": [
    {
     "data": {
      "text/plain": [
       "6.536281860064529"
      ]
     },
     "execution_count": 429,
     "metadata": {},
     "output_type": "execute_result"
    }
   ],
   "source": [
    "y.kurt()"
   ]
  },
  {
   "cell_type": "markdown",
   "id": "cd171e31",
   "metadata": {},
   "source": [
    "#   after completion of my EDA and the data preprocessing"
   ]
  },
  {
   "cell_type": "markdown",
   "id": "d696e1ed",
   "metadata": {},
   "source": [
    "#  hypothesis testing "
   ]
  },
  {
   "cell_type": "code",
   "execution_count": 430,
   "id": "fdf75e56",
   "metadata": {},
   "outputs": [],
   "source": [
    "# On the test data set, hypothesis testing is performed\n",
    "# There are three different methods of hypothesis testing."
   ]
  },
  {
   "cell_type": "code",
   "execution_count": 432,
   "id": "f071912a",
   "metadata": {},
   "outputs": [],
   "source": [
    "# ttest.\n",
    "# The ttest is used to compare two variables where one is numeric and the other is a categorical variable with two levels.\n",
    "# perform hypothesis testing between street and the sales price"
   ]
  },
  {
   "cell_type": "code",
   "execution_count": 433,
   "id": "417c40ec",
   "metadata": {},
   "outputs": [
    {
     "data": {
      "text/plain": [
       "Street\n",
       "Grvl    130190.500000\n",
       "Pave    181130.538514\n",
       "Name: SalePrice, dtype: float64"
      ]
     },
     "execution_count": 433,
     "metadata": {},
     "output_type": "execute_result"
    }
   ],
   "source": [
    "housetrain.SalePrice.groupby(housetrain.Street).mean()"
   ]
  },
  {
   "cell_type": "code",
   "execution_count": 434,
   "id": "69c701ef",
   "metadata": {},
   "outputs": [
    {
     "data": {
      "text/plain": [
       "Street\n",
       "Grvl    4.283212e+09\n",
       "Pave    6.311762e+09\n",
       "Name: SalePrice, dtype: float64"
      ]
     },
     "execution_count": 434,
     "metadata": {},
     "output_type": "execute_result"
    }
   ],
   "source": [
    "housetrain.SalePrice.groupby(housetrain.Street).var()"
   ]
  },
  {
   "cell_type": "code",
   "execution_count": 435,
   "id": "9eba80de",
   "metadata": {},
   "outputs": [],
   "source": [
    "sg=housetrain[housetrain.Street=='Grvl']"
   ]
  },
  {
   "cell_type": "code",
   "execution_count": 436,
   "id": "649ddd97",
   "metadata": {},
   "outputs": [],
   "source": [
    "sp=housetrain[housetrain.Street=='Pave']"
   ]
  },
  {
   "cell_type": "code",
   "execution_count": 437,
   "id": "020e66c8",
   "metadata": {},
   "outputs": [],
   "source": [
    "from scipy.stats import ttest_ind"
   ]
  },
  {
   "cell_type": "code",
   "execution_count": 438,
   "id": "ab8bfb53",
   "metadata": {},
   "outputs": [
    {
     "data": {
      "text/plain": [
       "Ttest_indResult(statistic=-1.9007878559110067, pvalue=0.11504797250476277)"
      ]
     },
     "execution_count": 438,
     "metadata": {},
     "output_type": "execute_result"
    }
   ],
   "source": [
    "ttest_ind(sg.SalePrice,sp.SalePrice,equal_var=False)"
   ]
  },
  {
   "cell_type": "code",
   "execution_count": 439,
   "id": "d3fa3a63",
   "metadata": {},
   "outputs": [],
   "source": [
    "# here p value is pvalue=0.11504797250476277 .\n",
    "#  here p value is greater than 0.05 so failed to reject null hypothesis .\n",
    "# null their is significant difference .\n",
    "# alter their is no significant difference .\n",
    "#  failed to reject null hypothesis testing ."
   ]
  },
  {
   "cell_type": "code",
   "execution_count": 440,
   "id": "c9e34f71",
   "metadata": {},
   "outputs": [],
   "source": [
    "# anova test.\n",
    "# Anova is used to compare two variables, one of which is numeric and the other is a categorical variable with two levels.\n",
    "# perform hypothesis testing between PavedDrive and the sales price"
   ]
  },
  {
   "cell_type": "code",
   "execution_count": 441,
   "id": "47abba60",
   "metadata": {},
   "outputs": [
    {
     "data": {
      "text/plain": [
       "PavedDrive\n",
       "N    115039.122222\n",
       "P    132330.000000\n",
       "Y    186433.973881\n",
       "Name: SalePrice, dtype: float64"
      ]
     },
     "execution_count": 441,
     "metadata": {},
     "output_type": "execute_result"
    }
   ],
   "source": [
    "housetrain.SalePrice.groupby(housetrain.PavedDrive).mean()"
   ]
  },
  {
   "cell_type": "code",
   "execution_count": 442,
   "id": "43989ac1",
   "metadata": {},
   "outputs": [
    {
     "data": {
      "text/plain": [
       "Y    1340\n",
       "N      90\n",
       "P      30\n",
       "Name: PavedDrive, dtype: int64"
      ]
     },
     "execution_count": 442,
     "metadata": {},
     "output_type": "execute_result"
    }
   ],
   "source": [
    "housetrain.PavedDrive.value_counts()"
   ]
  },
  {
   "cell_type": "code",
   "execution_count": 443,
   "id": "16f2b799",
   "metadata": {},
   "outputs": [],
   "source": [
    "y1=housetrain[housetrain.PavedDrive=='Y']\n",
    "n=housetrain[housetrain.PavedDrive=='N']\n",
    "p=housetrain[housetrain.PavedDrive=='P']"
   ]
  },
  {
   "cell_type": "code",
   "execution_count": 444,
   "id": "0bf8bd17",
   "metadata": {},
   "outputs": [],
   "source": [
    "from scipy.stats import f_oneway"
   ]
  },
  {
   "cell_type": "code",
   "execution_count": 445,
   "id": "ae5b9f84",
   "metadata": {},
   "outputs": [
    {
     "data": {
      "text/plain": [
       "F_onewayResult(statistic=42.02417941762533, pvalue=1.803568890651533e-18)"
      ]
     },
     "execution_count": 445,
     "metadata": {},
     "output_type": "execute_result"
    }
   ],
   "source": [
    "f_oneway(y1.SalePrice,n.SalePrice,p.SalePrice)\n",
    "# here p value is pvalue=1.803568890651533e-18 .\n",
    "# null their is no significant difference .\n",
    "# alter their is significant difference .\n",
    "# reject null hypothesis testing ."
   ]
  },
  {
   "cell_type": "code",
   "execution_count": 446,
   "id": "ef02906c",
   "metadata": {},
   "outputs": [],
   "source": [
    "# chisquaretest.\n",
    "# For both categorical and continuous variables, the chisquare test is used .\n",
    "# perform hypothesis testing between Fence and the MiscFeature ."
   ]
  },
  {
   "cell_type": "code",
   "execution_count": 447,
   "id": "1f9e2345",
   "metadata": {},
   "outputs": [
    {
     "data": {
      "text/plain": [
       "MnPrv    157\n",
       "GdPrv     59\n",
       "GdWo      54\n",
       "MnWw      11\n",
       "Name: Fence, dtype: int64"
      ]
     },
     "execution_count": 447,
     "metadata": {},
     "output_type": "execute_result"
    }
   ],
   "source": [
    "housetrain.Fence.value_counts()"
   ]
  },
  {
   "cell_type": "code",
   "execution_count": 448,
   "id": "bbdeebbd",
   "metadata": {},
   "outputs": [
    {
     "data": {
      "text/plain": [
       "Shed    49\n",
       "Gar2     2\n",
       "Othr     2\n",
       "TenC     1\n",
       "Name: MiscFeature, dtype: int64"
      ]
     },
     "execution_count": 448,
     "metadata": {},
     "output_type": "execute_result"
    }
   ],
   "source": [
    "housetrain.MiscFeature.value_counts()"
   ]
  },
  {
   "cell_type": "code",
   "execution_count": 449,
   "id": "6530bd6d",
   "metadata": {},
   "outputs": [
    {
     "data": {
      "text/html": [
       "<div>\n",
       "<style scoped>\n",
       "    .dataframe tbody tr th:only-of-type {\n",
       "        vertical-align: middle;\n",
       "    }\n",
       "\n",
       "    .dataframe tbody tr th {\n",
       "        vertical-align: top;\n",
       "    }\n",
       "\n",
       "    .dataframe thead th {\n",
       "        text-align: right;\n",
       "    }\n",
       "</style>\n",
       "<table border=\"1\" class=\"dataframe\">\n",
       "  <thead>\n",
       "    <tr style=\"text-align: right;\">\n",
       "      <th>MiscFeature</th>\n",
       "      <th>Shed</th>\n",
       "      <th>TenC</th>\n",
       "    </tr>\n",
       "    <tr>\n",
       "      <th>Fence</th>\n",
       "      <th></th>\n",
       "      <th></th>\n",
       "    </tr>\n",
       "  </thead>\n",
       "  <tbody>\n",
       "    <tr>\n",
       "      <th>GdPrv</th>\n",
       "      <td>5</td>\n",
       "      <td>0</td>\n",
       "    </tr>\n",
       "    <tr>\n",
       "      <th>GdWo</th>\n",
       "      <td>4</td>\n",
       "      <td>0</td>\n",
       "    </tr>\n",
       "    <tr>\n",
       "      <th>MnPrv</th>\n",
       "      <td>13</td>\n",
       "      <td>1</td>\n",
       "    </tr>\n",
       "    <tr>\n",
       "      <th>MnWw</th>\n",
       "      <td>1</td>\n",
       "      <td>0</td>\n",
       "    </tr>\n",
       "  </tbody>\n",
       "</table>\n",
       "</div>"
      ],
      "text/plain": [
       "MiscFeature  Shed  TenC\n",
       "Fence                  \n",
       "GdPrv           5     0\n",
       "GdWo            4     0\n",
       "MnPrv          13     1\n",
       "MnWw            1     0"
      ]
     },
     "execution_count": 449,
     "metadata": {},
     "output_type": "execute_result"
    }
   ],
   "source": [
    "pd.crosstab(housetrain.Fence,housetrain.MiscFeature)"
   ]
  },
  {
   "cell_type": "code",
   "execution_count": 450,
   "id": "bb90f496",
   "metadata": {},
   "outputs": [],
   "source": [
    "from scipy.stats import chi2_contingency"
   ]
  },
  {
   "cell_type": "code",
   "execution_count": 451,
   "id": "3b313f99",
   "metadata": {},
   "outputs": [
    {
     "data": {
      "text/plain": [
       "(0.7453416149068322,\n",
       " 0.8624908016956859,\n",
       " 3,\n",
       " array([[ 4.79166667,  0.20833333],\n",
       "        [ 3.83333333,  0.16666667],\n",
       "        [13.41666667,  0.58333333],\n",
       "        [ 0.95833333,  0.04166667]]))"
      ]
     },
     "execution_count": 451,
     "metadata": {},
     "output_type": "execute_result"
    }
   ],
   "source": [
    "chi2_contingency(pd.crosstab(housetrain.Fence,housetrain.MiscFeature))"
   ]
  },
  {
   "cell_type": "code",
   "execution_count": 452,
   "id": "c21573fa",
   "metadata": {},
   "outputs": [],
   "source": [
    "# here p value is pvalue=0.8624908016956859.\n",
    "# null their is no significant difference .\n",
    "# alter their is significant difference .\n",
    "# failed to reject null hypothesis testing ."
   ]
  },
  {
   "cell_type": "markdown",
   "id": "184bbe16",
   "metadata": {},
   "source": [
    "#  sutudy of dependent variable"
   ]
  },
  {
   "cell_type": "code",
   "execution_count": 453,
   "id": "1c0231e6",
   "metadata": {},
   "outputs": [],
   "source": [
    "#  her the dependent variable is in numeric continues  and  it is in normal distribution from \n",
    "# having a outliers in the maximum side (as per the box plot of my dependent variable )\n",
    "# the dependet variable conatins positive  skewness and positive kurtosis\n",
    "#  for postive skewness in the dependent variable we use Logarthemic Transformation"
   ]
  },
  {
   "cell_type": "code",
   "execution_count": 454,
   "id": "05e028c7",
   "metadata": {},
   "outputs": [],
   "source": [
    "# Create Histogram, boxplot and density curve for dependent variabe y"
   ]
  },
  {
   "cell_type": "code",
   "execution_count": 455,
   "id": "233c49c7",
   "metadata": {},
   "outputs": [
    {
     "data": {
      "text/plain": [
       "<AxesSubplot:ylabel='Frequency'>"
      ]
     },
     "execution_count": 455,
     "metadata": {},
     "output_type": "execute_result"
    },
    {
     "data": {
      "image/png": "[encoded data removed]",
      "text/plain": [
       "<Figure size 432x288 with 1 Axes>"
      ]
     },
     "metadata": {
      "needs_background": "light"
     },
     "output_type": "display_data"
    }
   ],
   "source": [
    "y.plot(kind='hist')"
   ]
  },
  {
   "cell_type": "code",
   "execution_count": 456,
   "id": "8acd34fd",
   "metadata": {},
   "outputs": [
    {
     "data": {
      "text/plain": [
       "<AxesSubplot:>"
      ]
     },
     "execution_count": 456,
     "metadata": {},
     "output_type": "execute_result"
    },
    {
     "data": {
      "image/png": "[encoded data removed]",
      "text/plain": [
       "<Figure size 432x288 with 1 Axes>"
      ]
     },
     "metadata": {
      "needs_background": "light"
     },
     "output_type": "display_data"
    }
   ],
   "source": [
    "y.plot(kind='box',vert=False)"
   ]
  },
  {
   "cell_type": "code",
   "execution_count": 457,
   "id": "aa10f78f",
   "metadata": {},
   "outputs": [
    {
     "data": {
      "text/plain": [
       "<AxesSubplot:ylabel='Density'>"
      ]
     },
     "execution_count": 457,
     "metadata": {},
     "output_type": "execute_result"
    },
    {
     "data": {
      "image/png": "[encoded data removed]",
      "text/plain": [
       "<Figure size 432x288 with 1 Axes>"
      ]
     },
     "metadata": {
      "needs_background": "light"
     },
     "output_type": "display_data"
    }
   ],
   "source": [
    "y.plot(kind='density')"
   ]
  },
  {
   "cell_type": "code",
   "execution_count": 458,
   "id": "4af3895c",
   "metadata": {},
   "outputs": [
    {
     "data": {
      "text/plain": [
       "<AxesSubplot:>"
      ]
     },
     "execution_count": 458,
     "metadata": {},
     "output_type": "execute_result"
    },
    {
     "data": {
      "image/png": "[encoded data removed]",
      "text/plain": [
       "<Figure size 432x288 with 1 Axes>"
      ]
     },
     "metadata": {
      "needs_background": "light"
     },
     "output_type": "display_data"
    }
   ],
   "source": [
    "# Positive Skewness - Logarthemic Transformation\n",
    "\n",
    "np.log(y).plot(kind='box',vert=False)"
   ]
  },
  {
   "cell_type": "markdown",
   "id": "f653452c",
   "metadata": {},
   "source": [
    "# here the dependent variable is in numeric form continues and it is in the normal distribution form .\n",
    "# so i used to perform the regression machine learning techiniques"
   ]
  },
  {
   "cell_type": "code",
   "execution_count": 459,
   "id": "588dbe72",
   "metadata": {},
   "outputs": [],
   "source": [
    "# under regression models in machine learning\n",
    "# 1.Linear regression\n",
    "# 2.decission treee\n",
    "# 3.Random forest regression\n",
    "# 4.gradient bossting regression"
   ]
  },
  {
   "cell_type": "markdown",
   "id": "3fb0471a",
   "metadata": {},
   "source": [
    "# linear regression¶"
   ]
  },
  {
   "cell_type": "code",
   "execution_count": 460,
   "id": "30e4e979",
   "metadata": {},
   "outputs": [],
   "source": [
    "from sklearn.linear_model import LinearRegression"
   ]
  },
  {
   "cell_type": "code",
   "execution_count": 461,
   "id": "74d08e98",
   "metadata": {},
   "outputs": [],
   "source": [
    "reg=LinearRegression()"
   ]
  },
  {
   "cell_type": "code",
   "execution_count": 462,
   "id": "a304adec",
   "metadata": {},
   "outputs": [],
   "source": [
    "regmodel=reg.fit(X,y)"
   ]
  },
  {
   "cell_type": "code",
   "execution_count": 463,
   "id": "b21c20d6",
   "metadata": {},
   "outputs": [
    {
     "data": {
      "text/plain": [
       "0.8545634224507179"
      ]
     },
     "execution_count": 463,
     "metadata": {},
     "output_type": "execute_result"
    }
   ],
   "source": [
    "regmodel.score(X,y) # R Square 0.60 - 0.95"
   ]
  },
  {
   "cell_type": "code",
   "execution_count": 464,
   "id": "3c08b4bb",
   "metadata": {},
   "outputs": [],
   "source": [
    "regtestpredict=regmodel.predict(housetestdf)"
   ]
  },
  {
   "cell_type": "code",
   "execution_count": 465,
   "id": "4ee886c7",
   "metadata": {},
   "outputs": [
    {
     "data": {
      "text/plain": [
       "array([106189.76326881, 156987.78817192, 167242.08767411, ...,\n",
       "       143662.33304422, 115297.31625419, 242815.16584994])"
      ]
     },
     "execution_count": 465,
     "metadata": {},
     "output_type": "execute_result"
    }
   ],
   "source": [
    "regtestpredict"
   ]
  },
  {
   "cell_type": "code",
   "execution_count": 466,
   "id": "1ac9c51c",
   "metadata": {},
   "outputs": [],
   "source": [
    "lertr=regmodel.predict(X)"
   ]
  },
  {
   "cell_type": "code",
   "execution_count": 467,
   "id": "b36fd830",
   "metadata": {},
   "outputs": [],
   "source": [
    "regres=y-lertr"
   ]
  },
  {
   "cell_type": "code",
   "execution_count": 468,
   "id": "543e8697",
   "metadata": {},
   "outputs": [
    {
     "data": {
      "text/plain": [
       "30285.933156831714"
      ]
     },
     "execution_count": 468,
     "metadata": {},
     "output_type": "execute_result"
    }
   ],
   "source": [
    "np.sqrt(np.mean(regres**2))"
   ]
  },
  {
   "cell_type": "code",
   "execution_count": 469,
   "id": "5754a699",
   "metadata": {},
   "outputs": [],
   "source": [
    "#pd.DataFrame(regtestpredict).to_csv(\"reg.csv\") # write test predictions -csv"
   ]
  },
  {
   "cell_type": "markdown",
   "id": "145a8220",
   "metadata": {},
   "source": [
    "# Impact of Logarthmic Transformation in linear regression"
   ]
  },
  {
   "cell_type": "code",
   "execution_count": 470,
   "id": "2067e8d1",
   "metadata": {},
   "outputs": [],
   "source": [
    "\n",
    "regmodel2=reg.fit(X,np.log(y))"
   ]
  },
  {
   "cell_type": "code",
   "execution_count": 471,
   "id": "04b73656",
   "metadata": {},
   "outputs": [
    {
     "data": {
      "text/plain": [
       "0.8878960435064192"
      ]
     },
     "execution_count": 471,
     "metadata": {},
     "output_type": "execute_result"
    }
   ],
   "source": [
    "regmodel2.score(X,np.log(y))"
   ]
  },
  {
   "cell_type": "code",
   "execution_count": 472,
   "id": "a34d0396",
   "metadata": {},
   "outputs": [],
   "source": [
    "lertrlog=regmodel2.predict(X)"
   ]
  },
  {
   "cell_type": "code",
   "execution_count": 473,
   "id": "8ab42d84",
   "metadata": {},
   "outputs": [],
   "source": [
    "lertrlog=np.exp(lertrlog)"
   ]
  },
  {
   "cell_type": "code",
   "execution_count": 474,
   "id": "41945a1b",
   "metadata": {},
   "outputs": [],
   "source": [
    "regreslog=y-lertrlog"
   ]
  },
  {
   "cell_type": "code",
   "execution_count": 475,
   "id": "cb7adcaf",
   "metadata": {},
   "outputs": [
    {
     "data": {
      "text/plain": [
       "31849.80642221831"
      ]
     },
     "execution_count": 475,
     "metadata": {},
     "output_type": "execute_result"
    }
   ],
   "source": [
    "np.sqrt(np.mean(regreslog**2))"
   ]
  },
  {
   "cell_type": "code",
   "execution_count": 476,
   "id": "07220e8d",
   "metadata": {},
   "outputs": [],
   "source": [
    "reglogpredict=regmodel2.predict(housetestdf)"
   ]
  },
  {
   "cell_type": "code",
   "execution_count": 477,
   "id": "e701efdf",
   "metadata": {},
   "outputs": [
    {
     "data": {
      "text/plain": [
       "array([116427.50595598, 156670.35705991, 166136.43801705, ...,\n",
       "       153094.51135758, 116083.49210687, 241087.06424904])"
      ]
     },
     "execution_count": 477,
     "metadata": {},
     "output_type": "execute_result"
    }
   ],
   "source": [
    "np.exp(reglogpredict)"
   ]
  },
  {
   "cell_type": "code",
   "execution_count": 478,
   "id": "66b375fc",
   "metadata": {},
   "outputs": [],
   "source": [
    "#pd.DataFrame(np.exp(reglogpredict)).to_csv(\"reglog.csv\")"
   ]
  },
  {
   "cell_type": "markdown",
   "id": "fb0dfe4a",
   "metadata": {},
   "source": [
    "# decision tree regressor"
   ]
  },
  {
   "cell_type": "code",
   "execution_count": 479,
   "id": "3ab2e7b9",
   "metadata": {},
   "outputs": [],
   "source": [
    "from sklearn.tree import DecisionTreeRegressor"
   ]
  },
  {
   "cell_type": "code",
   "execution_count": 480,
   "id": "ec2ed35a",
   "metadata": {},
   "outputs": [],
   "source": [
    "tree=DecisionTreeRegressor(max_depth=6)"
   ]
  },
  {
   "cell_type": "code",
   "execution_count": 481,
   "id": "70397c7e",
   "metadata": {},
   "outputs": [],
   "source": [
    "treemodel=tree.fit(X,y)"
   ]
  },
  {
   "cell_type": "code",
   "execution_count": 482,
   "id": "f6b0bde5",
   "metadata": {},
   "outputs": [
    {
     "data": {
      "text/plain": [
       "0.9062567454058851"
      ]
     },
     "execution_count": 482,
     "metadata": {},
     "output_type": "execute_result"
    }
   ],
   "source": [
    "treemodel.score(X,y)"
   ]
  },
  {
   "cell_type": "code",
   "execution_count": 483,
   "id": "34723792",
   "metadata": {},
   "outputs": [],
   "source": [
    "tretrore=treemodel.predict(X)"
   ]
  },
  {
   "cell_type": "code",
   "execution_count": 484,
   "id": "e8644588",
   "metadata": {},
   "outputs": [],
   "source": [
    "treres=y-tretrore"
   ]
  },
  {
   "cell_type": "code",
   "execution_count": 485,
   "id": "ae050f90",
   "metadata": {},
   "outputs": [
    {
     "data": {
      "text/plain": [
       "24314.993070689074"
      ]
     },
     "execution_count": 485,
     "metadata": {},
     "output_type": "execute_result"
    }
   ],
   "source": [
    "np.sqrt(np.mean(treres**2))"
   ]
  },
  {
   "cell_type": "code",
   "execution_count": 486,
   "id": "6d47a71f",
   "metadata": {},
   "outputs": [],
   "source": [
    "treepredict=treemodel.predict(housetestdf)"
   ]
  },
  {
   "cell_type": "code",
   "execution_count": 487,
   "id": "c47f01ca",
   "metadata": {},
   "outputs": [
    {
     "data": {
      "text/plain": [
       "array([128881.04487179, 141044.80645161, 177793.80203046, ...,\n",
       "       141044.80645161, 109902.06097561, 195035.71428571])"
      ]
     },
     "execution_count": 487,
     "metadata": {},
     "output_type": "execute_result"
    }
   ],
   "source": [
    "treepredict"
   ]
  },
  {
   "cell_type": "code",
   "execution_count": 488,
   "id": "6594f626",
   "metadata": {},
   "outputs": [],
   "source": [
    "#pd.DataFrame(treepredict).to_csv(\"tree.csv\")"
   ]
  },
  {
   "cell_type": "markdown",
   "id": "fa1dca5c",
   "metadata": {},
   "source": [
    "# Impact of Logarthmic Transformation in decision tree regressor"
   ]
  },
  {
   "cell_type": "code",
   "execution_count": 489,
   "id": "f04fbb4d",
   "metadata": {},
   "outputs": [],
   "source": [
    "dctreelog=tree.fit(X,np.log(y))"
   ]
  },
  {
   "cell_type": "code",
   "execution_count": 490,
   "id": "623787f6",
   "metadata": {},
   "outputs": [
    {
     "data": {
      "text/plain": [
       "0.8865720049066539"
      ]
     },
     "execution_count": 490,
     "metadata": {},
     "output_type": "execute_result"
    }
   ],
   "source": [
    "dctreelog.score(X,np.log(y))"
   ]
  },
  {
   "cell_type": "code",
   "execution_count": 491,
   "id": "f8e09900",
   "metadata": {},
   "outputs": [],
   "source": [
    "dctrepretr=dctreelog.predict(X)"
   ]
  },
  {
   "cell_type": "code",
   "execution_count": 492,
   "id": "8df99937",
   "metadata": {},
   "outputs": [],
   "source": [
    "dtrestr=y-dctrepretr"
   ]
  },
  {
   "cell_type": "code",
   "execution_count": 493,
   "id": "db9e8cb6",
   "metadata": {},
   "outputs": [
    {
     "data": {
      "text/plain": [
       "197572.42461482942"
      ]
     },
     "execution_count": 493,
     "metadata": {},
     "output_type": "execute_result"
    }
   ],
   "source": [
    "np.sqrt(np.mean(dtrestr**2))"
   ]
  },
  {
   "cell_type": "code",
   "execution_count": 494,
   "id": "966e62ba",
   "metadata": {},
   "outputs": [],
   "source": [
    "treepredictlog=dctreelog.predict(housetestdf)"
   ]
  },
  {
   "cell_type": "code",
   "execution_count": 495,
   "id": "2b84db76",
   "metadata": {},
   "outputs": [],
   "source": [
    "treepredictlog=np.exp(treepredictlog)"
   ]
  },
  {
   "cell_type": "code",
   "execution_count": 496,
   "id": "f5b387b9",
   "metadata": {},
   "outputs": [],
   "source": [
    "#pd.DataFrame(treepredictlog).to_csv('dttreelog.csv')"
   ]
  },
  {
   "cell_type": "markdown",
   "id": "47e6c449",
   "metadata": {},
   "source": [
    "# decision tree polt tree"
   ]
  },
  {
   "cell_type": "code",
   "execution_count": 497,
   "id": "20579bb6",
   "metadata": {},
   "outputs": [],
   "source": [
    "from sklearn.tree import plot_tree"
   ]
  },
  {
   "cell_type": "code",
   "execution_count": 498,
   "id": "ec7a3725",
   "metadata": {},
   "outputs": [],
   "source": [
    "tree2=DecisionTreeRegressor(max_depth=3)"
   ]
  },
  {
   "cell_type": "code",
   "execution_count": 499,
   "id": "f7540d0c",
   "metadata": {},
   "outputs": [],
   "source": [
    "tree2model=tree2.fit(X,y)"
   ]
  },
  {
   "cell_type": "code",
   "execution_count": 500,
   "id": "22714724",
   "metadata": {},
   "outputs": [
    {
     "data": {
      "text/plain": [
       "[Text(0.5, 0.875, 'OverallQual <= 6.5\\nsquared_error = 6306788585.349\\nsamples = 1460\\nvalue = 180921.196'),\n",
       " Text(0.25, 0.625, 'OverallQual <= 5.5\\nsquared_error = 2426928665.05\\nsamples = 1231\\nvalue = 157832.433'),\n",
       " Text(0.125, 0.375, 'GrLivArea <= 1378.5\\nsquared_error = 1411538921.037\\nsamples = 912\\nvalue = 140383.976'),\n",
       " Text(0.0625, 0.125, 'squared_error = 837746927.031\\nsamples = 564\\nvalue = 124907.778'),\n",
       " Text(0.1875, 0.125, 'squared_error = 1324189529.34\\nsamples = 348\\nvalue = 165466.089'),\n",
       " Text(0.375, 0.375, 'GrLivArea <= 1941.0\\nsquared_error = 1971049955.987\\nsamples = 319\\nvalue = 207716.423'),\n",
       " Text(0.3125, 0.125, 'squared_error = 1243894899.002\\nsamples = 239\\nvalue = 194238.745'),\n",
       " Text(0.4375, 0.125, 'squared_error = 1979517700.562\\nsamples = 80\\nvalue = 247980.988'),\n",
       " Text(0.75, 0.625, 'OverallQual <= 7.5\\nsquared_error = 8893038849.977\\nsamples = 229\\nvalue = 305035.9'),\n",
       " Text(0.625, 0.375, 'GrLivArea <= 1971.5\\nsquared_error = 4058765722.773\\nsamples = 168\\nvalue = 274735.536'),\n",
       " Text(0.5625, 0.125, 'squared_error = 2332108528.579\\nsamples = 103\\nvalue = 249392.466'),\n",
       " Text(0.6875, 0.125, 'squared_error = 4164353743.939\\nsamples = 65\\nvalue = 314894.554'),\n",
       " Text(0.875, 0.375, '2ndFlrSF <= 1667.0\\nsquared_error = 12714598711.223\\nsamples = 61\\nvalue = 388486.082'),\n",
       " Text(0.8125, 0.125, 'squared_error = 7626596083.192\\nsamples = 58\\nvalue = 371942.259'),\n",
       " Text(0.9375, 0.125, 'squared_error = 3488888888.889\\nsamples = 3\\nvalue = 708333.333')]"
      ]
     },
     "execution_count": 500,
     "metadata": {},
     "output_type": "execute_result"
    },
    {
     "data": {
      "image/png": "[encoded data removed]",
      "text/plain": [
       "<Figure size 2160x1080 with 1 Axes>"
      ]
     },
     "metadata": {
      "needs_background": "light"
     },
     "output_type": "display_data"
    }
   ],
   "source": [
    "plt.figure(figsize=(30,15))\n",
    "plot_tree(tree2model,feature_names=X.columns,filled=True)"
   ]
  },
  {
   "cell_type": "markdown",
   "id": "0e64453e",
   "metadata": {},
   "source": [
    "# Random forest regression "
   ]
  },
  {
   "cell_type": "code",
   "execution_count": 501,
   "id": "3e3fb579",
   "metadata": {},
   "outputs": [],
   "source": [
    "# for  bagging method  we use randorm forest regression in python"
   ]
  },
  {
   "cell_type": "code",
   "execution_count": 502,
   "id": "c8160147",
   "metadata": {},
   "outputs": [],
   "source": [
    "from sklearn.ensemble import RandomForestRegressor"
   ]
  },
  {
   "cell_type": "code",
   "execution_count": 503,
   "id": "bbe417e7",
   "metadata": {},
   "outputs": [],
   "source": [
    "RF=RandomForestRegressor(n_estimators=3000)"
   ]
  },
  {
   "cell_type": "code",
   "execution_count": 504,
   "id": "978b4ce0",
   "metadata": {},
   "outputs": [],
   "source": [
    "RFmodel=RF.fit(X,y)"
   ]
  },
  {
   "cell_type": "code",
   "execution_count": 505,
   "id": "670dbe48",
   "metadata": {},
   "outputs": [
    {
     "data": {
      "text/plain": [
       "0.982346173267018"
      ]
     },
     "execution_count": 505,
     "metadata": {},
     "output_type": "execute_result"
    }
   ],
   "source": [
    "RFmodel.score(X,y)"
   ]
  },
  {
   "cell_type": "code",
   "execution_count": 506,
   "id": "3471619e",
   "metadata": {},
   "outputs": [],
   "source": [
    "rfmodelpre=RFmodel.predict(X)"
   ]
  },
  {
   "cell_type": "code",
   "execution_count": 507,
   "id": "e7abcce2",
   "metadata": {},
   "outputs": [],
   "source": [
    "rfress=y-rfmodelpre"
   ]
  },
  {
   "cell_type": "code",
   "execution_count": 508,
   "id": "3b686e7d",
   "metadata": {},
   "outputs": [
    {
     "data": {
      "text/plain": [
       "10551.727485454909"
      ]
     },
     "execution_count": 508,
     "metadata": {},
     "output_type": "execute_result"
    }
   ],
   "source": [
    "np.sqrt(np.mean(rfress**2))"
   ]
  },
  {
   "cell_type": "code",
   "execution_count": 509,
   "id": "be304466",
   "metadata": {},
   "outputs": [],
   "source": [
    "RFpredict=RFmodel.predict(housetestdf)"
   ]
  },
  {
   "cell_type": "code",
   "execution_count": 510,
   "id": "38e126eb",
   "metadata": {},
   "outputs": [
    {
     "data": {
      "text/plain": [
       "array([126096.38666667, 154679.43966667, 180108.87133333, ...,\n",
       "       151793.379     , 115044.689     , 227318.90566667])"
      ]
     },
     "execution_count": 510,
     "metadata": {},
     "output_type": "execute_result"
    }
   ],
   "source": [
    "RFpredict"
   ]
  },
  {
   "cell_type": "code",
   "execution_count": 511,
   "id": "f148c8c9",
   "metadata": {},
   "outputs": [],
   "source": [
    "#pd.DataFrame(RFpredict).to_csv(\"RF.csv\")"
   ]
  },
  {
   "cell_type": "markdown",
   "id": "c53f5a66",
   "metadata": {},
   "source": [
    "# Impact of Logarthmic Transformation in Random forest regression "
   ]
  },
  {
   "cell_type": "code",
   "execution_count": 512,
   "id": "12c0dfdd",
   "metadata": {},
   "outputs": [],
   "source": [
    "RFmodellog=RF.fit(X,np.log(y))"
   ]
  },
  {
   "cell_type": "code",
   "execution_count": 513,
   "id": "4eddd086",
   "metadata": {},
   "outputs": [
    {
     "data": {
      "text/plain": [
       "0.9834567001817225"
      ]
     },
     "execution_count": 513,
     "metadata": {},
     "output_type": "execute_result"
    }
   ],
   "source": [
    "RFmodellog.score(X,np.log(y))"
   ]
  },
  {
   "cell_type": "code",
   "execution_count": 514,
   "id": "45621d61",
   "metadata": {},
   "outputs": [],
   "source": [
    "rfmodelprelog=RFmodellog.predict(X)"
   ]
  },
  {
   "cell_type": "code",
   "execution_count": 515,
   "id": "aa7e61e1",
   "metadata": {},
   "outputs": [],
   "source": [
    "rfmodelprelog=np.exp(rfmodelprelog)"
   ]
  },
  {
   "cell_type": "code",
   "execution_count": 516,
   "id": "ded3683e",
   "metadata": {},
   "outputs": [],
   "source": [
    "rfresslog=y-rfmodelprelog"
   ]
  },
  {
   "cell_type": "code",
   "execution_count": 517,
   "id": "9ce68848",
   "metadata": {},
   "outputs": [
    {
     "data": {
      "text/plain": [
       "10795.058177442188"
      ]
     },
     "execution_count": 517,
     "metadata": {},
     "output_type": "execute_result"
    }
   ],
   "source": [
    "np.sqrt(np.mean(rfresslog**2))"
   ]
  },
  {
   "cell_type": "code",
   "execution_count": 518,
   "id": "f04665d6",
   "metadata": {},
   "outputs": [],
   "source": [
    "RFpredictlog=RFmodellog.predict(housetestdf)"
   ]
  },
  {
   "cell_type": "code",
   "execution_count": 519,
   "id": "efe10fa9",
   "metadata": {},
   "outputs": [],
   "source": [
    "RFpredictlog=np.exp(RFpredictlog)"
   ]
  },
  {
   "cell_type": "code",
   "execution_count": 520,
   "id": "8e53b2ba",
   "metadata": {},
   "outputs": [],
   "source": [
    "#pd.DataFrame(RFpredictlog).to_csv(\"RFlog.csv\")"
   ]
  },
  {
   "cell_type": "markdown",
   "id": "23648a13",
   "metadata": {},
   "source": [
    "# GradientBoostingRegressor"
   ]
  },
  {
   "cell_type": "code",
   "execution_count": 521,
   "id": "f636e18a",
   "metadata": {},
   "outputs": [],
   "source": [
    "# for  bosting method  we use  GradientBoostingRegressor in python"
   ]
  },
  {
   "cell_type": "code",
   "execution_count": 522,
   "id": "cbb777e3",
   "metadata": {},
   "outputs": [],
   "source": [
    "from sklearn.ensemble import GradientBoostingRegressor"
   ]
  },
  {
   "cell_type": "code",
   "execution_count": 523,
   "id": "7d71b8b6",
   "metadata": {},
   "outputs": [],
   "source": [
    "gbm=GradientBoostingRegressor(n_estimators=5000)"
   ]
  },
  {
   "cell_type": "code",
   "execution_count": 524,
   "id": "f22b47f7",
   "metadata": {},
   "outputs": [],
   "source": [
    "gbmmodel=gbm.fit(X,y)"
   ]
  },
  {
   "cell_type": "code",
   "execution_count": 525,
   "id": "f6ae2404",
   "metadata": {},
   "outputs": [
    {
     "data": {
      "text/plain": [
       "0.9999986515738404"
      ]
     },
     "execution_count": 525,
     "metadata": {},
     "output_type": "execute_result"
    }
   ],
   "source": [
    "gbmmodel.score(X,y)"
   ]
  },
  {
   "cell_type": "code",
   "execution_count": 526,
   "id": "33f95663",
   "metadata": {},
   "outputs": [],
   "source": [
    "gbmpredict=gbmmodel.predict(housetestdf)"
   ]
  },
  {
   "cell_type": "code",
   "execution_count": 527,
   "id": "74275f00",
   "metadata": {},
   "outputs": [
    {
     "data": {
      "text/plain": [
       "array([114008.68613965, 166205.49685935, 190916.05024479, ...,\n",
       "       163683.74826769, 107503.90879008, 235733.40704988])"
      ]
     },
     "execution_count": 527,
     "metadata": {},
     "output_type": "execute_result"
    }
   ],
   "source": [
    "gbmpredict"
   ]
  },
  {
   "cell_type": "code",
   "execution_count": 528,
   "id": "bd661ff0",
   "metadata": {},
   "outputs": [],
   "source": [
    "#pd.DataFrame(gbmpredict).to_csv(\"gbm1.csv\")"
   ]
  },
  {
   "cell_type": "markdown",
   "id": "3339551b",
   "metadata": {},
   "source": [
    "# Impact of Logarthmic Transformation in GradientBoostingRegressor"
   ]
  },
  {
   "cell_type": "code",
   "execution_count": 529,
   "id": "fe55cca9",
   "metadata": {},
   "outputs": [],
   "source": [
    "gbm1=GradientBoostingRegressor(n_estimators=991,max_depth=3)"
   ]
  },
  {
   "cell_type": "code",
   "execution_count": 530,
   "id": "69d6fb8f",
   "metadata": {},
   "outputs": [],
   "source": [
    "gbmo=gbm1.fit(X,np.log(y))"
   ]
  },
  {
   "cell_type": "code",
   "execution_count": 531,
   "id": "b1720539",
   "metadata": {},
   "outputs": [
    {
     "data": {
      "text/plain": [
       "0.9970237140610402"
      ]
     },
     "execution_count": 531,
     "metadata": {},
     "output_type": "execute_result"
    }
   ],
   "source": [
    "gbmo.score(X,np.log(y))"
   ]
  },
  {
   "cell_type": "code",
   "execution_count": 532,
   "id": "0b925738",
   "metadata": {},
   "outputs": [],
   "source": [
    "gbmpredict1=gbmo.predict(housetestdf)"
   ]
  },
  {
   "cell_type": "code",
   "execution_count": 533,
   "id": "4df674bf",
   "metadata": {},
   "outputs": [],
   "source": [
    "gbmpredict1=np.exp(gbmpredict1)"
   ]
  },
  {
   "cell_type": "code",
   "execution_count": 534,
   "id": "2316423b",
   "metadata": {},
   "outputs": [],
   "source": [
    "pd.DataFrame(gbmpredict1).to_csv(\"gbmlog991adjusted.csv\")"
   ]
  },
  {
   "cell_type": "markdown",
   "id": "fea3a87a",
   "metadata": {},
   "source": [
    "# I started updating the expected values of test data in the kaggle after I finished my model predictions."
   ]
  },
  {
   "cell_type": "markdown",
   "id": "463894a5",
   "metadata": {},
   "source": [
    "# The logarithmic transformation of the dependant variable in the gradient bosting approach provides me the best score, according to my Kaggle score."
   ]
  },
  {
   "cell_type": "code",
   "execution_count": 535,
   "id": "6d93c15f",
   "metadata": {},
   "outputs": [],
   "source": [
    "kaggle=pd.read_csv('kaggle prediction file.csv')"
   ]
  },
  {
   "cell_type": "code",
   "execution_count": 536,
   "id": "9f9fc4a7",
   "metadata": {
    "scrolled": true
   },
   "outputs": [
    {
     "data": {
      "text/html": [
       "<div>\n",
       "<style scoped>\n",
       "    .dataframe tbody tr th:only-of-type {\n",
       "        vertical-align: middle;\n",
       "    }\n",
       "\n",
       "    .dataframe tbody tr th {\n",
       "        vertical-align: top;\n",
       "    }\n",
       "\n",
       "    .dataframe thead th {\n",
       "        text-align: right;\n",
       "    }\n",
       "</style>\n",
       "<table border=\"1\" class=\"dataframe\">\n",
       "  <thead>\n",
       "    <tr style=\"text-align: right;\">\n",
       "      <th></th>\n",
       "      <th>model</th>\n",
       "      <th>score</th>\n",
       "    </tr>\n",
       "  </thead>\n",
       "  <tbody>\n",
       "    <tr>\n",
       "      <th>0</th>\n",
       "      <td>linear regg</td>\n",
       "      <td>0.356720</td>\n",
       "    </tr>\n",
       "    <tr>\n",
       "      <th>1</th>\n",
       "      <td>linear log regg</td>\n",
       "      <td>0.141730</td>\n",
       "    </tr>\n",
       "    <tr>\n",
       "      <th>2</th>\n",
       "      <td>dectree with maxdepth</td>\n",
       "      <td>0.206190</td>\n",
       "    </tr>\n",
       "    <tr>\n",
       "      <th>3</th>\n",
       "      <td>dctree norml</td>\n",
       "      <td>0.209730</td>\n",
       "    </tr>\n",
       "    <tr>\n",
       "      <th>4</th>\n",
       "      <td>dttree log</td>\n",
       "      <td>0.207070</td>\n",
       "    </tr>\n",
       "    <tr>\n",
       "      <th>5</th>\n",
       "      <td>dtree treemaxdepth is 6</td>\n",
       "      <td>0.210710</td>\n",
       "    </tr>\n",
       "    <tr>\n",
       "      <th>6</th>\n",
       "      <td>random forest</td>\n",
       "      <td>0.146640</td>\n",
       "    </tr>\n",
       "    <tr>\n",
       "      <th>7</th>\n",
       "      <td>rf on 3000</td>\n",
       "      <td>0.145910</td>\n",
       "    </tr>\n",
       "    <tr>\n",
       "      <th>8</th>\n",
       "      <td>gbm 3000</td>\n",
       "      <td>0.132724</td>\n",
       "    </tr>\n",
       "    <tr>\n",
       "      <th>9</th>\n",
       "      <td>gbm5000</td>\n",
       "      <td>0.137960</td>\n",
       "    </tr>\n",
       "    <tr>\n",
       "      <th>10</th>\n",
       "      <td>new5000gbm</td>\n",
       "      <td>0.137910</td>\n",
       "    </tr>\n",
       "    <tr>\n",
       "      <th>11</th>\n",
       "      <td>bgmnew</td>\n",
       "      <td>0.137270</td>\n",
       "    </tr>\n",
       "    <tr>\n",
       "      <th>12</th>\n",
       "      <td>gbmlog1000withmaxdepth3</td>\n",
       "      <td>0.132880</td>\n",
       "    </tr>\n",
       "    <tr>\n",
       "      <th>13</th>\n",
       "      <td>gbmlog5000</td>\n",
       "      <td>0.133750</td>\n",
       "    </tr>\n",
       "    <tr>\n",
       "      <th>14</th>\n",
       "      <td>gbmlog900</td>\n",
       "      <td>0.133360</td>\n",
       "    </tr>\n",
       "    <tr>\n",
       "      <th>15</th>\n",
       "      <td>gbm990</td>\n",
       "      <td>0.132280</td>\n",
       "    </tr>\n",
       "    <tr>\n",
       "      <th>16</th>\n",
       "      <td>gbm991</td>\n",
       "      <td>0.132140</td>\n",
       "    </tr>\n",
       "    <tr>\n",
       "      <th>17</th>\n",
       "      <td>gbm992</td>\n",
       "      <td>0.132640</td>\n",
       "    </tr>\n",
       "    <tr>\n",
       "      <th>18</th>\n",
       "      <td>gbmlog995</td>\n",
       "      <td>0.132720</td>\n",
       "    </tr>\n",
       "    <tr>\n",
       "      <th>19</th>\n",
       "      <td>gbmlog899</td>\n",
       "      <td>0.133120</td>\n",
       "    </tr>\n",
       "  </tbody>\n",
       "</table>\n",
       "</div>"
      ],
      "text/plain": [
       "                      model     score\n",
       "0               linear regg  0.356720\n",
       "1           linear log regg  0.141730\n",
       "2     dectree with maxdepth  0.206190\n",
       "3              dctree norml  0.209730\n",
       "4                dttree log  0.207070\n",
       "5   dtree treemaxdepth is 6  0.210710\n",
       "6            random forest   0.146640\n",
       "7                rf on 3000  0.145910\n",
       "8                  gbm 3000  0.132724\n",
       "9                   gbm5000  0.137960\n",
       "10               new5000gbm  0.137910\n",
       "11                   bgmnew  0.137270\n",
       "12  gbmlog1000withmaxdepth3  0.132880\n",
       "13               gbmlog5000  0.133750\n",
       "14                gbmlog900  0.133360\n",
       "15                   gbm990  0.132280\n",
       "16                   gbm991  0.132140\n",
       "17                   gbm992  0.132640\n",
       "18                gbmlog995  0.132720\n",
       "19                gbmlog899  0.133120"
      ]
     },
     "execution_count": 536,
     "metadata": {},
     "output_type": "execute_result"
    }
   ],
   "source": [
    "kaggle"
   ]
  },
  {
   "cell_type": "code",
   "execution_count": 537,
   "id": "1aeb8863",
   "metadata": {},
   "outputs": [
    {
     "data": {
      "text/plain": [
       "0.13214"
      ]
     },
     "execution_count": 537,
     "metadata": {},
     "output_type": "execute_result"
    }
   ],
   "source": [
    "min(kaggle.score)"
   ]
  },
  {
   "cell_type": "markdown",
   "id": "12f48a3e",
   "metadata": {},
   "source": [
    "# In Kaggle, I received a rank of 1074 for an rmse of 0.13214, and the gradient bosting approach provided me with the highest score."
   ]
  },
  {
   "cell_type": "code",
   "execution_count": 543,
   "id": "db3db01d",
   "metadata": {},
   "outputs": [],
   "source": [
    "# tottally updated one"
   ]
  }
 ],
 "metadata": {
  "kernelspec": {
   "display_name": "Python 3 (ipykernel)",
   "language": "python",
   "name": "python3"
  },
  "language_info": {
   "codemirror_mode": {
    "name": "ipython",
    "version": 3
   },
   "file_extension": ".py",
   "mimetype": "text/x-python",
   "name": "python",
   "nbconvert_exporter": "python",
   "pygments_lexer": "ipython3",
   "version": "3.9.12"
  }
 },
 "nbformat": 4,
 "nbformat_minor": 5
}
